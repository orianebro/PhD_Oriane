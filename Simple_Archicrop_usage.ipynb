{
 "cells": [
  {
   "cell_type": "markdown",
   "id": "44737dbc-34a4-4009-8542-fae2713b98a0",
   "metadata": {
    "execution": {
     "iopub.execute_input": "2025-01-20T10:44:58.916719Z",
     "iopub.status.busy": "2025-01-20T10:44:58.915727Z",
     "iopub.status.idle": "2025-01-20T10:44:58.921817Z",
     "shell.execute_reply": "2025-01-20T10:44:58.920636Z",
     "shell.execute_reply.started": "2025-01-20T10:44:58.916680Z"
    }
   },
   "source": [
    "# Simple ArchiCrop usage"
   ]
  },
  {
   "cell_type": "code",
   "execution_count": 22,
   "id": "5745b728-d69d-42ca-a316-dd788004f550",
   "metadata": {
    "execution": {
     "iopub.execute_input": "2025-01-20T10:59:13.857690Z",
     "iopub.status.busy": "2025-01-20T10:59:13.857226Z",
     "iopub.status.idle": "2025-01-20T10:59:14.150665Z",
     "shell.execute_reply": "2025-01-20T10:59:14.148837Z",
     "shell.execute_reply.started": "2025-01-20T10:59:13.857646Z"
    }
   },
   "outputs": [],
   "source": [
    "from openalea.archicrop.archicrop import ArchiCrop\n",
    "from openalea.archicrop.simulation import retrieve_stics_dynamics_from_file\n",
    "from oawidgets.plantgl import *\n",
    "%gui qt"
   ]
  },
  {
   "cell_type": "code",
   "execution_count": 4,
   "id": "89d38dd4-9320-4e36-89ed-d45031770fad",
   "metadata": {
    "execution": {
     "iopub.execute_input": "2025-01-20T10:50:04.121784Z",
     "iopub.status.busy": "2025-01-20T10:50:04.121110Z",
     "iopub.status.idle": "2025-01-20T10:50:04.131513Z",
     "shell.execute_reply": "2025-01-20T10:50:04.130604Z",
     "shell.execute_reply.started": "2025-01-20T10:50:04.121744Z"
    }
   },
   "outputs": [],
   "source": [
    "stics_output_file = 'mod_ssorghum.sti'\n",
    "sowing_density = 10\n",
    "inter_row = 0.4\n",
    "stics_output_data = retrieve_stics_dynamics_from_file(stics_output_file, sowing_density)"
   ]
  },
  {
   "cell_type": "code",
   "execution_count": 6,
   "id": "658e80e1-9362-486b-a9b8-019b7a271528",
   "metadata": {
    "execution": {
     "iopub.execute_input": "2025-01-20T10:50:41.108145Z",
     "iopub.status.busy": "2025-01-20T10:50:41.107678Z",
     "iopub.status.idle": "2025-01-20T10:50:43.839833Z",
     "shell.execute_reply": "2025-01-20T10:50:43.838983Z",
     "shell.execute_reply.started": "2025-01-20T10:50:41.108109Z"
    }
   },
   "outputs": [],
   "source": [
    "sorghum = ArchiCrop(height=222, # from crop model\n",
    "                    nb_phy=25,\n",
    "                    max_leaf_length=50,\n",
    "                    wl=0.12, diam_base=2.5, diam_top=1.5, \n",
    "                    insertion_angle=30, scurv=0.7, curvature=100, \n",
    "                    alpha=-2.3, stem_q=1.1, rmax=0.7, skew=0.0005,\n",
    "                    phyllotactic_angle=180,\n",
    "                    phyllotactic_deviation=15,\n",
    "                    phyllochron=40, \n",
    "                    plastochron=60, \n",
    "                    leaf_duration=2, \n",
    "                    stem_duration=1.5, \n",
    "                    leaf_senescence=800)\n",
    "sorghum.generate_potential_plant()\n",
    "sorghum.define_development()\n",
    "growing_plant = sorghum.grow_plant(stics_output_data)\n"
   ]
  },
  {
   "cell_type": "code",
   "execution_count": 23,
   "id": "212042be-587e-462a-b5e0-e564a150f8ba",
   "metadata": {
    "execution": {
     "iopub.execute_input": "2025-01-20T10:59:17.610879Z",
     "iopub.status.busy": "2025-01-20T10:59:17.610479Z",
     "iopub.status.idle": "2025-01-20T10:59:17.620219Z",
     "shell.execute_reply": "2025-01-20T10:59:17.618720Z",
     "shell.execute_reply.started": "2025-01-20T10:59:17.610847Z"
    }
   },
   "outputs": [
    {
     "data": {
      "text/plain": [
       "<openalea.plantgl.scenegraph._pglsg.Scene at 0x1543fa700>"
      ]
     },
     "execution_count": 23,
     "metadata": {},
     "output_type": "execute_result"
    }
   ],
   "source": [
    "sorghum.display_plant()"
   ]
  },
  {
   "cell_type": "code",
   "execution_count": null,
   "id": "d099a550-87d5-4bcb-8d55-799d964a364d",
   "metadata": {},
   "outputs": [],
   "source": []
  }
 ],
 "metadata": {
  "kernelspec": {
   "display_name": "python3 (Oriane)",
   "language": "python",
   "name": "conda-env-Oriane-py"
  },
  "language_info": {
   "codemirror_mode": {
    "name": "ipython",
    "version": 3
   },
   "file_extension": ".py",
   "mimetype": "text/x-python",
   "name": "python",
   "nbconvert_exporter": "python",
   "pygments_lexer": "ipython3",
   "version": "3.12.3"
  }
 },
 "nbformat": 4,
 "nbformat_minor": 5
}
