{
 "cells": [
  {
   "cell_type": "markdown",
   "id": "6230df01-6441-4519-a659-3f855ee2736d",
   "metadata": {},
   "source": [
    "# Simulations of cereal monocrops and intercrops"
   ]
  },
  {
   "cell_type": "code",
   "execution_count": 3,
   "id": "7236a549-92a4-484c-8ffe-95f80da853f3",
   "metadata": {},
   "outputs": [],
   "source": [
    "import math\n",
    "import time\n",
    "from random import *\n",
    "import numpy as np\n",
    "import sympy as sp\n",
    "import matplotlib.pyplot as plt\n",
    "from itertools import product\n",
    "from ipywidgets import interact, interactive, IntSlider, fixed\n",
    "\n",
    "from openalea.mtg.traversal import pre_order2, pre_order2_with_filter\n",
    "from openalea.plantgl.all import (Color3, Material, Vector3)\n",
    "nice_green = Color3((50, 100, 0))\n",
    "from oawidgets.plantgl import *\n",
    "\n",
    "from alinea.caribu.CaribuScene import CaribuScene\n",
    "from alinea.caribu.data_samples import data_path\n",
    "\n",
    "# from archicrop\n",
    "from openalea.archicrop.cereals import build_shoot\n",
    "from openalea.archicrop.plant_shape import compute_leaf_area_pot_plant\n",
    "from openalea.archicrop.display import display_mtg, build_scene, display_scene\n",
    "from openalea.archicrop.stand import regular_plot, agronomic_plot\n",
    "from openalea.archicrop.growth import thermal_time\n",
    "from openalea.archicrop.light_it import compute_light_inter\n",
    "\n",
    "# Enable plotting with PlantGL\n",
    "%gui qt"
   ]
  },
  {
   "cell_type": "markdown",
   "id": "363e92ef-837e-436d-bd80-02a2a1742119",
   "metadata": {},
   "source": [
    "## Generate potential plants from architectural parameters"
   ]
  },
  {
   "cell_type": "code",
   "execution_count": 13,
   "id": "7d7d4ed8-b2b4-4350-89c4-38e18e6d62aa",
   "metadata": {},
   "outputs": [],
   "source": [
    "# import os\n",
    "\n",
    "# def create_and_store_files_with_dict(root_dir, param_names, param_combinations, generate_content):\n",
    "#     \"\"\"\n",
    "#     Creates and organizes files using a dictionary for parameter names.\n",
    "\n",
    "#     :param root_dir: Root directory for the files.\n",
    "#     :param param_names: List of parameter names (order corresponding to the combinations).\n",
    "#     :param param_combinations: List of lists, each list containing parameter values.\n",
    "#     :param generate_content: Function to generate the file content based on the parameters.\n",
    "#     \"\"\"\n",
    "    \n",
    "#     if not os.path.exists(root_dir):\n",
    "#         os.makedirs(root_dir)\n",
    "\n",
    "#     for param_values in param_combinations:\n",
    "#         # Associate values with names to create a dictionary of parameters\n",
    "#         params = dict(zip(param_names, param_values))\n",
    "\n",
    "#         # Build the folder path based on the parameters\n",
    "#         subdir = os.path.join(root_dir, f\"{param_names[0]}_{params[param_names[0]]}\", \n",
    "#                                        f\"{param_names[1]}_{params[param_names[1]]}\")\n",
    "#         os.makedirs(subdir, exist_ok=True)\n",
    "\n",
    "#         # Filename\n",
    "#         filename = f\"{param_names[2]}_{params[param_names[2]]}.txt\"\n",
    "#         filepath = os.path.join(subdir, filename)\n",
    "\n",
    "#         # Generate and write the content\n",
    "#         content = generate_content(params)\n",
    "#         with open(filepath, 'w') as f:\n",
    "#             f.write(content)\n",
    "\n",
    "# # Function to generate the file content\n",
    "# def generate_content(params):\n",
    "    \n",
    "#     return \n",
    "\n",
    "# # Dictionary of parameter names\n",
    "# param_names = archi_parameters_ranges.keys()\n",
    "\n",
    "# # List of combinations\n",
    "# param_combinations = archi_parameters_combinations[:10]\n",
    "\n",
    "# # Create the files\n",
    "# root_dir = \"D:\\PhD_Oriane\\simulations_ArchiCrop\\morphotypes\\sorghum\"\n",
    "# create_and_store_files_with_dict(root_dir, param_names, param_combinations, generate_content)\n",
    "\n",
    "\n",
    "# # Export all the properties defined in `g`.\n",
    "# # We consider that all the properties are real numbers.\n",
    "\n",
    "# properties = [(p, 'REAL') for p in g.property_names() if p not in ['edge_type', 'index', 'label']]\n",
    "# mtg_lines = write_mtg(g, properties)\n",
    "\n",
    "# # Write the result into a file example.mtg\n",
    "\n",
    "# filename = 'example.mtg'\n",
    "# f = open(filename, 'w')\n",
    "# f.write(mtg_lines)\n",
    "# f.close()"
   ]
  },
  {
   "cell_type": "code",
   "execution_count": null,
   "id": "86a2f914-00dd-49ba-9816-defd001c93cd",
   "metadata": {},
   "outputs": [],
   "source": [
    "# import shutil\n",
    "\n",
    "# shutil.make_archive(\"output_files_compressed\", 'zip', \"output_files\")"
   ]
  }
 ],
 "metadata": {
  "kernelspec": {
   "display_name": "oa3",
   "language": "python",
   "name": "oa3"
  },
  "language_info": {
   "codemirror_mode": {
    "name": "ipython",
    "version": 3
   },
   "file_extension": ".py",
   "mimetype": "text/x-python",
   "name": "python",
   "nbconvert_exporter": "python",
   "pygments_lexer": "ipython3",
   "version": "3.12.2"
  },
  "widgets": {
   "application/vnd.jupyter.widget-state+json": {
    "state": {},
    "version_major": 2,
    "version_minor": 0
   }
  }
 },
 "nbformat": 4,
 "nbformat_minor": 5
}
