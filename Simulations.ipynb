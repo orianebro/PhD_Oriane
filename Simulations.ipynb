{
 "cells": [
  {
   "cell_type": "markdown",
   "id": "6230df01-6441-4519-a659-3f855ee2736d",
   "metadata": {},
   "source": [
    "# Simulations of cereal monocrops and intercrops"
   ]
  },
  {
   "cell_type": "code",
   "execution_count": 1,
   "id": "7236a549-92a4-484c-8ffe-95f80da853f3",
   "metadata": {},
   "outputs": [],
   "source": [
    "import math\n",
    "import time\n",
    "from random import *\n",
    "import numpy as np\n",
    "import sympy as sp\n",
    "import matplotlib.pyplot as plt\n",
    "from itertools import product\n",
    "from ipywidgets import interact, interactive, IntSlider, fixed\n",
    "\n",
    "from openalea.mtg.traversal import pre_order2, pre_order2_with_filter\n",
    "from openalea.plantgl.all import (Color3, Material, Vector3)\n",
    "nice_green = Color3((50, 100, 0))\n",
    "from oawidgets.plantgl import *\n",
    "\n",
    "from alinea.caribu.CaribuScene import CaribuScene\n",
    "from alinea.caribu.data_samples import data_path\n",
    "\n",
    "# from archicrop\n",
    "from openalea.archicrop.cereals import build_shoot\n",
    "from openalea.archicrop.display import display_mtg, build_scene, display_scene\n",
    "from openalea.archicrop.stand import regular_plot, agronomic_plot\n",
    "from openalea.archicrop.dynamic import thermal_time, grow_plant_from_constraint\n",
    "from openalea.archicrop.grow_from_constraint import read_columns_from_file, distribute_constraint_among_plants\n",
    "from openalea.archicrop.light_it import compute_light_inter\n",
    "\n",
    "# Enable plotting with PlantGL\n",
    "%gui qt"
   ]
  },
  {
   "cell_type": "markdown",
   "id": "363e92ef-837e-436d-bd80-02a2a1742119",
   "metadata": {},
   "source": [
    "## Generate potential plants from architectural parameters"
   ]
  },
  {
   "cell_type": "code",
   "execution_count": 2,
   "id": "7b05b7f3-5fc0-4b43-98ce-5e40fa1af15f",
   "metadata": {},
   "outputs": [],
   "source": [
    "def dict_ranges_to_all_possible_combinations(d):\n",
    "    # Convert single floats to lists for consistency\n",
    "    values = [\n",
    "        v if isinstance(v, list) else [v]\n",
    "        for v in d.values()\n",
    "    ]\n",
    "    \n",
    "    # Generate all combinations\n",
    "    parameters_combinations = list(product(*values))\n",
    "    return parameters_combinations"
   ]
  },
  {
   "cell_type": "code",
   "execution_count": 3,
   "id": "d1d73078-03ac-4840-a26b-fecf4f2925ac",
   "metadata": {},
   "outputs": [
    {
     "name": "stdout",
     "output_type": "stream",
     "text": [
      "18\n",
      "(26, 223, 100, 0.12, 2.5, 1.5, 10, 0.6, 45, -2.3, 1, 0.67, 0.05, 180, 5)\n",
      "(26, 223, 100, 0.12, 2.5, 1.5, 10, 0.6, 45, -2.3, 1, 0.67, 0.05, 180, 45)\n",
      "(26, 223, 100, 0.12, 2.5, 1.5, 10, 0.6, 90, -2.3, 1, 0.67, 0.05, 180, 5)\n",
      "(26, 223, 100, 0.12, 2.5, 1.5, 10, 0.6, 90, -2.3, 1, 0.67, 0.05, 180, 45)\n",
      "(26, 223, 100, 0.12, 2.5, 1.5, 10, 0.6, 135, -2.3, 1, 0.67, 0.05, 180, 5)\n",
      "(26, 223, 100, 0.12, 2.5, 1.5, 10, 0.6, 135, -2.3, 1, 0.67, 0.05, 180, 45)\n",
      "(26, 223, 100, 0.12, 2.5, 1.5, 30, 0.6, 45, -2.3, 1, 0.67, 0.05, 180, 5)\n",
      "(26, 223, 100, 0.12, 2.5, 1.5, 30, 0.6, 45, -2.3, 1, 0.67, 0.05, 180, 45)\n",
      "(26, 223, 100, 0.12, 2.5, 1.5, 30, 0.6, 90, -2.3, 1, 0.67, 0.05, 180, 5)\n",
      "(26, 223, 100, 0.12, 2.5, 1.5, 30, 0.6, 90, -2.3, 1, 0.67, 0.05, 180, 45)\n",
      "(26, 223, 100, 0.12, 2.5, 1.5, 30, 0.6, 135, -2.3, 1, 0.67, 0.05, 180, 5)\n",
      "(26, 223, 100, 0.12, 2.5, 1.5, 30, 0.6, 135, -2.3, 1, 0.67, 0.05, 180, 45)\n",
      "(26, 223, 100, 0.12, 2.5, 1.5, 50, 0.6, 45, -2.3, 1, 0.67, 0.05, 180, 5)\n",
      "(26, 223, 100, 0.12, 2.5, 1.5, 50, 0.6, 45, -2.3, 1, 0.67, 0.05, 180, 45)\n",
      "(26, 223, 100, 0.12, 2.5, 1.5, 50, 0.6, 90, -2.3, 1, 0.67, 0.05, 180, 5)\n",
      "(26, 223, 100, 0.12, 2.5, 1.5, 50, 0.6, 90, -2.3, 1, 0.67, 0.05, 180, 45)\n",
      "(26, 223, 100, 0.12, 2.5, 1.5, 50, 0.6, 135, -2.3, 1, 0.67, 0.05, 180, 5)\n",
      "(26, 223, 100, 0.12, 2.5, 1.5, 50, 0.6, 135, -2.3, 1, 0.67, 0.05, 180, 45)\n"
     ]
    }
   ],
   "source": [
    "# For sorghum\n",
    "archi_parameters_ranges = {\n",
    "    \"nb_phy\": 26, \n",
    "    \"height\": 223,\n",
    "    \"max_leaf_length\": 100,\n",
    "    \"wl\": 0.12, \n",
    "    \"diam_base\": 2.5, \n",
    "    \"diam_top\": 1.5, \n",
    "    \"insertion_angle\": [10, 30, 50], # Truong et al., 2015\n",
    "    \"scurv\": 0.6, \n",
    "    \"curvature\": [45, 90, 135], \n",
    "    \"alpha\": -2.3, \n",
    "    \"stem_q\": 1, \n",
    "    \"rmax\": 0.67, \n",
    "    \"skew\":0.05, # 0.0005\n",
    "    \"phyllotactic_angle\": 180, # preprint Davis et al., 2024\n",
    "    \"phyllotactic_deviation\": [5, 45]\n",
    "}\n",
    "\n",
    "archi_parameters_combinations = dict_ranges_to_all_possible_combinations(archi_parameters_ranges)\n",
    "print(len(archi_parameters_combinations))\n",
    "\n",
    "# Print combinations in the original order of dictionary keys\n",
    "for combo in archi_parameters_combinations:\n",
    "    print(combo)\n",
    "\n",
    "# archi_parameters in archi_parameters_combinations"
   ]
  },
  {
   "cell_type": "code",
   "execution_count": 4,
   "id": "64121330-4e2d-4f68-8f01-8f6ad6db5a2b",
   "metadata": {},
   "outputs": [],
   "source": [
    "def generate_potential_plant(archi_parameters):\n",
    "    shoot, potential_plant = build_shoot(*archi_parameters)\n",
    "    return potential_plant"
   ]
  },
  {
   "cell_type": "markdown",
   "id": "e6cd9134-f4fd-4cf9-8bba-4a5b944ba8a6",
   "metadata": {},
   "source": [
    "## Make the plant grow according to leaf area and height constraints from crop model"
   ]
  },
  {
   "cell_type": "markdown",
   "id": "0205780a-c520-49cf-a711-46d289959a4e",
   "metadata": {},
   "source": [
    "### Retrieve STICS output data"
   ]
  },
  {
   "cell_type": "code",
   "execution_count": 5,
   "id": "302b3cc7-485b-47de-bc5c-c694183d4d09",
   "metadata": {},
   "outputs": [
    {
     "name": "stdout",
     "output_type": "stream",
     "text": [
      "69\n"
     ]
    }
   ],
   "source": [
    "## From a STICS simulation for sorghum\n",
    "filename = 'mod_ssorghum.sti'\n",
    "columns = read_columns_from_file(filename)\n",
    "columns = columns[5:]\n",
    "\n",
    "start = 21 #21\n",
    "end = 90\n",
    "density = 10 # density = 20 plants/m2 = 0.002 plants/cm2\n",
    "\n",
    "tt_cum = list(np.cumsum([float(i) for i in columns[0][start:end-1]]))\n",
    "# print(list(tt_cum))\n",
    "\n",
    "la_cum = [1000*float(i)/density for i in columns[1][start:end]] # from m2/m2 to cm2/plant\n",
    "la_incr = [la_cum[i+1]-la_cum[i] for i in range(len(la_cum[1:]))]\n",
    "# print(la_incr)\n",
    "\n",
    "height_cum = [float(i) for i in columns[2][start:end]]\n",
    "height_incr = [height_cum[i+1]-height_cum[i] for i in range(len(height_cum[1:]))]\n",
    "# print(height_incr)\n",
    "\n",
    "par = [float(i) for i in columns[3][start:end]] \n",
    "print(len(par)) # in MJ/m^2\n",
    "\n",
    "constraints_crop = [height_incr, la_incr]"
   ]
  },
  {
   "cell_type": "code",
   "execution_count": 6,
   "id": "8a5c8db0-4e25-4a31-8c8d-84f44c74274f",
   "metadata": {},
   "outputs": [
    {
     "data": {
      "image/png": "[encoded data removed]",
      "text/plain": [
       "<Figure size 640x480 with 1 Axes>"
      ]
     },
     "metadata": {},
     "output_type": "display_data"
    }
   ],
   "source": [
    "plt.scatter(range(len(la_cum)), la_cum)\n",
    "plt.show()"
   ]
  },
  {
   "cell_type": "markdown",
   "id": "1e74029a-12fc-4b6e-963d-6b7e5bc2dd4c",
   "metadata": {},
   "source": [
    "### Set crop parameters according to those in STICS simulations"
   ]
  },
  {
   "cell_type": "code",
   "execution_count": 7,
   "id": "d11a17aa-9ea2-4b2f-8fc6-deb71ddbcbb2",
   "metadata": {},
   "outputs": [],
   "source": [
    "def dict_ranges_to_possible_combinations_paired(d):\n",
    "    \n",
    "    parameters_combinations = dict_ranges_to_all_possible_combinations(d)\n",
    "\n",
    "    # Filter combinations where sowing_density == plant_density\n",
    "    filtered_combinations = [\n",
    "        combo for combo in parameters_combinations\n",
    "        if combo[2] == combo[3]  # Ensure sowing_density == plant_density\n",
    "    ]\n",
    "    \n",
    "    return filtered_combinations"
   ]
  },
  {
   "cell_type": "code",
   "execution_count": 8,
   "id": "06b9b647-9e14-4c96-ab63-ef4749c11db8",
   "metadata": {},
   "outputs": [
    {
     "name": "stdout",
     "output_type": "stream",
     "text": [
      "2\n",
      "(1, 1, 10, 10, 0.4)\n",
      "(1, 1, 28, 28, 0.4)\n"
     ]
    }
   ],
   "source": [
    "crop_parameters_ranges = {\n",
    "    \"length_plot\": 1, \n",
    "    \"width_plot\": 1, \n",
    "    \"sowing_density\": [10, 28], \n",
    "    \"plant_density\": [10, 28], \n",
    "    \"inter_row\": 0.4, # 0.4 for 10\n",
    "}\n",
    "\n",
    "\n",
    "crop_parameters_combinations = dict_ranges_to_possible_combinations_paired(crop_parameters_ranges)\n",
    "\n",
    "# Print the number of combinations\n",
    "print(len(crop_parameters_combinations))\n",
    "\n",
    "# Print combinations in the original order of dictionary keys\n",
    "for combo in crop_parameters_combinations:\n",
    "    print(combo)\n",
    "\n",
    "# crop_parameters in crop_parameters_combinations"
   ]
  },
  {
   "cell_type": "markdown",
   "id": "195d8e56-1fdf-44b2-a4a8-6f44d2d0ce8a",
   "metadata": {},
   "source": [
    "### Grow plants in monocrop and compute light interception at all time steps"
   ]
  },
  {
   "cell_type": "code",
   "execution_count": 9,
   "id": "4e189c86-2a73-4f59-bf06-e4a2ff6be4b4",
   "metadata": {},
   "outputs": [],
   "source": [
    "def algo(archi_parameters, constraints_crop, crop_parameters, tt_cum):\n",
    "\n",
    "    # Fix a seed\n",
    "    seed(100)\n",
    "\n",
    "    # Spatial arrangement parameters\n",
    "    nb_of_plants, positions, domain, domain_area, unit = agronomic_plot(*crop_parameters, noise=0.1)\n",
    "\n",
    "    # Generate potential plant of monocrop\n",
    "    potential_plant = generate_potential_plant(archi_parameters)\n",
    "    potential_plant = thermal_time(potential_plant)\n",
    "\n",
    "    # Loop through time\n",
    "    par_caribu = []\n",
    "    for i, tt in enumerate(tt_cum):\n",
    "        constraints_crop_tt = [constraints_crop[0][i], constraints_crop[1][i]]\n",
    "        constraints_plants = distribute_constraint_among_plants(constraints_crop_tt, nb_of_plants)\n",
    "        growing_plant = grow_plant_from_constraint(potential_plant, tt, constraints_plants)\n",
    "        plants = [growing_plant] * nb_of_plants\n",
    "        if i > 0:\n",
    "            # stand\n",
    "            scene, nump = build_scene(plants, positions, leaf_material=Material(nice_green), stem_material=Material(nice_green))\n",
    "            # compute light inter\n",
    "            values = compute_light_inter(scene)\n",
    "            par_crop = sum(values)*0.0145\n",
    "            # print(par_crop)\n",
    "            par_caribu.append(par_crop)\n",
    "        \n",
    "    return par_caribu"
   ]
  },
  {
   "cell_type": "code",
   "execution_count": 86,
   "id": "c959a7b8-0331-4cbe-af56-8c833d2343fb",
   "metadata": {},
   "outputs": [],
   "source": [
    "archis = []\n",
    "nb_of_plants, positions, domain, domain_area, unit = agronomic_plot(*crop_parameters_combinations[0], noise=0.1)\n",
    "\n",
    "for archi in archi_parameters_combinations:\n",
    "    # Generate potential plant of monocrop\n",
    "    potential_plant = generate_potential_plant(archi)\n",
    "    potential_plant = thermal_time(potential_plant)\n",
    "\n",
    "    # Loop through time\n",
    "    plant = []\n",
    "    for i, tt in enumerate(tt_cum):\n",
    "        constraints_crop_tt = [constraints_crop[0][i], constraints_crop[1][i]]\n",
    "        constraints_plants = distribute_constraint_among_plants(constraints_crop_tt, nb_of_plants)\n",
    "        growing_plant = grow_plant_from_constraint(potential_plant, tt, constraints_plants)\n",
    "        plant.append(growing_plant)\n",
    "    archis.append(plant)"
   ]
  },
  {
   "cell_type": "code",
   "execution_count": 13,
   "id": "b80dc320-0847-42a5-b5b2-f2908b2d4e87",
   "metadata": {},
   "outputs": [],
   "source": [
    "par_test = algo(archi_parameters_combinations[10], constraints_crop, crop_parameters_combinations[0], tt_cum)\n",
    "par_test2 = "
   ]
  },
  {
   "cell_type": "code",
   "execution_count": 25,
   "id": "c2826972-471d-4d87-8d7b-acaaf31e9c76",
   "metadata": {},
   "outputs": [
    {
     "data": {
      "image/png": "[encoded data removed]",
      "text/plain": [
       "<Figure size 640x480 with 1 Axes>"
      ]
     },
     "metadata": {},
     "output_type": "display_data"
    }
   ],
   "source": [
    "# Sample data\n",
    "x = tt_cum[1:]\n",
    "y1 = par_test  \n",
    "# y2 = la_cum[1:-1]  \n",
    "y3 = par[1:-1]\n",
    "\n",
    "# Create the plot\n",
    "fig, ax1 = plt.subplots()\n",
    "\n",
    "# Plot the first dataset on the primary y-axis\n",
    "ax1.plot(x, y1, '-', color='orange', label='PAR Caribu')\n",
    "ax1.plot(x, y3, '-', color='red', label='PAR STICS')\n",
    "ax1.set_xlabel('Thermal time')\n",
    "ax1.set_ylabel('PAR', color='orange')\n",
    "ax1.tick_params(axis='y', labelcolor='orange')\n",
    "\n",
    "# Create a secondary y-axis\n",
    "# ax2 = ax1.twinx()\n",
    "# ax2.plot(x, y2, 'g--', label='LAI')\n",
    "# ax2.set_ylabel('LAI', color='g')\n",
    "# ax2.tick_params(axis='y', labelcolor='g')\n",
    "\n",
    "# Add legends for both axes\n",
    "ax1.legend(loc='upper left')\n",
    "# ax2.legend(loc='upper right')\n",
    "\n",
    "# Show the plot\n",
    "plt.show()"
   ]
  },
  {
   "cell_type": "code",
   "execution_count": 96,
   "id": "f2e1175a-fe05-410d-916c-74563af89110",
   "metadata": {},
   "outputs": [
    {
     "data": {
      "application/vnd.jupyter.widget-view+json": {
       "model_id": "0f7d05dc258b43ea8f7ea9e91598b323",
       "version_major": 2,
       "version_minor": 0
      },
      "text/plain": [
       "Plot(antialias=3, axes=['x', 'y', 'z'], axes_helper=1.0, axes_helper_colors=[16711680, 65280, 255], background…"
      ]
     },
     "execution_count": 96,
     "metadata": {},
     "output_type": "execute_result"
    }
   ],
   "source": [
    "# display_in_NB(archis[0][2], tt_cum[0])\n",
    "plants = [archis[11][2]] * nb_of_plants\n",
    "scene, nump = build_scene(plants, positions, leaf_material=Material(nice_green), stem_material=Material(nice_green))\n",
    "PlantGL(scene)"
   ]
  },
  {
   "cell_type": "code",
   "execution_count": 33,
   "id": "ce5d4bba-044c-493d-979f-7dd90e587380",
   "metadata": {},
   "outputs": [],
   "source": [
    "par_caribu_dens_10 = []\n",
    "for archi in archi_parameters_combinations:\n",
    "    par_caribu = algo(archi, constraints_crop, crop_parameters_combinations[0], tt_cum)\n",
    "    par_caribu_dens_10.append(par_caribu)"
   ]
  },
  {
   "cell_type": "code",
   "execution_count": 56,
   "id": "32294c42-f3b5-42c5-8707-b6211a3b3258",
   "metadata": {},
   "outputs": [
    {
     "ename": "ValueError",
     "evalue": "Sample larger than population or is negative",
     "output_type": "error",
     "traceback": [
      "\u001b[1;31m---------------------------------------------------------------------------\u001b[0m",
      "\u001b[1;31mValueError\u001b[0m                                Traceback (most recent call last)",
      "Cell \u001b[1;32mIn[56], line 3\u001b[0m\n\u001b[0;32m      1\u001b[0m par_caribu_dens_20 \u001b[38;5;241m=\u001b[39m []\n\u001b[0;32m      2\u001b[0m \u001b[38;5;28;01mfor\u001b[39;00m archi \u001b[38;5;129;01min\u001b[39;00m archi_parameters_combinations:\n\u001b[1;32m----> 3\u001b[0m     par_caribu \u001b[38;5;241m=\u001b[39m \u001b[43malgo\u001b[49m\u001b[43m(\u001b[49m\u001b[43marchi\u001b[49m\u001b[43m,\u001b[49m\u001b[43m \u001b[49m\u001b[43mconstraints_crop\u001b[49m\u001b[43m,\u001b[49m\u001b[43m \u001b[49m\u001b[43mcrop_parameters_combinations\u001b[49m\u001b[43m[\u001b[49m\u001b[38;5;241;43m1\u001b[39;49m\u001b[43m]\u001b[49m\u001b[43m,\u001b[49m\u001b[43m \u001b[49m\u001b[43mtt_cum\u001b[49m\u001b[43m)\u001b[49m\n\u001b[0;32m      4\u001b[0m     par_caribu_dens_20\u001b[38;5;241m.\u001b[39mappend(par_caribu)\n",
      "Cell \u001b[1;32mIn[31], line 8\u001b[0m, in \u001b[0;36malgo\u001b[1;34m(archi_parameters, constraints_crop, crop_parameters, tt_cum)\u001b[0m\n\u001b[0;32m      6\u001b[0m \u001b[38;5;66;03m# Spatial arrangement parameters\u001b[39;00m\n\u001b[0;32m      7\u001b[0m nice_green \u001b[38;5;241m=\u001b[39m Color3((\u001b[38;5;241m50\u001b[39m, \u001b[38;5;241m100\u001b[39m, \u001b[38;5;241m0\u001b[39m))\n\u001b[1;32m----> 8\u001b[0m nb_of_plants, positions, domain, domain_area, unit \u001b[38;5;241m=\u001b[39m \u001b[43magronomic_plot\u001b[49m\u001b[43m(\u001b[49m\u001b[38;5;241;43m*\u001b[39;49m\u001b[43mcrop_parameters\u001b[49m\u001b[43m,\u001b[49m\u001b[43m \u001b[49m\u001b[43mnoise\u001b[49m\u001b[38;5;241;43m=\u001b[39;49m\u001b[38;5;241;43m0.1\u001b[39;49m\u001b[43m)\u001b[49m\n\u001b[0;32m     10\u001b[0m \u001b[38;5;66;03m# Generate potential plant of monocrop\u001b[39;00m\n\u001b[0;32m     11\u001b[0m potential_plant \u001b[38;5;241m=\u001b[39m generate_potential_plant(archi_parameters)\n",
      "File \u001b[1;32md:\\archicrop\\src\\openalea\\archicrop\\stand.py:109\u001b[0m, in \u001b[0;36magronomic_plot\u001b[1;34m(length, width, sowing_density, plant_density, inter_row, noise, convunit, center_scene)\u001b[0m\n\u001b[0;32m     99\u001b[0m positions, domain, domain_area \u001b[38;5;241m=\u001b[39m regular_plot(\n\u001b[0;32m    100\u001b[0m     inter_plant,\n\u001b[0;32m    101\u001b[0m     inter_row,\n\u001b[1;32m   (...)\u001b[0m\n\u001b[0;32m    106\u001b[0m     center_scene\u001b[38;5;241m=\u001b[39mcenter_scene,\n\u001b[0;32m    107\u001b[0m )\n\u001b[0;32m    108\u001b[0m n_emerged \u001b[38;5;241m=\u001b[39m \u001b[38;5;28mint\u001b[39m(\u001b[38;5;28mround\u001b[39m(\u001b[38;5;28mlen\u001b[39m(positions) \u001b[38;5;241m*\u001b[39m plant_density \u001b[38;5;241m/\u001b[39m sowing_density))\n\u001b[1;32m--> 109\u001b[0m positions \u001b[38;5;241m=\u001b[39m \u001b[43msample\u001b[49m\u001b[43m(\u001b[49m\u001b[43mpositions\u001b[49m\u001b[43m,\u001b[49m\u001b[43m \u001b[49m\u001b[43mn_emerged\u001b[49m\u001b[43m)\u001b[49m\n\u001b[0;32m    111\u001b[0m \u001b[38;5;28;01mreturn\u001b[39;00m n_emerged, positions, domain, domain_area, \u001b[38;5;241m1.0\u001b[39m \u001b[38;5;241m/\u001b[39m convunit\n",
      "File \u001b[1;32m~\\anaconda3\\envs\\oa3\\Lib\\random.py:430\u001b[0m, in \u001b[0;36mRandom.sample\u001b[1;34m(self, population, k, counts)\u001b[0m\n\u001b[0;32m    428\u001b[0m randbelow \u001b[38;5;241m=\u001b[39m \u001b[38;5;28mself\u001b[39m\u001b[38;5;241m.\u001b[39m_randbelow\n\u001b[0;32m    429\u001b[0m \u001b[38;5;28;01mif\u001b[39;00m \u001b[38;5;129;01mnot\u001b[39;00m \u001b[38;5;241m0\u001b[39m \u001b[38;5;241m<\u001b[39m\u001b[38;5;241m=\u001b[39m k \u001b[38;5;241m<\u001b[39m\u001b[38;5;241m=\u001b[39m n:\n\u001b[1;32m--> 430\u001b[0m     \u001b[38;5;28;01mraise\u001b[39;00m \u001b[38;5;167;01mValueError\u001b[39;00m(\u001b[38;5;124m\"\u001b[39m\u001b[38;5;124mSample larger than population or is negative\u001b[39m\u001b[38;5;124m\"\u001b[39m)\n\u001b[0;32m    431\u001b[0m result \u001b[38;5;241m=\u001b[39m [\u001b[38;5;28;01mNone\u001b[39;00m] \u001b[38;5;241m*\u001b[39m k\n\u001b[0;32m    432\u001b[0m setsize \u001b[38;5;241m=\u001b[39m \u001b[38;5;241m21\u001b[39m        \u001b[38;5;66;03m# size of a small set minus size of an empty list\u001b[39;00m\n",
      "\u001b[1;31mValueError\u001b[0m: Sample larger than population or is negative"
     ]
    }
   ],
   "source": [
    "par_caribu_dens_20 = []\n",
    "for archi in archi_parameters_combinations:\n",
    "    par_caribu = algo(archi, constraints_crop, crop_parameters_combinations[1], tt_cum)\n",
    "    par_caribu_dens_20.append(par_caribu)"
   ]
  },
  {
   "cell_type": "code",
   "execution_count": 1,
   "id": "08117d69-5ee2-45c4-a9c7-7c3933bb12a6",
   "metadata": {},
   "outputs": [
    {
     "ename": "NameError",
     "evalue": "name 'par_caribu_dens_10' is not defined",
     "output_type": "error",
     "traceback": [
      "\u001b[1;31m---------------------------------------------------------------------------\u001b[0m",
      "\u001b[1;31mNameError\u001b[0m                                 Traceback (most recent call last)",
      "Cell \u001b[1;32mIn[1], line 2\u001b[0m\n\u001b[0;32m      1\u001b[0m \u001b[38;5;66;03m# Convert to a NumPy array for easier manipulation\u001b[39;00m\n\u001b[1;32m----> 2\u001b[0m curves \u001b[38;5;241m=\u001b[39m \u001b[43mpar_caribu_dens_10\u001b[49m\n\u001b[0;32m      3\u001b[0m curves_array \u001b[38;5;241m=\u001b[39m np\u001b[38;5;241m.\u001b[39marray(curves)\n\u001b[0;32m      5\u001b[0m \u001b[38;5;66;03m# Calculate the envelope: min and max values for each time point\u001b[39;00m\n",
      "\u001b[1;31mNameError\u001b[0m: name 'par_caribu_dens_10' is not defined"
     ]
    }
   ],
   "source": [
    "# Convert to a NumPy array for easier manipulation\n",
    "curves = par_caribu_dens_10\n",
    "curves_array = np.array(curves)\n",
    "\n",
    "# Calculate the envelope: min and max values for each time point\n",
    "min_values = curves_array.min(axis=0)\n",
    "max_values = curves_array.max(axis=0)\n",
    "\n",
    "# Plotting the envelope along with individual curves for context\n",
    "time_points = tt_cum[1:]\n",
    "for curve in curves:\n",
    "    plt.plot(time_points, curve, alpha=0.5, linestyle='--')  # Plot each curve (optional for visualization)\n",
    "\n",
    "plt.fill_between(time_points, min_values, max_values, color=\"skyblue\", alpha=0.4)\n",
    "plt.plot(time_points, min_values, color=\"blue\", linestyle=\"--\", label=\"Min 3D\")\n",
    "plt.plot(time_points, max_values, color=\"red\", linestyle=\"--\", label=\"Max 3D\")\n",
    "plt.plot(time_points, par[2:], color=\"black\", label=\"STICS\")\n",
    "plt.scatter(range(len(la_cum)), la_cum)\n",
    "\n",
    "# Labels and legend\n",
    "plt.xlabel(\"Thermal time\")\n",
    "plt.ylabel(\"PAR intercepted\")\n",
    "plt.title(\"PAR intercepted: 3D canopy vs. STICS\")\n",
    "plt.legend()\n",
    "plt.show()"
   ]
  }
 ],
 "metadata": {
  "kernelspec": {
   "display_name": "oa3",
   "language": "python",
   "name": "oa3"
  },
  "language_info": {
   "codemirror_mode": {
    "name": "ipython",
    "version": 3
   },
   "file_extension": ".py",
   "mimetype": "text/x-python",
   "name": "python",
   "nbconvert_exporter": "python",
   "pygments_lexer": "ipython3",
   "version": "3.12.2"
  },
  "widgets": {
   "application/vnd.jupyter.widget-state+json": {
    "state": {},
    "version_major": 2,
    "version_minor": 0
   }
  }
 },
 "nbformat": 4,
 "nbformat_minor": 5
}
