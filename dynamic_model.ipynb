{
 "cells": [
  {
   "cell_type": "markdown",
   "metadata": {},
   "source": [
    "# Dynamic model"
   ]
  },
  {
   "cell_type": "raw",
   "metadata": {},
   "source": [
    "---\n",
    "title: \"Dynamic model\"\n",
    "author: \"Oriane Braud\"\n",
    "toc: true\n",
    "number-sections: true\n",
    "highlight-style: pygments\n",
    "format:\n",
    "  html: \n",
    "    code-fold: true\n",
    "    geometry: \n",
    "      - top=30mm\n",
    "      - left=30mm\n",
    "jupyter: python3\n",
    "---"
   ]
  },
  {
   "cell_type": "markdown",
   "metadata": {},
   "source": [
    "ReviewNB link: https://app.reviewnb.com/orianebro/ArchiCrop/blob/main/dynamic_model.ipynb"
   ]
  },
  {
   "cell_type": "code",
   "execution_count": 1,
   "metadata": {},
   "outputs": [],
   "source": [
    "#| echo: false\n",
    "\n",
    "# Ignore warning about depreciated modules\n",
    "import warnings\n",
    "warnings.filterwarnings('ignore', category=DeprecationWarning)"
   ]
  },
  {
   "cell_type": "code",
   "execution_count": 2,
   "metadata": {},
   "outputs": [],
   "source": [
    "#| echo: false\n",
    "\n",
    "# Import path of model\n",
    "import sys\n",
    "# caution: path[0] is reserved for script path (or '' in REPL)\n",
    "sys.path.insert(1, './src')"
   ]
  },
  {
   "cell_type": "code",
   "execution_count": 3,
   "metadata": {},
   "outputs": [],
   "source": [
    "#| echo: false\n",
    "\n",
    "# Enable interactive plotting\n",
    "%matplotlib ipympl"
   ]
  },
  {
   "cell_type": "markdown",
   "metadata": {},
   "source": [
    "## Conceptual diagram"
   ]
  },
  {
   "cell_type": "markdown",
   "metadata": {},
   "source": [
    "![Conceptual diagram of shoot FSPM (not final version, some errors)](images/shoot_FSPM_conceptual_diagram_alone.jpg \"Conceptual diagram\")"
   ]
  },
  {
   "cell_type": "markdown",
   "metadata": {},
   "source": [
    "The main stem grows according to the crop model's plant height. At the end of the growth of an internode, a leaf appears. The appearance of a leaf is triggered by fixed phyllochron (different for tillers?).  \n",
    "\n",
    "Cf Fournier et al, 2005 for leaf elongation \n",
    "\n",
    "The angle of the leaf with its axis is leaf-age dependent. The leaf blade curvature depends on the angle with the axis and the leaf length.  \n",
    "\n",
    "The reproductive organs appear from a given thermal time, when the leaves have stopped growing. \n",
    "\n",
    "Leaf senescence is constrained by crop model, as it has a direct influence on LAI (green LAI vs. yellow LAI ?).  \n",
    "\n",
    "The branching pattern is set (Tillers (Zhu et al., 2015)). "
   ]
  },
  {
   "cell_type": "markdown",
   "metadata": {},
   "source": [
    "## Time-dependent parametrization of leaf area\n",
    "\n",
    "$$ \\mathcal{A_normalized} = 2 * |\\int_{0}^{1} \\mathcal{C}(s(u))ds(u)| $$\n",
    "$$ \\mathcal{A} = \\mathcal{A_scaled} = 2 * w * |\\int_{0}^{L} \\mathcal{C}(\\frac{s(u)}{L})d\\frac{s(u)}{L}| $$\n",
    "$$ \\frac{d\\mathcal{A}}{dt} = 2 * w * |\\int_{ds(t)/L} \\mathcal{C}(\\frac{s(u)}{L})d\\frac{s(u)}{L}| $$\n",
    "\n",
    "- $\\mathcal{A}$ : final leaf area (or surface), in $cm^2$ (given by crop model)\n",
    "- $\\frac{d\\mathcal{A}}{dt}$ : gain in area, in $cm^2$, for a given leaf for a given time step $dt$ (given by crop model)  \n",
    "- $\\mathcal{C}$ : curve of the evolution of the leaf width along the leaf, **from tip to base** (literature/expert knowledge/observation)\n",
    "- $s(t)$ : curvilinear abscissa of the midrib, in $cm$, as a function of thermal time $t$, such that: $ ds(t) = \\sqrt{(dx(t))^2+(dy(t))^2} $ (computed from leaf curvature)\n",
    "- $w$ : final maximal width of the leaf, in $cm$ (to fix/vary within a reasonable range)\n",
    "- $L$ : final length of the leaf, in $cm$ (to fix/vary within a reasonable range)\n",
    "- $t$ : thermal time, in $^oC.day$\n"
   ]
  },
  {
   "cell_type": "markdown",
   "metadata": {},
   "source": [
    "The objective is to find, for each growing leaf, at each time step, and for a given leaf area provided to the leaf $\\frac{d\\mathcal{A}}{dt}$, how much length $ds(t)$ is added to the leaf.\n",
    "\n",
    "$$ \\frac{d\\mathcal{A}}{dt} = 2w |\\int_{s(t-1)/L}^{s(t)/L} \\mathcal{C}(\\frac{s(u)}{L})d\\frac{s(u)}{L}| $$\n",
    "\n",
    "According to the Fundamental Theorem of Calculus, $\\mathcal{C}$ being at least $C^0$ on $[0,L]$, $F$ being the antiderivative of $\\mathcal{C}$, we can write:\n",
    "\n",
    "$$ \\frac{d\\mathcal{A}}{dt} = 2w (|F(\\frac{s(t)}{L}) - F(\\frac{s(t-1)}{L})|) $$\n",
    "\n",
    "$$ F(\\frac{s(t)}{L}) = |\\frac{1}{2w} \\frac{d\\mathcal{A}}{dt} + F(\\frac{s(t-1)}{L})| $$\n",
    "\n",
    "Knowing the other variables, we know have to determine $s(t)$ at thermal time $t$."
   ]
  },
  {
   "cell_type": "code",
   "execution_count": 4,
   "metadata": {},
   "outputs": [],
   "source": [
    "#| echo: false\n",
    "# drawing"
   ]
  },
  {
   "cell_type": "markdown",
   "metadata": {},
   "source": [
    "## Apparition and growth of phytomers (stem and leaf)"
   ]
  },
  {
   "cell_type": "markdown",
   "metadata": {},
   "source": [
    "The height of the plant/canopy (here we consider the height of the main stem) is given by the crop model.  \n",
    "The plastochron (i.e. leaf initiation rate, in $leaf^{-1}$) is the time interval between two successive leaves produced at the SAM.  \n",
    "The phyllochron (i.e. leaf emergence rate, in $leaf^{-1}$) is the time interval between two successive leaves emerging from the top of the former leaf sheath.  \n",
    "The time for a leaf to grow is roughly between 1.5 and 2 phyllochrons.  \n",
    "We consider a linear (rough approximation of beta function) growth for the leaf.  \n",
    "\n",
    "- $\\phi$ : phyllochron, in $^oC.day.leaf^{-1}$ (literature)\n",
    "- cur_len_int : current length of growing internodes\n",
    "- fin_len_int : final length of internodes, in $cm$ (literature, bell shaped model too ?)\n",
    "- height : plant height, in $cm$ (given by crop model)\n",
    "- $[s(t)]$ : current length of growing leaves, in $cm$ (computed before)\n",
    "- fin_len_leaf : final length of leaves, in $cm$  (bell shaped model)\n",
    "- leaf expansion duration, as $x * \\phi$, in $^oC.day$ (literature, cf Clerget et al., 2008, etc)  \n",
    "\n",
    "Cf Fournier et al, 2005; Stewart and Dwyer, 1993; Skinner and Nelson, 1995  \n",
    "\n"
   ]
  },
  {
   "cell_type": "markdown",
   "metadata": {},
   "source": [
    "From crop model: "
   ]
  },
  {
   "cell_type": "markdown",
   "metadata": {},
   "source": [
    "## Modifying the MTG of a growing plant"
   ]
  },
  {
   "cell_type": "markdown",
   "metadata": {},
   "source": [
    "There are several ways to conceive the MTG for a growing plant.  \n",
    "\n",
    "At each thermal time step, the turtle visits each element and adds a value to a time series for each (almost) properties of the MTG.   \n",
    "\n",
    "**OR**   \n",
    "\n",
    "At each thermal time step, the MTG is replicated and the growing elements ar modified, and new elements are added if needed.  "
   ]
  },
  {
   "cell_type": "code",
   "execution_count": 5,
   "metadata": {},
   "outputs": [
    {
     "name": "stdout",
     "output_type": "stream",
     "text": [
      "    plant  ntop    L_blade   W_blade     S_blade  form_factor       h_ins  \\\n",
      "0       1    17  24.257403  2.425740   44.131620         0.75    4.586218   \n",
      "1       1    16  28.117999  2.811800   59.296642         0.75    5.732772   \n",
      "2       1    15  32.484958  3.248496   79.145439         0.75    7.165965   \n",
      "3       1    14  37.319154  3.731915  104.453946         0.75    8.957456   \n",
      "4       1    13  42.533063  4.253306  135.679608         0.75   11.196820   \n",
      "5       1    12  47.980052  4.798005  172.656402         0.75   13.996025   \n",
      "6       1    11  53.447544  5.344754  214.247996         0.75   17.495032   \n",
      "7       1    10  58.657235  5.865723  258.050339         0.75   21.868790   \n",
      "8       1     9  63.275562  6.327556  300.284754         0.75   27.335987   \n",
      "9       1     8  66.936782  6.693678  336.039957         0.75   34.169984   \n",
      "10      1     7  69.279037  6.927904  359.968873         0.75   42.712480   \n",
      "11      1     6  69.990783  6.999078  367.403232         0.75   53.390600   \n",
      "12      1     5  68.861371  6.886137  355.641631         0.75   66.738249   \n",
      "13      1     4  65.826396  6.582640  324.983578         0.75   83.422812   \n",
      "14      1     3  60.996918  6.099692  279.046798         0.75  104.278515   \n",
      "15      1     2  54.662930  5.466293  224.102695         0.75  130.348143   \n",
      "16      1     1  47.266009  4.726601  167.555668         0.75  162.935179   \n",
      "\n",
      "    L_sheath  W_sheath  L_internode  W_internode  leaf_azimuth  leaf_rank  \\\n",
      "0          0      2.50     4.586218         2.50           0.0          1   \n",
      "1          0      2.50     1.146554         2.50         180.0          2   \n",
      "2          0      2.50     1.433193         2.50        -180.0          3   \n",
      "3          0      2.50     1.791491         2.50         180.0          4   \n",
      "4          0      2.50     2.239364         2.50        -180.0          5   \n",
      "5          0      2.50     2.799205         2.50         180.0          6   \n",
      "6          0      2.50     3.499006         2.50        -180.0          7   \n",
      "7          0      2.35     4.373758         2.35         180.0          8   \n",
      "8          0      2.20     5.467197         2.20        -180.0          9   \n",
      "9          0      2.05     6.833997         2.05         180.0         10   \n",
      "10         0      1.90     8.542496         1.90        -180.0         11   \n",
      "11         0      1.75    10.678120         1.75         180.0         12   \n",
      "12         0      1.60    13.347650         1.60        -180.0         13   \n",
      "13         0      1.45    16.684562         1.45         180.0         14   \n",
      "14         0      1.30    20.855703         1.30        -180.0         15   \n",
      "15         0      1.15    26.069629         1.15         180.0         16   \n",
      "16         0      1.00    32.587036         1.00        -180.0         17   \n",
      "\n",
      "                                           leaf_shape  \n",
      "0   ([0.006340269189362794, 0.06693716016798343, 0...  \n",
      "1   ([0.006340269189362794, 0.06693716016798343, 0...  \n",
      "2   ([0.006340269189362794, 0.06693716016798343, 0...  \n",
      "3   ([0.006340269189362794, 0.06693716016798343, 0...  \n",
      "4   ([0.006340269189362794, 0.06693716016798343, 0...  \n",
      "5   ([0.006340269189362794, 0.06693716016798343, 0...  \n",
      "6   ([0.006340269189362794, 0.06693716016798343, 0...  \n",
      "7   ([0.006340269189362794, 0.06693716016798343, 0...  \n",
      "8   ([0.006340269189362794, 0.06693716016798343, 0...  \n",
      "9   ([0.006340269189362794, 0.06693716016798343, 0...  \n",
      "10  ([0.006340269189362794, 0.06693716016798343, 0...  \n",
      "11  ([0.006340269189362794, 0.06693716016798343, 0...  \n",
      "12  ([0.006340269189362794, 0.06693716016798343, 0...  \n",
      "13  ([0.006340269189362794, 0.06693716016798343, 0...  \n",
      "14  ([0.006340269189362794, 0.06693716016798343, 0...  \n",
      "15  ([0.006340269189362794, 0.06693716016798343, 0...  \n",
      "16  ([0.006340269189362794, 0.06693716016798343, 0...  \n"
     ]
    },
    {
     "data": {
      "application/vnd.jupyter.widget-view+json": {
       "model_id": "41a59f3580dd41fead33aefa6b4bc939",
       "version_major": 2,
       "version_minor": 0
      },
      "text/plain": [
       "Plot(antialias=3, axes=['x', 'y', 'z'], axes_helper=1.0, axes_helper_colors=[16711680, 65280, 255], background…"
      ]
     },
     "execution_count": 5,
     "metadata": {},
     "output_type": "execute_result"
    }
   ],
   "source": [
    "## Imports\n",
    "\n",
    "# from installed packages\n",
    "import numpy as np\n",
    "import matplotlib.pyplot as plt\n",
    "from openalea.plantgl.all import Vector3\n",
    "from oawidgets.plantgl import *\n",
    "\n",
    "# from archicrop\n",
    "from archicrop.cereals_leaf import parametric_leaf\n",
    "from archicrop.plant_shape import geometric_dist, bell_shaped_dist\n",
    "from archicrop.plant_design import leaf_azimuth\n",
    "from archicrop.cereals import build_shoot\n",
    "from archicrop.display import display_mtg, build_scene, display_scene\n",
    "\n",
    "# Enable plotting with PlantGL\n",
    "%gui qt\n",
    "\n",
    "# Set nice color for plants\n",
    "nice_green=Color3((50,100,0))\n",
    "\n",
    "## Code for generating a 3D cereal shoot from descritive parameters\n",
    "# Parameters \n",
    "height=1000                 # from crop model\n",
    "nb_phy=17                   # fixed max nb of phytomers\n",
    "max_leaf_length=70 \n",
    "insertion_angle=40\n",
    "scurv=0.7\n",
    "curvature=80\n",
    "phyllotactic_angle=180\n",
    "spiral=False\n",
    "\n",
    "diam_base=2.5\n",
    "diam_top=1.0\n",
    "# Lejeune and Bernier formula + col =\n",
    "nb_young_phy = int(round((nb_phy - 1.95) / 1.84 / 1.3))\n",
    "# stem diameters\n",
    "diameter = ([diam_base] * nb_young_phy + np.linspace(diam_base, diam_top, nb_phy - nb_young_phy).tolist()) \n",
    "\n",
    "# Functions calls\n",
    "insertion_heights=np.array(geometric_dist(height, \n",
    "                                          nb_phy, \n",
    "                                          q=1.25)) # further separate stem and pseudo stem, cf simple maize\n",
    "\n",
    "leaf_lengths=np.array(bell_shaped_dist(max_leaf_length=max_leaf_length, \n",
    "                                       nb_phy=nb_phy, \n",
    "                                       rmax=0.7, \n",
    "                                       skew=0.15)) # plant area --> max leaf length\n",
    "# leaf_areas=bell_shaped_dist(plant_area=1, nb_phy=15, rmax=0.7, skew=0.15) # cf blade_dimension\n",
    "\n",
    "a_leaf = parametric_leaf(nb_segment=10, \n",
    "                         insertion_angle=insertion_angle, \n",
    "                         scurv=scurv, \n",
    "                         curvature=curvature, \n",
    "                         alpha=-2.3)\n",
    "\n",
    "leaf_shapes = [a_leaf for l in leaf_lengths] # possible to replace leaf_length by nb_phy or...\n",
    "\n",
    "leaf_azimuths = leaf_azimuth(size=len(leaf_lengths), \n",
    "                             phyllotactic_angle=phyllotactic_angle, \n",
    "                             phyllotactic_deviation=0, \n",
    "                             plant_orientation=0, \n",
    "                             spiral=spiral)\n",
    "\n",
    "shoot, g = build_shoot(stem_diameters=diameter, \n",
    "                              insertion_heights=insertion_heights, \n",
    "                              leaf_lengths=leaf_lengths, \n",
    "                              leaf_areas=None, \n",
    "                              leaf_shapes=leaf_shapes, \n",
    "                              leaf_azimuths=leaf_azimuths)\n",
    "\n",
    "# Build and display scene\n",
    "scene, nump = build_scene(g, \n",
    "                          leaf_material=Material(nice_green), \n",
    "                          stem_material=Material(nice_green))\n",
    "# display_scene(scene_single) # display in separate window\n",
    "PlantGL(scene) # display in notebook"
   ]
  },
  {
   "cell_type": "code",
   "execution_count": 6,
   "metadata": {},
   "outputs": [
    {
     "data": {
      "text/plain": [
       "(0, [])"
      ]
     },
     "execution_count": 6,
     "metadata": {},
     "output_type": "execute_result"
    }
   ],
   "source": [
    "from archicrop.plant_shape import compute_leaf_area\n",
    "\n",
    "compute_leaf_area(g)"
   ]
  },
  {
   "cell_type": "code",
   "execution_count": 7,
   "metadata": {},
   "outputs": [],
   "source": [
    "from ipywidgets import interact, interactive, IntSlider, fixed\n",
    "from archicrop.dynamic import grow_plant, grow_plant_and_display\n",
    "\n",
    "def grow_plant_and_display_in_NB(g, time):\n",
    "    g, scene, nump=grow_plant_and_display(g, time)\n",
    "    w=PlantGL(scene, group_by_color=True)\n",
    "    w.wireframe=True\n",
    "    return w"
   ]
  },
  {
   "cell_type": "code",
   "execution_count": 8,
   "metadata": {},
   "outputs": [
    {
     "data": {
      "application/vnd.jupyter.widget-view+json": {
       "model_id": "ca46ee192bc24c0ebe8798f8ce2cf9e4",
       "version_major": 2,
       "version_minor": 0
      },
      "text/plain": [
       "interactive(children=(IntSlider(value=1000, description='time', max=2000, min=20, step=100), Output()), _dom_c…"
      ]
     },
     "metadata": {},
     "output_type": "display_data"
    },
    {
     "data": {
      "text/plain": [
       "<function __main__.grow_plant_and_display_in_NB(g, time)>"
      ]
     },
     "execution_count": 8,
     "metadata": {},
     "output_type": "execute_result"
    }
   ],
   "source": [
    "# max_time = max(g.property('end_tt').values())\n",
    "interact(grow_plant_and_display_in_NB, g=fixed(g), time=IntSlider(min=20, max=2000, step=100, value=1000))"
   ]
  },
  {
   "cell_type": "code",
   "execution_count": 9,
   "metadata": {},
   "outputs": [
    {
     "name": "stdout",
     "output_type": "stream",
     "text": [
      "Local cdn resources have problems on chrome/safari when used in jupyter-notebook. \n"
     ]
    },
    {
     "data": {
      "text/html": [
       "\n",
       "        <iframe\n",
       "            width=\"900px\"\n",
       "            height=\"800px\"\n",
       "            src=\"mtg.html\"\n",
       "            frameborder=\"0\"\n",
       "            allowfullscreen\n",
       "            \n",
       "        ></iframe>\n",
       "        "
      ],
      "text/plain": [
       "<IPython.lib.display.IFrame at 0x2b1e2fbf5f0>"
      ]
     },
     "execution_count": 9,
     "metadata": {},
     "output_type": "execute_result"
    }
   ],
   "source": [
    "from oawidgets.mtg import plot as MTGw\n",
    "MTGw(g, properties='label')\n",
    "# g.display()"
   ]
  },
  {
   "cell_type": "code",
   "execution_count": 10,
   "metadata": {
    "scrolled": true
   },
   "outputs": [
    {
     "data": {
      "text/plain": [
       "{'edge_type': {1: '/',\n",
       "  2: '/',\n",
       "  4: '+',\n",
       "  5: '<',\n",
       "  6: '+',\n",
       "  7: '<',\n",
       "  8: '+',\n",
       "  9: '<',\n",
       "  10: '+',\n",
       "  11: '<',\n",
       "  12: '+',\n",
       "  13: '<',\n",
       "  14: '+',\n",
       "  15: '<',\n",
       "  16: '+',\n",
       "  17: '<',\n",
       "  18: '+',\n",
       "  19: '<',\n",
       "  20: '+',\n",
       "  21: '<',\n",
       "  22: '+',\n",
       "  23: '<',\n",
       "  24: '+',\n",
       "  25: '<',\n",
       "  26: '+',\n",
       "  27: '<',\n",
       "  28: '+',\n",
       "  29: '<',\n",
       "  30: '+',\n",
       "  31: '<',\n",
       "  32: '+',\n",
       "  33: '<',\n",
       "  34: '+',\n",
       "  35: '<',\n",
       "  36: '+'},\n",
       " 'label': {1: 'Plant',\n",
       "  2: 'MainAxis',\n",
       "  3: 'Stem',\n",
       "  4: 'Leaf',\n",
       "  5: 'Stem',\n",
       "  6: 'Leaf',\n",
       "  7: 'Stem',\n",
       "  8: 'Leaf',\n",
       "  9: 'Stem',\n",
       "  10: 'Leaf',\n",
       "  11: 'Stem',\n",
       "  12: 'Leaf',\n",
       "  13: 'Stem',\n",
       "  14: 'Leaf',\n",
       "  15: 'Stem',\n",
       "  16: 'Leaf',\n",
       "  17: 'Stem',\n",
       "  18: 'Leaf',\n",
       "  19: 'Stem',\n",
       "  20: 'Leaf',\n",
       "  21: 'Stem',\n",
       "  22: 'Leaf',\n",
       "  23: 'Stem',\n",
       "  24: 'Leaf',\n",
       "  25: 'Stem',\n",
       "  26: 'Leaf',\n",
       "  27: 'Stem',\n",
       "  28: 'Leaf',\n",
       "  29: 'Stem',\n",
       "  30: 'Leaf',\n",
       "  31: 'Stem',\n",
       "  32: 'Leaf',\n",
       "  33: 'Stem',\n",
       "  34: 'Leaf',\n",
       "  35: 'Stem',\n",
       "  36: 'Leaf'},\n",
       " 'mature_length': {3: 4.586217578480434,\n",
       "  5: 1.1465543946201082,\n",
       "  7: 1.433192993275136,\n",
       "  9: 1.7914912415939197,\n",
       "  11: 2.239364051992398,\n",
       "  13: 2.7992050649905007,\n",
       "  15: 3.4990063312381228,\n",
       "  17: 4.373757914047655,\n",
       "  19: 5.467197392559569,\n",
       "  21: 6.833996740699458,\n",
       "  23: 8.542495925874327,\n",
       "  25: 10.67811990734291,\n",
       "  27: 13.34764988417863,\n",
       "  29: 16.684562355223292,\n",
       "  31: 20.85570294402912,\n",
       "  33: 26.069628680036402,\n",
       "  35: 32.58703585004548},\n",
       " 'length': {3: 4.586217578480434,\n",
       "  4: 24.257403061691754,\n",
       "  5: 1.1465543946201082,\n",
       "  6: 28.11799942491916,\n",
       "  7: 1.433192993275136,\n",
       "  8: 32.48495827609186,\n",
       "  9: 1.7914912415939197,\n",
       "  10: 37.31915424785508,\n",
       "  11: 2.239364051992398,\n",
       "  12: 42.5330628879143,\n",
       "  13: 2.7992050649905007,\n",
       "  14: 47.980051622617076,\n",
       "  15: 3.4990063312381228,\n",
       "  16: 53.44754389058404,\n",
       "  17: 4.373757914047655,\n",
       "  18: 58.65723469177758,\n",
       "  19: 5.467197392559569,\n",
       "  20: 63.275561782558235,\n",
       "  21: 6.833996740699458,\n",
       "  22: 66.93678179123937,\n",
       "  23: 8.542495925874327,\n",
       "  24: 69.2790370808687,\n",
       "  25: 10.67811990734291,\n",
       "  26: 69.99078337619086,\n",
       "  27: 13.34764988417863,\n",
       "  28: 68.86137099896267,\n",
       "  29: 16.684562355223292,\n",
       "  30: 65.82639573700129,\n",
       "  31: 20.85570294402912,\n",
       "  32: 60.99691772383348,\n",
       "  33: 26.069628680036402,\n",
       "  34: 54.66293009876565,\n",
       "  35: 32.58703585004548,\n",
       "  36: 47.26600870733798},\n",
       " 'visible_length': {3: 4.586217578480434,\n",
       "  4: 25.257403061691754,\n",
       "  5: 1.1465543946201082,\n",
       "  6: 29.11799942491916,\n",
       "  7: 1.433192993275136,\n",
       "  8: 33.48495827609186,\n",
       "  9: 1.7914912415939197,\n",
       "  10: 38.31915424785508,\n",
       "  11: 2.239364051992398,\n",
       "  12: 43.5330628879143,\n",
       "  13: 2.7992050649905007,\n",
       "  14: 48.980051622617076,\n",
       "  15: 3.4990063312381228,\n",
       "  16: 54.44754389058404,\n",
       "  17: 4.373757914047655,\n",
       "  18: 59.65723469177758,\n",
       "  19: 3.7276345858360695,\n",
       "  20: 43.14242848810788,\n",
       "  21: 0.38829526935792374,\n",
       "  22: 3.8032262381386004,\n",
       "  23: 8.542495925874327,\n",
       "  24: 70.2790370808687,\n",
       "  25: 10.67811990734291,\n",
       "  26: 70.99078337619086,\n",
       "  27: 13.34764988417863,\n",
       "  28: 69.86137099896267,\n",
       "  29: 16.684562355223292,\n",
       "  30: 66.82639573700129,\n",
       "  31: 20.85570294402912,\n",
       "  32: 61.99691772383348,\n",
       "  33: 26.069628680036402,\n",
       "  34: 55.66293009876565,\n",
       "  35: 32.58703585004548,\n",
       "  36: 48.26600870733798},\n",
       " 'is_green': {3: True,\n",
       "  4: True,\n",
       "  5: True,\n",
       "  6: True,\n",
       "  7: True,\n",
       "  8: True,\n",
       "  9: True,\n",
       "  10: True,\n",
       "  11: True,\n",
       "  12: True,\n",
       "  13: True,\n",
       "  14: True,\n",
       "  15: True,\n",
       "  16: True,\n",
       "  17: True,\n",
       "  18: True,\n",
       "  19: True,\n",
       "  20: True,\n",
       "  21: True,\n",
       "  22: True,\n",
       "  23: True,\n",
       "  24: True,\n",
       "  25: True,\n",
       "  26: True,\n",
       "  27: True,\n",
       "  28: True,\n",
       "  29: True,\n",
       "  30: True,\n",
       "  31: True,\n",
       "  32: True,\n",
       "  33: True,\n",
       "  34: True,\n",
       "  35: True,\n",
       "  36: True},\n",
       " 'diameter': {3: 2.5,\n",
       "  5: 2.5,\n",
       "  7: 2.5,\n",
       "  9: 2.5,\n",
       "  11: 2.5,\n",
       "  13: 2.5,\n",
       "  15: 2.5,\n",
       "  17: 2.35,\n",
       "  19: 2.2,\n",
       "  21: 2.05,\n",
       "  23: 1.9,\n",
       "  25: 1.75,\n",
       "  27: 1.6,\n",
       "  29: 1.45,\n",
       "  31: 1.3,\n",
       "  33: 1.1500000000000001,\n",
       "  35: 1.0},\n",
       " 'azimuth': {3: 0.0,\n",
       "  5: 180.0,\n",
       "  7: -180.0,\n",
       "  9: 180.0,\n",
       "  11: -180.0,\n",
       "  13: 180.0,\n",
       "  15: -180.0,\n",
       "  17: 180.0,\n",
       "  19: -180.0,\n",
       "  21: 180.0,\n",
       "  23: -180.0,\n",
       "  25: 180.0,\n",
       "  27: -180.0,\n",
       "  29: 180.0,\n",
       "  31: -180.0,\n",
       "  33: 180.0,\n",
       "  35: -180.0},\n",
       " 'shape': {4: (array([0.00634027, 0.06693716, 0.12601321, 0.17710481, 0.24849582,\n",
       "          0.33409181, 0.43411926, 0.50961433, 0.5962277 , 0.68355511,\n",
       "          0.76088377, 0.83712401]),\n",
       "   array([-0.00346833,  0.0859332 ,  0.15575262,  0.20645505,  0.26519042,\n",
       "           0.31943549,  0.3622023 ,  0.3799512 ,  0.38430736,  0.37000106,\n",
       "           0.3398266 ,  0.29160093]),\n",
       "   array([0.        , 0.10800285, 0.19946175, 0.27144153, 0.36388892,\n",
       "          0.46522599, 0.57401243, 0.65156583, 0.73828868, 0.82678018,\n",
       "          0.90978753, 1.        ]),\n",
       "   array([0.73783224, 0.88135009, 0.96283256, 0.99638426, 1.00152079,\n",
       "          0.96548102, 0.88349353, 0.79021341, 0.64117414, 0.45187775,\n",
       "          0.2610025 , 0.        ])),\n",
       "  6: (array([0.00634027, 0.06693716, 0.12601321, 0.17710481, 0.24849582,\n",
       "          0.33409181, 0.43411926, 0.50961433, 0.5962277 , 0.68355511,\n",
       "          0.76088377, 0.83712401]),\n",
       "   array([-0.00346833,  0.0859332 ,  0.15575262,  0.20645505,  0.26519042,\n",
       "           0.31943549,  0.3622023 ,  0.3799512 ,  0.38430736,  0.37000106,\n",
       "           0.3398266 ,  0.29160093]),\n",
       "   array([0.        , 0.10800285, 0.19946175, 0.27144153, 0.36388892,\n",
       "          0.46522599, 0.57401243, 0.65156583, 0.73828868, 0.82678018,\n",
       "          0.90978753, 1.        ]),\n",
       "   array([0.73783224, 0.88135009, 0.96283256, 0.99638426, 1.00152079,\n",
       "          0.96548102, 0.88349353, 0.79021341, 0.64117414, 0.45187775,\n",
       "          0.2610025 , 0.        ])),\n",
       "  8: (array([0.00634027, 0.06693716, 0.12601321, 0.17710481, 0.24849582,\n",
       "          0.33409181, 0.43411926, 0.50961433, 0.5962277 , 0.68355511,\n",
       "          0.76088377, 0.83712401]),\n",
       "   array([-0.00346833,  0.0859332 ,  0.15575262,  0.20645505,  0.26519042,\n",
       "           0.31943549,  0.3622023 ,  0.3799512 ,  0.38430736,  0.37000106,\n",
       "           0.3398266 ,  0.29160093]),\n",
       "   array([0.        , 0.10800285, 0.19946175, 0.27144153, 0.36388892,\n",
       "          0.46522599, 0.57401243, 0.65156583, 0.73828868, 0.82678018,\n",
       "          0.90978753, 1.        ]),\n",
       "   array([0.73783224, 0.88135009, 0.96283256, 0.99638426, 1.00152079,\n",
       "          0.96548102, 0.88349353, 0.79021341, 0.64117414, 0.45187775,\n",
       "          0.2610025 , 0.        ])),\n",
       "  10: (array([0.00634027, 0.06693716, 0.12601321, 0.17710481, 0.24849582,\n",
       "          0.33409181, 0.43411926, 0.50961433, 0.5962277 , 0.68355511,\n",
       "          0.76088377, 0.83712401]),\n",
       "   array([-0.00346833,  0.0859332 ,  0.15575262,  0.20645505,  0.26519042,\n",
       "           0.31943549,  0.3622023 ,  0.3799512 ,  0.38430736,  0.37000106,\n",
       "           0.3398266 ,  0.29160093]),\n",
       "   array([0.        , 0.10800285, 0.19946175, 0.27144153, 0.36388892,\n",
       "          0.46522599, 0.57401243, 0.65156583, 0.73828868, 0.82678018,\n",
       "          0.90978753, 1.        ]),\n",
       "   array([0.73783224, 0.88135009, 0.96283256, 0.99638426, 1.00152079,\n",
       "          0.96548102, 0.88349353, 0.79021341, 0.64117414, 0.45187775,\n",
       "          0.2610025 , 0.        ])),\n",
       "  12: (array([0.00634027, 0.06693716, 0.12601321, 0.17710481, 0.24849582,\n",
       "          0.33409181, 0.43411926, 0.50961433, 0.5962277 , 0.68355511,\n",
       "          0.76088377, 0.83712401]),\n",
       "   array([-0.00346833,  0.0859332 ,  0.15575262,  0.20645505,  0.26519042,\n",
       "           0.31943549,  0.3622023 ,  0.3799512 ,  0.38430736,  0.37000106,\n",
       "           0.3398266 ,  0.29160093]),\n",
       "   array([0.        , 0.10800285, 0.19946175, 0.27144153, 0.36388892,\n",
       "          0.46522599, 0.57401243, 0.65156583, 0.73828868, 0.82678018,\n",
       "          0.90978753, 1.        ]),\n",
       "   array([0.73783224, 0.88135009, 0.96283256, 0.99638426, 1.00152079,\n",
       "          0.96548102, 0.88349353, 0.79021341, 0.64117414, 0.45187775,\n",
       "          0.2610025 , 0.        ])),\n",
       "  14: (array([0.00634027, 0.06693716, 0.12601321, 0.17710481, 0.24849582,\n",
       "          0.33409181, 0.43411926, 0.50961433, 0.5962277 , 0.68355511,\n",
       "          0.76088377, 0.83712401]),\n",
       "   array([-0.00346833,  0.0859332 ,  0.15575262,  0.20645505,  0.26519042,\n",
       "           0.31943549,  0.3622023 ,  0.3799512 ,  0.38430736,  0.37000106,\n",
       "           0.3398266 ,  0.29160093]),\n",
       "   array([0.        , 0.10800285, 0.19946175, 0.27144153, 0.36388892,\n",
       "          0.46522599, 0.57401243, 0.65156583, 0.73828868, 0.82678018,\n",
       "          0.90978753, 1.        ]),\n",
       "   array([0.73783224, 0.88135009, 0.96283256, 0.99638426, 1.00152079,\n",
       "          0.96548102, 0.88349353, 0.79021341, 0.64117414, 0.45187775,\n",
       "          0.2610025 , 0.        ])),\n",
       "  16: (array([0.00634027, 0.06693716, 0.12601321, 0.17710481, 0.24849582,\n",
       "          0.33409181, 0.43411926, 0.50961433, 0.5962277 , 0.68355511,\n",
       "          0.76088377, 0.83712401]),\n",
       "   array([-0.00346833,  0.0859332 ,  0.15575262,  0.20645505,  0.26519042,\n",
       "           0.31943549,  0.3622023 ,  0.3799512 ,  0.38430736,  0.37000106,\n",
       "           0.3398266 ,  0.29160093]),\n",
       "   array([0.        , 0.10800285, 0.19946175, 0.27144153, 0.36388892,\n",
       "          0.46522599, 0.57401243, 0.65156583, 0.73828868, 0.82678018,\n",
       "          0.90978753, 1.        ]),\n",
       "   array([0.73783224, 0.88135009, 0.96283256, 0.99638426, 1.00152079,\n",
       "          0.96548102, 0.88349353, 0.79021341, 0.64117414, 0.45187775,\n",
       "          0.2610025 , 0.        ])),\n",
       "  18: (array([0.00634027, 0.06693716, 0.12601321, 0.17710481, 0.24849582,\n",
       "          0.33409181, 0.43411926, 0.50961433, 0.5962277 , 0.68355511,\n",
       "          0.76088377, 0.83712401]),\n",
       "   array([-0.00346833,  0.0859332 ,  0.15575262,  0.20645505,  0.26519042,\n",
       "           0.31943549,  0.3622023 ,  0.3799512 ,  0.38430736,  0.37000106,\n",
       "           0.3398266 ,  0.29160093]),\n",
       "   array([0.        , 0.10800285, 0.19946175, 0.27144153, 0.36388892,\n",
       "          0.46522599, 0.57401243, 0.65156583, 0.73828868, 0.82678018,\n",
       "          0.90978753, 1.        ]),\n",
       "   array([0.73783224, 0.88135009, 0.96283256, 0.99638426, 1.00152079,\n",
       "          0.96548102, 0.88349353, 0.79021341, 0.64117414, 0.45187775,\n",
       "          0.2610025 , 0.        ])),\n",
       "  20: (array([0.00634027, 0.06693716, 0.12601321, 0.17710481, 0.24849582,\n",
       "          0.33409181, 0.43411926, 0.50961433, 0.5962277 , 0.68355511,\n",
       "          0.76088377, 0.83712401]),\n",
       "   array([-0.00346833,  0.0859332 ,  0.15575262,  0.20645505,  0.26519042,\n",
       "           0.31943549,  0.3622023 ,  0.3799512 ,  0.38430736,  0.37000106,\n",
       "           0.3398266 ,  0.29160093]),\n",
       "   array([0.        , 0.10800285, 0.19946175, 0.27144153, 0.36388892,\n",
       "          0.46522599, 0.57401243, 0.65156583, 0.73828868, 0.82678018,\n",
       "          0.90978753, 1.        ]),\n",
       "   array([0.73783224, 0.88135009, 0.96283256, 0.99638426, 1.00152079,\n",
       "          0.96548102, 0.88349353, 0.79021341, 0.64117414, 0.45187775,\n",
       "          0.2610025 , 0.        ])),\n",
       "  22: (array([0.00634027, 0.06693716, 0.12601321, 0.17710481, 0.24849582,\n",
       "          0.33409181, 0.43411926, 0.50961433, 0.5962277 , 0.68355511,\n",
       "          0.76088377, 0.83712401]),\n",
       "   array([-0.00346833,  0.0859332 ,  0.15575262,  0.20645505,  0.26519042,\n",
       "           0.31943549,  0.3622023 ,  0.3799512 ,  0.38430736,  0.37000106,\n",
       "           0.3398266 ,  0.29160093]),\n",
       "   array([0.        , 0.10800285, 0.19946175, 0.27144153, 0.36388892,\n",
       "          0.46522599, 0.57401243, 0.65156583, 0.73828868, 0.82678018,\n",
       "          0.90978753, 1.        ]),\n",
       "   array([0.73783224, 0.88135009, 0.96283256, 0.99638426, 1.00152079,\n",
       "          0.96548102, 0.88349353, 0.79021341, 0.64117414, 0.45187775,\n",
       "          0.2610025 , 0.        ])),\n",
       "  24: (array([0.00634027, 0.06693716, 0.12601321, 0.17710481, 0.24849582,\n",
       "          0.33409181, 0.43411926, 0.50961433, 0.5962277 , 0.68355511,\n",
       "          0.76088377, 0.83712401]),\n",
       "   array([-0.00346833,  0.0859332 ,  0.15575262,  0.20645505,  0.26519042,\n",
       "           0.31943549,  0.3622023 ,  0.3799512 ,  0.38430736,  0.37000106,\n",
       "           0.3398266 ,  0.29160093]),\n",
       "   array([0.        , 0.10800285, 0.19946175, 0.27144153, 0.36388892,\n",
       "          0.46522599, 0.57401243, 0.65156583, 0.73828868, 0.82678018,\n",
       "          0.90978753, 1.        ]),\n",
       "   array([0.73783224, 0.88135009, 0.96283256, 0.99638426, 1.00152079,\n",
       "          0.96548102, 0.88349353, 0.79021341, 0.64117414, 0.45187775,\n",
       "          0.2610025 , 0.        ])),\n",
       "  26: (array([0.00634027, 0.06693716, 0.12601321, 0.17710481, 0.24849582,\n",
       "          0.33409181, 0.43411926, 0.50961433, 0.5962277 , 0.68355511,\n",
       "          0.76088377, 0.83712401]),\n",
       "   array([-0.00346833,  0.0859332 ,  0.15575262,  0.20645505,  0.26519042,\n",
       "           0.31943549,  0.3622023 ,  0.3799512 ,  0.38430736,  0.37000106,\n",
       "           0.3398266 ,  0.29160093]),\n",
       "   array([0.        , 0.10800285, 0.19946175, 0.27144153, 0.36388892,\n",
       "          0.46522599, 0.57401243, 0.65156583, 0.73828868, 0.82678018,\n",
       "          0.90978753, 1.        ]),\n",
       "   array([0.73783224, 0.88135009, 0.96283256, 0.99638426, 1.00152079,\n",
       "          0.96548102, 0.88349353, 0.79021341, 0.64117414, 0.45187775,\n",
       "          0.2610025 , 0.        ])),\n",
       "  28: (array([0.00634027, 0.06693716, 0.12601321, 0.17710481, 0.24849582,\n",
       "          0.33409181, 0.43411926, 0.50961433, 0.5962277 , 0.68355511,\n",
       "          0.76088377, 0.83712401]),\n",
       "   array([-0.00346833,  0.0859332 ,  0.15575262,  0.20645505,  0.26519042,\n",
       "           0.31943549,  0.3622023 ,  0.3799512 ,  0.38430736,  0.37000106,\n",
       "           0.3398266 ,  0.29160093]),\n",
       "   array([0.        , 0.10800285, 0.19946175, 0.27144153, 0.36388892,\n",
       "          0.46522599, 0.57401243, 0.65156583, 0.73828868, 0.82678018,\n",
       "          0.90978753, 1.        ]),\n",
       "   array([0.73783224, 0.88135009, 0.96283256, 0.99638426, 1.00152079,\n",
       "          0.96548102, 0.88349353, 0.79021341, 0.64117414, 0.45187775,\n",
       "          0.2610025 , 0.        ])),\n",
       "  30: (array([0.00634027, 0.06693716, 0.12601321, 0.17710481, 0.24849582,\n",
       "          0.33409181, 0.43411926, 0.50961433, 0.5962277 , 0.68355511,\n",
       "          0.76088377, 0.83712401]),\n",
       "   array([-0.00346833,  0.0859332 ,  0.15575262,  0.20645505,  0.26519042,\n",
       "           0.31943549,  0.3622023 ,  0.3799512 ,  0.38430736,  0.37000106,\n",
       "           0.3398266 ,  0.29160093]),\n",
       "   array([0.        , 0.10800285, 0.19946175, 0.27144153, 0.36388892,\n",
       "          0.46522599, 0.57401243, 0.65156583, 0.73828868, 0.82678018,\n",
       "          0.90978753, 1.        ]),\n",
       "   array([0.73783224, 0.88135009, 0.96283256, 0.99638426, 1.00152079,\n",
       "          0.96548102, 0.88349353, 0.79021341, 0.64117414, 0.45187775,\n",
       "          0.2610025 , 0.        ])),\n",
       "  32: (array([0.00634027, 0.06693716, 0.12601321, 0.17710481, 0.24849582,\n",
       "          0.33409181, 0.43411926, 0.50961433, 0.5962277 , 0.68355511,\n",
       "          0.76088377, 0.83712401]),\n",
       "   array([-0.00346833,  0.0859332 ,  0.15575262,  0.20645505,  0.26519042,\n",
       "           0.31943549,  0.3622023 ,  0.3799512 ,  0.38430736,  0.37000106,\n",
       "           0.3398266 ,  0.29160093]),\n",
       "   array([0.        , 0.10800285, 0.19946175, 0.27144153, 0.36388892,\n",
       "          0.46522599, 0.57401243, 0.65156583, 0.73828868, 0.82678018,\n",
       "          0.90978753, 1.        ]),\n",
       "   array([0.73783224, 0.88135009, 0.96283256, 0.99638426, 1.00152079,\n",
       "          0.96548102, 0.88349353, 0.79021341, 0.64117414, 0.45187775,\n",
       "          0.2610025 , 0.        ])),\n",
       "  34: (array([0.00634027, 0.06693716, 0.12601321, 0.17710481, 0.24849582,\n",
       "          0.33409181, 0.43411926, 0.50961433, 0.5962277 , 0.68355511,\n",
       "          0.76088377, 0.83712401]),\n",
       "   array([-0.00346833,  0.0859332 ,  0.15575262,  0.20645505,  0.26519042,\n",
       "           0.31943549,  0.3622023 ,  0.3799512 ,  0.38430736,  0.37000106,\n",
       "           0.3398266 ,  0.29160093]),\n",
       "   array([0.        , 0.10800285, 0.19946175, 0.27144153, 0.36388892,\n",
       "          0.46522599, 0.57401243, 0.65156583, 0.73828868, 0.82678018,\n",
       "          0.90978753, 1.        ]),\n",
       "   array([0.73783224, 0.88135009, 0.96283256, 0.99638426, 1.00152079,\n",
       "          0.96548102, 0.88349353, 0.79021341, 0.64117414, 0.45187775,\n",
       "          0.2610025 , 0.        ])),\n",
       "  36: (array([0.00634027, 0.06693716, 0.12601321, 0.17710481, 0.24849582,\n",
       "          0.33409181, 0.43411926, 0.50961433, 0.5962277 , 0.68355511,\n",
       "          0.76088377, 0.83712401]),\n",
       "   array([-0.00346833,  0.0859332 ,  0.15575262,  0.20645505,  0.26519042,\n",
       "           0.31943549,  0.3622023 ,  0.3799512 ,  0.38430736,  0.37000106,\n",
       "           0.3398266 ,  0.29160093]),\n",
       "   array([0.        , 0.10800285, 0.19946175, 0.27144153, 0.36388892,\n",
       "          0.46522599, 0.57401243, 0.65156583, 0.73828868, 0.82678018,\n",
       "          0.90978753, 1.        ]),\n",
       "   array([0.73783224, 0.88135009, 0.96283256, 0.99638426, 1.00152079,\n",
       "          0.96548102, 0.88349353, 0.79021341, 0.64117414, 0.45187775,\n",
       "          0.2610025 , 0.        ]))},\n",
       " 'shape_mature_length': {4: 24.257403061691754,\n",
       "  6: 28.11799942491916,\n",
       "  8: 32.48495827609186,\n",
       "  10: 37.31915424785508,\n",
       "  12: 42.5330628879143,\n",
       "  14: 47.980051622617076,\n",
       "  16: 53.44754389058404,\n",
       "  18: 58.65723469177758,\n",
       "  20: 63.275561782558235,\n",
       "  22: 66.93678179123937,\n",
       "  24: 69.2790370808687,\n",
       "  26: 69.99078337619086,\n",
       "  28: 68.86137099896267,\n",
       "  30: 65.82639573700129,\n",
       "  32: 60.99691772383348,\n",
       "  34: 54.66293009876565,\n",
       "  36: 47.26600870733798},\n",
       " 'leaf_area': {4: 44.13162024730294,\n",
       "  6: 59.296641874481566,\n",
       "  8: 79.14543856495717,\n",
       "  10: 104.45394553314,\n",
       "  12: 135.67960789704546,\n",
       "  14: 172.65640152817497,\n",
       "  16: 214.24799609519312,\n",
       "  18: 258.0503386264707,\n",
       "  20: 300.28475391737584,\n",
       "  22: 336.0399567425996,\n",
       "  24: 359.9688734139286,\n",
       "  26: 367.4032318209657,\n",
       "  28: 355.64163118925825,\n",
       "  30: 324.98357817932265,\n",
       "  32: 279.0467978856083,\n",
       "  34: 224.10269452369047,\n",
       "  36: 167.55566843416125},\n",
       " 'form_factor': {4: 0.75,\n",
       "  6: 0.75,\n",
       "  8: 0.75,\n",
       "  10: 0.75,\n",
       "  12: 0.75,\n",
       "  14: 0.75,\n",
       "  16: 0.75,\n",
       "  18: 0.75,\n",
       "  20: 0.75,\n",
       "  22: 0.75,\n",
       "  24: 0.75,\n",
       "  26: 0.75,\n",
       "  28: 0.75,\n",
       "  30: 0.75,\n",
       "  32: 0.75,\n",
       "  34: 0.75,\n",
       "  36: 0.75},\n",
       " 'srb': {4: 0,\n",
       "  6: 0,\n",
       "  8: 0,\n",
       "  10: 0,\n",
       "  12: 0,\n",
       "  14: 0,\n",
       "  16: 0,\n",
       "  18: 0,\n",
       "  20: 0,\n",
       "  22: 0,\n",
       "  24: 0,\n",
       "  26: 0,\n",
       "  28: 0,\n",
       "  30: 0,\n",
       "  32: 0,\n",
       "  34: 0,\n",
       "  36: 0},\n",
       " 'srt': {4: 1,\n",
       "  6: 1,\n",
       "  8: 1,\n",
       "  10: 1,\n",
       "  12: 1,\n",
       "  14: 1,\n",
       "  16: 1,\n",
       "  18: 1,\n",
       "  20: 1,\n",
       "  22: 1,\n",
       "  24: 1,\n",
       "  26: 1,\n",
       "  28: 1,\n",
       "  30: 1,\n",
       "  32: 1,\n",
       "  34: 1,\n",
       "  36: 1},\n",
       " 'lrolled': {4: 0,\n",
       "  6: 0,\n",
       "  8: 0,\n",
       "  10: 0,\n",
       "  12: 0,\n",
       "  14: 0,\n",
       "  16: 0,\n",
       "  18: 0,\n",
       "  20: 0,\n",
       "  22: 0,\n",
       "  24: 0,\n",
       "  26: 0,\n",
       "  28: 0,\n",
       "  30: 0,\n",
       "  32: 0,\n",
       "  34: 0,\n",
       "  36: 0},\n",
       " 'd_rolled': {4: 0,\n",
       "  6: 0,\n",
       "  8: 0,\n",
       "  10: 0,\n",
       "  12: 0,\n",
       "  14: 0,\n",
       "  16: 0,\n",
       "  18: 0,\n",
       "  20: 0,\n",
       "  22: 0,\n",
       "  24: 0,\n",
       "  26: 0,\n",
       "  28: 0,\n",
       "  30: 0,\n",
       "  32: 0,\n",
       "  34: 0,\n",
       "  36: 0},\n",
       " 'shape_max_width': {4: 2.4257403061691756,\n",
       "  6: 2.8117999424919162,\n",
       "  8: 3.248495827609186,\n",
       "  10: 3.7319154247855084,\n",
       "  12: 4.25330628879143,\n",
       "  14: 4.798005162261708,\n",
       "  16: 5.344754389058405,\n",
       "  18: 5.865723469177759,\n",
       "  20: 6.327556178255824,\n",
       "  22: 6.693678179123937,\n",
       "  24: 6.927903708086871,\n",
       "  26: 6.999078337619086,\n",
       "  28: 6.886137099896267,\n",
       "  30: 6.5826395737001295,\n",
       "  32: 6.099691772383348,\n",
       "  34: 5.466293009876566,\n",
       "  36: 4.726600870733798},\n",
       " 'stem_diameter': {4: 2.5,\n",
       "  6: 2.5,\n",
       "  8: 2.5,\n",
       "  10: 2.5,\n",
       "  12: 2.5,\n",
       "  14: 2.5,\n",
       "  16: 2.5,\n",
       "  18: 2.35,\n",
       "  20: 2.2,\n",
       "  22: 2.05,\n",
       "  24: 1.9,\n",
       "  26: 1.75,\n",
       "  28: 1.6,\n",
       "  30: 1.45,\n",
       "  32: 1.3,\n",
       "  34: 1.1500000000000001,\n",
       "  36: 1.0},\n",
       " 'geometry': {3: <openalea.plantgl.scenegraph._pglsg.TriangleSet at 0x2b1e2273530>,\n",
       "  4: <openalea.plantgl.scenegraph._pglsg.TriangleSet at 0x2b1e22734c0>,\n",
       "  5: <openalea.plantgl.scenegraph._pglsg.TriangleSet at 0x2b1e2273450>,\n",
       "  6: <openalea.plantgl.scenegraph._pglsg.TriangleSet at 0x2b1e22733e0>,\n",
       "  7: <openalea.plantgl.scenegraph._pglsg.TriangleSet at 0x2b1e2273370>,\n",
       "  8: <openalea.plantgl.scenegraph._pglsg.TriangleSet at 0x2b1e2273300>,\n",
       "  9: <openalea.plantgl.scenegraph._pglsg.TriangleSet at 0x2b1e2273290>,\n",
       "  10: <openalea.plantgl.scenegraph._pglsg.TriangleSet at 0x2b1e2273220>,\n",
       "  11: <openalea.plantgl.scenegraph._pglsg.TriangleSet at 0x2b1e22731b0>,\n",
       "  12: <openalea.plantgl.scenegraph._pglsg.TriangleSet at 0x2b1e2273140>,\n",
       "  13: <openalea.plantgl.scenegraph._pglsg.TriangleSet at 0x2b1e22730d0>,\n",
       "  14: <openalea.plantgl.scenegraph._pglsg.TriangleSet at 0x2b1e2273060>,\n",
       "  15: <openalea.plantgl.scenegraph._pglsg.TriangleSet at 0x2b1e2272ff0>,\n",
       "  16: <openalea.plantgl.scenegraph._pglsg.TriangleSet at 0x2b1e2272f80>,\n",
       "  17: <openalea.plantgl.scenegraph._pglsg.TriangleSet at 0x2b1e2272f10>,\n",
       "  18: <openalea.plantgl.scenegraph._pglsg.TriangleSet at 0x2b1e2272ea0>,\n",
       "  19: <openalea.plantgl.scenegraph._pglsg.TriangleSet at 0x2b1e2272e30>,\n",
       "  20: <openalea.plantgl.scenegraph._pglsg.TriangleSet at 0x2b1e22735a0>,\n",
       "  21: <openalea.plantgl.scenegraph._pglsg.TriangleSet at 0x2b1e2272dc0>,\n",
       "  22: <openalea.plantgl.scenegraph._pglsg.TriangleSet at 0x2b1e2272d50>},\n",
       " 'anchor_point': {3: Vector3(0,0,0),\n",
       "  4: Vector3(0,0,4.58622),\n",
       "  5: Vector3(0,0,4.58622),\n",
       "  6: Vector3(0,0,5.73277),\n",
       "  7: Vector3(0,0,5.73277),\n",
       "  8: Vector3(0,0,7.16596),\n",
       "  9: Vector3(0,0,7.16596),\n",
       "  10: Vector3(0,0,8.95746),\n",
       "  11: Vector3(0,0,8.95746),\n",
       "  12: Vector3(0,0,11.1968),\n",
       "  13: Vector3(0,0,11.1968),\n",
       "  14: Vector3(0,0,13.996),\n",
       "  15: Vector3(0,0,13.996),\n",
       "  16: Vector3(0,0,17.495),\n",
       "  17: Vector3(0,0,17.495),\n",
       "  18: Vector3(0,0,21.8688),\n",
       "  19: Vector3(0,0,21.8688),\n",
       "  20: Vector3(0,0,25.5964),\n",
       "  21: Vector3(0,0,25.5964),\n",
       "  22: Vector3(0,0,25.9847),\n",
       "  23: Vector3(0,0,34.17),\n",
       "  24: Vector3(0,0,42.7125),\n",
       "  25: Vector3(0,0,42.7125),\n",
       "  26: Vector3(0,0,53.3906),\n",
       "  27: Vector3(0,0,53.3906),\n",
       "  28: Vector3(0,0,66.7382),\n",
       "  29: Vector3(0,0,66.7382),\n",
       "  30: Vector3(0,0,83.4228),\n",
       "  31: Vector3(0,0,83.4228),\n",
       "  32: Vector3(0,0,104.279),\n",
       "  33: Vector3(0,0,104.279),\n",
       "  34: Vector3(0,0,130.348),\n",
       "  35: Vector3(0,0,130.348),\n",
       "  36: Vector3(0,0,162.935)},\n",
       " 'color': {},\n",
       " 'start_tt': {3: 0,\n",
       "  4: 0,\n",
       "  5: 110.0,\n",
       "  6: 110.0,\n",
       "  7: 220.0,\n",
       "  8: 220.0,\n",
       "  9: 330.0,\n",
       "  10: 330.0,\n",
       "  11: 440.0,\n",
       "  12: 440.0,\n",
       "  13: 550.0,\n",
       "  14: 550.0,\n",
       "  15: 660.0,\n",
       "  16: 660.0,\n",
       "  17: 770.0,\n",
       "  18: 770.0,\n",
       "  19: 880.0,\n",
       "  20: 880.0,\n",
       "  21: 990.0,\n",
       "  22: 990.0,\n",
       "  23: 1100.0,\n",
       "  24: 1100.0,\n",
       "  25: 1210.0,\n",
       "  26: 1210.0,\n",
       "  27: 1320.0,\n",
       "  28: 1320.0,\n",
       "  29: 1430.0,\n",
       "  30: 1430.0,\n",
       "  31: 1540.0,\n",
       "  32: 1540.0,\n",
       "  33: 1650.0,\n",
       "  34: 1650.0,\n",
       "  35: 1760.0,\n",
       "  36: 1760.0},\n",
       " 'end_tt': {3: 176.0,\n",
       "  4: 176.0,\n",
       "  5: 286.0,\n",
       "  6: 286.0,\n",
       "  7: 396.0,\n",
       "  8: 396.0,\n",
       "  9: 506.0,\n",
       "  10: 506.0,\n",
       "  11: 616.0,\n",
       "  12: 616.0,\n",
       "  13: 726.0,\n",
       "  14: 726.0,\n",
       "  15: 836.0,\n",
       "  16: 836.0,\n",
       "  17: 946.0,\n",
       "  18: 946.0,\n",
       "  19: 1056.0,\n",
       "  20: 1056.0,\n",
       "  21: 1166.0,\n",
       "  22: 1166.0,\n",
       "  23: 1276.0,\n",
       "  24: 1276.0,\n",
       "  25: 1386.0,\n",
       "  26: 1386.0,\n",
       "  27: 1496.0,\n",
       "  28: 1496.0,\n",
       "  29: 1606.0,\n",
       "  30: 1606.0,\n",
       "  31: 1716.0,\n",
       "  32: 1716.0,\n",
       "  33: 1826.0,\n",
       "  34: 1826.0,\n",
       "  35: 1936.0,\n",
       "  36: 1936.0},\n",
       " '_plant_translation': {},\n",
       " 'position': {}}"
      ]
     },
     "execution_count": 10,
     "metadata": {},
     "output_type": "execute_result"
    }
   ],
   "source": [
    "g.properties()"
   ]
  },
  {
   "cell_type": "code",
   "execution_count": 11,
   "metadata": {},
   "outputs": [
    {
     "name": "stdout",
     "output_type": "stream",
     "text": [
      "(374.2249455435086, [0.0, 369.9636531617556, 4.261292381753028])\n",
      "(386.5607141544442, [12.33576861093561, 369.9636531617556, 4.261292381753028])\n",
      "(415.2932260633141, [41.06828051980549, 369.9636531617556, 4.261292381753028])\n",
      "(458.9739018562928, [73.7853448407042, 10.96361147207996, 369.9636531617556, 4.261292381753028])\n",
      "(494.50777067880506, [73.7853448407042, 46.49748029459225, 369.9636531617556, 4.261292381753028])\n",
      "(547.2293791252436, [73.7853448407042, 90.72060237418295, 8.498486366847741, 369.9636531617556, 4.261292381753028])\n",
      "(589.6669888212084, [73.7853448407042, 90.72060237418295, 50.93609606281261, 369.9636531617556, 4.261292381753028])\n",
      "(653.2960627953578, [73.7853448407042, 90.72060237418295, 109.42356888758815, 5.141601149373934, 369.9636531617556, 4.261292381753028])\n",
      "(701.5422359587084, [73.7853448407042, 90.72060237418295, 109.42356888758815, 53.387774312724446, 369.9636531617556, 4.261292381753028])\n",
      "(778.5667285274844, [73.7853448407042, 90.72060237418295, 109.42356888758815, 128.69172601161287, 1.720540869887648, 369.9636531617556, 4.261292381753028])\n",
      "(902.6108073325931, [73.7853448407042, 90.72060237418295, 109.42356888758815, 201.67537532632647, 52.78097036028274, 369.9636531617556, 4.261292381753028])\n",
      "(996.4498035822501, [73.7853448407042, 90.72060237418295, 109.42356888758815, 201.67537532632647, 146.61996660993972, 0.0, 369.9636531617556, 4.261292381753028])\n",
      "(1143.1682471708407, [73.7853448407042, 90.72060237418295, 109.42356888758815, 201.67537532632647, 245.077108970223, 48.26130122830735, 369.9636531617556, 4.261292381753028])\n",
      "(1255.5786251549594, [73.7853448407042, 90.72060237418295, 109.42356888758815, 201.67537532632647, 245.077108970223, 160.67167921242603, 369.9636531617556, 4.261292381753028])\n",
      "(1423.1910259823605, [73.7853448407042, 90.72060237418295, 109.42356888758815, 201.67537532632647, 245.077108970223, 288.67084540115076, 39.61323463867638, 369.9636531617556, 4.261292381753028])\n",
      "(1551.5804245733964, [73.7853448407042, 90.72060237418295, 109.42356888758815, 201.67537532632647, 245.077108970223, 288.67084540115076, 168.00263322971213, 369.9636531617556, 4.261292381753028])\n",
      "(1739.0744011874906, [73.7853448407042, 90.72060237418295, 109.42356888758815, 201.67537532632647, 245.077108970223, 288.67084540115076, 327.7876562446977, 27.70895359910866, 369.9636531617556, 4.261292381753028])\n",
      "(1877.4404239312253, [73.7853448407042, 90.72060237418295, 109.42356888758815, 201.67537532632647, 245.077108970223, 288.67084540115076, 327.7876562446977, 166.0749763428435, 369.9636531617556, 4.261292381753028])\n",
      "(1712.953792219587, [73.7853448407042, 90.72060237418295, 109.42356888758815, 201.67537532632647, 245.077108970223, 288.67084540115076, 327.7876562446977, 356.77089567182355, 14.781102121137222, 4.261292381753028])\n",
      "(1851.6521454686306, [73.7853448407042, 90.72060237418295, 109.42356888758815, 201.67537532632647, 245.077108970223, 288.67084540115076, 327.7876562446977, 356.77089567182355, 153.4794553701808, 4.261292381753028])\n",
      "(2068.136343260205, [73.7853448407042, 90.72060237418295, 109.42356888758815, 201.67537532632647, 245.077108970223, 288.67084540115076, 327.7876562446977, 356.77089567182355, 369.9636531617556, 4.261292381753028])\n",
      "(2404.412344202893, [73.7853448407042, 90.72060237418295, 109.42356888758815, 201.67537532632647, 245.077108970223, 288.67084540115076, 327.7876562446977, 356.77089567182355, 579.7774334129538, 130.72351307324254])\n",
      "(2636.8249574854403, [73.7853448407042, 90.72060237418295, 109.42356888758815, 201.67537532632647, 245.077108970223, 288.67084540115076, 327.7876562446977, 356.77089567182355, 579.7774334129538, 363.1361263557899, 0.0])\n",
      "(2981.2947103962642, [73.7853448407042, 90.72060237418295, 109.42356888758815, 201.67537532632647, 245.077108970223, 288.67084540115076, 327.7876562446977, 356.77089567182355, 579.7774334129538, 606.9865794382832, 100.61929982833047])\n",
      "(3215.657507053844, [73.7853448407042, 90.72060237418295, 109.42356888758815, 201.67537532632647, 245.077108970223, 288.67084540115076, 327.7876562446977, 356.77089567182355, 579.7774334129538, 606.9865794382832, 334.98209648590984])\n",
      "(3550.4519120214673, [73.7853448407042, 90.72060237418295, 109.42356888758815, 201.67537532632647, 245.077108970223, 288.67084540115076, 327.7876562446977, 356.77089567182355, 579.7774334129538, 606.9865794382832, 601.8457357316205, 67.93076572191316])\n",
      "(3770.620505584126, [73.7853448407042, 90.72060237418295, 109.42356888758815, 201.67537532632647, 245.077108970223, 288.67084540115076, 327.7876562446977, 356.77089567182355, 579.7774334129538, 606.9865794382832, 601.8457357316205, 288.0993592845718])\n",
      "(4082.816014471171, [73.7853448407042, 90.72060237418295, 109.42356888758815, 201.67537532632647, 245.077108970223, 288.67084540115076, 327.7876562446977, 356.77089567182355, 579.7774334129538, 606.9865794382832, 601.8457357316205, 562.1067475553564, 38.18812061626027])\n",
      "(4273.510273163781, [73.7853448407042, 90.72060237418295, 109.42356888758815, 201.67537532632647, 245.077108970223, 288.67084540115076, 327.7876562446977, 356.77089567182355, 579.7774334129538, 606.9865794382832, 601.8457357316205, 562.1067475553564, 228.88237930887044])\n",
      "(4552.321784516907, [73.7853448407042, 90.72060237418295, 109.42356888758815, 201.67537532632647, 245.077108970223, 288.67084540115076, 327.7876562446977, 356.77089567182355, 579.7774334129538, 606.9865794382832, 601.8457357316205, 562.1067475553564, 491.6970230418619, 15.996867620135223])\n",
      "(4702.428263578633, [73.7853448407042, 90.72060237418295, 109.42356888758815, 201.67537532632647, 245.077108970223, 288.67084540115076, 327.7876562446977, 356.77089567182355, 579.7774334129538, 606.9865794382832, 601.8457357316205, 562.1067475553564, 491.6970230418619, 166.1033466818604])\n",
      "(4940.257144629966, [73.7853448407042, 90.72060237418295, 109.42356888758815, 201.67537532632647, 245.077108970223, 288.67084540115076, 327.7876562446977, 356.77089567182355, 579.7774334129538, 606.9865794382832, 601.8457357316205, 562.1067475553564, 491.6970230418619, 400.3936604583109, 3.5385672748831882])\n",
      "(5272.34232376429, [73.7853448407042, 90.72060237418295, 109.42356888758815, 201.67537532632647, 245.077108970223, 288.67084540115076, 327.7876562446977, 356.77089567182355, 579.7774334129538, 606.9865794382832, 601.8457357316205, 562.1067475553564, 491.6970230418619, 627.4649058939882, 108.55250097352925])\n",
      "(5465.337216851954, [73.7853448407042, 90.72060237418295, 109.42356888758815, 201.67537532632647, 245.077108970223, 288.67084540115076, 327.7876562446977, 356.77089567182355, 579.7774334129538, 606.9865794382832, 601.8457357316205, 562.1067475553564, 491.6970230418619, 627.4649058939882, 301.54739406119285, 0.0])\n",
      "(5730.471748914659, [73.7853448407042, 90.72060237418295, 109.42356888758815, 201.67537532632647, 245.077108970223, 288.67084540115076, 327.7876562446977, 356.77089567182355, 579.7774334129538, 606.9865794382832, 601.8457357316205, 562.1067475553564, 491.6970230418619, 627.4649058939882, 504.04024269510165, 62.641683428796796])\n",
      "(5876.376959353999, [73.7853448407042, 90.72060237418295, 109.42356888758815, 201.67537532632647, 245.077108970223, 288.67084540115076, 327.7876562446977, 356.77089567182355, 579.7774334129538, 606.9865794382832, 601.8457357316205, 562.1067475553564, 491.6970230418619, 627.4649058939882, 504.04024269510165, 208.54689386813664])\n"
     ]
    }
   ],
   "source": [
    "## Code for generating a growing cereal shoot from descritive parameters\n",
    "\n",
    "# Initialize the list of plant MTGs at different stages\n",
    "growing_plants=[]\n",
    "# positions=[(x,0,0) for x in range(0, 3600, 100)]\n",
    "positions=[(x,0,0) for x in range(0, 600, 100)]\n",
    "\n",
    "# For loop for generating plants at different stages\n",
    "for time in range(0,1800,50):\n",
    "# for time in range(1000,1300,50):\n",
    "    gg=grow_plant(g, time=time).sub_mtg(grow_plant(g, time=time).root) \n",
    "    # Fill the list with MTG of growing plant\n",
    "    growing_plants.append(gg)\n",
    "\n",
    "    print(compute_leaf_area(gg))\n",
    "    \n",
    "\n",
    "    # i=0\n",
    "    # for v in g.vertices():\n",
    "    #     n=gg.node(v)\n",
    "    #     if n.label is not None and n.label.startswith('Stem'):\n",
    "    #         print(n.label, i, n.visible_length)\n",
    "    #     i+=1\n",
    "    # print('')\n",
    "\n",
    "# Build and display scene\n",
    "# scene_grow, nump = build_scene(growing_plants, positions, leaf_material=Material(nice_green), stem_material=Material(nice_green))\n",
    "# # display_scene(scene_grow)\n",
    "# PlantGL(scene_grow)"
   ]
  },
  {
   "cell_type": "markdown",
   "metadata": {},
   "source": [
    "## Fit plant growth and development to LAI(t) and height(t) curves"
   ]
  },
  {
   "cell_type": "markdown",
   "metadata": {},
   "source": [
    "LAI(t) curve"
   ]
  },
  {
   "cell_type": "code",
   "execution_count": 12,
   "metadata": {},
   "outputs": [],
   "source": [
    "def linear_LA(x, slope=5, intercept=0.0):\n",
    "    \"\"\"\n",
    "    Generate a linear curve.\n",
    "\n",
    "    Args:\n",
    "    - x: Input values\n",
    "    - slope: Slope of the line\n",
    "    - intercept: Intercept of the line\n",
    "\n",
    "    Returns:\n",
    "    - y: Output values corresponding to the linear curve\n",
    "    \"\"\"\n",
    "    y = slope * x + intercept\n",
    "    return y"
   ]
  },
  {
   "cell_type": "markdown",
   "metadata": {},
   "source": [
    "Two constraints :\n",
    "\n",
    "$$ \\mathcal{A} = \\mathcal{A_scaled} = 2 * w * |\\int_{0}^{L} \\mathcal{C}(\\frac{s(u)}{L})d\\frac{s(u)}{L}| $$\n",
    "$$ \\text{leaf length} = L * e^{-\\log(skew) * (2 * (r - rmax)^2 + (r - rmax)^3)} $$\n",
    "r = np.linspace(1. / nb_phy, 1, nb_phy)"
   ]
  },
  {
   "cell_type": "code",
   "execution_count": 13,
   "metadata": {},
   "outputs": [
    {
     "data": {
      "text/plain": [
       "(5876.376959353999,\n",
       " [73.7853448407042,\n",
       "  90.72060237418295,\n",
       "  109.42356888758815,\n",
       "  201.67537532632647,\n",
       "  245.077108970223,\n",
       "  288.67084540115076,\n",
       "  327.7876562446977,\n",
       "  356.77089567182355,\n",
       "  579.7774334129538,\n",
       "  606.9865794382832,\n",
       "  601.8457357316205,\n",
       "  562.1067475553564,\n",
       "  491.6970230418619,\n",
       "  627.4649058939882,\n",
       "  504.04024269510165,\n",
       "  208.54689386813664])"
      ]
     },
     "execution_count": 13,
     "metadata": {},
     "output_type": "execute_result"
    }
   ],
   "source": [
    "from archicrop.plant_shape import compute_leaf_area\n",
    "\n",
    "compute_leaf_area(g)"
   ]
  },
  {
   "cell_type": "code",
   "execution_count": 14,
   "metadata": {},
   "outputs": [
    {
     "ename": "SyntaxError",
     "evalue": "invalid syntax (1157590130.py, line 15)",
     "output_type": "error",
     "traceback": [
      "\u001b[1;36m  Cell \u001b[1;32mIn[14], line 15\u001b[1;36m\u001b[0m\n\u001b[1;33m    for t in\u001b[0m\n\u001b[1;37m             ^\u001b[0m\n\u001b[1;31mSyntaxError\u001b[0m\u001b[1;31m:\u001b[0m invalid syntax\n"
     ]
    }
   ],
   "source": [
    "from scipy.optimize import curve_fit\n",
    "\n",
    "# Define your parametric model as a Python function\n",
    "def parametric_model(x):\n",
    "    \"\"\"\n",
    "    Define your parametric model here.\n",
    "\n",
    "    Args:\n",
    "    - x: Input values\n",
    "    - param1, param2, ...: Parameters of your model\n",
    "\n",
    "    Returns:\n",
    "    - y: Output values corresponding to the model\n",
    "    \"\"\"\n",
    "    for t in time\n",
    "        # Compute your model's output based on input values and parameters\n",
    "        ## Code for generating a 3D cereal shoot from descritive parameters\n",
    "        # Parameters \n",
    "        diam_base=2.5\n",
    "        diam_top=1.0\n",
    "        # Lejeune and Bernier formula + col =\n",
    "        nb_young_phy = int(round((nb_phy - 1.95) / 1.84 / 1.3))\n",
    "        # stem diameters\n",
    "        diameter = ([diam_base] * nb_young_phy + np.linspace(diam_base, diam_top, nb_phy - nb_young_phy).tolist()) \n",
    "        height=1000                 # from crop model\n",
    "        nb_phy=17                   # fixed max nb of phytomers\n",
    "        max_leaf_length=70 \n",
    "        insertion_angle=40\n",
    "        scurv=0.7\n",
    "        curvature=80\n",
    "        phyllotactic_angle=180\n",
    "        spiral=False\n",
    "        \n",
    "        # Functions calls\n",
    "        insertion_heights=np.array(geometric_dist(height, \n",
    "                                                  nb_phy, \n",
    "                                                  q=1.25)) # further separate stem and pseudo stem, cf simple maize\n",
    "        \n",
    "        leaf_lengths=np.array(bell_shaped_dist(max_leaf_length=max_leaf_length, \n",
    "                                               nb_phy=nb_phy, \n",
    "                                               rmax=0.7, \n",
    "                                               skew=0.15)) # plant area --> max leaf length\n",
    "        # leaf_areas=bell_shaped_dist(plant_area=1, nb_phy=15, rmax=0.7, skew=0.15) # cf blade_dimension\n",
    "        \n",
    "        a_leaf = parametric_leaf(nb_segment=10, \n",
    "                                 insertion_angle=insertion_angle, \n",
    "                                 scurv=scurv, \n",
    "                                 curvature=curvature, \n",
    "                                 alpha=-2.3)\n",
    "        \n",
    "        leaf_shapes = [a_leaf for l in leaf_lengths] # possible to replace leaf_length by nb_phy or...\n",
    "        \n",
    "        leaf_azimuths = leaf_azimuth(size=len(leaf_lengths), \n",
    "                                     phyllotactic_angle=phyllotactic_angle, \n",
    "                                     phyllotactic_deviation=0, \n",
    "                                     plant_orientation=0, \n",
    "                                     spiral=spiral)\n",
    "        \n",
    "        shoot, g = build_shoot(stem_diameters=stem_radius, \n",
    "                                      insertion_heights=insertion_heights, \n",
    "                                      leaf_lengths=leaf_lengths, \n",
    "                                      leaf_areas=None, \n",
    "                                      leaf_shapes=leaf_shapes, \n",
    "                                      leaf_azimuths=leaf_azimuths)\n",
    "    y = compute_leaf_area(g)\n",
    "    # # Build and display scene\n",
    "    # scene, nump = build_scene(g, \n",
    "    #                           leaf_material=Material(nice_green), \n",
    "    #                           stem_material=Material(nice_green))\n",
    "    # # display_scene(scene_single) # display in separate window\n",
    "    # PlantGL(scene) # display in notebook\n",
    "    return y\n",
    "\n",
    "# Prepare your data\n",
    "x_data = []\n",
    "y_data = []\n",
    "for t in range(0,1700,100):\n",
    "    x_data.append(t)\n",
    "    y_data.append(linear_LA(t))\n",
    "x_data = np.array(x_data)  # Your input data\n",
    "y_data = np.array(y_data)  # Your output data\n",
    "\n",
    "# Use scipy.optimize.curve_fit to fit your model to the data and obtain optimal parameters\n",
    "initial_guess = [...]  # Initial guess for your parameters\n",
    "optimal_params, covariance = curve_fit(parametric_model, x_data, y_data, p0=initial_guess)\n",
    "\n",
    "# Print the optimal parameters\n",
    "print(\"Optimal Parameters:\", optimal_params)\n",
    "\n",
    "# Optionally, visualize the fit\n",
    "import matplotlib.pyplot as plt\n",
    "plt.scatter(x_data, y_data, label='Data')\n",
    "plt.plot(x_data, parametric_model(x_data, *optimal_params), color='red', label='Fitted Curve')\n",
    "plt.xlabel('x')\n",
    "plt.ylabel('y')\n",
    "plt.legend()\n",
    "plt.show()"
   ]
  },
  {
   "cell_type": "markdown",
   "metadata": {},
   "source": [
    "## Next steps\n",
    "\n",
    "- Bending dynamics of leaves and tillers"
   ]
  },
  {
   "cell_type": "code",
   "execution_count": null,
   "metadata": {},
   "outputs": [],
   "source": []
  }
 ],
 "metadata": {
  "kernelspec": {
   "display_name": "oa3",
   "language": "python",
   "name": "oa3"
  },
  "language_info": {
   "codemirror_mode": {
    "name": "ipython",
    "version": 3
   },
   "file_extension": ".py",
   "mimetype": "text/x-python",
   "name": "python",
   "nbconvert_exporter": "python",
   "pygments_lexer": "ipython3",
   "version": "3.12.2"
  },
  "widgets": {
   "application/vnd.jupyter.widget-state+json": {
    "state": {
     "41a59f3580dd41fead33aefa6b4bc939": {
      "model_module": "k3d",
      "model_module_version": "2.16.1",
      "model_name": "PlotModel",
      "state": {
       "_backend_version": "2.16.1",
       "antialias": 3,
       "auto_rendering": true,
       "axes": [
        "x",
        "y",
        "z"
       ],
       "axes_helper": 1,
       "axes_helper_colors": [
        16711680,
        65280,
        255
       ],
       "background_color": 16777215,
       "camera": [
        179.59283529094589,
        -269.7798683996757,
        108.53525131779104,
        -0.2604103088378906,
        0,
        90.5499267578125,
        0,
        0,
        1
       ],
       "camera_animation": [],
       "camera_auto_fit": true,
       "camera_damping_factor": 0,
       "camera_fov": 60,
       "camera_mode": "trackball",
       "camera_no_pan": false,
       "camera_no_rotate": false,
       "camera_no_zoom": false,
       "camera_pan_speed": 0.3,
       "camera_rotate_speed": 1,
       "camera_zoom_speed": 1.2,
       "clipping_planes": [],
       "colorbar_object_id": -1,
       "colorbar_scientific": false,
       "custom_data": null,
       "fps": 25,
       "fps_meter": false,
       "grid": [
        -1,
        -1,
        -1,
        1,
        1,
        1
       ],
       "grid_auto_fit": true,
       "grid_color": 15132390,
       "grid_visible": true,
       "height": 512,
       "label_color": 4473924,
       "layout": "IPY_MODEL_701a6096d397440993ac11e11c706c75",
       "lighting": 3,
       "logarithmic_depth_buffer": true,
       "manipulate_mode": "translate",
       "menu_visibility": true,
       "minimum_fps": -1,
       "mode": "view",
       "name": null,
       "object_ids": [
        2962998293952
       ],
       "rendering_steps": 1,
       "screenshot": "",
       "screenshot_scale": 2,
       "snapshot": "",
       "snapshot_type": "full",
       "time": 0,
       "voxel_paint_color": 0
      }
     },
     "60216581224548bc9d62f452a687bbd9": {
      "buffers": [
       {
        "data": "",
        "encoding": "base64",
        "path": [
         "attribute",
         "data"
        ]
       },
       {
        "data": "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",
        "encoding": "base64",
        "path": [
         "color_map",
         "data"
        ]
       },
       {
        "data": "",
        "encoding": "base64",
        "path": [
         "colors",
         "data"
        ]
       },
       {
        "data": "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",
        "encoding": "base64",
        "path": [
         "indices",
         "data"
        ]
       },
       {
        "data": "AACAPwAAAAAAAAAAAAAAAAAAAAAAAIA/AAAAAAAAAAAAAAAAAAAAAAAAgD8AAAAAAAAAAAAAAAAAAAAAAACAPw==",
        "encoding": "base64",
        "path": [
         "model_matrix",
         "data"
        ]
       },
       {
        "data": "",
        "encoding": "base64",
        "path": [
         "normals",
         "data"
        ]
       },
       {
        "data": "",
        "encoding": "base64",
        "path": [
         "opacity_function",
         "data"
        ]
       },
       {
        "data": "",
        "encoding": "base64",
        "path": [
         "triangles_attribute",
         "data"
        ]
       },
       {
        "data": "AADAfw==",
        "encoding": "base64",
        "path": [
         "uvs",
         "data"
        ]
       },
       {
        "data": "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",
        "encoding": "base64",
        "path": [
         "vertices",
         "data"
        ]
       },
       {
        "data": "",
        "encoding": "base64",
        "path": [
         "volume",
         "data"
        ]
       },
       {
        "data": "",
        "encoding": "base64",
        "path": [
         "volume_bounds",
         "data"
        ]
       }
      ],
      "model_module": "k3d",
      "model_module_version": "2.16.1",
      "model_name": "ObjectModel",
      "state": {
       "_view_module": null,
       "_view_module_version": "",
       "_view_name": null,
       "attribute": {
        "dtype": "float32",
        "shape": [
         0
        ]
       },
       "click_callback": false,
       "color": 3302400,
       "colorLegend": false,
       "color_map": {
        "dtype": "float32",
        "shape": [
         1024
        ]
       },
       "color_range": [],
       "colors": {
        "dtype": "uint32",
        "shape": [
         0
        ]
       },
       "compression_level": 0,
       "custom_data": null,
       "flat_shading": true,
       "group": null,
       "hover_callback": false,
       "id": 2963006841408,
       "indices": {
        "dtype": "uint32",
        "shape": [
         436,
         3
        ]
       },
       "model_matrix": {
        "dtype": "float32",
        "shape": [
         4,
         4
        ]
       },
       "name": "Mesh #1",
       "normals": {
        "dtype": "float32",
        "shape": [
         0
        ]
       },
       "opacity": 1,
       "opacity_function": {
        "dtype": "float32",
        "shape": [
         0
        ]
       },
       "side": "front",
       "texture": null,
       "texture_file_format": null,
       "triangles_attribute": {
        "dtype": "float32",
        "shape": [
         0
        ]
       },
       "type": "Mesh",
       "uvs": {
        "dtype": "float32",
        "shape": []
       },
       "vertices": {
        "dtype": "float32",
        "shape": [
         364,
         3
        ]
       },
       "visible": true,
       "volume": {
        "dtype": "float32",
        "shape": [
         0
        ]
       },
       "volume_bounds": {
        "dtype": "float32",
        "shape": [
         0
        ]
       },
       "wireframe": false
      }
     },
     "701a6096d397440993ac11e11c706c75": {
      "model_module": "@jupyter-widgets/base",
      "model_module_version": "2.0.0",
      "model_name": "LayoutModel",
      "state": {}
     },
     "72248f300fb840e49e1142d22c12a7b2": {
      "model_module": "@jupyter-widgets/base",
      "model_module_version": "2.0.0",
      "model_name": "LayoutModel",
      "state": {}
     },
     "7d6ce5359b3048d59dba311718b93dff": {
      "buffers": [
       {
        "data": "",
        "encoding": "base64",
        "path": [
         "attribute",
         "data"
        ]
       },
       {
        "data": "AAAAAKabxDpvEgM607xjPCSXfzuZuxY7w2SqOgdfmDwkl/870ERYO+AtEDsUP8Y8ylRBPLx0kzuJ0l47/yH9PEmdgDymm8Q7dQKaOwkbHj0ukKA8SFD8O4LixztbsT89EoPAPFJJHTxIUPw7irBhPa5H4TxbsT88dQIaPEoMgj1JnQA9QmBlPDSANzxPQJM9vJYQPbn8hzxioVY8VHSkPS6QID3A7J48/mV3PMbctT2giTA9NIC3PATnjDw5Rcc97utAPYZa0zwJG548GeLYPWDlUD1F2PA8xSCwPGiz6j3T3mA9cM4IPYEmwjwkufw9RdhwPVFrGj09LNQ8cF8HPtxogD3EQi09+THmPIV8ED4Cmog9NxpAPbU3+DwHzhk+vJaQPYZaUz24HgU9ih8jPnWTmD2wA2c9u7gNPQ1xLD4ukKA9tRV7PeLpFT3G3DU+VcGoPUvIhz0tsh097nw/Pg6+sD0qOpI9nRElPRUdST7Hurg9duCcPVafKz08vVI+gLfAPZ7vpz1XWzE9mndcPjm0yD3F/rI9fa42PfkxZj5g5dA9yXa+PRHHOj2OBnA+GeLYPTojyj3tDT497MB5PtPe4D2GONY9EoNAPaW9gT6M2+g9003iPYEmQj3UmoY+RdjwPWkA7z04+EI96GqLPmwJ+T3/svs9XI9CPeAtkD4SgwA+OGcEPqW9QT2945Q+b4EEPigPCz43GkA9Y3+ZPsx/CD5O0RE+Njw9PdIAnj5fmAw+rK0YPjVeOj3uWqI+vJYQPgmKHz59rjY9uY2mPhiVFD7UmiY+6pUyPUymqj51kxg+n6stPnsULj1yiq4+0ZEcPmq8ND4Mkyk9KjqyPmWqID42zTs+nRElPY/CtT7BqCQ+OPhCPgn5ID1sCbk+HqcoPgMJSj5SSR099ii8PnqlLD7OGVE+dQIaPRIUvz7XozA+mSpYPlCNFz3c18E+arw0Pi0hXz7i6RU9HVrEPse6OD75MWY+KxgVPQu1xj4kuTw+Vg5tPisYFT2n6Mg+gLdAPuoEdD7i6RU98fTKPhTQRD5I4Xo+K/YXPc3MzD5wzkg+t9GAPlFrGj1yis4+zcxMPsoyhD4JGx49xSDQPinLUD7ek4c+nDMiPcWP0T6GyVQ+1eeKPsKGJz2q8dI+GeJYPs07jj6fqy09PSzUPnbgXD7Fj5E+fdAzPZhM1T7T3mA+veOUPhHHOj29UtY+L91kPpkqmD5cj0I9x0vXPsP1aD52cZs+qFdKPZkq2D4f9Gw+NquePs6IUj0179g+fPJwPhPyoT7RIls9tabZPtjwdD7UK6U+07xjPRpR2j4173g+lWWoPrG/bD1I4do+yAd9Plafqz5rK3Y9WmTbPhKDgD4X2a4+SS5/PVHa2z5BgoI+1xKyPgFNhD0tQ9w+b4GEPn0/tT7eAok97Z7cPp2Ahj4+ebg+u7iNPZHt3D7njIg+46W7PgWjkj0bL90+FYyKPqTfvj7iWJc9iGPdPkSLjD5KDMI+LUOcPduK3T5yio4+7zjFPgn5oD0tst0+vJaQPrByyD7mrqU9SL/dPuqVkj5Wn8s+MZmqPWTM3T4YlZQ++8vOPg5Prz1kzN0+RpSWPqH40T7qBLQ9SL/dPnWTmD5GJdU+x7q4PRKl3T6+n5o+7FHYPqRwvT3bit0+7Z6cPqyL2z6BJsI9iGPdPhuenj5SuN4+XdzGPRsv3T5JnaA+9+ThPsxdyz2t+tw+eJyiPp0R5T6pE9A9JLncPsGopD5eS+g+GJXUPX9q3D7wp6Y+A3jrPvVK2T2/Dtw+HqeoPqmk7j5kzN09/7LbPkymqj5O0fE+003iPSNK2z6Wsqw+Dwv1PrAD5z1I4do+xLGuPrU3+D4fhes9NV7aPvKwsD5aZPs+jgbwPT7o2T4hsLI+G57+Pv2H9D0QWNk+T6+0PmDlAD9sCfk948fYPpm7tj6zewI/24r9PZkq2D7Hurg+kxgEPyUGAT40gNc+9bm6PuauBT+lLAM+tMjWPiS5vD45RQc/XW0FPjQR1j5SuL4+GeIIPxSuBz60WdU+nMTAPmx4Cj/M7gk+/YfUPsrDwj5NFQw/gy8MPka20z74wsQ+n6sNPztwDj5z19I+J8LGPvJBDz/ysBA+ofjRPnDOyD7T3hA/4QsTPrMM0T6fzco+JXUSP5hMFT6pE9A+zczMPngLFD9QjRc+hA3PPvvLzj7LoRU/PugZPl8Hzj4py9A+HTgXPy1DHD4f9Mw+c9fSPnDOGD/kgx4+w9PLPqHW1D7DZBo/CfkgPmizyj7Q1dY+FvsbP/hTIz7whck+/tTYPmiRHT/mriU+XkvIPkjh2j67Jx8/CyQoPssQxz524Nw+gLcgPzGZKj4dycU+pN/ePtNNIj9WDi0+VHTEPtPe4D6Y3SM/e4MvPoofwz4B3uI+63MlP9cSMj6lvcE+S+rkPrADJz80ojQ+pU7APnnp5j51kyg/x0s3PonSvj6n6Og+rBwqPyPbOT5tVr0+1efqPnGsKz/tnjw+Udq7PgTn7D6oNS0/gEg/Pv5Duj5N8+4+bcUuP0oMQj7Hurg+fPLwPqVOMD8U0EQ+WRe3Pqrx8j5O0TE/FK5HPutztT7Y8PQ+hlozP0ymSj5hw7M+Iv32Pi/dND9NhE0+1xKyPlD8+D7ZXzY/vJZQPjJVsD5/+/o+guI3P/OOUz5yiq4+rfr8Pp5eOT+Zu1Y+sb+sPtv5/j662jo/PuhZPvH0qj4SgwA/1lY8P+QUXT75D6k+qoIBP2TMPT/AW2A+HTinPkGCAj/yQT8/07xjPiZTpT7YgQM/gLdAP+cdZz4TYaM+b4EEP4EmQj8xmWo+AG+hPpSHBT+BlUM/si5uPtJvnz4rhwY/gQRFPzPEcT6kcJ0+woYHP/RsRj/rc3U+WmSbPlmGCD/Zzkc/oyN5PhBYmT5+jAk/vjBJP8gHfT7HS5c+FYwKP6OSSj/3dYA+YTKVPqyLCz/67Us/CmiCPvwYkz5Eiww/UklNP1R0hD588pA+24oNPxueTj+dgIY++8uOPgCRDj9X7E8/ApqIPnqljD6XkA8/kzpRP4PAij7ecYo+LpAQP86IUj8E54w+Qj6IPsWPET990FM/oBqPPov9hT5cjxI/nRFVP1dbkT7vyYM+gZUTP71SVj8qqZM+N4mBPhiVFD9QjVc//faVPgCRfj6vlBU/VcFYPwdfmD5a9Xk+RpQWP1r1WT8Rx5o+tFl1PmuaFz/RIls/Gy+dPg6+cD4Cmhg/uklcP1uxnz5oImw+mpkZP6RwXT+cM6I+woZnPjGZGj8AkV4/+MKkPuXQYj7ImBs/zqpfP3Bfpz4JG14+7Z4cP5zEYD8DCao+LGVZPoSeHT/c12E/lrKsPhiVVD4bnh4/j+RiP0Rprz47308+sp0fP7PqYz8OLbI+KA9LPtejID/Y8GQ/2PC0PhQ/Rj5uoyE/b/BlP77Btz4Ab0E+BaMiP3npZj++n7o+toQ8PpyiIz/122c/v329PqK0Nz40oiQ/cM5oP/d1wD5YyjI+WKglP166aT8TYcM+DeAtPvCnJj++n2o/ZmbGPozbKD6Hpyc/kX5rP7pryT5B8SM+HqcoP9ZWbD8ofsw+wOwePrWmKT8bL20/l5DPPj7oGT7arCo/RPptPyGw0j694xQ+cawrP23Fbj+rz9U+BcUPPgisLD8Jim8/UPzYPkymCj6fqy0/pU5wPxE23D6UhwU+xLEuPyUGcT/Sb98+3GgAPluxLz+lvXE/rrbiPkaU9j3ysDA/mG5yP4v95T5oIuw9irAxP/wYcz+DUek+irDhPSGwMj/TvHM/eqXsPj0K1z1GtjM/HVp0P3L57z5fmMw93bU0P2b3dD+hZ/M+E/LBPXS1NT+Uh3U/tMj2PsdLtz0LtTY/whd2P+M2+j56paw9orQ3P2Khdj8tsv0+Lv+hPce6OD90JHc/LpAAP+JYlz1eujk/+aB3P2FUAj+Wsow99bk6P34deD8GEgQ/SgyCPYy5Oz/njHg/xtwFP9c0bz2xvzw/UPx4P/mgBz8aUVo9SL89PyxleT+6awk/FD9GPeC+Pj96x3k/ejYLP+qVMj13vj8/OiN6PzsBDT9SJyA9Dr5AP2x4ej+J0g4/TfMOPTPEQT+fzXo/ZaoQP0mdAD3Kw0I/tRV7P7N7Ej/VeOk8YcNDP8xdez+PUxQ/YqHWPPjCRD9Wn3s/aysWP6hXyjyPwkU/Udp7P0cDGD84+MI8tMhGP78OfD+x4Rk/ylTBPEvIRz+fPHw/GsAbPxQ/xjzjx0g/f2p8PxKlHT8Xt9E8esdJP0SLfD97gx8/07zjPJ/NSj8IrHw/c2ghP/8h/Tw2zUs/sb98P2pNIz9N8w49zcxMP1vTfD9hMiU/L24jPWTMTT924Hw/5x0nPxHHOj37y04/BOd8P2wJKT9hw1M9INJPPwTnfD9j7io/+8tuPbfRUD8E53w/duAsPwK8hT1O0VE/6Nl8P/vLLj/hepQ95dBSP83MfD8OvjA/CtejPQrXUz+Wsnw/k6kyPw+csz2h1lQ/X5h8P6abND9d/sM9OdZVP5p3fD9GlDY/hsnUPdDVVj9IUHw/WYY4Px3J5T1n1Vc/aCJ8P2x4Oj/+Zfc9jNtYP/rtez8NcTw/ppsEPiPbWT//sns/rWk+P/LSDT662lo/dnF7P8BbQD90JBc+UdpbP+wvez9hVEI/ZaogPujZXD9I4Xo/AU1EP8NkKj4N4F0/o5J6P6JFRj9YOTQ+pN9eP3E9ej/QREg/klw+PjvfXz+x4Xk/cT1KPzm0SD7T3mA/Y395PxE2TD9PQFM+9+RhPxUdeT+yLk4/CRtePo/kYj85tHg/UidQPzAqaT4m5GM/0ER4P/MfUj/GbXQ+veNkP9nOdz+TGFQ/AACAPlTjZT/iWHc/NBFWP1TjhT556WY/6+J2P0cDWD8W+4s+EOlnP2Zmdj/n+1k/Di2SPqfoaD/i6XU/+u1bP3WTmD4+6Gk/XW11P3/ZXT8tIZ8+1edqP9jwdD8FxV8/VOOlPvrtaz/henQ/irBhP83MrD6R7Ww/6gR0P/OOYz+z6rM+Ke1tP4GVcz9dbWU/7C+7PsDsbj8zM3M/OUVnP662wj7l8m8/Ad5yP4cWaT/DZMo+fPJwP+qVcj+62mo/RUfSPhPycT98YXI/X5hsPxpR2j6q8XI/RUdyP+lIbj9BguI+QfFzP0VHcj9X7G8/n83qPmb3dD8KaHI/HHxxPzMz8z799nU/k6lyP1MFcz/ImPs+lPZ2P28Scz9vgXQ/vAUCPyv2dz+conM/4ul1P/kxBj/D9Xg/HVp0PzlFdz+oVwo/5/t5P+84dT91k3g/rWkOP3/7ej+GOHY/ldR5PwpoEj8W+3s/4lh3PygPez+9UhY/rfp8P5CgeD+fPHw/xykaP9IAfj/n+3k/iGN9P5vmHT9pAH8/A3h7P1Z9fj83iSE/AACAP8gHfT8kl38/KxglPw==",
        "encoding": "base64",
        "path": [
         "color_map",
         "data"
        ]
       },
       {
        "data": "",
        "encoding": "base64",
        "path": [
         "colors",
         "data"
        ]
       },
       {
        "data": "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",
        "encoding": "base64",
        "path": [
         "indices",
         "data"
        ]
       },
       {
        "data": "AACAPwAAAAAAAAAAAAAAAAAAAAAAAIA/AAAAAAAAAAAAAAAAAAAAAAAAgD8AAAAAAAAAAAAAAAAAAAAAAACAPw==",
        "encoding": "base64",
        "path": [
         "model_matrix",
         "data"
        ]
       },
       {
        "data": "",
        "encoding": "base64",
        "path": [
         "normals",
         "data"
        ]
       },
       {
        "data": "",
        "encoding": "base64",
        "path": [
         "opacity_function",
         "data"
        ]
       },
       {
        "data": "",
        "encoding": "base64",
        "path": [
         "triangles_attribute",
         "data"
        ]
       },
       {
        "data": "AADAfw==",
        "encoding": "base64",
        "path": [
         "uvs",
         "data"
        ]
       },
       {
        "data": "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",
        "encoding": "base64",
        "path": [
         "vertices",
         "data"
        ]
       },
       {
        "data": "",
        "encoding": "base64",
        "path": [
         "volume",
         "data"
        ]
       },
       {
        "data": "",
        "encoding": "base64",
        "path": [
         "volume_bounds",
         "data"
        ]
       }
      ],
      "model_module": "k3d",
      "model_module_version": "2.16.1",
      "model_name": "ObjectModel",
      "state": {
       "_view_module": null,
       "_view_module_version": "",
       "_view_name": null,
       "attribute": {
        "dtype": "float32",
        "shape": [
         0
        ]
       },
       "click_callback": false,
       "color": 3302400,
       "colorLegend": false,
       "color_map": {
        "dtype": "float32",
        "shape": [
         1024
        ]
       },
       "color_range": [],
       "colors": {
        "dtype": "uint32",
        "shape": [
         0
        ]
       },
       "compression_level": 0,
       "custom_data": null,
       "flat_shading": true,
       "group": null,
       "hover_callback": false,
       "id": 2962998293952,
       "indices": {
        "dtype": "uint32",
        "shape": [
         765,
         3
        ]
       },
       "model_matrix": {
        "dtype": "float32",
        "shape": [
         4,
         4
        ]
       },
       "name": "Mesh #1",
       "normals": {
        "dtype": "float32",
        "shape": [
         0
        ]
       },
       "opacity": 1,
       "opacity_function": {
        "dtype": "float32",
        "shape": [
         0
        ]
       },
       "side": "front",
       "texture": null,
       "texture_file_format": null,
       "triangles_attribute": {
        "dtype": "float32",
        "shape": [
         0
        ]
       },
       "type": "Mesh",
       "uvs": {
        "dtype": "float32",
        "shape": []
       },
       "vertices": {
        "dtype": "float32",
        "shape": [
         646,
         3
        ]
       },
       "visible": true,
       "volume": {
        "dtype": "float32",
        "shape": [
         0
        ]
       },
       "volume_bounds": {
        "dtype": "float32",
        "shape": [
         0
        ]
       },
       "wireframe": false
      }
     },
     "96074d5941da461a97cbfb4d32cd4e25": {
      "buffers": [
       {
        "data": "",
        "encoding": "base64",
        "path": [
         "attribute",
         "data"
        ]
       },
       {
        "data": "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",
        "encoding": "base64",
        "path": [
         "color_map",
         "data"
        ]
       },
       {
        "data": "",
        "encoding": "base64",
        "path": [
         "colors",
         "data"
        ]
       },
       {
        "data": "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",
        "encoding": "base64",
        "path": [
         "indices",
         "data"
        ]
       },
       {
        "data": "AACAPwAAAAAAAAAAAAAAAAAAAAAAAIA/AAAAAAAAAAAAAAAAAAAAAAAAgD8AAAAAAAAAAAAAAAAAAAAAAACAPw==",
        "encoding": "base64",
        "path": [
         "model_matrix",
         "data"
        ]
       },
       {
        "data": "",
        "encoding": "base64",
        "path": [
         "normals",
         "data"
        ]
       },
       {
        "data": "",
        "encoding": "base64",
        "path": [
         "opacity_function",
         "data"
        ]
       },
       {
        "data": "",
        "encoding": "base64",
        "path": [
         "triangles_attribute",
         "data"
        ]
       },
       {
        "data": "AADAfw==",
        "encoding": "base64",
        "path": [
         "uvs",
         "data"
        ]
       },
       {
        "data": "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",
        "encoding": "base64",
        "path": [
         "vertices",
         "data"
        ]
       },
       {
        "data": "",
        "encoding": "base64",
        "path": [
         "volume",
         "data"
        ]
       },
       {
        "data": "",
        "encoding": "base64",
        "path": [
         "volume_bounds",
         "data"
        ]
       }
      ],
      "model_module": "k3d",
      "model_module_version": "2.16.1",
      "model_name": "ObjectModel",
      "state": {
       "_view_module": null,
       "_view_module_version": "",
       "_view_name": null,
       "attribute": {
        "dtype": "float32",
        "shape": [
         0
        ]
       },
       "click_callback": false,
       "color": 3302400,
       "colorLegend": false,
       "color_map": {
        "dtype": "float32",
        "shape": [
         1024
        ]
       },
       "color_range": [],
       "colors": {
        "dtype": "uint32",
        "shape": [
         0
        ]
       },
       "compression_level": 0,
       "custom_data": null,
       "flat_shading": true,
       "group": null,
       "hover_callback": false,
       "id": 2963041568048,
       "indices": {
        "dtype": "uint32",
        "shape": [
         432,
         3
        ]
       },
       "model_matrix": {
        "dtype": "float32",
        "shape": [
         4,
         4
        ]
       },
       "name": "Mesh #1",
       "normals": {
        "dtype": "float32",
        "shape": [
         0
        ]
       },
       "opacity": 1,
       "opacity_function": {
        "dtype": "float32",
        "shape": [
         0
        ]
       },
       "side": "front",
       "texture": null,
       "texture_file_format": null,
       "triangles_attribute": {
        "dtype": "float32",
        "shape": [
         0
        ]
       },
       "type": "Mesh",
       "uvs": {
        "dtype": "float32",
        "shape": []
       },
       "vertices": {
        "dtype": "float32",
        "shape": [
         362,
         3
        ]
       },
       "visible": true,
       "volume": {
        "dtype": "float32",
        "shape": [
         0
        ]
       },
       "volume_bounds": {
        "dtype": "float32",
        "shape": [
         0
        ]
       },
       "wireframe": false
      }
     },
     "9698614b54ca475cab54684302d8a3b1": {
      "model_module": "@jupyter-widgets/controls",
      "model_module_version": "2.0.0",
      "model_name": "IntSliderModel",
      "state": {
       "behavior": "drag-tap",
       "description": "time",
       "layout": "IPY_MODEL_a77b07919ea74bcdba053571f8030a98",
       "max": 2000,
       "min": 20,
       "step": 100,
       "style": "IPY_MODEL_e4d8a70b6c044199830b2138a48c91b9",
       "value": 1020
      }
     },
     "9991f8bf2bb7425bb043c37943c97a09": {
      "model_module": "@jupyter-widgets/base",
      "model_module_version": "2.0.0",
      "model_name": "LayoutModel",
      "state": {}
     },
     "9a365e3c46c341d3bf25c332ab596cfb": {
      "model_module": "@jupyter-widgets/base",
      "model_module_version": "2.0.0",
      "model_name": "LayoutModel",
      "state": {}
     },
     "a6775857ab404f6fac4fedbc28363089": {
      "model_module": "@jupyter-widgets/output",
      "model_module_version": "1.0.0",
      "model_name": "OutputModel",
      "state": {
       "layout": "IPY_MODEL_eeb2e8ad203b4231bafdb63e59e201d8",
       "outputs": [
        {
         "data": {
          "application/vnd.jupyter.widget-view+json": {
           "model_id": "be1f265b07e84efda3fe9128ee7d76c9",
           "version_major": 2,
           "version_minor": 0
          },
          "text/plain": "Plot(antialias=3, axes=['x', 'y', 'z'], axes_helper=1.0, axes_helper_colors=[16711680, 65280, 255], background…"
         },
         "metadata": {},
         "output_type": "display_data"
        }
       ]
      }
     },
     "a77b07919ea74bcdba053571f8030a98": {
      "model_module": "@jupyter-widgets/base",
      "model_module_version": "2.0.0",
      "model_name": "LayoutModel",
      "state": {}
     },
     "be1f265b07e84efda3fe9128ee7d76c9": {
      "model_module": "k3d",
      "model_module_version": "2.16.1",
      "model_name": "PlotModel",
      "state": {
       "_backend_version": "2.16.1",
       "antialias": 3,
       "auto_rendering": true,
       "axes": [
        "x",
        "y",
        "z"
       ],
       "axes_helper": 1,
       "axes_helper_colors": [
        16711680,
        65280,
        255
       ],
       "background_color": 16777215,
       "camera": [
        79.1861883567244,
        -114.10823055602168,
        30.9103617327062,
        3.114034652709961,
        0,
        23.303146362304688,
        0,
        0,
        1
       ],
       "camera_animation": [],
       "camera_auto_fit": true,
       "camera_damping_factor": 0,
       "camera_fov": 60,
       "camera_mode": "trackball",
       "camera_no_pan": false,
       "camera_no_rotate": false,
       "camera_no_zoom": false,
       "camera_pan_speed": 0.3,
       "camera_rotate_speed": 1,
       "camera_zoom_speed": 1.2,
       "clipping_planes": [],
       "colorbar_object_id": -1,
       "colorbar_scientific": false,
       "custom_data": null,
       "fps": 25,
       "fps_meter": false,
       "grid": [
        -1,
        -1,
        -1,
        1,
        1,
        1
       ],
       "grid_auto_fit": true,
       "grid_color": 15132390,
       "grid_visible": true,
       "height": 512,
       "label_color": 4473924,
       "layout": "IPY_MODEL_9991f8bf2bb7425bb043c37943c97a09",
       "lighting": 3,
       "logarithmic_depth_buffer": true,
       "manipulate_mode": "translate",
       "menu_visibility": true,
       "minimum_fps": -1,
       "mode": "view",
       "name": null,
       "object_ids": [
        2963041568048
       ],
       "rendering_steps": 1,
       "screenshot": "",
       "screenshot_scale": 2,
       "snapshot": "",
       "snapshot_type": "full",
       "time": 0,
       "voxel_paint_color": 0
      }
     },
     "c7303604b76a49348c09eda9aa3325d5": {
      "model_module": "k3d",
      "model_module_version": "2.16.1",
      "model_name": "PlotModel",
      "state": {
       "_backend_version": "2.16.1",
       "antialias": 3,
       "auto_rendering": true,
       "axes": [
        "x",
        "y",
        "z"
       ],
       "axes_helper": 1,
       "axes_helper_colors": [
        16711680,
        65280,
        255
       ],
       "background_color": 16777215,
       "camera": [
        88.03190296816173,
        -135.26247408877825,
        33.884599941896816,
        -2.1430797576904297,
        0,
        24.867101669311523,
        0,
        0,
        1
       ],
       "camera_animation": [],
       "camera_auto_fit": true,
       "camera_damping_factor": 0,
       "camera_fov": 60,
       "camera_mode": "trackball",
       "camera_no_pan": false,
       "camera_no_rotate": false,
       "camera_no_zoom": false,
       "camera_pan_speed": 0.3,
       "camera_rotate_speed": 1,
       "camera_zoom_speed": 1.2,
       "clipping_planes": [],
       "colorbar_object_id": -1,
       "colorbar_scientific": false,
       "custom_data": null,
       "fps": 25,
       "fps_meter": false,
       "grid": [
        -1,
        -1,
        -1,
        1,
        1,
        1
       ],
       "grid_auto_fit": true,
       "grid_color": 15132390,
       "grid_visible": true,
       "height": 512,
       "label_color": 4473924,
       "layout": "IPY_MODEL_72248f300fb840e49e1142d22c12a7b2",
       "lighting": 3,
       "logarithmic_depth_buffer": true,
       "manipulate_mode": "translate",
       "menu_visibility": true,
       "minimum_fps": -1,
       "mode": "view",
       "name": null,
       "object_ids": [
        2963006841408
       ],
       "rendering_steps": 1,
       "screenshot": "",
       "screenshot_scale": 2,
       "snapshot": "",
       "snapshot_type": "full",
       "time": 0,
       "voxel_paint_color": 0
      }
     },
     "ca46ee192bc24c0ebe8798f8ce2cf9e4": {
      "model_module": "@jupyter-widgets/controls",
      "model_module_version": "2.0.0",
      "model_name": "VBoxModel",
      "state": {
       "_dom_classes": [
        "widget-interact"
       ],
       "children": [
        "IPY_MODEL_9698614b54ca475cab54684302d8a3b1",
        "IPY_MODEL_a6775857ab404f6fac4fedbc28363089"
       ],
       "layout": "IPY_MODEL_9a365e3c46c341d3bf25c332ab596cfb"
      }
     },
     "e4d8a70b6c044199830b2138a48c91b9": {
      "model_module": "@jupyter-widgets/controls",
      "model_module_version": "2.0.0",
      "model_name": "SliderStyleModel",
      "state": {
       "description_width": ""
      }
     },
     "eeb2e8ad203b4231bafdb63e59e201d8": {
      "model_module": "@jupyter-widgets/base",
      "model_module_version": "2.0.0",
      "model_name": "LayoutModel",
      "state": {}
     }
    },
    "version_major": 2,
    "version_minor": 0
   }
  }
 },
 "nbformat": 4,
 "nbformat_minor": 4
}
