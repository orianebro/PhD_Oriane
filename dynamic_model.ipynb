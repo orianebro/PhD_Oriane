{
 "cells": [
  {
   "cell_type": "markdown",
   "metadata": {},
   "source": [
    "# Dynamic model"
   ]
  },
  {
   "cell_type": "raw",
   "metadata": {},
   "source": [
    "---\n",
    "title: \"Dynamic model\"\n",
    "author: \"Oriane Braud\"\n",
    "toc: true\n",
    "number-sections: true\n",
    "highlight-style: pygments\n",
    "format:\n",
    "  html: \n",
    "    code-fold: true\n",
    "    geometry: \n",
    "      - top=30mm\n",
    "      - left=30mm\n",
    "jupyter: python3\n",
    "---"
   ]
  },
  {
   "cell_type": "markdown",
   "metadata": {},
   "source": [
    "ReviewNB link: https://app.reviewnb.com/orianebro/PhD_Oriane/blob/main/dynamic_model.ipynb"
   ]
  },
  {
   "cell_type": "code",
   "execution_count": 1,
   "metadata": {},
   "outputs": [],
   "source": [
    "#| echo: false\n",
    "\n",
    "# Ignore warning about depreciated modules\n",
    "import warnings\n",
    "warnings.filterwarnings('ignore', category=DeprecationWarning)"
   ]
  },
  {
   "cell_type": "code",
   "execution_count": 2,
   "metadata": {},
   "outputs": [],
   "source": [
    "#| echo: false\n",
    "\n",
    "# Enable interactive plotting\n",
    "%matplotlib ipympl"
   ]
  },
  {
   "cell_type": "markdown",
   "metadata": {},
   "source": [
    "## Conceptual diagram"
   ]
  },
  {
   "cell_type": "markdown",
   "metadata": {},
   "source": [
    "![Conceptual diagram of shoot FSPM (not final version, some errors)](images/shoot_FSPM_conceptual_diagram_alone.jpg \"Conceptual diagram\")"
   ]
  },
  {
   "cell_type": "markdown",
   "metadata": {},
   "source": [
    "The main stem grows according to the crop model's plant height.  \n",
    "\n",
    "The appearance of a leaf is triggered by fixed phyllochron (different for tillers?).  \n",
    "\n",
    "Cf Fournier et al, 2005 for leaf elongation \n",
    "\n",
    "The angle of the leaf with its axis is leaf-age dependent. The leaf blade curvature depends on the angle with the axis and the leaf length.  \n",
    "\n",
    "The reproductive organs appear from a given thermal time, when the leaves have stopped growing. \n",
    "\n",
    "Leaf senescence is constrained by crop model, as it has a direct influence on LAI (green LAI vs. yellow LAI ?).  \n",
    "\n",
    "The branching pattern is set (Tillers (Zhu et al., 2015)). "
   ]
  },
  {
   "cell_type": "markdown",
   "metadata": {},
   "source": [
    "## Time-dependent parametrization of leaf area\n",
    "\n",
    "$$ \\mathcal{A_normalized} = 2 * |\\int_{0}^{1} \\mathcal{C}(s(u))ds(u)| $$\n",
    "$$ \\mathcal{A} = \\mathcal{A_scaled} = 2 * w * |\\int_{0}^{L} \\mathcal{C}(\\frac{s(u)}{L})d\\frac{s(u)}{L}| $$\n",
    "$$ \\frac{d\\mathcal{A}}{dt} = 2 * w * |\\int_{ds(t)/L} \\mathcal{C}(\\frac{s(u)}{L})d\\frac{s(u)}{L}| $$\n",
    "\n",
    "- $\\mathcal{A}$ : final leaf area (or surface), in $cm^2$ (given by crop model)\n",
    "- $\\frac{d\\mathcal{A}}{dt}$ : gain in area, in $cm^2$, for a given leaf for a given time step $dt$ (given by crop model)  \n",
    "- $\\mathcal{C}$ : curve of the evolution of the leaf width along the leaf, **from tip to base** (literature/expert knowledge/observation)\n",
    "- $s(t)$ : curvilinear abscissa of the midrib, in $cm$, as a function of thermal time $t$, such that: $ ds(t) = \\sqrt{(dx(t))^2+(dy(t))^2} $ (computed from leaf curvature)\n",
    "- $w$ : final maximal width of the leaf, in $cm$ (to fix/vary within a reasonable range)\n",
    "- $L$ : final length of the leaf, in $cm$ (to fix/vary within a reasonable range)\n",
    "- $t$ : thermal time, in $^oC.day$\n"
   ]
  },
  {
   "cell_type": "markdown",
   "metadata": {},
   "source": [
    "The objective is to find, for each growing leaf, at each time step, and for a given leaf area provided to the leaf $\\frac{d\\mathcal{A}}{dt}$, how much length $ds(t)$ is added to the leaf.\n",
    "\n",
    "$$ \\frac{d\\mathcal{A}}{dt} = 2w |\\int_{s(t-1)/L}^{s(t)/L} \\mathcal{C}(\\frac{s(u)}{L})d\\frac{s(u)}{L}| $$\n",
    "\n",
    "According to the Fundamental Theorem of Calculus, $\\mathcal{C}$ being at least $C^0$ on $[0,L]$, $F$ being the antiderivative of $\\mathcal{C}$, we can write:\n",
    "\n",
    "$$ \\frac{d\\mathcal{A}}{dt} = 2w (|F(\\frac{s(t)}{L}) - F(\\frac{s(t-1)}{L})|) $$\n",
    "\n",
    "$$ F(\\frac{s(t)}{L}) = |\\frac{1}{2w} \\frac{d\\mathcal{A}}{dt} + F(\\frac{s(t-1)}{L})| $$\n",
    "\n",
    "Knowing the other variables, we know have to determine $s(t)$ at thermal time $t$."
   ]
  },
  {
   "cell_type": "code",
   "execution_count": 3,
   "metadata": {},
   "outputs": [],
   "source": [
    "#| echo: false\n",
    "# drawing"
   ]
  },
  {
   "cell_type": "markdown",
   "metadata": {},
   "source": [
    "## Apparition and growth of phytomers (stem and leaf)"
   ]
  },
  {
   "cell_type": "markdown",
   "metadata": {},
   "source": [
    "The height of the plant/canopy (here we consider the height of the main stem) is given by the crop model.  \n",
    "The plastochron (i.e. leaf initiation rate, in $leaf^{-1}$) is the time interval between two successive leaves produced at the SAM.  \n",
    "The phyllochron (i.e. leaf emergence rate, in $leaf^{-1}$) is the time interval between two successive leaves emerging from the top of the former leaf sheath.  \n",
    "The time for a leaf to grow is roughly between 1.5 and 2 phyllochrons.  \n",
    "We consider a linear (rough approximation of beta function) growth for the leaf.  \n",
    "\n",
    "- $\\phi$ : phyllochron, in $^oC.day.leaf^{-1}$ (literature)\n",
    "- cur_len_int : current length of growing internodes\n",
    "- fin_len_int : final length of internodes, in $cm$ (literature, bell shaped model too ?)\n",
    "- height : plant height, in $cm$ (given by crop model)\n",
    "- $[s(t)]$ : current length of growing leaves, in $cm$ (computed before)\n",
    "- fin_len_leaf : final length of leaves, in $cm$  (bell shaped model)\n",
    "- leaf expansion duration, as $x * \\phi$, in $^oC.day$ (literature, cf Clerget et al., 2008, etc)  \n",
    "\n",
    "Cf Fournier et al, 2005; Stewart and Dwyer, 1993; Skinner and Nelson, 1995  \n",
    "\n"
   ]
  },
  {
   "cell_type": "markdown",
   "metadata": {},
   "source": [
    "From crop model: "
   ]
  },
  {
   "cell_type": "markdown",
   "metadata": {},
   "source": [
    "## Modifying the MTG of a growing plant"
   ]
  },
  {
   "cell_type": "markdown",
   "metadata": {},
   "source": [
    "There are several ways to conceive the MTG for a growing plant.  \n",
    "\n",
    "At each thermal time step, the turtle visits each element and adds a value to a time series for each (almost) properties of the MTG.   \n",
    "\n",
    "**OR**   \n",
    "\n",
    "At each thermal time step, the MTG is replicated and the growing elements ar modified, and new elements are added if needed.  "
   ]
  },
  {
   "cell_type": "code",
   "execution_count": 4,
   "metadata": {},
   "outputs": [
    {
     "data": {
      "application/vnd.jupyter.widget-view+json": {
       "model_id": "6aeaa81c0349413586fc8c055689e39e",
       "version_major": 2,
       "version_minor": 0
      },
      "text/plain": [
       "Plot(antialias=3, axes=['x', 'y', 'z'], axes_helper=1.0, axes_helper_colors=[16711680, 65280, 255], background…"
      ]
     },
     "execution_count": 4,
     "metadata": {},
     "output_type": "execute_result"
    }
   ],
   "source": [
    "## Imports\n",
    "\n",
    "# from installed packages\n",
    "import numpy as np\n",
    "import matplotlib.pyplot as plt\n",
    "from openalea.plantgl.all import Vector3\n",
    "from oawidgets.plantgl import *\n",
    "\n",
    "# from archicrop\n",
    "from archicrop.cereals_leaf import parametric_leaf\n",
    "from archicrop.plant_shape import geometric_dist, bell_shaped_dist, compute_leaf_area\n",
    "from archicrop.plant_design import leaf_azimuth\n",
    "from archicrop.cereals import build_shoot\n",
    "from archicrop.display import display_mtg, build_scene, display_scene\n",
    "\n",
    "# Enable plotting with PlantGL\n",
    "%gui qt\n",
    "\n",
    "# Set nice color for plants\n",
    "nice_green=Color3((50,100,0))\n",
    "\n",
    "## Code for generating a 3D cereal shoot from descritive parameters\n",
    "def generate_plant():\n",
    "    # Parameters \n",
    "    height=1000                 # from crop model\n",
    "    nb_phy=17                   # fixed max nb of phytomers\n",
    "    max_leaf_length=85.53 \n",
    "    insertion_angle=40\n",
    "    scurv=0.7\n",
    "    curvature=80\n",
    "    phyllotactic_angle=180\n",
    "    spiral=False\n",
    "    \n",
    "    diam_base=2.5\n",
    "    diam_top=1.0\n",
    "    # Lejeune and Bernier formula + col =\n",
    "    nb_young_phy = int(round((nb_phy - 1.95) / 1.84 / 1.3))\n",
    "    # stem diameters\n",
    "    diameter = ([diam_base] * nb_young_phy + np.linspace(diam_base, diam_top, nb_phy - nb_young_phy).tolist()) \n",
    "    \n",
    "    # Functions calls\n",
    "    insertion_heights=np.array(geometric_dist(height, \n",
    "                                              nb_phy, \n",
    "                                              q=1.25)) # further separate stem and pseudo stem, cf simple maize\n",
    "    \n",
    "    leaf_lengths=np.array(bell_shaped_dist(max_leaf_length=max_leaf_length, \n",
    "                                           nb_phy=nb_phy, \n",
    "                                           rmax=0.7, \n",
    "                                           skew=0.15)) # plant area --> max leaf length\n",
    "    # leaf_areas=bell_shaped_dist(plant_area=1, nb_phy=15, rmax=0.7, skew=0.15) # cf blade_dimension\n",
    "    \n",
    "    a_leaf = parametric_leaf(nb_segment=10, \n",
    "                             insertion_angle=insertion_angle, \n",
    "                             scurv=scurv, \n",
    "                             curvature=curvature, \n",
    "                             alpha=-2.3)\n",
    "    \n",
    "    leaf_shapes = [a_leaf for l in leaf_lengths] # possible to replace leaf_length by nb_phy or...\n",
    "    \n",
    "    leaf_azimuths = leaf_azimuth(size=len(leaf_lengths), \n",
    "                                 phyllotactic_angle=phyllotactic_angle, \n",
    "                                 phyllotactic_deviation=0, \n",
    "                                 plant_orientation=0, \n",
    "                                 spiral=spiral)\n",
    "    \n",
    "    shoot, g = build_shoot(stem_diameters=diameter, \n",
    "                                  insertion_heights=insertion_heights, \n",
    "                                  leaf_lengths=leaf_lengths, \n",
    "                                  leaf_areas=None, \n",
    "                                  leaf_shapes=leaf_shapes, \n",
    "                                  leaf_azimuths=leaf_azimuths)\n",
    "    return g\n",
    "\n",
    "g = generate_plant()\n",
    "\n",
    "# Build and display scene\n",
    "scene, nump = build_scene(g, \n",
    "                          leaf_material=Material(nice_green), \n",
    "                          stem_material=Material(nice_green))\n",
    "# display_scene(scene_single) # display in separate window\n",
    "PlantGL(scene) # display in notebook"
   ]
  },
  {
   "cell_type": "code",
   "execution_count": 5,
   "metadata": {},
   "outputs": [
    {
     "data": {
      "application/vnd.jupyter.widget-view+json": {
       "model_id": "0aab79bc10ba47df9571e6f2d442a268",
       "version_major": 2,
       "version_minor": 0
      },
      "text/plain": [
       "interactive(children=(IntSlider(value=1000, description='time', max=2000, min=20, step=100), Output()), _dom_c…"
      ]
     },
     "metadata": {},
     "output_type": "display_data"
    },
    {
     "data": {
      "text/plain": [
       "<function __main__.grow_plant_and_display_in_NB(g, time)>"
      ]
     },
     "execution_count": 5,
     "metadata": {},
     "output_type": "execute_result"
    }
   ],
   "source": [
    "from ipywidgets import interact, interactive, IntSlider, fixed\n",
    "from archicrop.dynamic import grow_plant, grow_plant_and_display\n",
    "\n",
    "def grow_plant_and_display_in_NB(g, time):\n",
    "    g, scene, nump=grow_plant_and_display(g, time)\n",
    "    w=PlantGL(scene, group_by_color=True)\n",
    "    w.wireframe=True\n",
    "    return w\n",
    "\n",
    "# max_time = max(g.property('end_tt').values())\n",
    "interact(grow_plant_and_display_in_NB, g=fixed(g), time=IntSlider(min=20, max=2000, step=100, value=1000))"
   ]
  },
  {
   "cell_type": "code",
   "execution_count": 6,
   "metadata": {},
   "outputs": [],
   "source": [
    "from oawidgets.mtg import plot as MTGw\n",
    "# MTGw(g, properties='label')\n",
    "# g.display()"
   ]
  },
  {
   "cell_type": "code",
   "execution_count": 7,
   "metadata": {},
   "outputs": [
    {
     "data": {
      "application/vnd.jupyter.widget-view+json": {
       "model_id": "08e164db5acc40ddbfe16263df133a36",
       "version_major": 2,
       "version_minor": 0
      },
      "image/png": "[encoded data removed]",
      "text/html": [
       "\n",
       "            <div style=\"display: inline-block;\">\n",
       "                <div class=\"jupyter-widgets widget-label\" style=\"text-align: center;\">\n",
       "                    Figure\n",
       "                </div>\n",
       "                <img src='data:image/png;base64,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' width=640.0/>\n",
       "            </div>\n",
       "        "
      ],
      "text/plain": [
       "Canvas(toolbar=Toolbar(toolitems=[('Home', 'Reset original view', 'home', 'home'), ('Back', 'Back to previous …"
      ]
     },
     "metadata": {},
     "output_type": "display_data"
    }
   ],
   "source": [
    "g = generate_plant()\n",
    "\n",
    "# For loop for generating plants at different stages\n",
    "for time in [0,84,136,249,385,465,598,672,723,862,942,1025,1148,1295,1363,1472,1538,1618,1702,1899,1988]:\n",
    "    LAs = compute_leaf_area(grow_plant(g, time=time))\n",
    "\n",
    "nb_phy=17\n",
    "plt.clf()\n",
    "plt.plot(range(0,nb_phy), LAs)\n",
    "plt.show()"
   ]
  },
  {
   "cell_type": "markdown",
   "metadata": {},
   "source": [
    "## Fit plant growth and development to LAI(t) and height(t) curves"
   ]
  },
  {
   "cell_type": "markdown",
   "metadata": {},
   "source": [
    "LAI(t) curve"
   ]
  },
  {
   "cell_type": "code",
   "execution_count": 8,
   "metadata": {},
   "outputs": [],
   "source": [
    "def linear_LA(x, slope=5, intercept=0.0):\n",
    "    \"\"\"\n",
    "    Generate a linear curve.\n",
    "\n",
    "    Args:\n",
    "    - x: Input values\n",
    "    - slope: Slope of the line\n",
    "    - intercept: Intercept of the line\n",
    "\n",
    "    Returns:\n",
    "    - y: Output values corresponding to the linear curve\n",
    "    \"\"\"\n",
    "    y = slope * x + intercept\n",
    "    return y"
   ]
  },
  {
   "cell_type": "markdown",
   "metadata": {},
   "source": [
    "Two constraints :\n",
    "\n",
    "$$ \\mathcal{A} = \\mathcal{A_scaled} = 2 w |\\int_{L}^{0} \\mathcal{C}(\\frac{s(u)}{L})d\\frac{s(u)}{L}| $$\n",
    "where $$\\mathcal{C}(x) = \\alpha x^2 - 2 (\\alpha + \\sqrt{-\\alpha}) x + 2 \\sqrt{-\\alpha} + \\alpha$$\n",
    "\n",
    "and\n",
    "$$ \\text{leaf length} = L  e^{-\\log(skew) * (2 (z - zmax)^2 + (z - zmax)^3)} $$\n"
   ]
  },
  {
   "cell_type": "code",
   "execution_count": 10,
   "metadata": {},
   "outputs": [
    {
     "name": "stdout",
     "output_type": "stream",
     "text": [
      "20\n",
      "20\n",
      "Optimal Parameters: [82.13848277]\n"
     ]
    },
    {
     "data": {
      "application/vnd.jupyter.widget-view+json": {
       "model_id": "08e164db5acc40ddbfe16263df133a36",
       "version_major": 2,
       "version_minor": 0
      },
      "image/png": "[encoded data removed]",
      "text/html": [
       "\n",
       "            <div style=\"display: inline-block;\">\n",
       "                <div class=\"jupyter-widgets widget-label\" style=\"text-align: center;\">\n",
       "                    Figure 1\n",
       "                </div>\n",
       "                <img src='data:image/png;base64,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' width=640.0/>\n",
       "            </div>\n",
       "        "
      ],
      "text/plain": [
       "Canvas(toolbar=Toolbar(toolitems=[('Home', 'Reset original view', 'home', 'home'), ('Back', 'Back to previous …"
      ]
     },
     "metadata": {},
     "output_type": "display_data"
    }
   ],
   "source": [
    "from scipy.optimize import curve_fit\n",
    "\n",
    "# Define your parametric model as a Python function\n",
    "def parametric_model(time, max_leaf_length):\n",
    "    \"\"\"\n",
    "    Define your parametric model here.\n",
    "\n",
    "    Args:\n",
    "    - x: Input values\n",
    "    - param1, param2, ...: Parameters of your model\n",
    "\n",
    "    Returns:\n",
    "    - y: Output values corresponding to the model\n",
    "    \"\"\"\n",
    "    \n",
    "    # Compute your model's output based on input values and parameters\n",
    "    ## Code for generating a 3D cereal shoot from descritive parameters\n",
    "    # Parameters \n",
    "    diam_base=2.5\n",
    "    diam_top=1.0\n",
    "    nb_phy=17                   # fixed max nb of phytomers\n",
    "    # Lejeune and Bernier formula + col =\n",
    "    nb_young_phy = int(round((nb_phy - 1.95) / 1.84 / 1.3))\n",
    "    # stem diameters\n",
    "    diameter = ([diam_base] * nb_young_phy + np.linspace(diam_base, diam_top, nb_phy - nb_young_phy).tolist()) \n",
    "    height=1000                 # from crop model\n",
    "    insertion_angle=40\n",
    "    scurv=0.7\n",
    "    curvature=80\n",
    "    phyllotactic_angle=180\n",
    "    spiral=False\n",
    "    \n",
    "    # Functions calls\n",
    "    insertion_heights=np.array(geometric_dist(height, \n",
    "                                              nb_phy, \n",
    "                                              q=1.25)) # further separate stem and pseudo stem, cf simple maize\n",
    "    \n",
    "    leaf_lengths=np.array(bell_shaped_dist(max_leaf_length=max_leaf_length, \n",
    "                                           nb_phy=nb_phy, \n",
    "                                           rmax=0.7, \n",
    "                                           skew=0.15)) # plant area --> max leaf length\n",
    "    # leaf_areas=bell_shaped_dist(plant_area=1, nb_phy=15, rmax=0.7, skew=0.15) # cf blade_dimension\n",
    "    \n",
    "    a_leaf = parametric_leaf(nb_segment=10, \n",
    "                             insertion_angle=insertion_angle, \n",
    "                             scurv=scurv, \n",
    "                             curvature=curvature, \n",
    "                             alpha=-2.3)\n",
    "    \n",
    "    leaf_shapes = [a_leaf for l in leaf_lengths] # possible to replace leaf_length by nb_phy or...\n",
    "    \n",
    "    leaf_azimuths = leaf_azimuth(size=len(leaf_lengths), \n",
    "                                 phyllotactic_angle=phyllotactic_angle, \n",
    "                                 phyllotactic_deviation=0, \n",
    "                                 plant_orientation=0, \n",
    "                                 spiral=spiral)\n",
    "    \n",
    "    shoot, g = build_shoot(stem_diameters=diameter, \n",
    "                                  insertion_heights=insertion_heights, \n",
    "                                  leaf_lengths=leaf_lengths, \n",
    "                                  leaf_areas=None, \n",
    "                                  leaf_shapes=leaf_shapes, \n",
    "                                  leaf_azimuths=leaf_azimuths)\n",
    "\n",
    "    y = []\n",
    "    for t in time:\n",
    "        y.append(sum(compute_leaf_area(grow_plant(g, time=t))))\n",
    "\n",
    "    \n",
    "    # # Build and display scene\n",
    "    # scene, nump = build_scene(g, \n",
    "    #                           leaf_material=Material(nice_green), \n",
    "    #                           stem_material=Material(nice_green))\n",
    "    # # display_scene(scene_single) # display in separate window\n",
    "    # PlantGL(scene) # display in notebook\n",
    "    return y\n",
    "\n",
    "# Prepare your data\n",
    "x_data = []\n",
    "y_data = []\n",
    "for t in range(0,2000,100):\n",
    "    x_data.append(t)\n",
    "    y_data.append(linear_LA(t))\n",
    "x_data = np.array(x_data)  # Your input data\n",
    "y_data = np.array(y_data)  # Your output data\n",
    "print(len(x_data))\n",
    "print(len(y_data))\n",
    "\n",
    "# Use scipy.optimize.curve_fit to fit your model to the data and obtain optimal parameters\n",
    "max_leaf_length = 70\n",
    "initial_guess = [max_leaf_length]  # Initial guess for your parameters\n",
    "optimal_params, covariance = curve_fit(f=parametric_model, xdata=x_data, ydata=y_data, p0=initial_guess)\n",
    "\n",
    "# Print the optimal parameters\n",
    "print(\"Optimal Parameters:\", optimal_params)\n",
    "\n",
    "# Optionally, visualize the fit\n",
    "plt.clf()\n",
    "plt.scatter(x_data, y_data, label='Data')\n",
    "plt.plot(x_data, parametric_model(x_data, *optimal_params), color='red', label='Fitted Curve')\n",
    "plt.xlabel('x')\n",
    "plt.ylabel('y')\n",
    "plt.legend()\n",
    "plt.show()"
   ]
  },
  {
   "cell_type": "markdown",
   "metadata": {},
   "source": [
    "## Next steps\n",
    "\n",
    "- Bending dynamics of leaves and tillers"
   ]
  }
 ],
 "metadata": {
  "kernelspec": {
   "display_name": "oa3",
   "language": "python",
   "name": "oa3"
  },
  "language_info": {
   "codemirror_mode": {
    "name": "ipython",
    "version": 3
   },
   "file_extension": ".py",
   "mimetype": "text/x-python",
   "name": "python",
   "nbconvert_exporter": "python",
   "pygments_lexer": "ipython3",
   "version": "3.12.2"
  },
  "widgets": {
   "application/vnd.jupyter.widget-state+json": {
    "state": {
     "06047af097d64298b0caafc675b1743a": {
      "model_module": "@jupyter-widgets/base",
      "model_module_version": "2.0.0",
      "model_name": "LayoutModel",
      "state": {}
     },
     "08e164db5acc40ddbfe16263df133a36": {
      "model_module": "jupyter-matplotlib",
      "model_module_version": "^0.11",
      "model_name": "MPLCanvasModel",
      "state": {
       "_data_url": "data:image/png;base64,iVBORw0KGgoAAAANSUhEUgAAAyAAAAJYCAYAAACadoJwAAAgAElEQVR4XuzdCbyXY/7/8XfLSQtFE5LtWGp+TQkh6VS2KBGVyr6kjEQ6DP0RkiUjS4oWamQdNJGEJsmWo5EaREWZOkSbtBxtOi3/+7pvJy3n1P091/X9fu/v9/u6H495zEznvj/3dT2vD12fc9/3dZXZ4h3iQAABBBBAAAEEEEAAAQQSIFCGAiQBytwCAQQQQAABBBBAAAEEfAEKEBIBAQQQQAABBBBAAAEEEiZAAZIwam6EAAIIIIAAAggggAACFCDkAAIIIIAAAggggAACCCRMgAIkYdTcCAEEEEAAAQQQQAABBChAyAEEEEAAAQQQQAABBBBImAAFSMKouRECCCCAAAIIIIAAAghQgJADCCCAAAIIIIAAAgggkDABCpCEUXMjBBBAAAEEEEAAAQQQoAAhBxBAAAEEEEAAAQQQQCBhAhQgCaPmRggggAACCCCAAAIIIEABQg4ggAACCCCAAAIIIIBAwgQoQBJGzY0QQAABBBBAAAEEEECAAoQcQAABBBBAAAEEEEAAgYQJUIAkjJobIYAAAggggAACCCCAAAUIOYAAAggggAACCCCAAAIJE6AASRg1N0IAAQQQQAABBBBAAAEKEHIAAQQQQAABBBBAAAEEEiZAAZIwam6EAAIIIIAAAggggAACFCDkAAIIIIAAAggggAACCCRMgAIkYdTcCAEEEEAAAQQQQAABBChAyAEEEEAAAQQQQAABBBBImAAFSMKouRECCCCAAAIIIIAAAghQgJADCCCAAAIIIIAAAgggkDABCpCEUXMjBBBAAAEEEEAAAQQQoAAhBxBAAAEEEEAAAQQQQCBhAhQgCaPmRggggAACCCCAAAIIIEABQg4ggAACCCCAAAIIIIBAwgQoQBJGzY0QQAABBBBAAAEEEECAAoQcQAABBBBAAAEEEEAAgYQJUIAkjJobIYAAAggggAACCCCAAAUIOYAAAggggAACCCCAAAIJE6AASRg1N0IAAQQQQAABBBBAAAEKEHIAAQQQQAABBBBAAAEEEiZAAZIwam6EAAIIIIAAAggggAACFCDkAAIIIIAAAggggAACCCRMgAIkYdTcCAEEEEAAAQQQQAABBChAyAEEEEAAAQQQQAABBBBImAAFSMKouRECCCCAAAIIIIAAAghQgJADCCCAAAIIIIAAAgggkDABCpCEUXMjBBBAAAEEEEAAAQQQoAAhBxBAAAEEEEAAAQQQQCBhAhQgCaPmRggggAACCCCAAAIIIEABQg4ggAACCCCAAAIIIIBAwgQoQBJGzY0QQAABBBBAAAEEEECAAoQcQAABBBBAAAEEEEAAgYQJUIAkjJobIYAAAggggAACCCCAAAUIOYAAAggggAACCCCAAAIJE6AASRg1N0IAAQQQQAABBBBAAAEKEHIAAQQQQAABBBBAAAEEEiZAAZIwam6EAAIIIIAAAggggAACFCDkAAIIIIAAAggggAACCCRMgAIkYdTcCAEEEEAAAQQQQAABBChAyAEEEEAAAQQQQAABBBBImAAFSMKouRECCCCAAAIIIIAAAghQgJADCCCAAAIIIIAAAgggkDABCpCEUXMjBBBAAAEEEEAAAQQQoAAhBxBAAAEEEEAAAQQQQCBhAhQgCaPmRggggAACCCCAAAIIIEABQg4ggAACCCCAAAIIIIBAwgQoQBJGzY0QQAABBBBAAAEEEECAAoQcQAABBBBAAAEEEEAAgYQJUIAkjJobIYAAAggggAACCCCAAAUIOYAAAggggAACCCCAAAIJE6AASRg1N0IAAQQQQAABBBBAAAEKEHIAAQQQQAABBBBAAAEEEiZAAZIwam6EAAIIIIAAAggggAACFCDkAAIIIIAAAggggAACCCRMgAIkYdTcCAEEEEAAAQQQQAABBChAyAEEEEAAAQQQQAABBBBImAAFSMKod3+jZcuWacKECcrOzlalSpV2fwFnIIAAAggggAACCCRUYN26dcrPz1fLli1Vo0aNhN47XW5GARKhkXzxxRd16aWXRqhFNAUBBBBAAAEEEECgOIEXXnhBl1xyCTilEKAAKQVavC7Jy8tT06ZNZRK6bt268boNcRFAAAEEEEAAAQRKKTB79mz/F8Yff/yxcnJyShklsy+jAInQ+P/3v//Vcccdp+nTp6thw4YRahlNQQABBBBAAAEEEDACzNfs84ACxN7QWQQS2hklgRBAAAEEEEAAgbgIMF+zZ6UAsTd0FoGEdkZJIAQQQAABBBBAIC4CzNfsWSlA7A2dRSChnVESCAEEEEAAAQQQiIsA8zV7VgoQe0NnEUhoZ5QEQgABBBBAAAEE4iLAfM2elQLE3tBZBBLaGSWBEEAAAQQQQACBuAgwX7NnpQCxN3QWIWxCb9q0SUuWLNH69eu1efNmZ/cnEAKlFShbtqwqVqyo/fffX+XKlSttGK5DAAEEEEAg8gJh52uR70gSG0gBkkT8HW8dJqFN8fHDDz/4xYeZ9DHZi9AAZnBTTF6aYtgUIYcccgh5mcG5QNcRQACBdBcIM19LdwPb/lGA2Ao6vD5MQi9cuFCrVq3S3nvvrZo1a6pMmTIOW0AoBEonsGXLFi1evFgrV65UtWrVVKtWrdIF4ioEEEAAAQQiLhBmvhbxLiS9eRQgSR+CPxoQJqHnzZunwsJC1alTh+IjQmNHUyRThMyZM0dZWVk6/PDDIUEAAQQQQCAtBcLM19Ky4w47RQHiENM2VJiE/u677/zbHHnkkba343oEnAuQn85JCYgAAgggEDGBMPO1iDU5cs2hAInQkIRJaCZ4ERowmrKTAPlJUiCAAAIIpLtAmPlauhvY9o8CxFbQ4fVhEpoJnkNwQjkXID+dkxIQAQQQQCBiAmHmaxFrcuSaQwESoSEJk9BM8CI0YDSFJyDkAAIIIIBAxgmEma9lHEqMHaYAiREsnqeHSWgKkHiOALFtBchPW0GuRwABBBCIukCY+VrU+5Ds9lGAJHsEtrl/mITOlAneBx98oFNPPXWrTvny5f3lXc3qSjk5OerSpYvq169fqtEzzm+88YauvPJKZWdnlyoGFxUvkCn5yfgjgAACCGSuQJj5WubqhOs5BUg4p4ScFSahM2WCV1SAmELjlFNO8Te5M/ufzJgxQ6+++qr/v++8807dfffdMY/NiBEjdPXVV+v999/3Y3O4E8iU/HQnRiQEEEAAgVQTCDNfS7U+Jbq9FCCJFt/F/cIkdDwneLMWFmjCzMUqWF+oqhWz1Kp+TdU9oGpShIoKkOHDh6tr167btcEUHxdccIEmTJigp59+Wp07d46pjRQgMXHFdHI88zOmhnAyAggggEBmCHh7UOmuu6S2baXjjktIn8PM1xLSkBS+CQVIhAYvTELHY4KXv2yNeo2eoan5y3fSaJRdXf07NFB2jSoJldpVAWIaYooQ8/qUeS1r/vz5/qaMjz76qMaOHavZs2f7Pz/44IN10UUX+U9KKlSo4LffPDHp27fvTn0ZOXKk/0rW5MmTNXToUE2ZMkWLFi3SnnvuqZNPPln9+vXTn//854QapOLN4pGfqehAmxFAAAEEEiRg/k43b0PstZc0bpy8v7TjfuMw87W4NyLFb0ABEqEBDJPQrid4873io/2QPK1YW1iixD6VszSme05Ci5DdFSCmsVdddZVM4TBr1izVrVtXBxxwgFq2bKmjjjpKlStX1scff6yXX35Zl1xyiZ577jm/f+YVrkGDBukf//iHbr/9dv86czRp0sT/vqRHjx766quv/FezDjzwQP3www968skn/V2+Z86cqf322y9CGRO9prjOz+j1kBYhgAACCERGwPv7XD17Bs2p6r2x4b1arYYN4968MPO1uDcixW9AARKhAQyT0K4neJ2GTSn2yceOLOZJyKhuJyVMK0wBMmDAAN10003+U49zzz1Xa9asUZUq2z+pMU87zH8WLFjgFxTm2NUrWMXFmDNnjl/UmKcnt912W8IMUvFGrvMzFQ1oMwIIIIBAAgSef166/PLgRhUrynsvW2rePAE3lsLM1xLSkBS+CQVIhAYvTEK7nOCZbz5aD5ocWmB8z2YJ+yYkTAFSVEi88MIL/lOOomPTpk369ddftXHjRv/piHmFqqhI2V0Bsi3G6tWr9dtvv/lPP0477TQdeeSReu2110J7ZeKJLvMzE/3oMwIIIIBACAHzqlW7dpL3973KlZNef10655wQF7o5Jcx8zc2d0jcKBUiExjZMQruc4A2YOEcDJ80NLZDborZyW9QJfb7NiWEKkKInIGZJ3TZt2vgfpZunHdOmTVNh4favlD377LPeL0qC35Ts6gmI+e7j1ltv9V4jHacVK1Zs1wWzLPB7771n0620v9ZlfqY9Fh1EAAEEEIhdwFumX61ayfsNYXCt90tI77eQscexuCLMfM0ifEZcSgESoWEOk9AuJ3h9x83UyLz80AKdc7LVp0290OfbnBimADGrXz3zzDP+R+crV65U06ZN1ahRI11xxRU66KCDtMcee+inn37yPy4v+sh8VwWIWer3mGOO0Y8//qgbb7xR9erV8z9CL1u2rHJzc1WjRg2ZdnGULOAyP3FGAAEEEEBgO4Hp0+VtEibvNYfgjx9/XLr++oQjhZmvJbxRKXZDCpAIDViYhHY5wUvlJyBmlatDDz1U1atX17x58/yCYdiwYVq+fLkqVaq0dVTNU5FW3m9Kti1AzAfoZmnfHfcB+fLLL/0CZNtziwLVqlVLderUoQDZzT8vLvMzQv9o0hQEEEAAgWQLfPON1KyZtGxZ0JJ77pG3zGVSWhVmvpaUhqXQTSlAIjRYYRLa5QQvVb8BKSgoUKdOnfxXroperbr55pv95XOXLl269UN08y2IWRVr0qRJ2xUVZmUsszyv+Z6jnXmH9Pfj66+/9j8233FvEXMP8xTFfEvCE5Bd/wPjMj8j9I8mTUEAAQQQSKaAtyKl95qDvBVlglaYla+8hWi8NfiT0qow87WkNCyFbkoBEqHBCpPQrid4UV8Fq2gndPMheNFO6KNHj/b/t1mVyuzxYQ6zf4cpEMwrWJdddpnWrVunV155xd9B3bhu+1Rj7ty5/tOME044Qddee63/xOTEE0/09w0xBciSJUt0ww03+Mv6fvrpp963ba9rn3328X9OAUIBEqF/ZdAUBBBAIP0Ffv45ePLx7bdBX833nN4S/N770Unre5j5WtIalyI3pgCJ0ECFSWjXBYjZhLBdhPcBKRqect4qF1W9Nb7NXh3mWw/zClX9+vW3Gz1TcNx///0yBYZ5Natjx466+uqr/fN2fK1q8ODB/saF33//vbeIxqatP//f//7nv85l9hAxH7I3btxYDz30kP8NiDkoQChAIvSvDJqCAAIIpLeA98aD/82H94tE//CW3Nerr0rlyye132Hma0ltYArcnAIkQoMUJqFdFyCm+1HcCT1Cw0JTYhCIR37GcHtORQABBBBIFwHvTQaddZb04YdBj0wh8vbbwZ4fST7CzNeS3MTI354CJEJDFCah4znBm72oQBNmLtaqdYWqVilLLevVTNi+HxEaBppiIRDP/LRoFpcigAACCKSSgFlK//zz5a2JH7T6uOPkrYMf7HYegSPMfC0CzYx0EyhAIjQ8YRKaCV6EBoym7CRAfpIUCCCAAAJWAt63m956+sH+Hub4v/+TPvpI2ndfq7AuLw4zX3N5v3SMRQESoVENk9BM8CI0YDSFAoQcQAABBBBwJ+AtOOOvcGX29zDHIYfI+yhT3iow7u7hIFKY+ZqD26R1CAqQCA1vmISmAInQgNEUChByAAEEEEDAnUDfvvKWuAzimScepvjwVq2M2hFmvha1NketPRQgERqRMAlNARKhAaMpFCDkAAIIIICAG4FBg4KnH+Yw33q8/77UsKGb2I6jhJmvOb5l2oWjAInQkIZJaAqQCA0YTaEAIQcQQAABBOwFzPce3h5e/mFWufI2Glbz5vZx4xQhzHwtTrdOm7AUIBEayjAJTQESoQGjKRQg5AACCCCAgJ2AWemqXTt5m3IF+3t4m//q7LPtYsb56jDztTg3IeXDU4BEaAjDJDQFSIQGjKZQgJADCCCAAAKlF/jgA6lVK+m334IY5knIJZeUPl6CrgwzX0tQU1L2NhQgERq6MAlNARKhAaMpFCDkAAIIIIBA6QSmTw82F/z11+B6s/LV9deXLlaCrwozX0twk1LudhQgERqyMAlNARKhAaMpFCDkAAIIIIBA7ALffCM1ayYtWxZce8890p13xh4nSVeEma8lqWkpc1sKkAgNVZiEpgCJ0IDRFAoQcgABBBBAIDaBH36QmjaVFiwIrsvNlR59VCpTJrY4STw7zHwtic1LiVtTgERomMIkNAVIMGBXXnmlPvDeHc3Pz0/6CJo2HHbYYRo5cqTfrkw+yM9MHn36jgACCOxG4Oefgycf334bnGh2PH/6aals2ZSiCzNfS6kOJaGxFCBJQC/plmESOhMmeKawONW8F1rMUaVKFa1evbrYAuRR7zco1atX36kIWL58uQZ564ufcsop/n9cH6UpQN731jcfMmSIPvnkE/3s/Qu5cuXKOuqoo9S+fXv99a9/lelnKh6ZkJ+pOC60GQEEEEi6QEFB8M3Hf/8bNOXcc6VXXw1WvkqxI8x8LcW6lPDmUoAknLzkG4ZJ6EyY4BUVIF26dNmpYMjKytIFF1zgLZjxm7di3yZ/4l50HHTQQTryyCP9JyPbHsasdu3a6tOnj7fB6t3ORzzWAuTGG2/UY4895rfJ9CU7O9svqj72dnwdO3as2rZtq1GjRjlvZyICZkJ+JsKReyCAAAJpJbBunXTWWdKHHwbdMoXI228He36k4BFmvpaC3UpokylAEsq965uFSehMmOAVFSDDhw9X165dQ49QKhQgTzzxhHr06OE/pTH9K7/Db37+97//+cXHbbfdFrrfuzrxV291kb322stJrDBBMiE/wzhwDgIIIIDA7wKFhdL550tmvw9zHH+89N578v5ySlmiMPO1lO1cghpOAZIg6DC3CZPQmTDBC1OA7PgNSJliPl479NBD9cwzzxT7OtcV3nun5mfmWLt2rR588EG9/PLL/jcl1apV85Ylb6V+/frJFDXbHjNmzJB5gjFlyhTtueee6tChg7p37+6/PrW7b0DWr1+vQw45xC8IZs+erQoVKuw2LczTEfPaWFFbiy4wT3L69u2rLVu2bI1hzjP58Z73L/abbrpJkydP1uGHH+4XO7neR36mzY0bN97unkU5179/f91yyy3+z8yTJfPKmunPnDlzVKlSJb8NxqNu3bq7bHMm5OduB40TEEAAAQQCgc2bg+88zP4e5vi//5P3l5NUo0ZKC4WZr6V0BxPQeAqQBCCHvUWYhM6ECV5RATJgwABdeuml2/GZSX9F75HtjgXIC96/3G644Qbtv//+6t27t3+NOfekk07y/r33gm6++WZvo9V2/jcW5jjiiCP8n23YsMEvUD7//HOZV75MIfGDt0LH4MGD/ULBjEmN3/9FaZ5OHHfccd5CHWW8pcqv9//8lVdekSkszPW7K0AmTZqkFi1axPQqWKwFiCmQzPcjp59+ut+/jRs3+kXSgQceqGuvvdZbZt1bZ32bw7iYb2dMn4uKrY4dO3ob0b6uyy67TI0aNdIvv/zif6+yZs0affbZZ/6rYyUdmZCfYf955jwEEEAgowXML8h69gz29zCH9ws4711j6eCDU54lzHwt5TsZ5w5QgMQZOJbwYRI6EyZ4u/oI3UygzeS/uFWwSvMK1kMPPaTbb79dH330kT9hLzq++OIL7ynx8f5TgQceeMD/4wsvvNB/PWratGlq2LCh/2eF3qPl5s2b6z//+c9uCxDTdlMkvfbaa34xFOaItQD50Hu/1jwZueuuu7YLb57omPxauHDh1te+Nnu/mTJPZExBYT6KN8e//vUvderUyf9vU7gUHT/99JP+8pe/qHXr1nrppZdKbHom5GeYceMcBBBAIOMFvL+LvA8vA4Z99w2Kjzp10oIlzHwtLToax05QgMQRN9bQYRJ6lxO8Sy6RzOY+UTnMo9YXX4y5NUUFiHmN6Czz0do2x/95MU2h4aoAMYWEeRXqzTff3KmdzbylAs1TFPNbf/Na0t577+2/wjRx4sTtzjWvbl100UW7LUDuv/9+3XHHHXr33Xf9JxRhjtIUIGbVr3322We78M8//7wuv/xyjR8/3n+9zBym6DjttNP8b1GKvrUxT4hMMWWepOx4XOLll8lRs2pXSQcFSJhR5RwEEEAgzQW813j9px/mqFpV3uow0rHHpk2nw8zX0qazceoIBUicYEsTNkxC73KC570etHV5u9I0wPU15inB9OkxRy3NNyDmJqV5AmJW0VpnVuco4TBPCL7//nstXrxYBxxwgP/0ZcfXmL788ksdc8wxuy1Aip6AjBkzxl/pKswRawHy1Vdf+a9M7XiYVbbM62mmwDDFiDlM0WFeTzN9M8WVOcxTDvN9yq4OU4yVLWHNdgqQMKPKOQgggEAaC5jvPbxXeP3DrHI1YYK8VwXSqsNh5mtp1eE4dIYCJA6opQ0ZJqEz6QnIrlbBcvUExHxPYp6C3HPPPcUOm/l5U2/H1kWLFqlWrVr+ClbmA+1tD/O61rHeb3bi8Q2I2eDw5JNP3ukj9DvvvFP33XdfsR+h//jjj8X2xTylMU96lixZonLlyqlmzZr+E5BXzTrsvx/mCZP5Luapp54qMY3N05viPvo3F1CAlPaffq5DAAEE0kDArHRlXjH2flHl7+/hfU+os89Og45t34Uw87W067TjDlGAOAa1CRcmoTNhglfaJyAHex+2mY/Ld9wHxHw8bvYHKW4fEPPRufmO45vdvLpmfutvVscy34mU9hUs87G6aaOJY54ymD1NdneY4shcY/YH2fYwr0P985//jKkAeeutt3TOOef433Dsscce/tMQU3wUfZhv4rdp08b3M69xhWnfju3PhPzc3ZjxcwQQQCAjBcweHy1bytuoS95vqYKVry6+OC0pwszX0rLjDjtFAeIQ0zZUmITOhAleaQsQ89t7M7E2r0RtexS9PmU+AB84cOB2PzMfmJuP0It7emGWuF22bJn37Zz38Zx3mE0DzcfZpf0I3cQoeg3LvP40bNgw/0nEtse8efP8D91vvfXWrfc032qY18DMcrjmMEsF16tXz18+uLhleEt6AmJWxDKvkZnvWIyT+RbFPA0x/7voMMXJxd5fGCVt2rh06VLtt99+JaZ6JuSn7T/nXI8AAgiknYDZ3dxbrl3e3lP+4e15peuuS7tuFnUozHwtbTvvqGMUII4gXYQJk9CZMMErbQFiluw1TwXM5LmOt9KG+YDc/EbfHOYpgnm1yKwO9ac//Unm1aYTTzzR31H9jDPO8PfMMKs+mdetzG/+58+f7z91MCtCmVedzDF37lx/ZSzz/YN5FcvEiWUZ3qIcMXtymELoz3/+sx/ffOdhlrjNy8tT0fchJq45iiyaNGki89TDfABulsQ1/ZnufV8TSwFi4l3n/YVgXm0zhY+JN2LEiO1S18Qzr2qZ+5955pm+jVmO2BRA//73v/1vRMx3IyUdmZCfLv5ZJwYCCCCQNgLmDQJv0RbvN3ZBl8wrzd5rwul8hJmvpXP/XfSNAsSFoqMYYRI6EyZ4pS1AFixYoGuuucZb6e9j75cwv8psRGieFhRN5M2eF19//bVfdGy7EaH5/4899phfvJiN90wBYj5oN99HdOvWTfXr1986wuZ7D7M617YbEZpJfZiNCLdNE7NZoCkkPvnkE/8pi/kY3sQwe3BcffXVW592mGuGDh0qs1GgWULXLJlrCqyZM2eWuBFhSU9ATCxzv5ycHL8ppg1mD5QdD1OEmG9Ann76af8+5v+b719McWbaZoohChBH/9ATBgEEEEhlAW8PKe8vB8n7+9c/vF+weZtLBa9gpfERZr6Wxt130jUKECeMboKESehMKEDcaBIlGQLkZzLUuScCCCCQBAGzJLt58vHtt8HNzY7n3i+uvNcEktCYxN4yzHwtsS1KvbtRgERozMIkNBO8CA0YTdlJgPwkKRBAAIEMECgokPcI/Y+l/887Txo9Olj5KgOOMPO1DGCw6iIFiBWf24vDJDQTPLfmRHMrQH669SQaAgggEDkBb0ETf2ndd94JmmYKkbffDvb8yJAjzHwtQyhK3U0KkFLTub8wTEIzwXPvTkR3AuSnO0siIYAAApEU+Nvfgu88zGE2QPa+J/R3O8+gI8x8LYM4StVVCpBSscXnojAJzQQvPvZEdSNAfrpxJAoCCCAQSYHnngu+9TCHt6y7ty69vFVKItnUeDYqzHwtnvdPh9gUIBEaxTAJzQQvQgNGU3YSID9JCgQQQCBNBT79VDr55GCjQbN/1EcfSY0apWlnd92tMPO1jISJodMUIDFgxfvUMAnNBC/eo0B8GwHy00aPaxFAAIGICnjLwHsbYUmLFgUNNE9CLrssoo2Nf7PCzNfi34rUvgMFSITGL0xCM8GL0IDRFJ6AkAMIIIBAugusXx88+Zg6Neip+Qbk4YfTvde77F+Y+VpGA4XoPAVICKREnRImoefNm6fCwkJ/p+8yab7RT6LcuY8bAbNhYdFGjocffriboERBAAEEEEiegPfvdf+bj+efD9pw5pnBilflyiWvTRG4c5j5WgSaGekmUIBEaHjCJLTZDXvVqlXae++9VbNmTYqQCI1fJjfFFB+LFy/WypUrVa1aNX/ndA4EEEAAgRQXeOQR6eabg07Uri2Z70D22SfFO2Xf/DDzNfu7pHcECpAIjW+YhN60aZN++OEHrfceiZb1dhstl+G/hYjQ8GV0U0xebt682VsGvqIOOeQQ8jKjs4HOI4BAWghMmCC1bi3vX+7SXnsFxUfdumnRNdtOhJmv2d4j3a+nAInQCIdNaDPZW7JkiV+EmEkfBwLJFjDFsCk+9t9/f4qPZA8G90cAAQRsBebMCVa48t648N1MLG0AACAASURBVF61kMaNCzYf5PAFws7X4CpZgAIkQtlBQkdoMGgKAggggAACmShgio4TT5S+/Tbo/QMPSLfemokSJfaZ+Zp9OlCA2Bs6i0BCO6MkEAIIIIAAAgjEKuC9YaHzzpPeeiu48qKLpBdfDJ6CcGwVYL5mnwwUIPaGziKQ0M4oCYQAAggggAACsQrcdpv0978HVzVsKE2eLFWuHGuUtD+f+Zr9EFOA2Bs6i0BCO6MkEAIIIIAAAgjEIvDSS9LFFwdXeN/z6bPPpIMPjiVCxpzLfM1+qClA7A2dRSChnVESCAEEEEAAAQTCCkyfLjVtKm91GykrS3r/fSknJ+zVGXce8zX7IacAsTd0FoGEdkZJIAQQQAABBBAII+Dt4aQTTpB+/DE4e8QIqUuXMFdm7DnM1+yHngLE3tBZBBLaGSWBEEAAAQQQQGB3Ar/9Jp12mvTJJ8GZPXpIgwbt7qqM/znzNfsUoACxN3QWgYR2RkkgBBBAAAEEENiVwJYt0tVXS//4R3CWKUT+/e/gFSyOXQowX7NPEAoQe0NnEUhoZ5QEQgABBBBAAIFdCTz+uHTDDcEZhx8uTZ0q/elPmIUQYL4WAmk3p1CA2Bs6i0BCO6MkEAIIIIAAAgiUJDBpktSypWT2/dhzT2nKFKl+fbxCCjBfCwm1i9NStgBZsGCB7rnnHk3y/iFatGiRt2Lc/jr55JPVu3dv1alTZ2uXN3n/cD300EPeN1UjZK452FtSrmvXrrrllltUrly57WjidW7YYSKhw0pxHgIIIIAAAgiUSmDevOCj8+XLg8tffz3YfDBFj1kLCzRh5mIVrC9U1YpZalW/puoeUDWuvWG+Zs+bkgXIL7/84hXq9bVhwwZde+21Ouyww/Tdd99p6NCh3madZfTVV1/poIMO8nW6d+/u/3nnzp3VpEkT7zurTzRy5Ej/zwcPHrydYLzODTtMJHRYKc5DAAEEEEAAgZgFfv1VOukkaebM4FLvF7m6886Yw0Thgvxla9Rr9AxNzf+9kNqmUY2yq6t/hwbKrlElLk1lvmbPmpIFyJAhQ3TdddfpjTfeUJs2bbYqvPrqq+rQoYMGDBig3NxcvxA5+uijvUUdemjgwIFbz+vZs6ce9959/PLLL3XUUUf5fx6vc2MZIhI6Fi3ORQABBBBAAIHQAps3S+3bS2PHBpd48yWNGiXvN7ehQ0TlxPle8dF+SJ5WrC0ssUn7VM7SmO45cSlCmK/ZZ0JKFiB///vfddttt3mbdH6m448/fqvCFO8dRvOU48knn9Rf//pX/3Wsfv36aZ73uNE8JSk65s+f731vdbhuv/123X///f4fx+vcWIaIhI5Fi3MRQAABBBBAILTAXXdJ994bnO79clZ5eVKV+DwhCN2mUp7YadiUYp987BjOPAkZ1c174uP4YL5mD5qSBYgpPBo1aqTGjRvr4YcfVnZ2tv8K1k033aTVq1f7hUnVqlW976ta+k85FptNdnY4zDcjxx57rLfinLfknHfE69xYhoiEjkWLcxFAAAEEEEAglMDo0VLHjsGpNWpI06ZJhx4a6tKonWS++Wg9aHLoZo3v2cz5NyHM10Lzl3hiShYgpjdPPfWU/wTDfA9SdDRv3lyvvfaat4pcsIyceb2qQoUKmj59+k4ADRs2VGFhof/qVTzPLUnefDhv/rPtMXv2bF166aV+e037OBBAAAEEEEAAASsB7xex3ush0tq1Uvny0rvvylu1xypkMi8eMHGOBk6aG7oJuS1qK7fFH4sThb5wFydSgNgrpmwBMmbMGA0bNsx/cnHkkUf6hYRZ7cp8nD5hwgTvqWIVHXHEEf7qWObD8x0P86rW0qVL/Scn5ojXuSUN0d13362+ffsW+2MKEPvEJgICCCCAAAIZL/Dzz8GKV99/H1B439B6q/ekNEvfcTM1Mi8/dB8652SrT5t6oc8PcyIFSBilXZ+TkgWIecpxwQUXyCRA0UfkppvvvPOOX5A8+OCD6tWrF09A7PODCAgggAACCCCQigLeWx464wzpww+D1l9zjbzf3KZiT7ZrM09AUn4I/Q6kZAFi9vv42avqZ82atdMomG8/zKtYb775Zty+64jle5FY0oSKOhYtzkUAAQQQQACBEgW87Qa8fQiCHzdrFrx65b2WnuoH34Ck+ggG7U/JAuTPf/6z3/hvv/12u1HYsmWL9tprLzVt2tT/uNx8I/LAAw+EWgUrXufGkiYUILFocS4CCCCAAAIIFCvgrQaqbt2CHx1yiLzVeaT99ksbLFbBSv2hTMkC5Dxvx85x48Z5K8jlefvp/LG82mhvlYeO3ioPZknd++67z18By6x0VdI+IF988YUaNGjgj2K8zo0lRShAYtHiXAQQQAABBBDYSeCjj6TTT5c2bpQqVw6W2z3mmLSCMpsQtmMfkJQe05QsQMxH5aeccor22GMPf0dz8wG5+QjdrIxVvXp1ff7556pZs6Y/MN283wCYfUHMTug5OTl+0WJ2Qr/GexfSfMS+7RGvc8NmCAVIWCnOQwABBBBAAIGdBMzH5mZ/tGXLgh+ZjQaLlt9NMy52Qk/tAU3JAsSQz5gxQ/fcc4+3lPU0LVy40C88zvA+tjJPPg7dZm3rjd5vAPr3768RI0boxx9/1EEHHaSuXbv6H6mXN8vRbXPE69ywKUIBElaK8xBAAAEEEEBgO4E1a+T9ptW80hH88R13/LHxYBpTzV5UoAkzF2vVukJVq5SllvVqOt/3Y0c+5mv2CZWyBYh916MXgYSO3pjQIgQQQAABBCIv4H0D6y0PKv3rX0FTvVfVvY3RpLJlI9/0VGwg8zX7UaMAsTd0FoGEdkZJIAQQQAABBDJHwHv7Q3feGfS3nrfnxZQp8lblyZz+J7inzNfswSlA7A2dRSChnVESCAEEEEAAgcwQGDtWats26Kv3OrqmTjW7K2dG35PUS+Zr9vAUIPaGziKQ0M4oCYQAAggggED6C3z9tbzlQKXVq6Vy5aQJE4IVsDjiKsB8zZ6XAsTe0FkEEtoZJYEQQAABBBBIb4Hly6UTTpC32VnQz4EDpRtuSO8+R6R3zNfsB4ICxN7QWQQS2hklgRBAAAEEEEhfAbPHx1lnBbubm+Oqq+Qt9+ltL10mffscoZ4xX7MfDAoQe0NnEUhoZ5QEQgABBBBAIH0FcnODJx7maNJEeu89eZujpW9/I9Yz5mv2A0IBYm/oLAIJ7YySQAgggAACCKSngLeZsv/Ewxze3mb67DN5uy+nZ18j2ivma/YDQwFib+gsAgntjJJACCCAAAIIpJ+AWV73lFOkDRukihWljz+Wjjsu/foZ8R4xX7MfIAoQe0NnEUhoZ5QEQgABBBBAIL0EfvxROv54acmSoF///Kd00UXp1ccU6Q3zNfuBogCxN3QWgYR2RkkgBBBAAAEE0kdg/XqpefPgdStz/L//J/3970nr36yFBZowc7EK1heqasUstapfU3UPqJq09iT6xszX7MUpQOwNnUUgoZ1REggBBBBAAIH0Ebj66mCVK3O0bi298Uaw70eCj/xla9Rr9AxNzfeWAN7haJRdXf07NFB2jSoJblXib8d8zd6cAsTe0FkEEtoZJYEQQAABBBBIDwFTeJgCxBxmh/Np06S990543+Z7xUf7IXlasbawxHvvUzlLY7rnpH0RwnzNPv0oQOwNnUUgoZ1REggBBBBAAIHUFzDFRtOm0m+/SZUqSf/5j9SgQVL61WnYlGKffOzYGPMkZFQ3b3f2ND6Yr9kPLgWIvaGzCCS0M0oCIYAAAgggkNoCy5YFK1z98EPQjxdekC65JCl9Mt98tB40OfS9x/dsltbfhDBfC50KJZ5IAWJv6CwCCe2MkkAIIIAAAgikrsCmTVKrVn/sdN6jhzRoUNL6M2DiHA2cNDf0/XNb1FZuizqhz0+1E5mv2Y8YBYi9obMIJLQzSgIhgAACCCCQugK9e0v9+gXtz8kJdjqvUCFp/ek7bqZG5uWHvn/nnGz1aVMv9PmpdiLzNfsRowCxN3QWgYR2RkkgBBBAAAEEUlNg7Fipbdug7WaH8+nTpVq1ktoXnoBsz898zT4dKUDsDZ1FIKGdURIIAQQQQACB1BOYM0c64QSpoEAqXz548tGsWdL7wTcgFCCuk5ACxLWoRTwKEAs8LkUAAQQQQCCVBVavlho3lmbODHrx2GNSz56R6RGrYP0xFMzX7NOSAsTe0FkEEtoZJYEQQAABBBBIHYEtW6SLLpJeeSVo84UXSv/8p1SmTGT6YDYhbMc+IP54MF+zT0sKEHtDZxFIaGeUBEIAAQQQQCB1BMzTjhtvDNpbv36w30eV6O0ozk7owRAxX7P/R4sCxN7QWQQS2hklgRBAAAEEEEgNgY8+kk47TTJL71atGux0Xrt2pNs+e1GBJsxcrFXrClWtUpZa1quZ1vt+7DgYzNfs05MCxN7QWQQS2hklgRBAAAEEEIi+wMKFUsOG0pIlQVtff10677zotzvDW8h8zT4BKEDsDZ1FIKGdURIIAQQQQACBaAts2CCdeqr0ySdBO2+/Xbr//mi3mdb5AszX7BOBAsTe0FkEEtoZJYEQQAABBBCItsANN0iPPx608YwzpPHjpXLlot1mWkcB4igHKEAcQboIQwHiQpEYCCCAAAIIRFzghRekyy4LGnnIIcFmgzVqRLzRNK9IgPmafS5QgNgbOotAQjujJBACCCCAAALRFJgxI9jvY906aY89pI8/lo4/PpptpVXFCjBfs08MChB7Q2cRSGhnlARCAAEEEEAgegIrVwbFxv/+F7RtxAipS5fotZMW7VKA+Zp9glCA2Bs6i0BCO6MkEAIIIIAAAtES2Lw5WOHqzTeDdl19tfTUU9FqI60JJcB8LRTTLk+iALE3dBaBhHZGSSAEEEAAAQSiJXDvvdJddwVtOuEEafLk4BUsjpQTYL5mP2QUIPaGziKQ0M4oCYQAAggggEB0BMwKV2efLW3ZEnxsbj46Nx+fc6SkAPM1+2GjALE3dBaBhHZGSSAEEEAAAQSiITB/vnTccdKKFVLZstI770innx5T22YtDHYeL1hfqKoVs9SqfmbtPB4TVgJOZr5mj0wBYm/oLAIJ7YySQAgggAACCCRfwKx01aSJ9MUXQVseeEC69dbQ7cpftka9Rs/Q1PzlO13TKLu6+ndooOwaVULH40Q3AszX7B0pQOwNnUUgoZ1REggBBBBAAIHkCpjXrTp3lp59NmhHu3bSq69KZcqEatd8r/hoPyRPK9YWlnj+PpWzNKZ7DkVIKFF3JzFfs7ekALE3dBaBhHZGSSAEEEAAAQSSKzBsmHTttUEb6tSRPvtMqlo1dJs6DZtS7JOPHQOYJyGjup0UOi4n2gswX7M3pACxN3QWgYR2RkkgBBBAAAEEkifw6adSs2ZSoff0oor3ipT5//XqhW6P+eaj9SBvlayQx/iezVT3gPDFTciwnFaCAPM1+9SgALE3dBaBhHZGSSAEEEAAAQSSI7B0qdSwofTTT8H9X3lF6tQpprYMmDhHAyfNDX1Nbovaym3hPWXhSIgA8zV7ZgoQe0NnEUhoZ5QEQgABBBBAIPECGzdKZ54pvf9+cO+bbpIeeSTmdvQdN1Mj8/JDX9c5J1t92oR/whI6MCcWK8B8zT4xKEDsDZ1FIKGdURIIAQQQQACBxAv06iU99FBw35NPlt59VypfPuZ28AQkZrKEXsB8zZ6bAsTe0FkEEtoZJYEQQAABBBBIrMDo0VLHjsE9a9WS/vtfaf/9S9UGvgEpFVvCLmK+Zk9NAWJv6CwCCe2MkkAIIIAAAggkTmD2bKlRI2n1aikrS/rwQ+kku5WpWAUrccMX652Yr8UqtvP5FCD2hs4ikNDOKAmEAAIIIIBAYgR+/TUoPr75JrjfE09I111nfW+zCWE79gGxdoxHAOZr9qoUIPaGziKQ0M4oCYQAAggggED8Bcxmg+a1K7PBoDkuuyzYeDDkZoO7ayA7oe9OKDk/Z75m704BYm/oLAIJ7YySQAgggAACCMRfwHxwbj48N8fRR0uffCJVruz8vrMXFWjCzMVata5Q1SplqWW9muz74Vw5fEDma+GtSjqTAsTe0FkEEtoZJYEQQAABBBCIr8B770lnnCFt3iztvbc0bZp0xBHxvSfRIyHAfM1+GChA7A2dRSChnVESCAEEEEAAgfgJLFggHXec9PPPwT3efFM6++z43Y/IkRJgvmY/HBQg9obOIpDQzigJhAACCCCAQHwEfvst2OPj00+D+H36SHffHZ97ETWSAszX7IeFAsTe0FkEEtoZJYEQQAABBBCIj8C110rDhgWxzzorePpRtmx87kXUSAowX7MfFgoQe0NnEUhoZ5QEQgABBBBAwL3AM89InTsHcQ87LPjuo3p19/chYqQFmK/ZDw8FiL2hswgktDNKAiGAAAIIIOBW4PPPpSZNpPXrpYoVpSlTpGOOcXsPoqWEAPM1+2GiALE3dBaBhHZGSSAEEEAAAQTcCfzyi3T88VJ+fhDT7PVx+eXu4hMppQSYr9kPFwWIvaGzCCS0M0oCIYAAAggg4EZg06ZghasJE4J43btLgwe7iU2UlBRgvmY/bBQg9obOIpDQzigJhAACCCCAgBuBu+6S7r03iNW4sfThh1KFCm5iEyUlBZiv2Q8bBYi9obMIJLQzSgIhgAACCCBgJTBrYYHm/OMltb2rmx9nY419Vf7z/0oHHWQVl4tTX4D5mv0YUoDYGzqLQEI7oyQQAggggAACpRLIX7ZGvUbP0JLPv9a4Z29U1d/WaGOZsrr0wvu0ufkp6t+hgbJrVClVbC5KDwHma/bjSAFib+gsAgntjJJACCCAAAIIxCww3ys+2g/J0/qVv+q1F25W3Z/z/Rj3n3KVhp/Y3v/f+1TO0pjuORQhMeumzwXM1+zHkgLE3tBZBBLaGSWBEEAAAQQQiFmg07Apmjr/Fw0c97DOm+196+Edb/65qa4/7/9JZcpsjdcou7pGdTsp5vhckB4CzNfsx5ECxN7QWQQS2hklgRBAAAEEEIhJwHzz0XrQZHWeNlZ9Jg33r53zp0PU9vJHtLZCpZ1ije/ZTHUPqBrTPTg5PQSYr9mPIwWIvaGzCCS0M0oCIYAAAgggEJPAgIlzNOWZMXrx5d7K2rxJv3pFx3mXD9C8PxX/0Xlui9rKbVEnpntwcnoIMF+zH0cKEHtDZxFIaGeUBEIAAQQQQCAmgUeeeV+XX99e+65Z6V/313a99U6dkl+z6pyTrT5t6sV0D05ODwHma/bjSAFib+gsAgntjJJACCCAAAIIhBfYsEELj22sWrM+96954qROerj5rnc65wlIeN50O5P5mv2IUoDYGzqLQEI7oyQQAggggAAC4QWuv37r7uYfZR+rKzverc1ly+3yer4BCc+bbmcyX7MfUQoQe0NnEUhoZ5QEQgABBBBAIJzAc89JV1zhn7u0ek2deemjWllp1x+XswpWONp0PYv5mv3IUoDYGzqLQEI7oyQQAggggAACuxf43HvlqkkTaf16qWJFLXzzXZ2dt0Yr1haWeC37gOyeNd3PYL5mP8IUIPaGziKQ0M4oCYQAAggggMCuBZYvl447TsrPD84bOVK68koV7YQ+Nd/7+Q6HefLBTugkFvM1+xygALE3dBaBhHZGSSAEEEAAAQRKFti0STr7bGnChOCcbt2koUO3O3/2ogJNmLlYq9YVqlqlLLWsV5N9P8gpX4D5mn0iUIDYGzqLQEI7oyQQAggggAACJQvcead0333Bzxs3lj74QNpjD8QQCCXAfC0U0y5PogCxN3QWgYR2RkkgBBBAAAEEihd44w3pvPOCn+23n/l1tnTggWghEFqA+VpoqhJPpACxN3QWgYR2RkkgBBBAAAEEdhaYO1c6/nipoEAq5y2zO2mSdPLJSCEQkwDztZi4ij2ZAsTe0FkEEtoZJYEQQAABBBDYXmD16uB1q5kzgz9/5BHppptQQiBmAeZrMZPtdAEFiL2hswgktDNKAiGAAAIIIPCHwJYt0kUXSa+8EvzZBRdIL70klSmDEgIxCzBfi5mMAsSeLH4RSOj42RIZAQQQQCCDBQYM+ONpR7160n/+I+25ZwaD0HUbAeZrNnrBtTwBsTd0FoGEdkZJIAQQQAABBAIBs8JVixaSWXq3qrfD+bRpUu3a6CBQagHma6Wm23ohBYi9obMIJLQzSgIhgAACCCAg/fhjsNng0qWBxtix0rnnIoOAlQDzNSs+/2IKEHtDZxFIaGeUBEIAAQQQyHSB336TTjkleN3KHHfcId17b6ar0H8HAszX7BFTugBZtGiR7rnnHr311ltasmSJ/vSnP6lRo0Z68skntf/++/s6m7xHrg899JBGjBihBQsW6OCDD1bXrl11yy23eCvweUvwbXPE69yww0RCh5XiPAQQQACBdBSYtTDYfbxgfaGqVsxSq/oWu49fe600bFjA1LKlvMlCsPQuBwKWAszXLAG9y1O2AJnrreXdvHlzVapUSVdeeaUOOugg/fzzz5oyZYpfcNT+/f3O7t27a+jQoercubOaNGmiTz75RCNHjpT588GDB28nGK9zww4TCR1WivMQQAABBNJJIH/ZGvUaPUNT85fv1K1G2dXVv0MDZdeoEr7Lzzwj7y/+4PzsbGn6dKl69fDXcyYCuxBgvmafHilZgGzxltM78cQT/acbH374obeQRfErWXz11Vc6+uij1aNHDw0cOHCrVs+ePfX444/ryy+/1FFHHeX/ebzOjWWISOhYtDgXAQQQQCAdBOZ7xUf7IXlasbawxO7sUzlLY7rnhCtCzM7m3i8cZV7BqlhR3m8epWOPTQcq+hARAeZr9gORkgXIe++9p9NPP13jxo3TOeeco/Xr16ts2bKqUKHCdiK9e/dWv379NG/ePB122GFbfzZ//nwdfvjhuv3223X//ff7fx6vc2MZIhI6Fi3ORQABBBBIB4FOw6YU++Rjx76ZJyGjup206y7/8kvw0fn33wfnPfusdPnl6cBEHyIkwHzNfjBSsgDp1auX/5rVB97SeqaIMK9VlfE2EzJPRR599FGddFLwL6iW3juf5inH4sWLd5Iy34gc6/1G5N///ndcz41liEjoWLQ4FwEEEEAg1QXMNx+tB00O3Y3xPZup7gHeUrrFHWaZ3bPOkiZODH7qvWrtvWsdOjYnIhBWgPlaWKmSz0vJAqRt27beSnpjVaNGDTVr1szb3PQiLVy40P8gfe3atZo6dar/apX5j3kqMt28+7nD0bBhQxUWFvqvXpkjXueWRG8+oDf/2faYPXu2Lr30Ur+9pn0cCCCAAAIIpLPAgIlzNHDS3NBdzG1RW7kt6hR/vvfWg/faQ/Az84tIs//HDm9GhL4RJyKwCwEKEPv0SMkCpIW3odCkSZP817DefffdrQqTJ0/2P0zv2LGjRo0apSOOOMJfDcs8IdnxMB+kL/XWBf/uu+/8H8Xr3JKG6O6771bfvn2L/TEFiH1iEwEBBBBAIPoCfcfN1Mi8/NAN7ZyTrT5tvJ3Mdzxef11q1y74U7MKpvkOpFat0HE5EYFYBChAYtEq/tyULEDatGmjN998U894q1xcccUV2/Us21vtYt26df6yvPF6qhFL3JKGiCcg9slLBAQQQACB1BZw8gTk22+lE06Qfv01WGbX+07U+21kasPQ+kgLUIDYD09KFiDdunXz9/oYP368WrVqtZ1C48aNvV98/FcbNmzgGxD7/CACAggggAACcROw/gbEFB3e3/uaNSto44ABUm5u3NpLYASMAAWIfR6kZAHyj3/8w99McPjw4f5/b3uY/UDM8eOPP/ofqD/wwAOhVsGK17mxDBEJHYsW5yKAAAIIpINAqVfB8pbkV6dO0ujRAYP3PahefNHb4axMOrDQhwgLMF+zH5yULECWLVumQw891H/FKi8vb+uO5ua1LPN6VpcuXfydz80KWGalq5L2Afniiy/UoEEDXzFe58YyRCR0LFqciwACCCCQDgJmE8J2pdkH5OGHpVtuCQjMnl7eRsSqEsNmhemARx+SIsB8zZ49JQsQ022zsWCu95jVrILVyfsNyE8//aRBgwZ5/+6p4q8idfDBB/s6Ra9rmZ3Qc3Jy/ILF7IR+zTXXaNiwYdsJxuvcsMNEQoeV4jwEEEAAgXQSiHkn9Pffl7wFabR5s1StmjRtmnTkkelEQl8iLMB8zX5wUrYAMV1/4YUX/H0/ZnnvflauXFlnnHGG/8qV2WSw6Ni4caP69+/vPxExr2WZV7TMa1tmL5Hy5ctvJxivc8MOEwkdVorzEEAAAQTSUWD2ogJNmLlYq9YVqlqlLLWsV3PnfT8WLAg2G/z554DA25TY25U4HTnoU0QFmK/ZD0xKFyD23Y9WBBI6WuNBaxBAAAEEIibw22/BClfefl/+cddd8ta0j1gjaU66CzBfsx9hChB7Q2cRSGhnlARCAAEEEEhHAe/1aT31VNAzs+u59+2nypZNx57SpwgLMF+zHxwKEHtDZxFIaGeUBEIAAQQQSDcBbwVM7x3qoFeHHRZ891G9err1kv6kgADzNftBogCxN3QWgYR2RkkgBBBAAIF0EjDFRtOmknkFq1KlYMWro49Opx7SlxQSYL5mP1gUIPaGziKQ0M4oCYQAAgggkC4C3tL7/kfnP/wQ9Oj556VLL02X3tGPFBRgvmY/aBQg9obOIpDQzigJhAACCCCQDgLeSpZq1UqaNCnozfXXS48/ng49ow8pLMB8zX7wKEDsDZ1FIKGdURIIAQQQQCAdBG69VXrwwaAnTZpIZv+PChXSoWf0IYUFmK/ZDx4FiL2hswgktDNKAiGAAAIIpLrAa69J558f9KJmTXm7DEu1aqV6r2h/GggwX7MfRAoQe0NnEUhoZ5QEQgABBBBIZYFvvpFOOEFavVrersHBkw/zEToHAhEQYL5mPwgUIPaGziKQ0M4oCYQAAgggkKoCv/4qNWokmSLEHAMHSjfca6KFKwAAIABJREFUkKq9od1pKMB8zX5QKUDsDZ1FIKGdURIIAQQQQCCkwKyFBZowc7EK1heqasUstapfU3UPqBryasenbdkidewovfpqEPiSS4JVr8qUcXwjwiFQegHma6W3K7qSAsTe0FkEEtoZJYEQQAABBHYjkL9sjXqNnqGp+ct3OrNRdnX179BA2TWqJNaxXz+pd+/gng0aBPt9VK6c2DZwNwR2I8B8zT5FKEDsDZ1FIKGdURIIAQQQQGAXAvO94qP9kDytWFtY4ln7VM7SmO45iStCxo6V2rYN2rP33sFO50ccwTgiEDkB5mv2Q0IBYm/oLAIJ7YySQAgggAACuxDoNGxKsU8+drzEPAkZ1e2k+Ft+9VWwzK756LxcOWn8eOmMM+J/X+6AQCkEmK+VAm2HSyhA7A2dRSChnVESCAEEEECgBAHzzUfrQZND+4zv2Sy+34SYnc7NR+fz5wdt4qPz0GPDickRYL5m704BYm/oLAIJ7YySQAgggAACJQgMmDhHAyfNDe2T26K2clvUCX1+TCcWeq+AnXmm9MEHwWVdukjDh/PReUyInJxoAeZr9uIUIPaGziKQ0M4oCYQAAgggUIJA33EzNTIvP7RP55xs9WlTL/T5MZ3Yvbs0dGhwSU6ONGmStMceMYXgZAQSLcB8zV6cAsTe0FkEEtoZJYEQQAABBEoQiMwTEFN4mALEHAcfHHx0vt9+jBsCkRdgvmY/RBQg9obOIpDQzigJhAACCCBQgkAkvgExO5ubV682bgyW2c3Lk445hjFDICUEmK/ZDxMFiL2hswgktDNKAiGAAAII7EIgqatgzZsXfHT+yy9BC0ePls4/n/FCIGUEmK/ZDxUFiL2hswgktDNKAiGAAAII7ELAbELYLhn7gPz6a7Dc7tdfB63r00e6+27GCoGUEmC+Zj9cFCD2hs4ikNDOKAmEAAIIILAbgYTvhL55s9SunfTGG0HLzFOPUaOksmUZKwRSSoD5mv1wUYDYGzqLQEI7oyQQAggggEBIgdmLCjRh5mKtWleoapWy1LJezfjs+9G7t9SvX9Cqo48OvvuoUiVkKzkNgegIMF+zHwsKEHtDZxFIaGeUBEIAAQQQiJLASy9JF18ctGjffaXPPpMOPTRKLaQtCIQWYL4WmqrEEylA7A2dRSChnVESCAEEEEAgKgLTp0tNm0rr10tZWdJ77wX/nwOBFBVgvmY/cBQg9obOIpDQzigJhAACCCAQBYFFi6QTTpB++ilojdnlvGvXKLSMNiBQagHma6Wm23ohBYi9obMIJLQzSgIhgAACCCRbwDzxOOUU6dNPg5bccIM0cGCyW8X9EbAWYL5mTSgKEHtDZxFIaGeUBEIAAQQQSKbAli3SlVdKzz0XtKJFC2n8eKl8+WS2insj4ESA+Zo9IwWIvaGzCCS0M0oCIYAAAggkU+CRR6Sbbw5acOSRwVOQ6tWT2SLujYAzAeZr9pQUIPaGziKQ0M4oCYQAAgggkCwB86TjnHMks+9H1arSf/4j1a2brNZwXwScCzBfsyelALE3dBaBhHZGSSAEEEAAgWQIfPONdOKJUkGBVKaM9OabUuvWyWgJ90QgbgLM1+xpKUDsDZ1FIKGdURIIAQQQQCDRAitWBMXH3LnBnfv3l265JdGt4H4IxF2A+Zo9MQWIvaGzCCS0M0oCIYAAApEVmLUw2Hm8YH2hqlbMUqv6cdp5PJECGzcGTzomTgzuetll0rPPBk9BOBBIMwHma/YDSgFib+gsAgntjJJACCCAQOQE8petUa/RMzQ1f/lObWuUXV39OzRQdo0qkWt3qAbdeKP02GPBqY0aSR9+KFWsGOpSTkIg1QSYr9mPGAWIvaGzCCS0M0oCIYAAApESmO8VH+2H5GnF2sIS27VP5SyN6Z6TekXI009LXboE/apVS5o2TTrggEj50xgEXAowX7PXpACxN3QWgYR2RkkgBBBAIFICnYZNKfbJx46NNE9CRnU7KVJt32Vj8vKkU0+VCr3Cyjzx+OijYOdzDgTSWID5mv3gUoDYGzqLQEI7oyQQAgggEBkB881H60GTQ7dnfM9mqnuAt3xt1I8ffgiKjaVLg5a++KJ08cVRbzXtQ8BagPmaNSE7odsTuotAQruzJBICCCAQFYEBE+do4KTfV4YK0ajcFrWV26JOiDOTeMqaNVLTptIXXwSNuO02qV+/JDaIWyOQOAHma/bWPAGxN3QWgYR2RkkgBBBAIDICfcfN1Mi8/NDt6ZyTrT5t6oU+P+EnbtkideokjR4d3LpNG+n116WyZRPeFG6IQDIEmK/Zq1OA2Bs6i0BCO6MkEAIIIBAZgbR7AnLvvdJddwW+9bxC6ZNPgh3PORDIEAHma/YDTQFib+gsAgntjJJACCCAQGQE0uobkNdek84/P7CtXl2aOlU64ojIWNMQBBIhwHzNXpkCxN7QWQQS2hklgRBAAIFICaTFKlhffik1aSKtXSuVKye984502mmRcqYxCCRCgPmavTIFiL2hswgktDNKAiGAAAKREjCbELZL5X1AzEpXZoPB778PXAcPlrp3j5QxjUEgUQLM1+ylKUDsDZ1FIKGdURIIAQQQiJxAyu6EvmGD1KKFNPn3pYSvuUYaOlQqUyZyxjQIgUQIMF+zV6YAsTd0FoGEdkZJIAQQQCCyArMXFWjCzMVata5Q1SplqWW9mtHd98OseGUKjuHDA8+TTw5evapQIbK+NAyBeAswX7MXpgCxN3QWgYR2RkkgBBBAAAEXAk88IfXoEUTKzpY++0yqUcNFZGIgkLICzNfsh44CxN7QWQQS2hklgRBAAAEEbAUmTZJatpQ2bZKqVJGmTJGOOso2KtcjkPICzNfshzBuBUjPnj3VuXNnHXPMMfatzJAIJHSGDDTdRAABBKIu8N13wUfnK1YELR0zRmrbNuqtpn0IJESA+Zo9c9wKkAre+6GbvN+aHOX9tsQUIpdccon31JbHtrsaMhLaPqGJgAACCCBgKVBQIDVuLM2eHQS67z6pd2/LoFyOQPoIMF+zH8u4FSBLvSX7nn/+eT333HP66quvlJWVpbPPPltXXnml/9/lzBriHNsJkNAkBAIIIIBAUgXM61bnnSe99VbQjAsukF56iRWvkjoo3DxqAszX7EckbgXItk0zA/Xss896/w57ScuWLdO+++6rSy+9VFdccYUaNGhg34s0iUBCp8lA0g0EEEAgVQVuvVV68MGg9Q0bBkvvVq6cqr2h3QjERYD5mj1rQgqQomZu3LjR+6XKW3ryySc1YcIE/4/NNyJdu3b1n4xUqlTJvkcpHIGETuHBo+kIIIBAqgu8+KK83w4Gvdh//2DFq4MPTvVe0X4EnAswX7MnTWgBMnXq1K1PQlauXKm6dev6r2bNmDFDNWvW1KhRo9S0aVP7XqVoBBI6RQeOZiOAAAKpLuD9/azmzaXffgv2+PjgA+mkk1K9V7QfgbgIMF+zZ417AbJw4UL/WxDzCta3336rPffcU506dVKXLl28b9y8j9y8Iy8vz38KUlSM2HcrNSOQ0Kk5brQaAQQQSGkB7+9pHX+8tGhR0I1nnpH3jnRKd4nGIxBPAeZr9rpxK0DM9x6m6JjkrSNuVsNq1qyZrrrqKnXs2NF7nXTn90mffvppb7PVa1RYWGjfqxSNQEKn6MDRbAQQiLzArIXB7uMF6wtVtWKWWtWP8O7jidRctSrY3fzLL4O73nST9MgjiWwB90Ig5QSYr9kPWdwKkLJly6pWrVq6/PLL/cLjyCOP3GVrzetZQ4cO1ciRI+17laIRSOgUHTiajQACkRXIX7ZGvUbP0NT85Tu1sVF2dfXv0EDZNbxN9jLxMK9btW4tvfde0PuzzpLGjZO3TGUmatBnBEILMF8LTVXiiXErQN5++221atVKphDhCCdAQodz4iwEEEAgjMB8r/hoPyRPK9aW/GR9n8pZGtM9J/OKkM2bpYsvll55JaA0r2C9/76896TD0HIOAhktwHzNfvjjVoDYNy3zIpDQmTfm9BgBBOIn0GnYlGKffOx4R/MkZFS3DPrgessW6cYbpYEDAwrzhoL3Lab22y9+g0FkBNJIgPma/WBSgNgbOotAQjujJBACCGS4gPnmo/Ugbw+LkMf4ns1U94CqIc9O8dMeekjq1SvohCk6pkyRDj88xTtF8xFInADzNXtrChB7Q2cRSGhnlARCAIEMFxgwcY4GTpobWiG3RW3ltqgT+vyUPdFbldL7ODNovnnd6sMPgw0HORBAILQA87XQVCWeSAFib+gsAgntjJJACCCQ4QJ9x83UyLz80Aqdc7LVp0290Oen5IlmA+BzzpG8TYG9de/l7QwsnXFGSnaFRiOQTAHma/b6FCD2hs4ikNDOKAmEAAIZLsATkB0SYNo06ZRTpDVrgh+YXc/NR+gcCCAQswDztZjJdrqAAsTe0FkEEtoZJYEQQCDDBfgGZJsE+O47qUkT6eefgz98+GHpb3/L8Ayh+wiUXoD5Wuntiq6kALE3dBaBhHZGSSAEEEBArILlJcGSJVJOjvS//wUZwUaD/JOBgLUA8zVrQlGA2Bs6i0BCO6MkEAIIICCzCWG7TN4H5NdfpVNPlaZPD7LhooukF16Qt0EX2YEAAhYCzNcs8H6/lALE3tBZBBLaGSWBEEAAAV8gY3dC37BBatNGeuedIBNatAg+Oq9QgcxAAAFLAeZrloDe5RQg9obOIpDQzigJhAACCGwnMHtRgSbMXKxV6wpVrVKWWtarmb77fphdzs1Su+ZDc3Mce6z0wQdS1QzZ54TcRyDOAszX7IEpQOwNnUUgoZ1REggBBBDIXAGzyaDZbNAchx0mffKJVLNm5nrQcwQcCzBfswelALE3dBaBhHZGSSAEEEAgMwUee0y68cag7zVqSHl5Up0M2GAxM0ebXidJgPmaPTwFiL2hswgktDNKAiGAAAKZJ/Dyy8GH5uaoXFl6/32pUaPMc6DHCMRZgPmaPTAFiL2hswgktDNKAiGAAAKZJfDee1KrVlJhoVSunDRunHTWWZllQG8RSJAA8zV7aAoQe0NnEUhoZ5QEQgABBDJH4IsvpObNJbPsrjmeeUa64orM6T89RSDBAszX7MEpQOwNnUUgoZ1REggBBBDIDIH584NdzhcvDvr7wAPSrbdmRt/pJQJJEmC+Zg9PAWJv6CwCCe2MkkAIIIBA+gv8/HOwy/ncuUFfr79eGjTIW2C/TPr3nR4ikEQB5mv2+BQg9obOIpDQzigJhAACCKS3wJo10mmnSVOnBv3s0EEyH6Gb7z84EEAgrgLM1+x5KUDsDZ1FIKGdURIIAQQQSF8B86F527bS228HfTz5ZOnf/5YqVkzfPtMzBCIkwHzNfjAoQOwNnUUgoZ1REggBBBBIT4EtW6QuXaSRI4P+HXWU9NFH0t57p2d/6RUCERRgvmY/KGlTgLznLUF4+umn+yJzvfdhjzzyyK06mzZt8jaFfUgjRozQggULdPDBB6tr16665ZZbvKfV2z+ujte5YYaKhA6jxDkIIJAqArMWFmjCzMUqWF+oqhWz1Kp+TdU9oGqqND+a7bzjDun++4O2HXJIsMv5gQdGs620CoE0FWC+Zj+waVGAbNiwQUcffbRfXKzx3ovdsQDp3r27hg4dqs6dO3uLhTTx/n39iffLo5Eyfz548ODtFON1bpihIqHDKHEOAghEXSB/2Rr1Gj1DU/OX79TURtnV1b9DA2XXqBL1bkSvfebvK/OhuTmqV5c+/liqWzd67aRFCKS5APM1+wFOiwLkAW/Zwccee0wXX3yx/9/bFiBfffWVX5z06NFDAwcO3CrWs2dPPf744/ryyy+9J9jeI2zviNe5YYeJhA4rxXkIIBBVgfle8dF+SJ5WrPW+Uyjh2KdylsZ0z6EIiWUQR4+WOnWSzCtY5luPSZOC5Xc5EEAg4QLM1+zJU74A+f777/WXv/xFTzzxhMz/7tu373YFSO/evdWvXz/NmzdPhx122Fax+d7a6Ycffrhuv/1272l28Dg7XueGHSYSOqwU5yGAQFQFOg2bUuyTjx3ba56EjOp2UlS7Ea12ffihdOaZkve0X2XLSmPGSOeeG6020hoEMkiA+Zr9YKd8AXLeeedp6dKl/mtVpvjYsQBp2bKl/5RjcdEmTduY7b///jr22GO9xUO81UO8I17nhh0mEjqsFOchgEAUBcw3H60HTQ7dtPE9m/FNyO60vKf4atZMWrUqOPOpp6Srr97dVfwcAQTiKMB8zR43pQuQN998U6YAmeqtg37cccfp7rvv3qkAMa9XVahQQdOnT99Jq2HDhir0ljM0r16ZI17nFjdMixYtkvnPtsfs2bN16aWX+m01beNAAAEEUklgwMQ5Gjjp903xQjQ8t0Vt5baoE+LMDD3lhx+kk7ynRAsXBgDeL9l0110ZikG3EYiOAAWI/VikbAGybt061atXT2eccYaefPJJX6K4AuSII46QedJhnpDseJgP0s3Tk++++87/UbzOLW6Yitpa3M8oQOwTmwgIIJB4gb7jZmpkXn7oG3fOyVafNvVCn59RJy73PuBv2lTyfjHlH9dcI281FXY5z6gkoLNRFaAAsR+ZlC1A7vCWIhwyZIjmzJmjGjVqlFiAxOupRixxixsmnoDYJy8REEAgWgI8AXE0Ht4v2NSiRbDErjnMpoPmI3R2OXcETBgE7AQoQOz8zNUpWYAs9B5Hmw/Ic3Nz/f08io5Bgwb5K1tN8lYHyc7O9s+J13cdscQNO0wkdFgpzkMAgSgK8A2Ig1HZuFE6/3zpjTeCYDk50sSJUqVKDoITAgEEXAgwX7NXTMkC5IsvvvA/Ht/VUaVKFa1evdpf5cos0xtmFax4nRt2mEjosFKchwACURVgFSyLkTFL7HbrFnxobg6zx4fZ68Ps+cGBAAKREWC+Zj8UKVmArPJWA5lofiO0wzFq1Cj961//8p+CHHTQQd5T67b+ClimWClpHxBTzDRo0MCPFK9zww4TCR1WivMQQCCqAmYTwnbsA1K64TEfmXuLqfiH2d3cvIJldjvnQACBSAkwX7MfjpQsQErqdnEfoZtzu3m/UTIfqpud0HO8x9l5eXn+TujXeB/1DRs2bLtw8To3zFCR0GGUOAcBBKIuwE7opRgh89TDfGhujmrVgicf9euXIhCXIIBAvAWYr9kLZ0QBstF7p7Z///4aMWKEfvzxR//piPl2pFevXipfvvx2ivE6N8xQkdBhlDgHAQRSRWD2ogJNmLlYq9YVqlqlLLWsV5N9P4obvLFjpfbtpc2bpT32kN55R2rePFWGmXYikHECzNfshzytChB7juRGIKGT68/dEUAAgYQLeE/k/RWv1q8Pltg1q12ZYoQDAQQiK8B8zX5oKEDsDZ1FIKGdURIIAQQQiL6A2ePDrHK1YkXQ1sGDpe7do99uWohAhgswX7NPAAoQe0NnEUhoZ5QEQgABBKIt8NNPwS7nCxYE7ezdW7rvvmi3mdYhgIAvwHzNPhEoQOwNnUUgoZ1REggBBBCIrsCiRdJpp0nffBO08aqr5H2kyC7n0R0xWobAdgLM1+wTggLE3tBZBBLaGSWBEEAAgWgKeAuh+MXH3LlB+84+W3r9dXkrokSzvbQKAQR2EmC+Zp8UFCD2hs4ikNDOKAmEAAIIRE/g+++D4mPevKBtrVpJY8ZIFStGr620CAEEShRgvmafHBQg9obOIpDQzigJhAACCERLYP586dRTJVOEmKNNG3k75wbL7nIggEBKCTBfsx8uChB7Q2cRSGhnlARCAAEEoiPw3XfBk4+iD87btZNeflmqUCE6baQlCCAQWoD5WmiqEk+kALE3dBaBhHZGSSAEEEAgGgJz5gRPPhYuDNrTsaP04otSVlY02kcrEEAgZgHmazGT7XQBBYi9obMIJLQzSgIhkLECsxYGu48XrC9U1YpZalWf3ceTlgxmnw/z5GPx4qAJF10kPfccH5wnbUC4MQJuBJiv2TtSgNgbOotAQjujJBACGSeQv2yNeo2eoan5y3fqe6Ps6urfoYGya1TJOJekdfjrr6XTT5eWLg2acNll0siRUrlySWsSN0YAATcCzNfsHSlA7A2dRSChnVESCIGMEpjvFR/th+RpxdrCEvu9T+UsjemeQxGSiMz48kupRQtp2bLgbp07S8OHU3wkwp57IJAAAeZr9sgUIPaGziKQ0M4oCYRARgl0Gjal2CcfOyKYJyGjunm7b3PET+C//5XOOENa/vuTqL/+VRo6VCpbNn73JDICCCRUgPmaPTcFiL2hswgktDNKAiGQMQLmm4/WgyaH7u/4ns1U94Cqoc/nxBgEPvtMOvNMaeXK4KLrrpMef5wdzmMg5FQEUkGA+Zr9KFGA2Bs6i0BCO6MkEAIZIzBg4hwNnPT7rtohep3borZyW9QJcSanxCQwZUqwsWBBQXBZbq706KMUHzEhcjICqSHAfM1+nChA7A2dRSChnVESCIGMEeg7bqZG5uWH7m/nnGz1aVMv9PmcGELg44+ls86SVq8OTr7lFunBByk+QtBxCgKpKMB8zX7UKEDsDZ1FIKGdURIIgYwR4AlIkof6ww+ls8+W1qwJGnL77dJ991F8JHlYuD0C8RRgvmavSwFib+gsAgntjJJACGSMAN+AJHGoJ02S2rSR1q0LGtGnT/CfMmWS2ChujQAC8RZgvmYvTAFib+gsAgntjJJACGSUAKtgJWG4J0yQ2raV1q8Pbn7vvdIddyShIdwSAQQSLcB8zV6cAsTe0FkEEtoZJYEQyCgBswlhO/YBSdyYv/WW1L69tGFDcE/zvUevXom7P3dCAIGkCjBfs+enALE3dBaBhHZGSSAEMk6AndATNORjx0odO0qFv2/6aFa6uvHGBN2c2yCAQBQEmK/ZjwIFiL2hswgktDNKAiGQsQKzFxVowszFWrWuUNUqZallvZrs++EqG159VbrwQmnjxiDioEFSjx6uohMHAQRSRID5mv1AUYDYGzqLQEI7oyQQAggg4FbglVekSy6RNm0K4prdzbt1c3sPoiGAQEoIMF+zHyYKEHtDZxFIaGeUBEIAAQTcCbzwgnTFFdLmzcEKV8OHS126uItPJAQQSCkB5mv2w0UBYm/oLAIJ7YySQAgggIAbgWeeka66StqyJSg+Ro4MihEOBBDIWAHma/ZDTwFib+gsAgntjJJACCCAgL3AiBHSX/8aFB9ly0rPPy9dfLF9XCIggEBKCzBfsx8+ChB7Q2cRSGhnlARCAAEE7ATMNx7duwcxypWT/vlPqVMnu5hcjQACaSHAfM1+GClA7A2dRSChnVESCAEEECi9wOOPSzfcEFxfvrz08svS+eeXPh5XIoBAWgkwX7MfTgoQe0NnEUhoZ5QEQgABBEonYPb1+NvfgmuzsqR//Us677zSxeIqBBBISwHma/bDSgFib+gsAgntjJJACCCAQOwCZkfzW28NrttjD+m116TWrWOPwxUIIJDWAszX7IeXAsTe0FkEEtoZJYEQQACB2ATuvVe6667gmooVJbPj+ZlnxhaDsxFAICMEmK/ZDzMFiL2hswgktDNKAiGQUIFZC4PdxwvWF6pqxSy1qs/u4wkdAJubmRWu7r5buueeIEqlStK4cdLpp9tE5VoEEEhjAeZr9oNLAWJv6CwCCe2MkkAIJEQgf9ka9Ro9Q1Pzl+90v0bZ1dW/QwNl16iSkLZwk1IImOKjd2/pgQeCi6t4Y/XWW9LJJ5ciGJcggECmCDBfsx9pChB7Q2cRSGhnlARCIO4C873io/2QPK1YW1jivfapnKUx3XMoQuI+GqW4gSk+evWSHn44uHjPPaXx46WmTUsRjEsQQCCTBJiv2Y82BYi9obMIJLQzSgIhEHeBTsOmFPvkY8cbmycho7qdFPf2cIMYBEzxceON0sCBwUVVq0oTJkiNG8cQhFMRQCBTBZiv2Y88BYi9obMIJLQzSgIhEFcB881H60GTQ99jfM9mqnuAN8nlSL7A5s1Sjx7SkCFBW/beW3rnHemEE5LfNlqAAAIpIcB8zX6YKEDsDZ1FIKGdURIIgbgKDJg4RwMnzQ19j9wWtZXbok7o8zkxTgKm+OjWTRo+PLhB9erSu+9Kxx4bpxsSFgEE0lGA+Zr9qFKA2Bs6i0BCO6MkEAJxFeg7bqZG5uWHvkfnnGz1aVMv9PmcGAeBQu9bnauvlp59Ngheo0ZQfBx9dBxuRkgEEEhnAeZr9qNLAWJv6CwCCe2MkkAIxFWAJyBx5XUffLm3SlmHDtL77wex99tPmjRJql/f/b2IiAACaS/AfM1+iClA7A2dRSChnVESCIG4CvANSFx53QafM0c65xxp7u+vzB16aLDaVd26bu9DNAQQyBgB5mv2Q00BYm/oLAIJ7YySQAjEXYBVsOJObH8D85TDPPlYuTKIdZK3GtnrrwdPQDgQQACBUgowXysl3DaXUYDYGzqLQEI7oyQQAnEXMJsQtmMfkLg7l/oGTz4pXXedtGlTEOKSS6QRI6SKFUsdkgsRQAABI8B8zT4PKEDsDZ1FIKGdURIIgYQIsBN6Qphju4kpOP72tz/2+DBX33efdPvtUpkyscXibAQQQKAYAeZr9mlBAWJv6CwCCe2MkkAIJFRg9qICTZi5WKvWFapapSy1rFeTfT8SOgK/36ygQLrwwuAbD3NUqiQ991zwGhYHAggg4EiA+Zo9JAWIvaGzCCS0M0oCIYBApgnMny+1aSPNnBn0vFYtaexY6fjjM02C/iKAQJwFmK/ZA1OA2Bs6i0BCO6MkEAIIZJJAXp7Utq20bFnQ64YNpTfekA48MJMU6CsCCCRIgPmaPTQFiL2hswgktDNKAiGAQKYIPP+81LWrtGFD0OP27YPXrqpUyRQB+okAAgkWYL5mD04BYm/oLAIJ7YySQAggkO4CmzdLd9whPfDAHz01H5rfe69Utmy6957+IYBAEgWYr9njU4DYGzqLQEI7oyQQAgiks8CaNdKRwgUkAAAgAElEQVTll0uvvRb0skKFYIndyy5L517TNwQQiIgA8zX7gaAAsTd0FoGEdkZJIAQQSFeBn36Szj3XLMQf9HDffaUxY6ScnHTtMf1CAIGICTBfsx8QChB7Q2cRSGhnlARCAIF0FJg2LSg+Fi0KelevnvTmm1J2djr2lj4hgEBEBZiv2Q8MBYi9obMIJLQzSgIhgEC6CYweHbx2tW5d0LPWraWXXpKqVk23ntIfBBCIuADzNfsBogCxN3QWgYR2RkkgBBBIF4EtW6R+/YIPzouO3Fzp4YelcuXSpZf0AwEEUkiA+Zr9YFGA2Bs6i0BCO6MkEAIIpIPA+vXBErsvvhj0pnx56YknpGuuSYfe0QcEEEhRAeZr9gNHAWJv6CwCCe2MkkBpLjBrYYEmzFysgvWFqloxS63q11TdA3gVJ62GfckSqV07acqUoFt77y29+qp02mlp1U06gwACqSfAfM1+zChA7A2dRSChnVESKE0F8petUa/RMzQ1f/lOPWyUXV39OzRQdg02oEv54f/qK+mcc6Qffgi6Urt28LF5nTop3zU6gAACqS/AfM1+DClA7A2dRSChnVESKA0F5nvFR/sheVqxtrDE3u1TOUtjuudQhKTy+L/1lnThhdLq1UEvTj1VMh+gV6+eyr2i7QggkEYCzNfsB5MCxN7QWQQS2hklgdJQoNOwKcU++dixq+ZJyKhuJ6WhQJp3yXxs/thj0s03S2aXc3NcfbU0eLCUlZXmnad7CCCQSgLM1+xHiwLE3tBZBBLaGSWB0kzAfPPRetDk0L0a37MZ34SE1orAiRs2SNdfLw0fHjSmbFnpkUeknj2lMmUi0ECagAACCPwhwHzNPhsoQOwNnUUgoZ1REijNBAZMnKOBk+aG7lVui9rKbcH3AqHBknnicu97nvPPlz74IGjFXnsF+3ucfXYyW8W9EUAAgRIFmK/ZJwcFiL2hswgktDNKAqWZQN9xMzUyLz90rzrnZKtPG2+XbI5oC3z7bfCx+XffBe089NDgY/P69aPdblqHAAIZLcB8zX74KUDsDZ1FIKGdURIozQR4ApJmA2q6M2mS1KGDtHJl0Lkm/7+9ewGzojjTOP4KjHJRVCQBIyKKkiACAe+gURN0XCMaEfECUdglAVED0UgiZKO4ARUSFBUFJUEjZKMh8UJcRQR1ddAoRi4CGzWCVxBRhMhFBnXP151hmBtz+lT1OafP+ffz8LgL1V9X/aqmU990V1cP6cEHpa9+tQAbS5MQQKCQBJivufcmCYi7obcIDGhvlAQqMAHWgBRYh06dKl12mfT552HD+veXpk2TGjcusIbSHAQQKEQB5mvuvUoC4m7oLQID2hslgQpQgK9gFUCnbt8efuVq0qTKxowdK11zDYvNC6B7aQICxSLAfM29p0lA3A29RWBAe6MkUAEK2CaE57APSHJ7dsMG6cILpcceC9vQpIl0333hAnQOBBBAIEECzNfcO4sExN3QWwQGtDdKAhWoADuhJ7RjV66UeveWli0LG/C1r0mPPCIdeWRCG0S1EUCgmAWYr7n3PgmIu6G3CAxob5QEKnCBFas3as6yNdqwpVx7NylRaafW7PuRr31eViZ973vSunVhDbt3D5OPAw7I1xpTLwQQQGCXAszX3AcICYi7obcIDGhvlARCAIFcC9gC84kTpdGjpfLysDZ9+ki/+53UrFmua8f1EUAAgYwFmK9lTLfjRBIQd0NvERjQ3igJhAACuRR4+23pkksqNxe0uowaJf3Xf4W7nHMggAACCRZgvubeeSQg7obeIjCgvVESCAEEciVgu5hfeqlki87taNFCuvvu8OkHBwIIIFAAAszX3DuRBMTd0FsEBrQ3SgIhgEC2BWxDQdvb4/e/r7zyaadJ06eHi845EEAAgQIRYL7m3pEkIO6G3iIwoL1REggBBLIp8Mwz0sUXS/bqlR177CGNHy9dfjmvXGWzH7gWAghkRYD5mjszCYi7obcIDGhvlARCAIFsCGzbJv3iF2Gy8eWX4RW7dpVmzpQ6dcpGDbgGAgggkHUB5mvu5CQg7obeIjCgvVESCAEE4hZYvlzq319atCi80m67hbuc20JzewLCgQACCBSoAPM1944lAXE39BaBAe2NkkAIIBCXgD3pmDxZuvpqaevW8Cpt2oSf1z3llLiuSlwEEEAgbwSYr7l3BQmIu6G3CAxob5QEQgCBOATWrJEGDZIef7wy+vnnS3feKe27bxxXJCYCCCCQdwLM19y7JJEJyMKFCzVjxgzNnz9fK1euTO1p1Sz1unEnXXPNNerVq1cVlc9Tm2FNmDBB06ZN0zvvvKMDDzxQgwcPTv3y7mo1bNgwK2XT7SYGdLpSlMuFwPL3w93HN24tV/PGJTr9CHYfz0U/5OyaDz0k/eAHlTuaN28u3XGHdNFF4etXHAgggECRCDBfc+/oRCYgffv21TOpr66ce+656t69uz799NPUlx6n69VXX0397+EdqU/Qp75B/69j2LBhqV/O3Zn6pd0g9ejRQwsWLAjK2t9PttcIdjriKptuNzGg05WiXDYFVq3bpJGzlujFVR/XuOwx7VpofN8uateSna2z2SdZvVbq/qof/1ip3+JUXvbEE6X77pMOOiirVeFiCCCAQD4IMF9z74VEJiBlZWU66qijUuscKxc6btmyRd/85jf14Ycfau3atWrUqJGWLl2a+iBLV11xxRWaNGnSDq3hw4frtttu0+LFi9W5c+fg7+MqG6WLGNBRtCibDYGVqeSjzx1lWr+5vM7L7du0RA8O60kSko0OyfY1/vpXacAA6Y03wiun7qvBInNb/1HtCXK2q8b1EEAAgVwJMF9zl09kAlJXs6+66ipNnDgx9Sn6t4NXrUaPHq1x48bpzTff1MEHH7zjNHtt65BDDtGoUaM0duzY4O/jKhulixjQUbQomw2BflOer/XJR/Vr25OQB4Yen40qcY1sCGzfrtTNU7r+ein1GmtwfOMb4ed1U0+dORBAAIFiFmC+5t77BZWAXHjhhZo1a5Y+Se3Ia+tCSktLg6cca2zhZLWjVatW6tatW2otZbiYMq6yUbqIAR1Fi7JxC9iajzNufTbtyzw2/ER13D+1LoAj2QL/+Ef41OOFFyrbkXplNbWYTmraNNlto/YIIICABwHma+6IBZOArFixIngF68wzz9Sf/vSnQMZer9p999318ssv15CytSPl5eXBq1dxlq2ri1avXi37s/NhbRiQ+h9+q6/VjwOBXArcPPc1TZr3etpVGNHrMI3o1SHt8hTMMwH7vG5qfZx+9CNp06awcl/9avh3Z5yRZ5WlOggggEDuBEhA3O0LIgHZsGGDjj/++GBCb0882rZtG8i0b99e9qTDFp5XP2xBuq0VeeNf7zbHVbauLrruuus0ZsyYWv+ZBMR9YBPBXWDM7GWaXrYq7UCDerbTtb3Z/TptsHwquG6dNGSI9Oc/V9bqrLOku+8OkxAOBBBAAIEdAiQg7oMh8QmILT6316deeuml4HWqk046aYcKT0DcBwgRileAJyBF0vdz5oR7e1Q8kbXXrG65RanvlfN53SIZAjQTAQSiCZCARPOqrXSiE5Bt27bprNRv6Ww/kD+nfnNnr1/tfMS1riNK3ChdxICOokXZuAVYAxK3cI7jp355o5/9TLr11sqKHH20UpssSR14lS7HvcPlEUAgjwWYr7l3TmITkO2pr7TYfiCzZ89OfZhlpi644IIaGvaVqxtuuCGtr2DFVTZKFzGgo2hRNhsCfAUrG8o5uMaiRVL//tLy5eHFGzSwTwFK//mfUklJDirEJRFAAIHkCDBfc++rRCYgX3zxRWrz3Yt0//3366677kptzpvanbeWw9aD2Jeu6toHZFHqf4S7dOkSnBlX2ShdxICOokXZbAjYJoTnsA9INqizc43UvVO//nWYbKQ+whEc9olye+qRWhfHgQACCCBQvwDztfqN6iuRyATkyiuv1M033xys9xhs7ylXO0499dRg8bkdQ4cO1dSpU4Od0Hv27CnbxNB2Qh+SWnA5ZcqUKmfGVba+Tqj4dwZ0ulKUy6YAO6FnUzvGa73zjnTxxdLTT1dexNZ+2HqP5nw+OUZ5QiOAQIEJMF9z79BEJiAnn3yynnnmmTpb/9RTT8nK2GGvao0fP17Tpk3Tu+++qzZt2gRJy8iRI4Pd0nc+4iqbbjcxoNOVolwuBFas3qg5y9Zow5Zy7d2kRKWdWrPvRy46IpNr/uEP9tsYKfXFwOBo0UKp38wo9R5rJtE4BwEEEChqAeZr7t2fyATEvdn5GYEBnZ/9Qq0QSKxAalNWXX55uIN5xdGrl3TPPdIBByS2WVQcAQQQyKUA8zV3fRIQd0NvERjQ3igJhAAC9pTYXrl6++3QYo89pJtuUmpRXLjonAMBBBBAICMB5msZsVU5iQTE3dBbBAa0N0oCIVC8Alu3KrXLaZhs2O7mdnTuHD4Fsf9yIIAAAgg4CTBfc+ILTiYBcTf0FoEB7Y2SQAgUn4AlGw89JF11lbRyZWX77f//5S+lxo2Lz4QWI4AAAjEIMF9zRyUBcTf0FoEB7Y2SQAgUl8DSpdKIEUrtylrZblvjce+90ne+U1wWtBYBBBCIWYD5mjswCYi7obcIDGhvlARCoDgEPvpI+sUvlPqmuGR7fNhhGwlaMvLzn/N53eIYBbQSAQSyLMB8zR2cBMTd0FsEBrQ3SgIhUNgCqc+LB0mHJR/r11e2tXfvcKPBww4r7PbTOgQQQCCHAszX3PFJQNwNvUVgQHujJBAChSvw5JPhE45lyyrb2LGjUruzSqWlhdtuWoYAAgjkiQDzNfeOIAFxN/QWgQHtjZJACBSewD/+ES4wf/jhyrbts0/4xatLLw1fveJAAAEEEIhdgPmaOzEJiLuhtwgMaG+UBRNo+fvh7uMbt5areeMSnX4Eu48XTOem25B//lMaOzZ8wrFtW3iW7eMxZIh0/fVSy5bpRqIcAggggIAHAeZr7ogkIO6G3iIwoL1RJj7QqnWbNHLWEr246uMabTmmXQuN79tF7Vo2S3w7acAuBGxR+X33ST/7mbRmTWXBk0+WJk2SunSBDwEEEEAgBwLM19zRSUDcDb1FYEB7o0x0oJWp5KPPHWVav7m8znbs27REDw7rSRKS6J7eReVfeEH60Y+kl16qLNSunfSrX0l9+qR2cNqtUFtOuxBAAIG8F2C+5t5FJCDuht4iMKC9USY6UL8pz9f65KN6o+xJyANDj090W6l8NYH33gufeMyYUfkPTZtKo0ZJV14pNWkCGQIIIIBAjgWYr7l3AAmIu6G3CAxob5SJDWRrPs649dm06//Y8BPVcf/maZenYJ4KbN0qTZwojRsnbdpUWcn+/aWbbpJsU0EOBBBAAIG8EGC+5t4NJCDuht4iMKC9USY20M1zX9Okea+nXf8RvQ7TiF4d0i5PwTwT+PJL6cEHw69brVpVWbmjjgrXefTokWcVpjoIIIAAAszX3McACYi7obcIDGhvlIkNNGb2Mk0v22kiWk9LBvVsp2t7d0pse4u64kuWhPt5PPVUJUOrVtKNN0oXXxx+6YoDAQQQQCDvBJivuXcJCYi7obcIDGhvlIkNxBOQxHZd+hX/6KNwB3Pbydy+dGXH7rtLP/5xuNajOa/UpY9JSQQQQCD7AszX3M1JQNwNvUVgQHujTGwg1oAktuvqr3h56qtmlnRce620fn1l+bPPDr9udeih9cegBAIIIIBAzgWYr7l3AQmIu6G3CAxob5SJDsRXsBLdfbVXfu7c8HWr5csr//3ww6VbbpFOPbUAG0yTEEAAgcIVYL7m3rckIO6G3iIwoL1RJjqQbUJ4DvuAJLoPd1T+jTfCBeaPPFLZnn32CXcwHzpUKikpjHbSCgQQQKCIBJivuXc2CYi7obcIDGhvlIkPxE7oCe/Cf/5TGjtWuvlmadu2sDG2qNySjjFjpJYtE95Aqo8AAggUrwDzNfe+JwFxN/QWgQHtjbJgAq1YvVFzlq3Rhi3l2rtJiUo7tWbfj3zuXVtU/rvfSddcI61ZU1nTU04JP6vbuXM+1566IYAAAgikIcB8LQ2keoqQgLgbeovAgPZGSSAEsi/w/PPSj34kLVxYee127aRf/1o65xxpt92yXyeuiAACCCDgXYD5mjspCYi7obcIDGhvlARCIHsCL7wQ7t3x8MOV12zWLPyk7pVXSo0bZ68uXAkBBBBAIHYB5mvuxCQg7obeIjCgvVESCIF4BWwH8zlzwsTjmWeqXuv735duuEE64IB460B0BBBAAIGcCDBfc2cnAXE39BaBAe2NkkAIxCOwfbv0xz9KN90kLV5c9RqlpdJ110nHHRfPtYmKAAIIIJAXAszX3LuBBMTd0FsEBrQ3SgIh4FdgyxbpnnukCROklSsrY9uXrc47T/rpT6Vu3fxek2gIIIAAAnkpwHzNvVtIQNwNvUVgQHujJBACfgQ++US6885ww8C1aytj7rGHNHCg9JOfsIO5H2miIIAAAokRYL7m3lUkIO6G3iIwoL1REggBN4HVq8Okw5IP29Oj4mjeXBo2TBo+XGrd2u0anI0AAgggkEgB5mvu3UYC4m7oLQID2hslgRDITOD118PXrO69t3IDQYvUqpX04x+HGwnuvXdmsTkLAQQQQKAgBJivuXcjCYi7obcIDGhvlARCIJrAyy+HC8tnzZLsC1cVxyGHSCNHSpdcwud0o4lSGgEEEChYAeZr7l1LAuJu6C0CA9obpVOg5e+Hu49v3Fqu5o1LdPoR7D7uBJqvJ1uiMX9+mHjMnVu1lrag3BaWn3uu1KhRvraAeiGAAAII5ECA+Zo7OgmIu6G3CAxob5QZBVq1bpNGzlqiF1d9XOP8Y9q10Pi+XdSuZWqDOY5kC3z+ufTQQ+EeHjvvWm6tOuUU6Wc/k049lZ3Lk93L1B4BBBCITYD5mjstCYi7obcIDGhvlJEDrUwlH33uKNP6zeV1nrtv0xI9OKwnSUhk3Tw54bPPpBkzpPHjpddeq1qpc84Jn3gce2yeVJZqIIAAAgjkqwDzNfeeIQFxN/QWgQHtjTJyoH5Tnq/1yUf1QPYk5IGhx0eOzwk5FLCvWN11lzRxovT++5UVKSmRBgyQrr5a6tgxhxXk0ggggAACSRJgvubeWyQg7obeIjCgvVFGCmRrPs649dm0z3ls+InquH/qc6wc+S1g+3bceqs0ebJk+3lUHM1Sr9ENGRJ+1apNm/xuA7VDAAEEEMg7AeZr7l1CAuJu6C0CA9obZaRAN899TZPmpT6/muYxotdhGtGrQ5qlKZZ1Adup/Ne/ln7zG2nr1srL77dfuH/HZZdJLVpkvVpcEAEEEECgMASYr7n3IwmIu6G3CAxob5SRAo2ZvUzTy1alfc6gnu10be9OaZenYJYEli4Nv2j1hz9IttC84mjbNtyx/N//XbKnHxwIIIAAAgg4CDBfc8D716kkIO6G3iIwoL1RRgrEE5BIXPlX+Lnnwi9aPfpo1bp1SiWJtrD8ggskW+/BgQACCCCAgAcB5mvuiCQg7obeIjCgvVFGCsQakEhc+VHYvmg1e7Z0yy1SWVnVOvXoIV1zjXTGGVKDBvlRX2qBAAIIIFAwAszX3LuSBMTd0FsEBrQ3ysiB+ApWZLLcnLBokfTb30ozZ0ofV9uv5bvfDffwOOGE3NSNqyKAAAIIFIUA8zX3biYBcTf0FoEB7Y0yciDbhPAc9gGJ7JaVEz76KEw4pk+XLAHZ+WjYMHzFauRIqUuXrFSHiyCAAAIIFLcA8zX3/icBcTf0FoEB7Y0yo0DshJ4RWzwnbd8uPfFEmHQ88oi0bVvV63zjG9KgQdL3vy/tv388dSAqAggggAACtQgwX3MfFiQg7obeIjCgvVE6BVqxeqPmLFujDVvKtXeTEpV2as2+H06iEU62Hcot6fjd76puGmgh9torfNphX7OyHct32y1CYIoigAACCCDgR4D5mrsjCYi7obcIDGhvlARKkoDtVP7AA+HajgULatb8298On3b06SM1bZqkllFXBBBAAIECFGC+5t6pJCDuht4iMKC9URIo3wW++EL63/8Nn3bMmiVt3ly1xgcdJA0cKF1yiXTwwfneGuqHAAIIIFBEAszX3DubBMTd0FsEBrQ3SgLlq8Dbb0v33ivdc4/05ptVa9m4sXTuueErViefzCd087UPqRcCCCBQ5ALM19wHAAmIu6G3CAxob5QEyieBLVukhx4KX7GaN0/68suqtbP1HJZ0nH++tPfe+VRz6oIAAggggEANAeZr7oOCBMTd0FsEBrQ3SgLlWsCSjIULw6Tjv/9b2rChao1atZIuvjh8zerww3NdW66PAAIIIIBA2gLM19KmqrMgCYi7obcIDGhvlATKlcAHH0gzZoRrO5Ytq1qLRo2k3r3DBeWnny6VlOSqllwXAQQQQACBjAWYr2VMt+NEEhB3Q28RGNDeKAmUTYHycul//idMOh59VLI9PHY+OncOX7Hq31/6yleyWTOuhQACCCCAgHcB5mvupCQg7obeIjCgvVESKBsC9oTDko777pPWrq16xX32CRMOe9rRvTt7dmSjP7gGAggggEBWBJivuTOTgLgbeovAgPZGSaC4BNavl+6/P1zb8dJLVa9iGwOedlqYdJx9tmRfteJAAAEEEECgwASYr7l3KAmIu6G3CAxob5QE8ilgn8udPVt65JFw747qr1gdemi4mNwWlR94oM8rEwsBBBBAAIG8E2C+5t4lJCDuht4iFOuAXv7+Rs1ZtkYbt5areeMSnX5Ea3Xcv7k3VwJFFLBNAl98MUw4LPF49dWaAZo1k/r1C592nHACr1hFJKY4AggggEByBYp1vuazx0hAfGo6xiq2Ab1q3SaNnLVEL676uIbcMe1aaHzfLmrXMjXR5YhfYNMm6cknw4TjL3+R7GtW1Y+mTaXS0vD1KtswcM89468XV0AAAQQQQCDPBIptvhYHPwlIHKoZxiymAb0ylXz0uaNM6zenvqBUx7Fv0xI9OKwnSUiG46ne01avDpMNe9JhycfWrTVP+drXpLPOCj+f++1vs66jXlQKIIAAAggUukAxzdfi6ksSkLhkM4hbTAO635Tna33yUZ3NnoQ8MPT4DDQ5pYaAbQ64ZEnleo7qi8grTujWLUw4LPHgC1YMJAQQQAABBKoIFNN8La6uJwGJSzaDuMUyoG3Nxxm3Ppu20GPDT2RNSNpa1Qpu2yY9/XRl0vH22zUj7b57+HTDkg77w0LyTLU5DwEEEECgCASKZb4WZ1eSgMSpGzF2sQzom+e+pknzXk9bZ0SvwzSiV4e0yxd9wY8+kh57LHy16vHHpX/+sybJfvtJ3/1u+JTDPp27115FzwYAAggggAAC6QgUy3wtHYtMy5CAZCoXw3nFMqDHzF6m6WWr0hYc1LOdru3dKe3yRVnw9VRCZwmH/XnuOcm+ZFX9+PrXw4TD/hyfeq2tYcOipKLRCCCAAAIIuAgUy3zNxai+c0lA6hPK4r8Xy4DmCYiHQfX559Lzz1cmHX//e82gDRqEn8itWETegadIHuQJgQACCCBQ5ALFMl+Ls5tJQOLUjRi7WAY0a0AiDoyK4vYq1RNPhEnHo49K9qpV9cNepTr99DDp+Ld/k+xVKw4EEEAAAQQQ8CZQLPM1b2C1BCIBiVM3YuxiGtB8BSuNwWFPOWwTwGdTC/Yt4Zg/X7JF5dWPtm0rX6066STJFpVzIIAAAggggEAsAsU0X4sFMBWUBCQu2QziFtOAtk0Iz2EfkKqjxDYDtB3Iy8rCdRz2itXGjbWPpKOPrny1qksXdiLP4OeNUxBAAAEEEMhEoJjma5n4pHMOCUg6SlkqU2wDuuh3Ql+zJkw2KhKOV16Rtm+vfbQ1biz16hV+JvfMMyXbIJADAQQQQAABBLIuUGzztTiASUDiUM0wZrEO6BWrN2rOsjXasKVcezcpUWmn1oW374dtAvh//1eZbNgTjn/8o+6RYms57EtVPXuGC8mPPVZq1izDkcVpCCCAAAIIIOBLoFjna778LA4JiE9Nx1gMaEfAfDr9s8+khQvDV6nsCceCBbUvGq+oc5s2YaJRkXB07sxncvOpP6kLAggggAAC/xJgvuY+FEhA3A29RWBAe6PMfiD7IpUlGRUJx0sv1b5gPEj7d5Mswdg54bCF5BwIIIAAAgggkPcCzNfcu4gExN3QWwQGtDfKeAPZ61RvvlmZbFjSsWJF3dds0iR8hari6cZxx0n77BNvHYmOAAIIIIAAArEIMF9zZyUBcTf0FoEB7Y3Sb6DycmnRoqoJxwcf1H2Nr3616tONbt2kkhK/dSIaAggggAACCOREgPmaOzsJiLuhtwgMaG+UmQeypxuWXFjCUfGFqr/+Vdq8ue6Y3/hG1YSjfXs+i5t5D3AmAggggAACeS3AfM29e0hA3A29RWBAe6NML5Dtu7FsmbR0afhnyZLwv+vW1X2+bfJ31FGVCUePHlLLluldj1IIIIAAAgggkHgB5mvuXUgC4m7oLQID2htl1UC2o7h98rZ6omF/Z088dnW0aCFZklGxYNySD9uTgwMBBBBAAAEEilKA+Zp7t5OAuBt6i8CA9kC5dm3VpxmWdNhTji1b6g/eqpVku4rbF6rszzHHSPZ6VYMG9Z9LCQQQQAABBBAoCgHma+7dTALibugtAgM6AqUlFMuXV742VfEKlSUg9R32VaojjqhMNCqSjq98pb4z+XcEEEAAAQQQKHIB5mvuA4AExMHw89SrPRMmTNC0adP0zjvv6MADD9TgwYN19dVXq2HDhpEjZ3NAL38/3H1849ZyNW9cotOPyNPdx7/4Qlq5smai8cYbkv3brg7bb+PQQ2smGoccwiZ/kUcnJyCAAAIIIICACWRzvlao4iQgDj07bNgw3XnnnRo0aFBqmUCP1D50CzR9+nTZ30+ePDly5GwM6FXrNmnkrCV6cdXHNep3TLsWGt+3i9q1bIbIeyUAABXPSURBVBa57s4n2FoM28yvYp1GxRMNe33KFovXd9hC8IonGRX/PfxwqVkO2lJfXfl3BBBAAAEEEEisQDbma4nFSbPiJCBpQlUvtjQ1Qe7atauuuOIKTZo0acc/Dx8+XLfddpsWL16cWkaQWkcQ4Yh7QK9MJR997ijT+s2pfS3qOPZtWqIHh/V0S0IsmbDP1lpCYV+Uqu1Pbf+2bVv9WrYA3BKLnddqmLOt37AnHhwIIIAAAggggECMAnHP12Kset6EJgHJsCtGjx6tcePGpTbEflMHH3zwjigrU68LHZJ6xWfUqFEaO3ZspOhxD+h+U56v9clH9Urak5AHhh5f+de23qKuZKKuv9+6NVLbay1sr0rtnGjY/22vVGXwept7ZYiAAAIIIIAAAgjwCpaPMUACkqFiaWlp8JRjzZo1NSK0Sv02vltq9+vHH388UvQ4ExBb83HGrc/uqE/TbVvUdfVrarF5o/bdEv5pUfHf1N8dvdcXarJhffj0Yleb8EVq4U6F99wz3D/D/uy3X/hf20G8Y8cw6ejUSbIyHAgggAACCCCAQB4JxDlfy6NmxloVEpAMee31qt1Tm9K9/PLLNSJ0795d5eXlqeUMqU/A1nGsXr1a9mfnY8WKFRowYEAQ02L4PG6e+5omzXt9R8jDPnxLc397mZ9L2FelKpKJ2v5bkWDsnHCwl4Yfe6IggAACCCCAQFYFSEDcuUlAMjRs3759atlBq2DhefXDFqSvTX0O9g37UlMdx3XXXacxY8bU+q9xJCBjZi/T9LJVO66336ZP9PLtA2pc/7OGjfRxk72121daqvUhbao+oagruWjaNENFTkMAAQQQQAABBJIlQALi3l8kIBkaJv0JSMMvPteZK/5X65s0D/80bZ5KPJprc0lqkXdqMfeIXoel/nTIUIfTEEAAAQQQQACBwhQgAXHvVxKQDA2TvgakvmY/NvxEddy/eX3F+HcEEEAAAQQQQKCoBEhA3LubBCRDQ/vK1Q033FAcX8HK0IjTEEAAAQQQQACBQhMgAXHvURKQDA3tC1j2pau69gFZtGhR6mNOqa85RTjiHtC2CeE52dgHJEKbKYoAAggggAACCCRJIO75WpIsMq0rCUimcqnzhg4dqqlTpwY7offs2VNlZWXBTuhDhgzRlClTIkfOxoDO253QI2txAgIIIIAAAgggkH2BbMzXst+q7F6RBMTBe/v27Ro/frymTZumd999V23atNHgwYM1cuRINWrUKHLkbA7oFas3as6yNdqwpVx7NylRaafWrPmI3GOcgAACCCCAAALFJpDN+Vqh2pKA5FHPMqDzqDOoCgIIIIAAAgggUIsA8zX3YUEC4m7oLQID2hslgRBAAAEEEEAAgVgEmK+5s5KAuBt6i8CA9kZJIAQQQAABBBBAIBYB5mvurCQg7obeIjCgvVESCAEEEEAAAQQQiEWA+Zo7KwmIu6G3CAxob5QEQgABBBBAAAEEYhFgvubOSgLibugtAgPaGyWBEEAAAQQQQACBWASYr7mzkoC4G3qLwID2RkkgBBBAAAEEEEAgFgHma+6sJCDuht4iMKC9URIIAQQQQAABBBCIRYD5mjsrCYi7obcIDGhvlARCAAEEEEAAAQRiEWC+5s5KAuJu6C0CA9obJYEQQAABBBBAAIFYBJivubOSgLgbeovAgPZGSSAEEEAAAQQQQCAWAeZr7qwkIO6G3iIwoL1REggBBBBAAAEEEIhFgPmaOysJiLuhtwgMaG+UBEIAAQQQQAABBGIRYL7mzkoC4m7oLUJZWZlOOOEEzZgxQx07dvQWl0AIIIAAAggggAACfgRWrFihAQMG6LnnnlPPnj39BC2yKCQgedThM2fODAY0BwIIIIAAAggggEB+C9gvjPv375/flczT2pGA5FHHrFu3TnPmzFG7du3UpEmT2GtWkcHzxKUmNTa1Dz9c6v6xxIYxE+WmzXjhZynKeLGyjJn8GTNbtmzRqlWrVFpaqpYtW0btSsqnBEhAingY8A5j3Z2PTe02uDBmot4yGTP8LDFmogowZqKKcZ+JKpb78iQgue+DnNWAH1gmk1EHH2OGMcOYiSrAZDKqGPcZxgxjJqpA8sqTgCSvz7zVmJs8k8mog4kxw5hhzEQVYDIZVYz7DGOGMRNVIHnlSUCS12feasxNnslk1MHEmGHMMGaiCjCZjCrGfYYxw5iJKpC88iQgyeszbzVevXq1pk6dqiFDhmj//ff3FrcQAmFTey/iUvfoxoYxE+Xex3jhZynKeLGyjBnGTNQxk8/lSUDyuXeoGwIIIIAAAggggAACBSZAAlJgHUpzEEAAAQQQQAABBBDIZwESkHzuHeqGAAIIIIAAAggggECBCZCAFFiH0hwEEEAAAQQQQAABBPJZgAQkn3uHuiGAAAIIIIAAAgggUGACJCAF1qE0BwEEEEAAAQQQQACBfBYgAcnn3ompbp9//rkmTJigadOm6Z133tGBBx6owYMH6+qrr1bDhg1jumr2wy5cuFAzZszQ/PnztXLlSjVr1kydOnXSNddco169elWpUBSTKGWz3+rMrmhG3/nOd4KTX3/9dR166KE7AkVpb5SymdU0O2fZ5y6vv/56Pfroo/rggw+033776Zhjjgk+W92qVaugElHaGqVsdlqY2VXsfmEu8+bNCz4JahYnnXSSRo8erQ4dOhT8mPn000/1q1/9Si+//LLs/rJmzRpdcskluueee2qARunzuMpm1suZnZWuTZT7ciH8nKXrUl19V/fkQnCxNkS1See+XCg2mf0UJussEpBk9ZeX2g4bNkx33nmnBg0apB49emjBggWaPn267O8nT57s5Rr5EKRv37565plndO6556p79+7Bzc7a+eqrr+qOO+7QpZdeuqOaUUyilM0Hh/rqsG3bNnXt2jVIRjdt2lQjAYnS3ihl66tXrv7dErBvfetbatKkiQYOHKg2bdroww8/1PPPPx8k7ocddlhQtShtjVI2V+2u77offfSRjjjiCNl4sZ+dgw8+WG+88UZwL9ltt920dOnSwKqQbVatWhW02/ZNOvLII/WXv/ylzgQkSp/HVba+PvX57+naRLkvF8JYStdl576o755cCC7Whig26d6XC8XG589mvsYiAcnXnompXjZJsMnmFVdcoUmTJu24yvDhw3Xbbbdp8eLF6ty5c0xXz27YsrIyHXXUUdpjjz12XHjLli365je/GUwo165dq0aNGgUTp3RNopTNbmszv9oNN9ygW265RRdddFHw352fgERpb5Symdc23jO//PJLHXvsscHTDUte99xzz1ovGKWtUcrG2zq36Ja0X3bZZXrkkUfUu3fvHcH+9Kc/ySaVN998s0aMGFHQP0+fffaZ1q1bpwMOOEDbt29XSUlJrQlIlD6Pq6xbb0c/O12bdO/LVoNCsEnXZWfxXd2TC8XF2pGuTbr35UKyif4TmLwzSECS12dONbZXJcaNG6c333wz+E1exWGvKB1yyCEaNWqUxo4d63SNfD/5qquu0sSJE/X2228Hr59FMYlSNt8drH5vvfWWDj/8cN1+++3B/z1mzJgqCUiU9kYpm682Fa89zJ49W2eeeaa2bt2qBg0aaPfdd69S5ShtjVI2X12sXjfeeGPw+uJLL70UJPYVhz0Zsiep9nraD3/4w6L5edpVAhKlz+Mqm8uxtCubuupV/b5s5QrNJh2X+u7JhehibdqVTbr35UK1yeXPcpzXJgGJUzcPY5eWlgZPOezd5eqHvc/drVs3Pf7443lYc39VuvDCCzVr1ix98sknwbqQKCZRyvqrcXyRzj777OBJkL2GZ8lH9QQkSnujlI2vRW6RR44cGbxm9fTTTwfJuLnY60X2VMSS1uOPPz64QJS2RinrVvt4z7bEw9bBHHfcccE6iHbt2gWvYF155ZXB6432782bNy8am11NmKL0eVxl4x0Nu46ezkS7eoTq9+VC/DlLx6W+e3IhutSXgKR7Xy5Um1z+LMd5bRKQOHXzMLa9XmW/zbVFlNUPWydRXl4ePPYu1GPFihXBK1j22217dcSOKCZRyua7ob2/bv9j9+KLLwbvs1933XU1EpAo7Y1SNl9tvve97+nhhx9Wy5YtdeKJJ8omRe+//36w8Hrz5s2BlbUzSlujlM1Xl4p63XXXXUFiZutBKg5bL/PnP/85WKhfTD9Pu5pMRunzuMrmciylM9HeuX613ZcLcSzV55LOPbkQXepLQNK9LxeqTS5/luO8NglInLp5GLt9+/bBl2vsN7vVD3uNwn4bbr/VLMRjw4YNwW+w7Usa9hSobdu2QTOjmEQpm8+GthbGvgh26qmnBq/O2FFbAhKlvVHK5quNfR3NvvBkXwR78sknd1Tz2WefDRamn3feeXrggQeKcswYxoMPPqgpU6YETznsS2n2ywp7YmSL0+fMmRM8UYwyDqKUzbcxs6vJZJR2xVU2l171TbR3rltd9+VCvDfvyiXde3IhutSXgKR7Xy5Um1z+LMd5bRKQOHXzMHaU37blYfUzrpLd3G3SZK+J2Ctm9unQiiOKSZSyGVc2Cyf+/Oc/D74E9tprrwW/7a8rAYnS3ihls9DEjC5hi6vtt5D2WVX7vOrOh71yZOPIPssbpa1RymZU6SydZE85zj//fP3tb3+r8qGKJ554IvjZuummm2SvSkRpb5SyWWpm2pfhCUjdVOkmILu6L1v0KOMjStm0O9lzwV25pHtPLkSX+hKQdO/LhWrjeRjmTTgSkLzpiuxUJMr7xtmpUfxXsU8annXWWcF+IDaJstevdj6imEQpG3/LMruCvVJkHxywLxbZ/i8Vx6233hp8Cc2eANhk28pEaW+UspnVPP6zhg4dGjwReuyxx3T66adXuaCtfbDJt42nKG2NUjb+FmZ+BUva7etxy5cvrxHE1n7YEyJL3qK0N0rZzGsez5msAXFLQOq7L1v0KOMjStl4RkT9UesaM1HuyYXoUl8Cku59uVBt6h9ZySxBApLMfsu41vb+tn3ir1i+gmU3fPtEqH3VaObMmbrgggtq2EUxiVI2406K+cRFixYFHxvY1WGv0tjC4ijtjVI25iZmHP43v/lNkJTdfffdVZIzC1ixx8W7775bdC7W/q9//euB69///vcqvvaJzL322ksnnHBC8HQxyjiIUjbjTo3pxF0lIFHaFVfZmJqdVtj6noCkc1+2CxWaTV0uUe7JhehSXwKS7n25UG3S+qFLYCESkAR2mkuVbe2DTT7r2gfEboRdunRxuUTenPvFF18Ee1vcf//9ssWzP/jBD2qtWxSTKGXzBqJaReyd67lz59aonq1t+OMf/xg8BbHJti38i9LeKGXz1cb2eDjooIOCVz9sv4KGDRsGVbXf7NtrAP/xH/+hadOmFZ2LGdgHCyyRN5eKr4HZ39sX5WxtjH0y9Ze//GXR2Oxqkh3lZyGusrn8GduVTbr3Zat/odnU5RLlnlyILvUlIOnelwvVJpc/y3FemwQkTt08jV3xONN2Qu/Zs2cwobAdwocMGRIsMC2Uwz4Papuj2asjO79qVNE+W4BtC/LtiGISpWySLGtbhF6MNrZBp72eZl/B6tevn9577z3Z62n2VMi+Hmd7xxSji3244uSTTw429rSdu23xtC1Ct+S+RYsWeuWVV9S6deuCt7E9c+wT3jaRvvbaa4Nf6PTp0ydot73qWfELnCj3ibjKZvv+k45NlPtyofycpeNSW1/VdU8uFBdrR7o26d6XC8km2z+/2b4eCUi2xfPgevZbmPHjxwe/ybXXSey33TZBtwWktjN4oRw2WbLdrOs6nnrqqWBCZUcUkyhlk2RZ1//YRWlvlLL5bDNjxoxg3w9b79C0adPga2H26qKti6k4orQ1Stl8dlmyZEnwSeKFCxcGnye2xMNs7MmHPTkqBhtbH2WbxdV22C9yBg4cGOs9JZ/HUjo2Ue7LhXJvTsclagISZRxEKZvt+08Um3Tuy4UyZrLdD7m4HglILtS5JgIIIIAAAggggAACRSpAAlKkHU+zEUAAAQQQQAABBBDIhQAJSC7UuSYCCCCAAAIIIIAAAkUqQAJSpB1PsxFAAAEEEEAAAQQQyIUACUgu1LkmAggggAACCCCAAAJFKkACUqQdT7MRQAABBBBAAAEEEMiFAAlILtS5JgIIIIAAAggggAACRSpAAlKkHU+zEUAAAQQQQAABBBDIhQAJSC7UuSYCCCCAAAIIIIAAAkUqQAJSpB1PsxFAAAEEEEAAAQQQyIUACUgu1LkmAggggAACCCCAAAJFKkACUqQdT7MRQAABBBBAAAEEEMiFAAlILtS5JgIIIIAAAggggAACRSpAAlKkHU+zEUAAAQQQQAABBBDIhQAJSC7UuSYCCCCAAAIIIIAAAkUqQAJSpB1PsxFAAIE4BLZt26Zjjz1W7733npYuXapWrVrtuEy/fv300EMP6YUXXlD37t3juDwxEUAAAQQSIEACkoBOoooIIIBAkgRWrFihI488UqeccooeffTRoOr33nuvBg4cqBtvvFE//elPk9Qc6ooAAggg4FmABMQzKOEQQAABBKTJkyfr8ssv1+23364zzjhDXbt2DZ56zJ8/Xw0aNIAIAQQQQKCIBUhAirjzaToCCCAQp8CZZ54ZJBwdOnTQW2+9pcWLF6tt27ZxXpLYCCCAAAIJECABSUAnUUUEEEAgiQJr165V+/bt9emnn+q+++7TgAEDktgM6owAAggg4FmABMQzKOEQQAABBEKBWbNm6bzzzgv+75/85CeaMGECNAgggAACCIgEhEGAAAIIIOBdwL6C1aVLl+AJiK3/+O1vf6t58+bp5JNP9n4tAiKAAAIIJEuABCRZ/UVtEUAAgbwX+PLLL3XaaadpwYIFeuWVV9SmTRt169ZNW7duDdaB7LPPPnnfBiqIAAIIIBCfAAlIfLZERgABBIpSYOLEibrqqqs0depU/fCHPwwMFi5cqB49eqhv3776/e9/X5QuNBoBBBBAIBQgAWEkIIAAAgh4E7DNB48++miVlpbq4YcfrhJ33LhxGj16tGbOnKmLLrrI2zUJhAACCCCQLAESkGT1F7VFAAEEEEAAAQQQQCDRAiQgie4+Ko8AAggggAACCCCAQLIESECS1V/UFgEEEEAAAQQQQACBRAuQgCS6+6g8AggggAACCCCAAALJEiABSVZ/UVsEEEAAAQQQQAABBBItQAKS6O6j8ggggAACCCCAAAIIJEuABCRZ/UVtEUAAAQQQQAABBBBItAAJSKK7j8ojgAACCCCAAAIIIJAsARKQZPUXtUUAAQQQQAABBBBAINECJCCJ7j4qjwACCCCAAAIIIIBAsgRIQJLVX9QWAQQQQAABBBBAAIFEC5CAJLr7qDwCCCCAAAIIIIAAAskSIAFJVn9RWwQQQAABBBBAAAEEEi1AApLo7qPyCCCAAAIIIIAAAggkS4AEJFn9RW0RQAABBBBAAAEEEEi0wP8DUWTbx4l/XZUAAAAASUVORK5CYII=",
       "_figure_label": "Figure 1",
       "_image_mode": "diff",
       "_model_module_version": "^0.11",
       "_size": [
        640,
        480
       ],
       "_view_module_version": "^0.11",
       "layout": "IPY_MODEL_c8b268b24fa24c368a4ed11f73dbc50a",
       "toolbar": "IPY_MODEL_7f2e69da18ba4e748cd43a253058c691",
       "toolbar_position": "left"
      }
     },
     "09a651f998274d3796dd4cbc1a900288": {
      "buffers": [
       {
        "data": "",
        "encoding": "base64",
        "path": [
         "attribute",
         "data"
        ]
       },
       {
        "data": "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",
        "encoding": "base64",
        "path": [
         "color_map",
         "data"
        ]
       },
       {
        "data": "",
        "encoding": "base64",
        "path": [
         "colors",
         "data"
        ]
       },
       {
        "data": "AAAAAAIAAAABAAAAAQAAAAIAAAADAAAAAQAAAAMAAAANAAAAAAAAAAwAAAACAAAAAgAAAAQAAAADAAAAAwAAAAQAAAAFAAAAAwAAAAUAAAANAAAAAgAAAAwAAAAEAAAABAAAAAYAAAAFAAAABQAAAAYAAAAHAAAABQAAAAcAAAANAAAABAAAAAwAAAAGAAAABgAAAAgAAAAHAAAABwAAAAgAAAAJAAAABwAAAAkAAAANAAAABgAAAAwAAAAIAAAACAAAAAoAAAAJAAAACQAAAAoAAAALAAAACQAAAAsAAAANAAAACAAAAAwAAAAKAAAACgAAAAAAAAALAAAACwAAAAAAAAABAAAACwAAAAEAAAANAAAACgAAAAwAAAAAAAAADgAAABoAAAAbAAAADwAAABsAAAAcAAAAEAAAABwAAAAdAAAAEQAAAB0AAAAeAAAAEgAAAB4AAAAfAAAAEwAAAB8AAAAgAAAAFAAAACAAAAAhAAAAFQAAACEAAAAiAAAAFgAAACIAAAAjAAAAFwAAACMAAAAkAAAADgAAABsAAAAPAAAADwAAABwAAAAQAAAAEAAAAB0AAAARAAAAEQAAAB4AAAASAAAAEgAAAB8AAAATAAAAEwAAACAAAAAUAAAAFAAAACEAAAAVAAAAFQAAACIAAAAWAAAAFgAAACMAAAAXAAAAFwAAACQAAAAYAAAAGAAAACQAAAAlAAAAJgAAACgAAAAnAAAAJwAAACgAAAApAAAAJwAAACkAAAAzAAAAJgAAADIAAAAoAAAAKAAAACoAAAApAAAAKQAAACoAAAArAAAAKQAAACsAAAAzAAAAKAAAADIAAAAqAAAAKgAAACwAAAArAAAAKwAAACwAAAAtAAAAKwAAAC0AAAAzAAAAKgAAADIAAAAsAAAALAAAAC4AAAAtAAAALQAAAC4AAAAvAAAALQAAAC8AAAAzAAAALAAAADIAAAAuAAAALgAAADAAAAAvAAAALwAAADAAAAAxAAAALwAAADEAAAAzAAAALgAAADIAAAAwAAAAMAAAACYAAAAxAAAAMQAAACYAAAAnAAAAMQAAACcAAAAzAAAAMAAAADIAAAAmAAAANAAAAEAAAABBAAAANQAAAEEAAABCAAAANgAAAEIAAABDAAAANwAAAEMAAABEAAAAOAAAAEQAAABFAAAAOQAAAEUAAABGAAAAOgAAAEYAAABHAAAAOwAAAEcAAABIAAAAPAAAAEgAAABJAAAAPQAAAEkAAABKAAAANAAAAEEAAAA1AAAANQAAAEIAAAA2AAAANgAAAEMAAAA3AAAANwAAAEQAAAA4AAAAOAAAAEUAAAA5AAAAOQAAAEYAAAA6AAAAOgAAAEcAAAA7AAAAOwAAAEgAAAA8AAAAPAAAAEkAAAA9AAAAPQAAAEoAAAA+AAAAPgAAAEoAAABLAAAATAAAAE4AAABNAAAATQAAAE4AAABPAAAATQAAAE8AAABZAAAATAAAAFgAAABOAAAATgAAAFAAAABPAAAATwAAAFAAAABRAAAATwAAAFEAAABZAAAATgAAAFgAAABQAAAAUAAAAFIAAABRAAAAUQAAAFIAAABTAAAAUQAAAFMAAABZAAAAUAAAAFgAAABSAAAAUgAAAFQAAABTAAAAUwAAAFQAAABVAAAAUwAAAFUAAABZAAAAUgAAAFgAAABUAAAAVAAAAFYAAABVAAAAVQAAAFYAAABXAAAAVQAAAFcAAABZAAAAVAAAAFgAAABWAAAAVgAAAEwAAABXAAAAVwAAAEwAAABNAAAAVwAAAE0AAABZAAAAVgAAAFgAAABMAAAAWgAAAGYAAABnAAAAWwAAAGcAAABoAAAAXAAAAGgAAABpAAAAXQAAAGkAAABqAAAAXgAAAGoAAABrAAAAXwAAAGsAAABsAAAAYAAAAGwAAABtAAAAYQAAAG0AAABuAAAAYgAAAG4AAABvAAAAYwAAAG8AAABwAAAAWgAAAGcAAABbAAAAWwAAAGgAAABcAAAAXAAAAGkAAABdAAAAXQAAAGoAAABeAAAAXgAAAGsAAABfAAAAXwAAAGwAAABgAAAAYAAAAG0AAABhAAAAYQAAAG4AAABiAAAAYgAAAG8AAABjAAAAYwAAAHAAAABkAAAAZAAAAHAAAABxAAAAcgAAAHQAAABzAAAAcwAAAHQAAAB1AAAAcwAAAHUAAAB/AAAAcgAAAH4AAAB0AAAAdAAAAHYAAAB1AAAAdQAAAHYAAAB3AAAAdQAAAHcAAAB/AAAAdAAAAH4AAAB2AAAAdgAAAHgAAAB3AAAAdwAAAHgAAAB5AAAAdwAAAHkAAAB/AAAAdgAAAH4AAAB4AAAAeAAAAHoAAAB5AAAAeQAAAHoAAAB7AAAAeQAAAHsAAAB/AAAAeAAAAH4AAAB6AAAAegAAAHwAAAB7AAAAewAAAHwAAAB9AAAAewAAAH0AAAB/AAAAegAAAH4AAAB8AAAAfAAAAHIAAAB9AAAAfQAAAHIAAABzAAAAfQAAAHMAAAB/AAAAfAAAAH4AAAByAAAAgAAAAIwAAACNAAAAgQAAAI0AAACOAAAAggAAAI4AAACPAAAAgwAAAI8AAACQAAAAhAAAAJAAAACRAAAAhQAAAJEAAACSAAAAhgAAAJIAAACTAAAAhwAAAJMAAACUAAAAiAAAAJQAAACVAAAAiQAAAJUAAACWAAAAgAAAAI0AAACBAAAAgQAAAI4AAACCAAAAggAAAI8AAACDAAAAgwAAAJAAAACEAAAAhAAAAJEAAACFAAAAhQAAAJIAAACGAAAAhgAAAJMAAACHAAAAhwAAAJQAAACIAAAAiAAAAJUAAACJAAAAiQAAAJYAAACKAAAAigAAAJYAAACXAAAAmAAAAJoAAACZAAAAmQAAAJoAAACbAAAAmQAAAJsAAAClAAAAmAAAAKQAAACaAAAAmgAAAJwAAACbAAAAmwAAAJwAAACdAAAAmwAAAJ0AAAClAAAAmgAAAKQAAACcAAAAnAAAAJ4AAACdAAAAnQAAAJ4AAACfAAAAnQAAAJ8AAAClAAAAnAAAAKQAAACeAAAAngAAAKAAAACfAAAAnwAAAKAAAAChAAAAnwAAAKEAAAClAAAAngAAAKQAAACgAAAAoAAAAKIAAAChAAAAoQAAAKIAAACjAAAAoQAAAKMAAAClAAAAoAAAAKQAAACiAAAAogAAAJgAAACjAAAAowAAAJgAAACZAAAAowAAAJkAAAClAAAAogAAAKQAAACYAAAApgAAALIAAACzAAAApwAAALMAAAC0AAAAqAAAALQAAAC1AAAAqQAAALUAAAC2AAAAqgAAALYAAAC3AAAAqwAAALcAAAC4AAAArAAAALgAAAC5AAAArQAAALkAAAC6AAAArgAAALoAAAC7AAAArwAAALsAAAC8AAAApgAAALMAAACnAAAApwAAALQAAACoAAAAqAAAALUAAACpAAAAqQAAALYAAACqAAAAqgAAALcAAACrAAAAqwAAALgAAACsAAAArAAAALkAAACtAAAArQAAALoAAACuAAAArgAAALsAAACvAAAArwAAALwAAACwAAAAsAAAALwAAAC9AAAAvgAAAMAAAAC/AAAAvwAAAMAAAADBAAAAvwAAAMEAAADLAAAAvgAAAMoAAADAAAAAwAAAAMIAAADBAAAAwQAAAMIAAADDAAAAwQAAAMMAAADLAAAAwAAAAMoAAADCAAAAwgAAAMQAAADDAAAAwwAAAMQAAADFAAAAwwAAAMUAAADLAAAAwgAAAMoAAADEAAAAxAAAAMYAAADFAAAAxQAAAMYAAADHAAAAxQAAAMcAAADLAAAAxAAAAMoAAADGAAAAxgAAAMgAAADHAAAAxwAAAMgAAADJAAAAxwAAAMkAAADLAAAAxgAAAMoAAADIAAAAyAAAAL4AAADJAAAAyQAAAL4AAAC/AAAAyQAAAL8AAADLAAAAyAAAAMoAAAC+AAAAzAAAANgAAADZAAAAzQAAANkAAADaAAAAzgAAANoAAADbAAAAzwAAANsAAADcAAAA0AAAANwAAADdAAAA0QAAAN0AAADeAAAA0gAAAN4AAADfAAAA0wAAAN8AAADgAAAA1AAAAOAAAADhAAAA1QAAAOEAAADiAAAAzAAAANkAAADNAAAAzQAAANoAAADOAAAAzgAAANsAAADPAAAAzwAAANwAAADQAAAA0AAAAN0AAADRAAAA0QAAAN4AAADSAAAA0gAAAN8AAADTAAAA0wAAAOAAAADUAAAA1AAAAOEAAADVAAAA1QAAAOIAAADWAAAA1gAAAOIAAADjAAAA5AAAAOYAAADlAAAA5QAAAOYAAADnAAAA5QAAAOcAAADxAAAA5AAAAPAAAADmAAAA5gAAAOgAAADnAAAA5wAAAOgAAADpAAAA5wAAAOkAAADxAAAA5gAAAPAAAADoAAAA6AAAAOoAAADpAAAA6QAAAOoAAADrAAAA6QAAAOsAAADxAAAA6AAAAPAAAADqAAAA6gAAAOwAAADrAAAA6wAAAOwAAADtAAAA6wAAAO0AAADxAAAA6gAAAPAAAADsAAAA7AAAAO4AAADtAAAA7QAAAO4AAADvAAAA7QAAAO8AAADxAAAA7AAAAPAAAADuAAAA7gAAAOQAAADvAAAA7wAAAOQAAADlAAAA7wAAAOUAAADxAAAA7gAAAPAAAADkAAAA8gAAAP4AAAD/AAAA8wAAAP8AAAAAAQAA9AAAAAABAAABAQAA9QAAAAEBAAACAQAA9gAAAAIBAAADAQAA9wAAAAMBAAAEAQAA+AAAAAQBAAAFAQAA+QAAAAUBAAAGAQAA+gAAAAYBAAAHAQAA+wAAAAcBAAAIAQAA8gAAAP8AAADzAAAA8wAAAAABAAD0AAAA9AAAAAEBAAD1AAAA9QAAAAIBAAD2AAAA9gAAAAMBAAD3AAAA9wAAAAQBAAD4AAAA+AAAAAUBAAD5AAAA+QAAAAYBAAD6AAAA+gAAAAcBAAD7AAAA+wAAAAgBAAD8AAAA/AAAAAgBAAAJAQAACgEAAAwBAAALAQAACwEAAAwBAAANAQAACwEAAA0BAAAXAQAACgEAABYBAAAMAQAADAEAAA4BAAANAQAADQEAAA4BAAAPAQAADQEAAA8BAAAXAQAADAEAABYBAAAOAQAADgEAABABAAAPAQAADwEAABABAAARAQAADwEAABEBAAAXAQAADgEAABYBAAAQAQAAEAEAABIBAAARAQAAEQEAABIBAAATAQAAEQEAABMBAAAXAQAAEAEAABYBAAASAQAAEgEAABQBAAATAQAAEwEAABQBAAAVAQAAEwEAABUBAAAXAQAAEgEAABYBAAAUAQAAFAEAAAoBAAAVAQAAFQEAAAoBAAALAQAAFQEAAAsBAAAXAQAAFAEAABYBAAAKAQAAGAEAACQBAAAlAQAAGQEAACUBAAAmAQAAGgEAACYBAAAnAQAAGwEAACcBAAAoAQAAHAEAACgBAAApAQAAHQEAACkBAAAqAQAAHgEAACoBAAArAQAAHwEAACsBAAAsAQAAIAEAACwBAAAtAQAAIQEAAC0BAAAuAQAAGAEAACUBAAAZAQAAGQEAACYBAAAaAQAAGgEAACcBAAAbAQAAGwEAACgBAAAcAQAAHAEAACkBAAAdAQAAHQEAACoBAAAeAQAAHgEAACsBAAAfAQAAHwEAACwBAAAgAQAAIAEAAC0BAAAhAQAAIQEAAC4BAAAiAQAAIgEAAC4BAAAvAQAAMAEAADIBAAAxAQAAMQEAADIBAAAzAQAAMQEAADMBAAA9AQAAMAEAADwBAAAyAQAAMgEAADQBAAAzAQAAMwEAADQBAAA1AQAAMwEAADUBAAA9AQAAMgEAADwBAAA0AQAANAEAADYBAAA1AQAANQEAADYBAAA3AQAANQEAADcBAAA9AQAANAEAADwBAAA2AQAANgEAADgBAAA3AQAANwEAADgBAAA5AQAANwEAADkBAAA9AQAANgEAADwBAAA4AQAAOAEAADoBAAA5AQAAOQEAADoBAAA7AQAAOQEAADsBAAA9AQAAOAEAADwBAAA6AQAAOgEAADABAAA7AQAAOwEAADABAAAxAQAAOwEAADEBAAA9AQAAOgEAADwBAAAwAQAAPgEAAEoBAABLAQAAPwEAAEsBAABMAQAAQAEAAEwBAABNAQAAQQEAAE0BAABOAQAAQgEAAE4BAABPAQAAQwEAAE8BAABQAQAARAEAAFABAABRAQAARQEAAFEBAABSAQAARgEAAFIBAABTAQAARwEAAFMBAABUAQAAPgEAAEsBAAA/AQAAPwEAAEwBAABAAQAAQAEAAE0BAABBAQAAQQEAAE4BAABCAQAAQgEAAE8BAABDAQAAQwEAAFABAABEAQAARAEAAFEBAABFAQAARQEAAFIBAABGAQAARgEAAFMBAABHAQAARwEAAFQBAABIAQAASAEAAFQBAABVAQAAVgEAAFgBAABXAQAAVwEAAFgBAABZAQAAVwEAAFkBAABjAQAAVgEAAGIBAABYAQAAWAEAAFoBAABZAQAAWQEAAFoBAABbAQAAWQEAAFsBAABjAQAAWAEAAGIBAABaAQAAWgEAAFwBAABbAQAAWwEAAFwBAABdAQAAWwEAAF0BAABjAQAAWgEAAGIBAABcAQAAXAEAAF4BAABdAQAAXQEAAF4BAABfAQAAXQEAAF8BAABjAQAAXAEAAGIBAABeAQAAXgEAAGABAABfAQAAXwEAAGABAABhAQAAXwEAAGEBAABjAQAAXgEAAGIBAABgAQAAYAEAAFYBAABhAQAAYQEAAFYBAABXAQAAYQEAAFcBAABjAQAAYAEAAGIBAABWAQAAZAEAAHABAABxAQAAZQEAAHEBAAByAQAAZgEAAHIBAABzAQAAZwEAAHMBAAB0AQAAaAEAAHQBAAB1AQAAaQEAAHUBAAB2AQAAagEAAHYBAAB3AQAAawEAAHcBAAB4AQAAbAEAAHgBAAB5AQAAbQEAAHkBAAB6AQAAZAEAAHEBAABlAQAAZQEAAHIBAABmAQAAZgEAAHMBAABnAQAAZwEAAHQBAABoAQAAaAEAAHUBAABpAQAAaQEAAHYBAABqAQAAagEAAHcBAABrAQAAawEAAHgBAABsAQAAbAEAAHkBAABtAQAAbQEAAHoBAABuAQAAbgEAAHoBAAB7AQAAfAEAAH4BAAB9AQAAfQEAAH4BAAB/AQAAfQEAAH8BAACJAQAAfAEAAIgBAAB+AQAAfgEAAIABAAB/AQAAfwEAAIABAACBAQAAfwEAAIEBAACJAQAAfgEAAIgBAACAAQAAgAEAAIIBAACBAQAAgQEAAIIBAACDAQAAgQEAAIMBAACJAQAAgAEAAIgBAACCAQAAggEAAIQBAACDAQAAgwEAAIQBAACFAQAAgwEAAIUBAACJAQAAggEAAIgBAACEAQAAhAEAAIYBAACFAQAAhQEAAIYBAACHAQAAhQEAAIcBAACJAQAAhAEAAIgBAACGAQAAhgEAAHwBAACHAQAAhwEAAHwBAAB9AQAAhwEAAH0BAACJAQAAhgEAAIgBAAB8AQAAigEAAJYBAACXAQAAiwEAAJcBAACYAQAAjAEAAJgBAACZAQAAjQEAAJkBAACaAQAAjgEAAJoBAACbAQAAjwEAAJsBAACcAQAAkAEAAJwBAACdAQAAkQEAAJ0BAACeAQAAkgEAAJ4BAACfAQAAkwEAAJ8BAACgAQAAigEAAJcBAACLAQAAiwEAAJgBAACMAQAAjAEAAJkBAACNAQAAjQEAAJoBAACOAQAAjgEAAJsBAACPAQAAjwEAAJwBAACQAQAAkAEAAJ0BAACRAQAAkQEAAJ4BAACSAQAAkgEAAJ8BAACTAQAAkwEAAKABAACUAQAAlAEAAKABAAChAQAAogEAAKQBAACjAQAAowEAAKQBAAClAQAAowEAAKUBAACvAQAAogEAAK4BAACkAQAApAEAAKYBAAClAQAApQEAAKYBAACnAQAApQEAAKcBAACvAQAApAEAAK4BAACmAQAApgEAAKgBAACnAQAApwEAAKgBAACpAQAApwEAAKkBAACvAQAApgEAAK4BAACoAQAAqAEAAKoBAACpAQAAqQEAAKoBAACrAQAAqQEAAKsBAACvAQAAqAEAAK4BAACqAQAAqgEAAKwBAACrAQAAqwEAAKwBAACtAQAAqwEAAK0BAACvAQAAqgEAAK4BAACsAQAArAEAAKIBAACtAQAArQEAAKIBAACjAQAArQEAAKMBAACvAQAArAEAAK4BAACiAQAAsAEAALwBAAC9AQAAsQEAAL0BAAC+AQAAsgEAAL4BAAC/AQAAswEAAL8BAADAAQAAtAEAAMABAADBAQAAtQEAAMEBAADCAQAAtgEAAMIBAADDAQAAtwEAAMMBAADEAQAAuAEAAMQBAADFAQAAuQEAAMUBAADGAQAAsAEAAL0BAACxAQAAsQEAAL4BAACyAQAAsgEAAL8BAACzAQAAswEAAMABAAC0AQAAtAEAAMEBAAC1AQAAtQEAAMIBAAC2AQAAtgEAAMMBAAC3AQAAtwEAAMQBAAC4AQAAuAEAAMUBAAC5AQAAuQEAAMYBAAC6AQAAugEAAMYBAADHAQAAyAEAAMoBAADJAQAAyQEAAMoBAADLAQAAyQEAAMsBAADVAQAAyAEAANQBAADKAQAAygEAAMwBAADLAQAAywEAAMwBAADNAQAAywEAAM0BAADVAQAAygEAANQBAADMAQAAzAEAAM4BAADNAQAAzQEAAM4BAADPAQAAzQEAAM8BAADVAQAAzAEAANQBAADOAQAAzgEAANABAADPAQAAzwEAANABAADRAQAAzwEAANEBAADVAQAAzgEAANQBAADQAQAA0AEAANIBAADRAQAA0QEAANIBAADTAQAA0QEAANMBAADVAQAA0AEAANQBAADSAQAA0gEAAMgBAADTAQAA0wEAAMgBAADJAQAA0wEAAMkBAADVAQAA0gEAANQBAADIAQAA1gEAAOIBAADjAQAA1wEAAOMBAADkAQAA2AEAAOQBAADlAQAA2QEAAOUBAADmAQAA2gEAAOYBAADnAQAA2wEAAOcBAADoAQAA3AEAAOgBAADpAQAA3QEAAOkBAADqAQAA3gEAAOoBAADrAQAA3wEAAOsBAADsAQAA1gEAAOMBAADXAQAA1wEAAOQBAADYAQAA2AEAAOUBAADZAQAA2QEAAOYBAADaAQAA2gEAAOcBAADbAQAA2wEAAOgBAADcAQAA3AEAAOkBAADdAQAA3QEAAOoBAADeAQAA3gEAAOsBAADfAQAA3wEAAOwBAADgAQAA4AEAAOwBAADtAQAA7gEAAPABAADvAQAA7wEAAPABAADxAQAA7wEAAPEBAAD7AQAA7gEAAPoBAADwAQAA8AEAAPIBAADxAQAA8QEAAPIBAADzAQAA8QEAAPMBAAD7AQAA8AEAAPoBAADyAQAA8gEAAPQBAADzAQAA8wEAAPQBAAD1AQAA8wEAAPUBAAD7AQAA8gEAAPoBAAD0AQAA9AEAAPYBAAD1AQAA9QEAAPYBAAD3AQAA9QEAAPcBAAD7AQAA9AEAAPoBAAD2AQAA9gEAAPgBAAD3AQAA9wEAAPgBAAD5AQAA9wEAAPkBAAD7AQAA9gEAAPoBAAD4AQAA+AEAAO4BAAD5AQAA+QEAAO4BAADvAQAA+QEAAO8BAAD7AQAA+AEAAPoBAADuAQAA/AEAAAgCAAAJAgAA/QEAAAkCAAAKAgAA/gEAAAoCAAALAgAA/wEAAAsCAAAMAgAAAAIAAAwCAAANAgAAAQIAAA0CAAAOAgAAAgIAAA4CAAAPAgAAAwIAAA8CAAAQAgAABAIAABACAAARAgAABQIAABECAAASAgAA/AEAAAkCAAD9AQAA/QEAAAoCAAD+AQAA/gEAAAsCAAD/AQAA/wEAAAwCAAAAAgAAAAIAAA0CAAABAgAAAQIAAA4CAAACAgAAAgIAAA8CAAADAgAAAwIAABACAAAEAgAABAIAABECAAAFAgAABQIAABICAAAGAgAABgIAABICAAATAgAAFAIAABYCAAAVAgAAFQIAABYCAAAXAgAAFQIAABcCAAAhAgAAFAIAACACAAAWAgAAFgIAABgCAAAXAgAAFwIAABgCAAAZAgAAFwIAABkCAAAhAgAAFgIAACACAAAYAgAAGAIAABoCAAAZAgAAGQIAABoCAAAbAgAAGQIAABsCAAAhAgAAGAIAACACAAAaAgAAGgIAABwCAAAbAgAAGwIAABwCAAAdAgAAGwIAAB0CAAAhAgAAGgIAACACAAAcAgAAHAIAAB4CAAAdAgAAHQIAAB4CAAAfAgAAHQIAAB8CAAAhAgAAHAIAACACAAAeAgAAHgIAABQCAAAfAgAAHwIAABQCAAAVAgAAHwIAABUCAAAhAgAAHgIAACACAAAUAgAAIgIAAC4CAAAvAgAAIwIAAC8CAAAwAgAAJAIAADACAAAxAgAAJQIAADECAAAyAgAAJgIAADICAAAzAgAAJwIAADMCAAA0AgAAKAIAADQCAAA1AgAAKQIAADUCAAA2AgAAKgIAADYCAAA3AgAAKwIAADcCAAA4AgAAIgIAAC8CAAAjAgAAIwIAADACAAAkAgAAJAIAADECAAAlAgAAJQIAADICAAAmAgAAJgIAADMCAAAnAgAAJwIAADQCAAAoAgAAKAIAADUCAAApAgAAKQIAADYCAAAqAgAAKgIAADcCAAArAgAAKwIAADgCAAAsAgAALAIAADgCAAA5AgAAOgIAADwCAAA7AgAAOwIAADwCAAA9AgAAOwIAAD0CAABHAgAAOgIAAEYCAAA8AgAAPAIAAD4CAAA9AgAAPQIAAD4CAAA/AgAAPQIAAD8CAABHAgAAPAIAAEYCAAA+AgAAPgIAAEACAAA/AgAAPwIAAEACAABBAgAAPwIAAEECAABHAgAAPgIAAEYCAABAAgAAQAIAAEICAABBAgAAQQIAAEICAABDAgAAQQIAAEMCAABHAgAAQAIAAEYCAABCAgAAQgIAAEQCAABDAgAAQwIAAEQCAABFAgAAQwIAAEUCAABHAgAAQgIAAEYCAABEAgAARAIAADoCAABFAgAARQIAADoCAAA7AgAARQIAADsCAABHAgAARAIAAEYCAAA6AgAASAIAAFQCAABVAgAASQIAAFUCAABWAgAASgIAAFYCAABXAgAASwIAAFcCAABYAgAATAIAAFgCAABZAgAATQIAAFkCAABaAgAATgIAAFoCAABbAgAATwIAAFsCAABcAgAAUAIAAFwCAABdAgAAUQIAAF0CAABeAgAASAIAAFUCAABJAgAASQIAAFYCAABKAgAASgIAAFcCAABLAgAASwIAAFgCAABMAgAATAIAAFkCAABNAgAATQIAAFoCAABOAgAATgIAAFsCAABPAgAATwIAAFwCAABQAgAAUAIAAF0CAABRAgAAUQIAAF4CAABSAgAAUgIAAF4CAABfAgAAYAIAAGICAABhAgAAYQIAAGICAABjAgAAYQIAAGMCAABtAgAAYAIAAGwCAABiAgAAYgIAAGQCAABjAgAAYwIAAGQCAABlAgAAYwIAAGUCAABtAgAAYgIAAGwCAABkAgAAZAIAAGYCAABlAgAAZQIAAGYCAABnAgAAZQIAAGcCAABtAgAAZAIAAGwCAABmAgAAZgIAAGgCAABnAgAAZwIAAGgCAABpAgAAZwIAAGkCAABtAgAAZgIAAGwCAABoAgAAaAIAAGoCAABpAgAAaQIAAGoCAABrAgAAaQIAAGsCAABtAgAAaAIAAGwCAABqAgAAagIAAGACAABrAgAAawIAAGACAABhAgAAawIAAGECAABtAgAAagIAAGwCAABgAgAAbgIAAHoCAAB7AgAAbwIAAHsCAAB8AgAAcAIAAHwCAAB9AgAAcQIAAH0CAAB+AgAAcgIAAH4CAAB/AgAAcwIAAH8CAACAAgAAdAIAAIACAACBAgAAdQIAAIECAACCAgAAdgIAAIICAACDAgAAdwIAAIMCAACEAgAAbgIAAHsCAABvAgAAbwIAAHwCAABwAgAAcAIAAH0CAABxAgAAcQIAAH4CAAByAgAAcgIAAH8CAABzAgAAcwIAAIACAAB0AgAAdAIAAIECAAB1AgAAdQIAAIICAAB2AgAAdgIAAIMCAAB3AgAAdwIAAIQCAAB4AgAAeAIAAIQCAACFAgAA",
        "encoding": "base64",
        "path": [
         "indices",
         "data"
        ]
       },
       {
        "data": "AACAPwAAAAAAAAAAAAAAAAAAAAAAAIA/AAAAAAAAAAAAAAAAAAAAAAAAgD8AAAAAAAAAAAAAAAAAAAAAAACAPw==",
        "encoding": "base64",
        "path": [
         "model_matrix",
         "data"
        ]
       },
       {
        "data": "",
        "encoding": "base64",
        "path": [
         "normals",
         "data"
        ]
       },
       {
        "data": "",
        "encoding": "base64",
        "path": [
         "opacity_function",
         "data"
        ]
       },
       {
        "data": "",
        "encoding": "base64",
        "path": [
         "triangles_attribute",
         "data"
        ]
       },
       {
        "data": "AADAfw==",
        "encoding": "base64",
        "path": [
         "uvs",
         "data"
        ]
       },
       {
        "data": "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",
        "encoding": "base64",
        "path": [
         "vertices",
         "data"
        ]
       },
       {
        "data": "",
        "encoding": "base64",
        "path": [
         "volume",
         "data"
        ]
       },
       {
        "data": "",
        "encoding": "base64",
        "path": [
         "volume_bounds",
         "data"
        ]
       }
      ],
      "model_module": "k3d",
      "model_module_version": "2.16.1",
      "model_name": "ObjectModel",
      "state": {
       "_view_module": null,
       "_view_module_version": "",
       "_view_name": null,
       "attribute": {
        "dtype": "float32",
        "shape": [
         0
        ]
       },
       "click_callback": false,
       "color": 3302400,
       "colorLegend": false,
       "color_map": {
        "dtype": "float32",
        "shape": [
         1024
        ]
       },
       "color_range": [],
       "colors": {
        "dtype": "uint32",
        "shape": [
         0
        ]
       },
       "compression_level": 0,
       "custom_data": null,
       "flat_shading": true,
       "group": null,
       "hover_callback": false,
       "id": 2142435406288,
       "indices": {
        "dtype": "uint32",
        "shape": [
         765,
         3
        ]
       },
       "model_matrix": {
        "dtype": "float32",
        "shape": [
         4,
         4
        ]
       },
       "name": "Mesh #1",
       "normals": {
        "dtype": "float32",
        "shape": [
         0
        ]
       },
       "opacity": 1,
       "opacity_function": {
        "dtype": "float32",
        "shape": [
         0
        ]
       },
       "side": "front",
       "texture": null,
       "texture_file_format": null,
       "triangles_attribute": {
        "dtype": "float32",
        "shape": [
         0
        ]
       },
       "type": "Mesh",
       "uvs": {
        "dtype": "float32",
        "shape": []
       },
       "vertices": {
        "dtype": "float32",
        "shape": [
         646,
         3
        ]
       },
       "visible": true,
       "volume": {
        "dtype": "float32",
        "shape": [
         0
        ]
       },
       "volume_bounds": {
        "dtype": "float32",
        "shape": [
         0
        ]
       },
       "wireframe": false
      }
     },
     "0aab79bc10ba47df9571e6f2d442a268": {
      "model_module": "@jupyter-widgets/controls",
      "model_module_version": "2.0.0",
      "model_name": "VBoxModel",
      "state": {
       "_dom_classes": [
        "widget-interact"
       ],
       "children": [
        "IPY_MODEL_4e50359754de451cabe9cc49b6b49e55",
        "IPY_MODEL_8f14e8698bc64d20aa84be9633271d28"
       ],
       "layout": "IPY_MODEL_403bb95e8f3f4184b3ba8c9483243497"
      }
     },
     "262852efe14f4e01b71ae65b0e09be93": {
      "model_module": "@jupyter-widgets/base",
      "model_module_version": "2.0.0",
      "model_name": "LayoutModel",
      "state": {}
     },
     "2c9a6038a5074ccca8f40e5ba2b2f9cc": {
      "model_module": "@jupyter-widgets/base",
      "model_module_version": "2.0.0",
      "model_name": "LayoutModel",
      "state": {}
     },
     "403bb95e8f3f4184b3ba8c9483243497": {
      "model_module": "@jupyter-widgets/base",
      "model_module_version": "2.0.0",
      "model_name": "LayoutModel",
      "state": {}
     },
     "4e50359754de451cabe9cc49b6b49e55": {
      "model_module": "@jupyter-widgets/controls",
      "model_module_version": "2.0.0",
      "model_name": "IntSliderModel",
      "state": {
       "behavior": "drag-tap",
       "description": "time",
       "layout": "IPY_MODEL_262852efe14f4e01b71ae65b0e09be93",
       "max": 2000,
       "min": 20,
       "step": 100,
       "style": "IPY_MODEL_e7ff4edb98f04302a9265be4120dc52d",
       "value": 1020
      }
     },
     "6aeaa81c0349413586fc8c055689e39e": {
      "model_module": "k3d",
      "model_module_version": "2.16.1",
      "model_name": "PlotModel",
      "state": {
       "_backend_version": "2.16.1",
       "antialias": 3,
       "auto_rendering": true,
       "axes": [
        "x",
        "y",
        "z"
       ],
       "axes_helper": 1,
       "axes_helper_colors": [
        16711680,
        65280,
        255
       ],
       "background_color": 16777215,
       "camera": [
        194.79404235059405,
        -292.68081915638425,
        112.07696549909767,
        -0.3265037536621094,
        0,
        92.56491088867188,
        0,
        0,
        1
       ],
       "camera_animation": [],
       "camera_auto_fit": true,
       "camera_damping_factor": 0,
       "camera_fov": 60,
       "camera_mode": "trackball",
       "camera_no_pan": false,
       "camera_no_rotate": false,
       "camera_no_zoom": false,
       "camera_pan_speed": 0.3,
       "camera_rotate_speed": 1,
       "camera_zoom_speed": 1.2,
       "clipping_planes": [],
       "colorbar_object_id": -1,
       "colorbar_scientific": false,
       "custom_data": null,
       "fps": 25,
       "fps_meter": false,
       "grid": [
        -1,
        -1,
        -1,
        1,
        1,
        1
       ],
       "grid_auto_fit": true,
       "grid_color": 15132390,
       "grid_visible": true,
       "height": 512,
       "label_color": 4473924,
       "layout": "IPY_MODEL_e3046dc2db484679aa48d43e20a179f2",
       "lighting": 3,
       "logarithmic_depth_buffer": true,
       "manipulate_mode": "translate",
       "menu_visibility": true,
       "minimum_fps": -1,
       "mode": "view",
       "name": null,
       "object_ids": [
        2142435406288
       ],
       "rendering_steps": 1,
       "screenshot": "",
       "screenshot_scale": 2,
       "snapshot": "",
       "snapshot_type": "full",
       "time": 0,
       "voxel_paint_color": 0
      }
     },
     "7f2e69da18ba4e748cd43a253058c691": {
      "model_module": "jupyter-matplotlib",
      "model_module_version": "^0.11",
      "model_name": "ToolbarModel",
      "state": {
       "_model_module_version": "^0.11",
       "_view_module_version": "^0.11",
       "collapsed": true,
       "layout": "IPY_MODEL_9c4d56d2680545fc89ae58d8821bc2f2",
       "orientation": "vertical",
       "toolitems": [
        [
         "Home",
         "Reset original view",
         "home",
         "home"
        ],
        [
         "Back",
         "Back to previous view",
         "arrow-left",
         "back"
        ],
        [
         "Forward",
         "Forward to next view",
         "arrow-right",
         "forward"
        ],
        [
         "Pan",
         "Left button pans, Right button zooms\nx/y fixes axis, CTRL fixes aspect",
         "arrows",
         "pan"
        ],
        [
         "Zoom",
         "Zoom to rectangle\nx/y fixes axis",
         "square-o",
         "zoom"
        ],
        [
         "Download",
         "Download plot",
         "floppy-o",
         "save_figure"
        ]
       ]
      }
     },
     "8f14e8698bc64d20aa84be9633271d28": {
      "model_module": "@jupyter-widgets/output",
      "model_module_version": "1.0.0",
      "model_name": "OutputModel",
      "state": {
       "layout": "IPY_MODEL_06047af097d64298b0caafc675b1743a",
       "outputs": [
        {
         "data": {
          "application/vnd.jupyter.widget-view+json": {
           "model_id": "ddece0ff811146b2961daa8657c722a3",
           "version_major": 2,
           "version_minor": 0
          },
          "text/plain": "Plot(antialias=3, axes=['x', 'y', 'z'], axes_helper=1.0, axes_helper_colors=[16711680, 65280, 255], background…"
         },
         "metadata": {},
         "output_type": "display_data"
        }
       ]
      }
     },
     "9c4d56d2680545fc89ae58d8821bc2f2": {
      "model_module": "@jupyter-widgets/base",
      "model_module_version": "2.0.0",
      "model_name": "LayoutModel",
      "state": {}
     },
     "9dc79402a6db4fdbb2302951dd97b0b1": {
      "model_module": "@jupyter-widgets/base",
      "model_module_version": "2.0.0",
      "model_name": "LayoutModel",
      "state": {}
     },
     "a9dc2e9418ec4fd190e993a235191475": {
      "buffers": [
       {
        "data": "",
        "encoding": "base64",
        "path": [
         "attribute",
         "data"
        ]
       },
       {
        "data": "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",
        "encoding": "base64",
        "path": [
         "color_map",
         "data"
        ]
       },
       {
        "data": "",
        "encoding": "base64",
        "path": [
         "colors",
         "data"
        ]
       },
       {
        "data": "AAAAAAIAAAABAAAAAQAAAAIAAAADAAAAAQAAAAMAAAANAAAAAAAAAAwAAAACAAAAAgAAAAQAAAADAAAAAwAAAAQAAAAFAAAAAwAAAAUAAAANAAAAAgAAAAwAAAAEAAAABAAAAAYAAAAFAAAABQAAAAYAAAAHAAAABQAAAAcAAAANAAAABAAAAAwAAAAGAAAABgAAAAgAAAAHAAAABwAAAAgAAAAJAAAABwAAAAkAAAANAAAABgAAAAwAAAAIAAAACAAAAAoAAAAJAAAACQAAAAoAAAALAAAACQAAAAsAAAANAAAACAAAAAwAAAAKAAAACgAAAAAAAAALAAAACwAAAAAAAAABAAAACwAAAAEAAAANAAAACgAAAAwAAAAAAAAADgAAABoAAAAbAAAADwAAABsAAAAcAAAAEAAAABwAAAAdAAAAEQAAAB0AAAAeAAAAEgAAAB4AAAAfAAAAEwAAAB8AAAAgAAAAFAAAACAAAAAhAAAAFQAAACEAAAAiAAAAFgAAACIAAAAjAAAAFwAAACMAAAAkAAAADgAAABsAAAAPAAAADwAAABwAAAAQAAAAEAAAAB0AAAARAAAAEQAAAB4AAAASAAAAEgAAAB8AAAATAAAAEwAAACAAAAAUAAAAFAAAACEAAAAVAAAAFQAAACIAAAAWAAAAFgAAACMAAAAXAAAAFwAAACQAAAAYAAAAGAAAACQAAAAlAAAAJgAAACgAAAAnAAAAJwAAACgAAAApAAAAJwAAACkAAAAzAAAAJgAAADIAAAAoAAAAKAAAACoAAAApAAAAKQAAACoAAAArAAAAKQAAACsAAAAzAAAAKAAAADIAAAAqAAAAKgAAACwAAAArAAAAKwAAACwAAAAtAAAAKwAAAC0AAAAzAAAAKgAAADIAAAAsAAAALAAAAC4AAAAtAAAALQAAAC4AAAAvAAAALQAAAC8AAAAzAAAALAAAADIAAAAuAAAALgAAADAAAAAvAAAALwAAADAAAAAxAAAALwAAADEAAAAzAAAALgAAADIAAAAwAAAAMAAAACYAAAAxAAAAMQAAACYAAAAnAAAAMQAAACcAAAAzAAAAMAAAADIAAAAmAAAANAAAAEAAAABBAAAANQAAAEEAAABCAAAANgAAAEIAAABDAAAANwAAAEMAAABEAAAAOAAAAEQAAABFAAAAOQAAAEUAAABGAAAAOgAAAEYAAABHAAAAOwAAAEcAAABIAAAAPAAAAEgAAABJAAAAPQAAAEkAAABKAAAANAAAAEEAAAA1AAAANQAAAEIAAAA2AAAANgAAAEMAAAA3AAAANwAAAEQAAAA4AAAAOAAAAEUAAAA5AAAAOQAAAEYAAAA6AAAAOgAAAEcAAAA7AAAAOwAAAEgAAAA8AAAAPAAAAEkAAAA9AAAAPQAAAEoAAAA+AAAAPgAAAEoAAABLAAAATAAAAE4AAABNAAAATQAAAE4AAABPAAAATQAAAE8AAABZAAAATAAAAFgAAABOAAAATgAAAFAAAABPAAAATwAAAFAAAABRAAAATwAAAFEAAABZAAAATgAAAFgAAABQAAAAUAAAAFIAAABRAAAAUQAAAFIAAABTAAAAUQAAAFMAAABZAAAAUAAAAFgAAABSAAAAUgAAAFQAAABTAAAAUwAAAFQAAABVAAAAUwAAAFUAAABZAAAAUgAAAFgAAABUAAAAVAAAAFYAAABVAAAAVQAAAFYAAABXAAAAVQAAAFcAAABZAAAAVAAAAFgAAABWAAAAVgAAAEwAAABXAAAAVwAAAEwAAABNAAAAVwAAAE0AAABZAAAAVgAAAFgAAABMAAAAWgAAAGYAAABnAAAAWwAAAGcAAABoAAAAXAAAAGgAAABpAAAAXQAAAGkAAABqAAAAXgAAAGoAAABrAAAAXwAAAGsAAABsAAAAYAAAAGwAAABtAAAAYQAAAG0AAABuAAAAYgAAAG4AAABvAAAAYwAAAG8AAABwAAAAWgAAAGcAAABbAAAAWwAAAGgAAABcAAAAXAAAAGkAAABdAAAAXQAAAGoAAABeAAAAXgAAAGsAAABfAAAAXwAAAGwAAABgAAAAYAAAAG0AAABhAAAAYQAAAG4AAABiAAAAYgAAAG8AAABjAAAAYwAAAHAAAABkAAAAZAAAAHAAAABxAAAAcgAAAHQAAABzAAAAcwAAAHQAAAB1AAAAcwAAAHUAAAB/AAAAcgAAAH4AAAB0AAAAdAAAAHYAAAB1AAAAdQAAAHYAAAB3AAAAdQAAAHcAAAB/AAAAdAAAAH4AAAB2AAAAdgAAAHgAAAB3AAAAdwAAAHgAAAB5AAAAdwAAAHkAAAB/AAAAdgAAAH4AAAB4AAAAeAAAAHoAAAB5AAAAeQAAAHoAAAB7AAAAeQAAAHsAAAB/AAAAeAAAAH4AAAB6AAAAegAAAHwAAAB7AAAAewAAAHwAAAB9AAAAewAAAH0AAAB/AAAAegAAAH4AAAB8AAAAfAAAAHIAAAB9AAAAfQAAAHIAAABzAAAAfQAAAHMAAAB/AAAAfAAAAH4AAAByAAAAgAAAAIwAAACNAAAAgQAAAI0AAACOAAAAggAAAI4AAACPAAAAgwAAAI8AAACQAAAAhAAAAJAAAACRAAAAhQAAAJEAAACSAAAAhgAAAJIAAACTAAAAhwAAAJMAAACUAAAAiAAAAJQAAACVAAAAiQAAAJUAAACWAAAAgAAAAI0AAACBAAAAgQAAAI4AAACCAAAAggAAAI8AAACDAAAAgwAAAJAAAACEAAAAhAAAAJEAAACFAAAAhQAAAJIAAACGAAAAhgAAAJMAAACHAAAAhwAAAJQAAACIAAAAiAAAAJUAAACJAAAAiQAAAJYAAACKAAAAigAAAJYAAACXAAAAmAAAAJoAAACZAAAAmQAAAJoAAACbAAAAmQAAAJsAAAClAAAAmAAAAKQAAACaAAAAmgAAAJwAAACbAAAAmwAAAJwAAACdAAAAmwAAAJ0AAAClAAAAmgAAAKQAAACcAAAAnAAAAJ4AAACdAAAAnQAAAJ4AAACfAAAAnQAAAJ8AAAClAAAAnAAAAKQAAACeAAAAngAAAKAAAACfAAAAnwAAAKAAAAChAAAAnwAAAKEAAAClAAAAngAAAKQAAACgAAAAoAAAAKIAAAChAAAAoQAAAKIAAACjAAAAoQAAAKMAAAClAAAAoAAAAKQAAACiAAAAogAAAJgAAACjAAAAowAAAJgAAACZAAAAowAAAJkAAAClAAAAogAAAKQAAACYAAAApgAAALIAAACzAAAApwAAALMAAAC0AAAAqAAAALQAAAC1AAAAqQAAALUAAAC2AAAAqgAAALYAAAC3AAAAqwAAALcAAAC4AAAArAAAALgAAAC5AAAArQAAALkAAAC6AAAArgAAALoAAAC7AAAArwAAALsAAAC8AAAApgAAALMAAACnAAAApwAAALQAAACoAAAAqAAAALUAAACpAAAAqQAAALYAAACqAAAAqgAAALcAAACrAAAAqwAAALgAAACsAAAArAAAALkAAACtAAAArQAAALoAAACuAAAArgAAALsAAACvAAAArwAAALwAAACwAAAAsAAAALwAAAC9AAAAvgAAAMAAAAC/AAAAvwAAAMAAAADBAAAAvwAAAMEAAADLAAAAvgAAAMoAAADAAAAAwAAAAMIAAADBAAAAwQAAAMIAAADDAAAAwQAAAMMAAADLAAAAwAAAAMoAAADCAAAAwgAAAMQAAADDAAAAwwAAAMQAAADFAAAAwwAAAMUAAADLAAAAwgAAAMoAAADEAAAAxAAAAMYAAADFAAAAxQAAAMYAAADHAAAAxQAAAMcAAADLAAAAxAAAAMoAAADGAAAAxgAAAMgAAADHAAAAxwAAAMgAAADJAAAAxwAAAMkAAADLAAAAxgAAAMoAAADIAAAAyAAAAL4AAADJAAAAyQAAAL4AAAC/AAAAyQAAAL8AAADLAAAAyAAAAMoAAAC+AAAAzAAAANgAAADZAAAAzQAAANkAAADaAAAAzgAAANoAAADbAAAAzwAAANsAAADcAAAA0AAAANwAAADdAAAA0QAAAN0AAADeAAAA0gAAAN4AAADfAAAA0wAAAN8AAADgAAAA1AAAAOAAAADhAAAA1QAAAOEAAADiAAAAzAAAANkAAADNAAAAzQAAANoAAADOAAAAzgAAANsAAADPAAAAzwAAANwAAADQAAAA0AAAAN0AAADRAAAA0QAAAN4AAADSAAAA0gAAAN8AAADTAAAA0wAAAOAAAADUAAAA1AAAAOEAAADVAAAA1QAAAOIAAADWAAAA1gAAAOIAAADjAAAA5AAAAOYAAADlAAAA5QAAAOYAAADnAAAA5QAAAOcAAADxAAAA5AAAAPAAAADmAAAA5gAAAOgAAADnAAAA5wAAAOgAAADpAAAA5wAAAOkAAADxAAAA5gAAAPAAAADoAAAA6AAAAOoAAADpAAAA6QAAAOoAAADrAAAA6QAAAOsAAADxAAAA6AAAAPAAAADqAAAA6gAAAOwAAADrAAAA6wAAAOwAAADtAAAA6wAAAO0AAADxAAAA6gAAAPAAAADsAAAA7AAAAO4AAADtAAAA7QAAAO4AAADvAAAA7QAAAO8AAADxAAAA7AAAAPAAAADuAAAA7gAAAOQAAADvAAAA7wAAAOQAAADlAAAA7wAAAOUAAADxAAAA7gAAAPAAAADkAAAA8gAAAP4AAAD/AAAA8wAAAP8AAAAAAQAA9AAAAAABAAABAQAA9QAAAAEBAAACAQAA9gAAAAIBAAADAQAA9wAAAAMBAAAEAQAA+AAAAAQBAAAFAQAA+QAAAAUBAAAGAQAA+gAAAAYBAAAHAQAA+wAAAAcBAAAIAQAA8gAAAP8AAADzAAAA8wAAAAABAAD0AAAA9AAAAAEBAAD1AAAA9QAAAAIBAAD2AAAA9gAAAAMBAAD3AAAA9wAAAAQBAAD4AAAA+AAAAAUBAAD5AAAA+QAAAAYBAAD6AAAA+gAAAAcBAAD7AAAA+wAAAAgBAAD8AAAA/AAAAAgBAAAJAQAACgEAAAwBAAALAQAACwEAAAwBAAANAQAACwEAAA0BAAAXAQAACgEAABYBAAAMAQAADAEAAA4BAAANAQAADQEAAA4BAAAPAQAADQEAAA8BAAAXAQAADAEAABYBAAAOAQAADgEAABABAAAPAQAADwEAABABAAARAQAADwEAABEBAAAXAQAADgEAABYBAAAQAQAAEAEAABIBAAARAQAAEQEAABIBAAATAQAAEQEAABMBAAAXAQAAEAEAABYBAAASAQAAEgEAABQBAAATAQAAEwEAABQBAAAVAQAAEwEAABUBAAAXAQAAEgEAABYBAAAUAQAAFAEAAAoBAAAVAQAAFQEAAAoBAAALAQAAFQEAAAsBAAAXAQAAFAEAABYBAAAKAQAAGAEAACQBAAAlAQAAGQEAACUBAAAmAQAAGgEAACYBAAAnAQAAGwEAACcBAAAoAQAAHAEAACgBAAApAQAAHQEAACkBAAAqAQAAHgEAACoBAAArAQAAHwEAACsBAAAsAQAAIAEAACwBAAAtAQAAIQEAAC0BAAAuAQAAGAEAACUBAAAZAQAAGQEAACYBAAAaAQAAGgEAACcBAAAbAQAAGwEAACgBAAAcAQAAHAEAACkBAAAdAQAAHQEAACoBAAAeAQAAHgEAACsBAAAfAQAAHwEAACwBAAAgAQAAIAEAAC0BAAAhAQAAIQEAAC4BAAAiAQAAIgEAAC4BAAAvAQAAMAEAADIBAAAxAQAAMQEAADIBAAAzAQAAMQEAADMBAAA9AQAAMAEAADwBAAAyAQAAMgEAADQBAAAzAQAAMwEAADQBAAA1AQAAMwEAADUBAAA9AQAAMgEAADwBAAA0AQAANAEAADYBAAA1AQAANQEAADYBAAA3AQAANQEAADcBAAA9AQAANAEAADwBAAA2AQAANgEAADgBAAA3AQAANwEAADgBAAA5AQAANwEAADkBAAA9AQAANgEAADwBAAA4AQAAOAEAADoBAAA5AQAAOQEAADoBAAA7AQAAOQEAADsBAAA9AQAAOAEAADwBAAA6AQAAOgEAADABAAA7AQAAOwEAADABAAAxAQAAOwEAADEBAAA9AQAAOgEAADwBAAAwAQAAPgEAAEwBAABNAQAAPwEAAE0BAABOAQAAQAEAAE4BAABPAQAAQQEAAE8BAABQAQAAQgEAAFABAABRAQAAQwEAAFEBAABSAQAARAEAAFIBAABTAQAARQEAAFMBAABUAQAARgEAAFQBAABVAQAARwEAAFUBAABWAQAASAEAAFYBAABXAQAASQEAAFcBAABYAQAAPgEAAE0BAAA/AQAAPwEAAE4BAABAAQAAQAEAAE8BAABBAQAAQQEAAFABAABCAQAAQgEAAFEBAABDAQAAQwEAAFIBAABEAQAARAEAAFMBAABFAQAARQEAAFQBAABGAQAARgEAAFUBAABHAQAARwEAAFYBAABIAQAASAEAAFcBAABJAQAASQEAAFgBAABKAQAASgEAAFgBAABZAQAAWgEAAFwBAABbAQAAWwEAAFwBAABdAQAAWwEAAF0BAABnAQAAWgEAAGYBAABcAQAAXAEAAF4BAABdAQAAXQEAAF4BAABfAQAAXQEAAF8BAABnAQAAXAEAAGYBAABeAQAAXgEAAGABAABfAQAAXwEAAGABAABhAQAAXwEAAGEBAABnAQAAXgEAAGYBAABgAQAAYAEAAGIBAABhAQAAYQEAAGIBAABjAQAAYQEAAGMBAABnAQAAYAEAAGYBAABiAQAAYgEAAGQBAABjAQAAYwEAAGQBAABlAQAAYwEAAGUBAABnAQAAYgEAAGYBAABkAQAAZAEAAFoBAABlAQAAZQEAAFoBAABbAQAAZQEAAFsBAABnAQAAZAEAAGYBAABaAQAAaAEAAGoBAABrAQAAaAEAAGsBAABpAQAAaAEAAGoBAABrAQAA",
        "encoding": "base64",
        "path": [
         "indices",
         "data"
        ]
       },
       {
        "data": "AACAPwAAAAAAAAAAAAAAAAAAAAAAAIA/AAAAAAAAAAAAAAAAAAAAAAAAgD8AAAAAAAAAAAAAAAAAAAAAAACAPw==",
        "encoding": "base64",
        "path": [
         "model_matrix",
         "data"
        ]
       },
       {
        "data": "",
        "encoding": "base64",
        "path": [
         "normals",
         "data"
        ]
       },
       {
        "data": "",
        "encoding": "base64",
        "path": [
         "opacity_function",
         "data"
        ]
       },
       {
        "data": "",
        "encoding": "base64",
        "path": [
         "triangles_attribute",
         "data"
        ]
       },
       {
        "data": "AADAfw==",
        "encoding": "base64",
        "path": [
         "uvs",
         "data"
        ]
       },
       {
        "data": "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",
        "encoding": "base64",
        "path": [
         "vertices",
         "data"
        ]
       },
       {
        "data": "",
        "encoding": "base64",
        "path": [
         "volume",
         "data"
        ]
       },
       {
        "data": "",
        "encoding": "base64",
        "path": [
         "volume_bounds",
         "data"
        ]
       }
      ],
      "model_module": "k3d",
      "model_module_version": "2.16.1",
      "model_name": "ObjectModel",
      "state": {
       "_view_module": null,
       "_view_module_version": "",
       "_view_name": null,
       "attribute": {
        "dtype": "float32",
        "shape": [
         0
        ]
       },
       "click_callback": false,
       "color": 3302400,
       "colorLegend": false,
       "color_map": {
        "dtype": "float32",
        "shape": [
         1024
        ]
       },
       "color_range": [],
       "colors": {
        "dtype": "uint32",
        "shape": [
         0
        ]
       },
       "compression_level": 0,
       "custom_data": null,
       "flat_shading": true,
       "group": null,
       "hover_callback": false,
       "id": 2142445557936,
       "indices": {
        "dtype": "uint32",
        "shape": [
         436,
         3
        ]
       },
       "model_matrix": {
        "dtype": "float32",
        "shape": [
         4,
         4
        ]
       },
       "name": "Mesh #1",
       "normals": {
        "dtype": "float32",
        "shape": [
         0
        ]
       },
       "opacity": 1,
       "opacity_function": {
        "dtype": "float32",
        "shape": [
         0
        ]
       },
       "side": "front",
       "texture": null,
       "texture_file_format": null,
       "triangles_attribute": {
        "dtype": "float32",
        "shape": [
         0
        ]
       },
       "type": "Mesh",
       "uvs": {
        "dtype": "float32",
        "shape": []
       },
       "vertices": {
        "dtype": "float32",
        "shape": [
         364,
         3
        ]
       },
       "visible": true,
       "volume": {
        "dtype": "float32",
        "shape": [
         0
        ]
       },
       "volume_bounds": {
        "dtype": "float32",
        "shape": [
         0
        ]
       },
       "wireframe": false
      }
     },
     "b03490858d194f90883279f4a3fefb0b": {
      "model_module": "k3d",
      "model_module_version": "2.16.1",
      "model_name": "PlotModel",
      "state": {
       "_backend_version": "2.16.1",
       "antialias": 3,
       "auto_rendering": true,
       "axes": [
        "x",
        "y",
        "z"
       ],
       "axes_helper": 1,
       "axes_helper_colors": [
        16711680,
        65280,
        255
       ],
       "background_color": 16777215,
       "camera": [],
       "camera_animation": [],
       "camera_auto_fit": true,
       "camera_damping_factor": 0,
       "camera_fov": 60,
       "camera_mode": "trackball",
       "camera_no_pan": false,
       "camera_no_rotate": false,
       "camera_no_zoom": false,
       "camera_pan_speed": 0.3,
       "camera_rotate_speed": 1,
       "camera_zoom_speed": 1.2,
       "clipping_planes": [],
       "colorbar_object_id": -1,
       "colorbar_scientific": false,
       "custom_data": null,
       "fps": 25,
       "fps_meter": false,
       "grid": [
        -1,
        -1,
        -1,
        1,
        1,
        1
       ],
       "grid_auto_fit": true,
       "grid_color": 15132390,
       "grid_visible": true,
       "height": 512,
       "label_color": 4473924,
       "layout": "IPY_MODEL_2c9a6038a5074ccca8f40e5ba2b2f9cc",
       "lighting": 3,
       "logarithmic_depth_buffer": true,
       "manipulate_mode": "translate",
       "menu_visibility": true,
       "minimum_fps": -1,
       "mode": "view",
       "name": null,
       "object_ids": [
        2142445557936
       ],
       "rendering_steps": 1,
       "screenshot": "",
       "screenshot_scale": 2,
       "snapshot": "",
       "snapshot_type": "full",
       "time": 0,
       "voxel_paint_color": 0
      }
     },
     "c8b268b24fa24c368a4ed11f73dbc50a": {
      "model_module": "@jupyter-widgets/base",
      "model_module_version": "2.0.0",
      "model_name": "LayoutModel",
      "state": {}
     },
     "ddece0ff811146b2961daa8657c722a3": {
      "model_module": "k3d",
      "model_module_version": "2.16.1",
      "model_name": "PlotModel",
      "state": {
       "_backend_version": "2.16.1",
       "antialias": 3,
       "auto_rendering": true,
       "axes": [
        "x",
        "y",
        "z"
       ],
       "axes_helper": 1,
       "axes_helper_colors": [
        16711680,
        65280,
        255
       ],
       "background_color": 16777215,
       "camera": [],
       "camera_animation": [],
       "camera_auto_fit": true,
       "camera_damping_factor": 0,
       "camera_fov": 60,
       "camera_mode": "trackball",
       "camera_no_pan": false,
       "camera_no_rotate": false,
       "camera_no_zoom": false,
       "camera_pan_speed": 0.3,
       "camera_rotate_speed": 1,
       "camera_zoom_speed": 1.2,
       "clipping_planes": [],
       "colorbar_object_id": -1,
       "colorbar_scientific": false,
       "custom_data": null,
       "fps": 25,
       "fps_meter": false,
       "grid": [
        -1,
        -1,
        -1,
        1,
        1,
        1
       ],
       "grid_auto_fit": true,
       "grid_color": 15132390,
       "grid_visible": true,
       "height": 512,
       "label_color": 4473924,
       "layout": "IPY_MODEL_9dc79402a6db4fdbb2302951dd97b0b1",
       "lighting": 3,
       "logarithmic_depth_buffer": true,
       "manipulate_mode": "translate",
       "menu_visibility": true,
       "minimum_fps": -1,
       "mode": "view",
       "name": null,
       "object_ids": [
        2142480611616
       ],
       "rendering_steps": 1,
       "screenshot": "",
       "screenshot_scale": 2,
       "snapshot": "",
       "snapshot_type": "full",
       "time": 0,
       "voxel_paint_color": 0
      }
     },
     "e3046dc2db484679aa48d43e20a179f2": {
      "model_module": "@jupyter-widgets/base",
      "model_module_version": "2.0.0",
      "model_name": "LayoutModel",
      "state": {}
     },
     "e7ff4edb98f04302a9265be4120dc52d": {
      "model_module": "@jupyter-widgets/controls",
      "model_module_version": "2.0.0",
      "model_name": "SliderStyleModel",
      "state": {
       "description_width": ""
      }
     },
     "f4dc6edebab146d280ce574f47a43e33": {
      "buffers": [
       {
        "data": "",
        "encoding": "base64",
        "path": [
         "attribute",
         "data"
        ]
       },
       {
        "data": "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",
        "encoding": "base64",
        "path": [
         "color_map",
         "data"
        ]
       },
       {
        "data": "",
        "encoding": "base64",
        "path": [
         "colors",
         "data"
        ]
       },
       {
        "data": "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",
        "encoding": "base64",
        "path": [
         "indices",
         "data"
        ]
       },
       {
        "data": "AACAPwAAAAAAAAAAAAAAAAAAAAAAAIA/AAAAAAAAAAAAAAAAAAAAAAAAgD8AAAAAAAAAAAAAAAAAAAAAAACAPw==",
        "encoding": "base64",
        "path": [
         "model_matrix",
         "data"
        ]
       },
       {
        "data": "",
        "encoding": "base64",
        "path": [
         "normals",
         "data"
        ]
       },
       {
        "data": "",
        "encoding": "base64",
        "path": [
         "opacity_function",
         "data"
        ]
       },
       {
        "data": "",
        "encoding": "base64",
        "path": [
         "triangles_attribute",
         "data"
        ]
       },
       {
        "data": "AADAfw==",
        "encoding": "base64",
        "path": [
         "uvs",
         "data"
        ]
       },
       {
        "data": "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",
        "encoding": "base64",
        "path": [
         "vertices",
         "data"
        ]
       },
       {
        "data": "",
        "encoding": "base64",
        "path": [
         "volume",
         "data"
        ]
       },
       {
        "data": "",
        "encoding": "base64",
        "path": [
         "volume_bounds",
         "data"
        ]
       }
      ],
      "model_module": "k3d",
      "model_module_version": "2.16.1",
      "model_name": "ObjectModel",
      "state": {
       "_view_module": null,
       "_view_module_version": "",
       "_view_name": null,
       "attribute": {
        "dtype": "float32",
        "shape": [
         0
        ]
       },
       "click_callback": false,
       "color": 3302400,
       "colorLegend": false,
       "color_map": {
        "dtype": "float32",
        "shape": [
         1024
        ]
       },
       "color_range": [],
       "colors": {
        "dtype": "uint32",
        "shape": [
         0
        ]
       },
       "compression_level": 0,
       "custom_data": null,
       "flat_shading": true,
       "group": null,
       "hover_callback": false,
       "id": 2142480611616,
       "indices": {
        "dtype": "uint32",
        "shape": [
         434,
         3
        ]
       },
       "model_matrix": {
        "dtype": "float32",
        "shape": [
         4,
         4
        ]
       },
       "name": "Mesh #1",
       "normals": {
        "dtype": "float32",
        "shape": [
         0
        ]
       },
       "opacity": 1,
       "opacity_function": {
        "dtype": "float32",
        "shape": [
         0
        ]
       },
       "side": "front",
       "texture": null,
       "texture_file_format": null,
       "triangles_attribute": {
        "dtype": "float32",
        "shape": [
         0
        ]
       },
       "type": "Mesh",
       "uvs": {
        "dtype": "float32",
        "shape": []
       },
       "vertices": {
        "dtype": "float32",
        "shape": [
         364,
         3
        ]
       },
       "visible": true,
       "volume": {
        "dtype": "float32",
        "shape": [
         0
        ]
       },
       "volume_bounds": {
        "dtype": "float32",
        "shape": [
         0
        ]
       },
       "wireframe": false
      }
     }
    },
    "version_major": 2,
    "version_minor": 0
   }
  }
 },
 "nbformat": 4,
 "nbformat_minor": 4
}
