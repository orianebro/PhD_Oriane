{
 "cells": [
  {
   "cell_type": "markdown",
   "id": "ec06a039-afd0-4e46-a486-5580f25476aa",
   "metadata": {},
   "source": [
    "# Workflow for simulations of an architectured crop"
   ]
  },
  {
   "cell_type": "raw",
   "id": "d4b521b4-7bf8-456c-aa7b-d2e20a2cbd14",
   "metadata": {},
   "source": [
    "---\n",
    "title: \"Workflow for simulations of an architectured crop\"\n",
    "author: \"Oriane Braud\"\n",
    "toc: true\n",
    "number-sections: true\n",
    "highlight-style: pygments\n",
    "format:\n",
    "  html: \n",
    "    code-fold: true\n",
    "    geometry: \n",
    "      - top=30mm\n",
    "      - left=30mm\n",
    "jupyter: python3\n",
    "---"
   ]
  },
  {
   "cell_type": "code",
   "execution_count": 6,
   "id": "3f4bcc2c-311a-4b8d-9e53-ce684e22a1ad",
   "metadata": {},
   "outputs": [],
   "source": [
    "#| echo: false\n",
    "\n",
    "# Ignore warning about depreciated modules\n",
    "import warnings\n",
    "warnings.filterwarnings('ignore', category=DeprecationWarning)"
   ]
  },
  {
   "cell_type": "code",
   "execution_count": 4,
   "id": "ca956c2b-9dae-49db-9c27-5c3a2ec4a055",
   "metadata": {},
   "outputs": [],
   "source": [
    "# Imports\n",
    "import numpy as np\n",
    "import matplotlib.pyplot as plt\n",
    "from openalea.plantgl.all import Vector3\n",
    "from oawidgets.plantgl import *"
   ]
  },
  {
   "cell_type": "markdown",
   "id": "d40f80a2-3b08-4873-8e73-d99b08215f77",
   "metadata": {},
   "source": [
    "## 1. Parametrized architectural model"
   ]
  },
  {
   "cell_type": "markdown",
   "id": "7597054a-c6c1-4e1c-af38-639c4db34a75",
   "metadata": {},
   "source": [
    "ArchiCrop is a Structural Plant Parametric Model (SPPM) which represents the 3D+t visible architecture of a plant shoot (only gramineae for the moment). \n",
    "\n",
    "An SPPM is a 3D architectural plant model that can be described at different scales : plant, axis, phytomer, organ. \n",
    "\n",
    "A plant is a set of axes. An axis is a finite sequence of phytomers. A phytomer is formed by a pair of an internode and its corresponding leaf.\n",
    "Internodes and leaves are vegetative organs, as opposed to reproductive organs (e.g. panicles, spikes, pods, etc.).\n",
    "\n",
    "$$ \\text{Plant} = \\text{Tree}(\\text{organs} \\subset \\text{phytomers} \\subset \\text{axes}) $$\n",
    "\n",
    "The tree structure is organized such that internodes of a given axis are linked to one another, such that the top of internode $I_{i-1}$ corresponds to the bottom of internode $I_i$. Each leaf $L_i$ is attached to the top of the internode $I_i$ of the same rank $i$, forming together the phytomer of rank $i$. For a given phytomer, the growth of a leaf will then start after the beginning of the growth of its corresponding internode.\n",
    "\n",
    "$$ \\text{Phytomer}_i = I_i \\cup L_i $$\n",
    "\n",
    "The architecture of a plant, i.e. its topology, geometry and development, can be defined by parameters at different scales (cf Table) at all thermal time $t \\in [0, T_{veg}]$, such that, at the scale of the organ, $\\text{Plant}(t) = \\bigcup_i (O_i(t))$.\n",
    "\n",
    "Development parameters are expressed as functions of the phyllochron $\\varphi$.\n",
    "\n",
    "Parameters can be considered as degrees of freedom.\n",
    "\n"
   ]
  },
  {
   "cell_type": "markdown",
   "id": "d6fcbfee-758f-4465-a0ad-4cc43c2aa9b3",
   "metadata": {},
   "source": [
    "| Symbol   | Description  | Unit    | Scale   | Architecture     |\n",
    "|----------|--------------|---------|---------|------------------|\n",
    "| $H$                     | Plant height                         | cm       | Plant              | Geometry       |\n",
    "| $\\varphi$               | Phyllochron                          | $^{\\circ}\\text{C.day.leaf}^{-1}$  | Plant      | Development   |\n",
    "| $elong\\_internode$      | Elongation rate of internodes        | $^{\\circ}\\text{C.day.leaf}^{-1}$  | Plant      | Development   |\n",
    "| $elong\\_leaf$           | Elongation rate of leaves            | $^{\\circ}\\text{C.day.leaf}^{-1}$  | Plant      | Development   |\n",
    "| $N_{axis}$              | Number of phytomers per axis         | -        | Axis               | Topology       |\n",
    "| $h_i$                   | Length of an internode $I_i$         | cm       | Organ (internode)  | Geometry       |\n",
    "| $d_i$                   | Diameter of an internode $I_i$       | cm       | Organ (internode)  | Geometry       |\n",
    "| $l_i$                   | Length of a leaf $L_i$               | cm       | Organ (leaf)       | Geometry       |\n",
    "| $w_i$                   | Maximum width of a leaf $L_i$        | cm       | Organ (leaf)       | Geometry       |\n",
    "| $insertion\\_angle_i$    | Insertion angle of a leaf $L_i$ to its axis     | $^{\\circ}$         | Organ (leaf)   | Geometry      |\n",
    "| $scurv_i, curvature_i$  | Leaf curvature parameters for leaf $L_i$        | -                  | Organ (leaf)   | Geometry      |\n",
    "| $phyllotactic\\_angle_i$ | Phyllotactic angle of leaf $L_i$                | $^{\\circ}$         | Organ (leaf)   | Geometry      |\n",
    "\n",
    "*Table: Parameters of ArchiCrop.*"
   ]
  },
  {
   "cell_type": "markdown",
   "id": "697abc21-c09c-4977-bf1b-2dfddca75a5e",
   "metadata": {},
   "source": [
    "### Organs"
   ]
  },
  {
   "cell_type": "markdown",
   "id": "b3de9c88-b255-4c5e-8529-4df22302beec",
   "metadata": {},
   "source": [
    "#### Internode"
   ]
  },
  {
   "cell_type": "markdown",
   "id": "5ba6bfe0-ffd5-45d8-ad69-0c9e4a740c7e",
   "metadata": {},
   "source": [
    "Each internode $I_i(t)$ has 3 internal state variables : height (in cm), base and top radii (in cm), and is defined in a local frame. \n",
    "\n",
    "First, we assume that the geometry of an internode is represented by a Cylinder. \n",
    "We assume a constant radius and its height $h_i$, in $cm$, evolves with $t$ up to a mature height $h_i^{max}$, as described : \n",
    "\n",
    "$$[t_i^{start},t_i^{end}] \\xrightarrow{~~\\chi_i~~} [0,h_i^{max}] \\cup [0,d_i^{max}] $$\n",
    "$$~~~~~~t~~~~~~~~~~ \\xrightarrow{~~~~~~~} I_i(\\chi_i(t))$$\n",
    "\n",
    "\n",
    "$$I_i(h_i, d_i) = Cylinder(h_i, d_i)$$\n",
    "\n"
   ]
  },
  {
   "cell_type": "markdown",
   "id": "a8c1590e-164f-4f41-a42c-3697c0f1f2d5",
   "metadata": {},
   "source": [
    "#### Leaf"
   ]
  },
  {
   "cell_type": "markdown",
   "id": "c2560ed3-63eb-4f15-ab76-067d1ee366fe",
   "metadata": {},
   "source": [
    "Each leaf $L_i(t)$ is represented as a curved surface, with an area $s_i$, in $cm^2$, such that its growth up to a mature surface $s_i^{max}$ can be expressed as follows : \n",
    "\n",
    "$$[t_i^{start},t_i^{end}] \\xrightarrow{~~\\psi_i~~} [0,s_i^{max}]$$ + other parameters\n",
    "$$~~~~~~t~~~~~~~~~~~ \\xrightarrow{~~~~~~~} L_i(\\psi_i(t))$$\n",
    "\n",
    "Let's consider leaf surface as a function of leaf length $l$, such that $s = f(l)$. \n",
    "\n",
    "- case 1 : Leaves have an homomorphic growth (e.g. for dicots). \n",
    "\n",
    "Parameters : width-to-length ratio $r = \\frac{w}{l}$, form factor $f$ (Agapie and Sala, 2023) \n",
    "    $$s(l_i) = frl_i^2$$\n",
    "    $$S = frl_{i, max}^2$$\n",
    " \n",
    "- case 2 : Leaves grow along the midrib (e.g. for monocots). \n",
    "\n",
    "Parameters : curve of the evolution of width along midrib \n",
    "    $$s(l_i) = 2 \\times \\int\\limits_0^{l_i} C(u) du$$\n",
    "    $$S = 2 \\times \\int\\limits_0^{l_{i, max}} C(u) du$$\n",
    "\n"
   ]
  },
  {
   "cell_type": "markdown",
   "id": "d04687f7-d2bd-4025-8c19-57ac29fbd271",
   "metadata": {},
   "source": [
    "### Branching"
   ]
  },
  {
   "cell_type": "markdown",
   "id": "40926ba8-59fb-4a72-94fa-304ee4ff1a57",
   "metadata": {},
   "source": [
    "| Symbol | Description | Unit | Scale | Architecture |\n",
    "|--------------------------------------|---------------------------------------------------------------------------------------|--------------------------|---------------------------|--------------------------|\n",
    "| $B$ | Number of branches in the plant | - | Plant | Topology |\n",
    "| $B_{axis}$ | Number of branches per axis | - | Axis | Topology |\n",
    "| $order_{axis}$ | Order of ramification | - | Axis | Topology |\n",
    "| $ramif\\_rate_{axis}$ | Ramification rate | $^{\\circ}\\text{C.day.leaf}^{-1}$ | Axis  | Development  |\n",
    "| $insertion\\_angle_{axis}$  | Insertion angle of an branched axis to its bearing axis  | $^{\\circ}$   | Axis  | Geometry  |\n",
    "| $curvature_{axis}$  | Axis curvature  | -   | Axis  | Geometry  |\n",
    "\n",
    "*Table: Additional parameters for a ramified plant.*"
   ]
  },
  {
   "cell_type": "markdown",
   "id": "5c67d0cc-bc4d-4e2d-8bda-460706f5d772",
   "metadata": {},
   "source": [
    "### Senescence"
   ]
  },
  {
   "cell_type": "markdown",
   "id": "bd351279-4669-4e17-a6b2-3b55d3143d7d",
   "metadata": {},
   "source": [
    "| Symbol | Description | Unit | Scale | Architecture |\n",
    "|--------------------------------------|---------------------------------------------------------------------------------------|--------------------------|---------------------------|--------------------------|\n",
    "| $senescence$ | Leaf lifespan before senescence | $^{\\circ}\\text{C.day.leaf}^{-1}$ | Plant | Development |\n",
    "\n",
    "*Table: Additional parameters for senescence.*"
   ]
  },
  {
   "cell_type": "markdown",
   "id": "713fdfbf-818d-471b-8415-76e1015f6bd8",
   "metadata": {},
   "source": [
    "### Implementation\n",
    "\n",
    "We use a Multiscale Tree Graph (MTG) to represent the architecture of a plant at different scales, i.e. a plant, an axis, a phytomer and an organ can be considered as vertices given the scale considered. In parallel, edges connect axes, phytomers and organs in tree structures at different scales.\n",
    "\n",
    "ArchiCrop is inspired by ADEL (Fournier et al., 2003). It inherits from its modules managing the generation of plant architecture (topology, geometry, development) for given parameters. \n",
    "The difference of ArchiCrop mainly lies in the rules for plant growth and the computation of organ features (e.g. internode length, leaf length, etc.).\n",
    "Growth (and later senescence) of a plant is constrained from temporal series (height(t), leaf area(t), etc) obtained from simulation or measure (cf 3.)."
   ]
  },
  {
   "cell_type": "markdown",
   "id": "4ac5542c-6fd8-4c74-94a5-ccb31a841aae",
   "metadata": {},
   "source": [
    "## 2. Allometric laws on architectural parameters "
   ]
  },
  {
   "cell_type": "markdown",
   "id": "02f4e479-b38e-4e14-9aef-1554bad5aa8d",
   "metadata": {},
   "source": [
    "Allometric laws enable to :\n",
    "- generate more realistic plants corresponding to given species;\n",
    "- restrain the space of parameters;\n",
    "- reduce the number of degrees of freedom in the parametric model."
   ]
  },
  {
   "cell_type": "markdown",
   "id": "3fae2092-1403-4811-b1c1-2a24b7fd8305",
   "metadata": {},
   "source": [
    "| Function                          | Description                                                                    | Parameters |\n",
    "|-----------------------------------|--------------------------------------------------------------------------------|------------|\n",
    "| $d_{i}=f(age)$                    | Evolution of internode diameter as a function of age ? rank ?                  | |     \n",
    "|                                   | Geometric law for the distribution of internode lengths along the axis         | $stem_q$ | \n",
    "|                                   | Weibull law for the distribution of mature leaf lengths along an axis          | $rmax, skew, l_{i,max}^{max}$ | \n",
    "| $w = p(l)$                        | Evolution of width along midrib                                                | $\\alpha, r=\\frac{w}{l}$ | \n",
    "| $reduc\\_ramif(order_{axis})$      | Reduction factor for ramified axes                                             | $reduc\\_ramif$ | \n",
    "\n",
    "*Table: Allometric laws of ArchiCrop.*"
   ]
  },
  {
   "cell_type": "markdown",
   "id": "8eb69193-8fe2-4b1c-9c72-0fae3faff979",
   "metadata": {},
   "source": [
    "Graph for each law"
   ]
  },
  {
   "cell_type": "markdown",
   "id": "b4e864b5-0315-400f-91a4-eeb09520c75e",
   "metadata": {},
   "source": [
    "## 3. Organs growth"
   ]
  },
  {
   "cell_type": "markdown",
   "id": "adf4a645-c934-4294-b080-c40ade0c1bc9",
   "metadata": {},
   "source": [
    "We assume that it is possible to constrain the growth of a plant generated with ArchiCrop with time series. These time series can be either measurements or the outputs of a crop model simulation. \n",
    "\n",
    "The growth of architectured plant organs does not follow explicit ecophysiological laws, and is not directly conditioned by environmental resources. Indeed it is calculated using an integro-differential approach.\n",
    "\n",
    "As plant architecture is explicitly represented in ArchiCrop, the constraint can be distributed over the different elements of the architecture in different ways. \n",
    "\n",
    "Architectural parameters constitute degrees of freedom, not considered at the scale of the crop model. For a simulation with a crop model, it is therefore possible to obtain a large number of simulations on a finer scale, by varying these degrees of freedom within a given range of values for a given species. In other words, we can explore the architectural variability of a species by generating a set of morphotypes."
   ]
  },
  {
   "cell_type": "markdown",
   "id": "7bdd1a61-367e-49b1-a378-07ea99e84ccc",
   "metadata": {},
   "source": [
    "### 3.1. Compute start and end of organ growth based of phyllochron and elongation rate"
   ]
  },
  {
   "cell_type": "code",
   "execution_count": 5,
   "id": "fa233034-2bd7-44f2-a8c8-80e207298da2",
   "metadata": {},
   "outputs": [],
   "source": [
    "from openalea.archicrop.dynamic import thermal_time"
   ]
  },
  {
   "cell_type": "markdown",
   "id": "8c69154e-e168-428c-b7a1-88ec55304960",
   "metadata": {},
   "source": [
    "### 3.2. Retrieve growth increments for given thermal time steps"
   ]
  },
  {
   "cell_type": "markdown",
   "id": "090fe10c-f569-41d8-aafe-300fa3d371eb",
   "metadata": {},
   "source": [
    "The growth of the vegetative part of a plant can be considered as the dynamics of its height $H(t)$ and leaf area $S(t)$ over thermal time $t$. From known dynamics at the scale of the plant, we assume that we can constrain the growth of each internode $I_i$ and leaf $L_i$, by distributing individually the gain of, respectively, height $dh$ and leaf area $dS$ at each time step $dt$."
   ]
  },
  {
   "cell_type": "markdown",
   "id": "92c02fcf-93b7-4e2c-88ce-c59068252ac3",
   "metadata": {},
   "source": [
    "Given a simulation with a crop model (or any source of constraint at the crop scale) :"
   ]
  },
  {
   "cell_type": "markdown",
   "id": "3033e7fe-52aa-4fc4-87ff-b14b33770fb6",
   "metadata": {},
   "source": [
    "| Symbol                 | Description                                                                 | Unit                |\n",
    "|------------------------|-----------------------------------------------------------------------------|---------------------|\n",
    "| $t \\in [0, T_{veg}]$    | Thermal time series to the end of the vegetative phase $T_{veg}$ (might be corrected with stresses) | $^{\\circ}\\text{C.day}$ |\n",
    "| $H(t)$                 | Plant height dynamics                                                       | cm                  |\n",
    "| $S(t)$                 | Plant leaf area dynamics                                                     | cm                  |\n",
    "\n",
    "*Table: Inputs to give to ArchiCrop.*"
   ]
  },
  {
   "cell_type": "code",
   "execution_count": 2,
   "id": "f3519174-ea0a-4178-817a-a14f5c8f11bc",
   "metadata": {},
   "outputs": [],
   "source": [
    "def read_columns_from_file(filename, separator=';'):\n",
    "    '''Read a file column-wise and store the values in a 2D-list.'''\n",
    "    with open(filename, 'r') as file:\n",
    "        columns = []\n",
    "        for line in file:\n",
    "            values = line.strip().split(separator) # Strip any extra whitespace and split the line by the separator\n",
    "            if not columns:\n",
    "                columns = [[] for _ in values]\n",
    "            while len(columns) < len(values):\n",
    "                columns.append([])\n",
    "            for i, value in enumerate(values):\n",
    "                columns[i].append(value)\n",
    "            # Handle lines with fewer values than columns\n",
    "            for i in range(len(values), len(columns)):\n",
    "                columns[i].append('')\n",
    "    return columns"
   ]
  },
  {
   "cell_type": "code",
   "execution_count": 3,
   "id": "a2ea93a1-0e07-4b04-800f-e5c32b329513",
   "metadata": {},
   "outputs": [],
   "source": [
    "## e.g. from a STICS simulation for maize\n",
    "\n",
    "filename = 'mod_smaize.sti'\n",
    "columns = read_columns_from_file(filename)\n",
    "columns = columns[5:]\n",
    "\n",
    "# Cut the simulation at the end of vegetative growth\n",
    "end = 115 \n",
    "# To get an equal LA/plant \n",
    "density = 0.00095 # density = 9.5 plant/m2 = 0.00095 plant/cm2\n",
    "la = np.array([float(i)/density for i in columns[0][18:end]]) # leaf area\n",
    "height = np.array([float(i) for i in columns[1][18:end]]) # height\n",
    "tt = np.cumsum([float(i) for i in columns[2][18:end]]) # thermal times"
   ]
  },
  {
   "cell_type": "markdown",
   "id": "cc8598a9-6901-4487-ae22-2b759d2125a9",
   "metadata": {},
   "source": [
    "### Compute whole plant architectures for all time steps"
   ]
  },
  {
   "cell_type": "markdown",
   "id": "4d503274-34b0-45be-9797-fc36f56cd5d0",
   "metadata": {},
   "source": [
    "\n",
    "$$\\frac{dPlant(t)}{dt} = ArchiCrop(\\frac{dLAI}{dt}, \\frac{dHeight}{dt})$$\n",
    "\n",
    "#### Distribute growth among plants\n",
    "\n",
    "\n",
    "#### Distribute growth among organs \n",
    "\n",
    "H0: All growing vegetative organs of a given type grow at the same speed on a given time slot, i.e. equal distribution of the gain among all growing vegetative organs. \n",
    "\n",
    "For a growing vegetative organ $i$ over $n$ growing vegetative organs in a plant, given a constraint $dc(t)$ for the plant a time $t$ : \n",
    "$$dc_{i}(t) = \\frac{dc(t)}{n}$$\n",
    "\n",
    "H1: Growing vegetative organs receive a gain proportional to their sink strength related to their age until end of growth. \n",
    "\n",
    "For a growing vegetative organ $i$ over $n$ growing vegetative organs in a plant (set $G^n$), of ages $a_i$, sink strength beta function $\\beta (a_i)$ and relative sink strength $p_i(a_i)$, given a constraint $dc(t)$ for the plant a time $t$ : \n",
    "$$p_i(a_i) = \\frac{\\beta (a_i)}{\\sum_{j \\in G^n} \\beta (a_j)}$$\n",
    "$$dc_i(t) = p_i(a_i) dc(t)$$\n",
    "\n",
    "______________________________________\n",
    "\n",
    "A growing plant is composed of mature phytomers and growing phytomers, such that, for all $t$ in $[0,T_{veg}]$ : \n",
    "$$Plant(t) = (\\cup phytomers_{mature} (t \\geq t^{end})) \\cup (\\cup phytomers_{growing} (t^{start} < t < t^{end}))$$\n",
    "such that : \n",
    "$$phytomers(t) \\subset phytomers$$\n",
    "\n",
    "\n",
    "\n",
    "- case 1 : All phytomers grow sequentially, i.e. one after the other.\n",
    "    For all $i$ in $[0, N]$ :\n",
    "    $$t^{start}_i = i \\times \\varphi = t^{start}_{i-1, '<'} + \\varphi$$\n",
    "    $$t^{end}_i = t^{start}_{i} + ligul = i \\times \\varphi + ligul $$\n",
    "\n",
    "    where $\\varphi$ = phyllochron = constant, \n",
    "    and $ligul$ = ligulochron = $\\alpha \\varphi$.\n",
    "\n",
    "    For ramifications, which can develop with a delay, i.e. if edge(parent(i),i) = '+' :\n",
    "    $$t^{start}_i = t^{start}_{i-1, '+'} + \\varphi + delay$$\n",
    "\n",
    "    where $delay = \\beta \\varphi$. \n",
    "\n",
    "    Let's assume that all phytomers have the same constant growth rate, i.e. $\\chi$ and $\\psi$ are linear functions. \n",
    "    \n",
    "    For all $t$ in $[0,T_{veg}]$, for all $i$ in $[0, N]$, we want to find $\\frac{dh_i(t)}{dt}$ for all $I_i$ and $\\frac{ds_i(l_i(t))}{dt}$ for all $L_i$. \n",
    "\n",
    "    At the scale of the plant, at each time step $dt$, we can obtain from a crop model : \n",
    "\n",
    "\n",
    "    $$\\frac{dPlant(t)}{dt} = \\frac{dI(t)}{dt} \\cup \\frac{dL(t)}{dt}$$\n",
    "\n",
    "    Then, for all $phytomers_{growing} (t^{start} < t < t^{end})$, \n",
    "    $$\\frac{dh_i(t)}{dt} = \\frac{1}{N_{growing}} \\frac{dh(t)}{dt}$$\n",
    "    $$\\frac{ds_i(l_i(t))}{dt} = \\frac{1}{N_{growing}} \\frac{ds(t)}{dt}$$\n",
    "    For leaves, $\\frac{l_i(t)}{dt}$ can then be computed depending on the case (cf 3.3).\n",
    "\n",
    "    \n",
    "  - case 1 : Leaves have an homomorphic growth (e.g. for dicots). \n",
    "        $$\\frac{l_i(t)}{dt} = \\sqrt{\\frac{1}{r} \\frac{ds_i(l_i(t))}{dt}}$$\n",
    "    \n",
    "  - case 2 : Leaves grow along the midrib (e.g. for monocots). \n",
    "        Analytic resolution if the function $f$ of the curve $C$ is known and is $C^1$ on $[0,l_{max}]$ : \n",
    "        $$F(l_i(t)) = \\frac{1}{2} \\frac{ds_i(l_i(t))}{dt} - F(l_{i-1}(t))$$\n",
    "        where $F$ is the antiderivative of $f$. \n",
    "        Numeric resolution if too complicated. \n",
    "\n",
    "\n",
    "\n",
    "\n",
    "#### Constrain internode growth\n",
    "\n",
    "We are given at each time step $t$ a value for the plant height, $H(t)$, which corresponds to the sum of the length of the internodes, mature and developing, of the main axis at time $t$, such that :\n",
    "\n",
    "$$\n",
    "    H(t) = \\sum_{i_{\\text{main axis}}} h_i(t)\n",
    "$$\n",
    "\n",
    "Starting from a C1 curve of plant height dynamics, $H = f(t)$, it is possible to derive a height increment $dH(t)$ for all $dt$. How to distribute this increment among $n$ growing internodes ? Each internode $I_i$ has a height $h_i(t)$ for a given thermal time $t$. \n",
    "\n",
    "For a plant composed of a single axis with a single internode, we obtain, for all $t \\in [0, T_{veg}]$ : \n",
    "\n",
    "$$h_{single}(t+dt) = h_{single}(t) + dH(t)$$\n",
    "\n",
    "For a plant composed of a single axis bearing two internodes, we define a phyllochron $\\varphi$, in $^{\\circ}\\text{C.day.leaf}^{-1}$, that is the rate of apparition of successive internodes. \n",
    "\n",
    "H0 : Internodes grow sequentially, which means that they appear at the end of the growth of the previous one. \n",
    "\n",
    "For all $t \\in [0, T_{veg}]$ :\n",
    "\n",
    "$$h_1(t+dt) = h_1(t) + dH(t), \\text{ if } t  < \\varphi $$\n",
    "$$h_2(t+dt) = h_2(t) + dH(t), \\text{ if } t  \\geq \\varphi $$\n",
    "\n",
    "H1 : Internodes can grow simultaneously, which means that at least two internodes can be growing at the same time step, AND all internodes have the same growth rate. \n",
    "\n",
    "Let's define a ligulochron $ligul$ as the duration of internode growth, as a function of the phyllochron, such that $ligul = \\alpha \\varphi$.\n",
    "\n",
    "For all $t \\in [0, T_{veg}]$ :\n",
    "\n",
    "$$h_1(t+dt) = h_1(t) + dH(t), \\text{ if } t  < \\varphi $$\n",
    "\n",
    "$$h_1(t+dt) = h_1(t) + \\frac{1}{2} dH(t), \\text{ if } t  \\geq \\varphi \\cup t < ligul $$\n",
    "$$h_2(t+dt) = h_2(t) + \\frac{1}{2} dH(t), \\text{ if } t  \\geq \\varphi \\cup t < ligul $$\n",
    "\n",
    "$$h_2(t+dt) = h_2(t) + dH(t), \\text{ if } t  \\geq \\varphi \\cup t \\geq ligul $$\n",
    "\n",
    "\n",
    "\n",
    "#### Constrain leaf growth\n",
    "\n",
    "We are given at each time step $t$ a value for the leaf area of a plant, $S(t)$, which corresponds to the sum of the surfaces of all the leaves, mature and developing, of the plant at time $t$, such that :\n",
    "\n",
    "$$\n",
    "    H(t) = \\sum_i s_i(t)\n",
    "$$\n",
    "\n",
    "Starting from a C1 curve of plant leaf area dynamics, $S = f(t)$, it is possible to derive a surface increment $dS(t)$ for all $dt$. How to distribute this increment among $n$ growing leaves ? Each leaf $L_i$ has a height $s_i(t)$ for a given thermal time $t$. \n",
    "\n",
    "For a plant composed of a single leaf, we obtain, for all $t \\in [0, T_{veg}]$ : \n",
    "\n",
    "$$h_{single}(t+dt) = h_{single}(t) + dH(t)$$\n",
    "\n",
    "\n",
    "\n",
    "For a plant composed of two leaves, we define a phyllochron $\\varphi$, in $^{\\circ}\\text{C.day.leaf}^{-1}$, that is the rate of apparition of successive internodes. \n",
    "\n"
   ]
  },
  {
   "cell_type": "markdown",
   "id": "2a32251b-a6ac-48ed-a9b8-966f86782960",
   "metadata": {},
   "source": [
    "### Plants as part of a crop (planter)"
   ]
  },
  {
   "cell_type": "markdown",
   "id": "8471af04-3b1a-43d0-ba34-c83bd788d1e9",
   "metadata": {},
   "source": [
    "### Compute process (light interception) for various parameters"
   ]
  },
  {
   "cell_type": "markdown",
   "id": "8060a505-7b88-4e66-9f3c-5636dc585cb1",
   "metadata": {},
   "source": [
    "Caribu"
   ]
  },
  {
   "cell_type": "markdown",
   "id": "3dc90f02-2477-44cb-8d89-01d83e1d146b",
   "metadata": {},
   "source": [
    "Varying parameters"
   ]
  },
  {
   "cell_type": "markdown",
   "id": "c359b97b-fad1-43e3-854d-2ba5f821822a",
   "metadata": {},
   "source": [
    "at all thermal time $t$"
   ]
  },
  {
   "cell_type": "markdown",
   "id": "38a6ebd6-3efd-4da7-8e5c-cab740b6400e",
   "metadata": {},
   "source": [
    "### Compare with crop model (Beer's law for light interception)"
   ]
  },
  {
   "cell_type": "code",
   "execution_count": null,
   "id": "75720721-f629-4df1-a6b0-941cd6abbc0f",
   "metadata": {},
   "outputs": [],
   "source": []
  }
 ],
 "metadata": {
  "kernelspec": {
   "display_name": "oa3",
   "language": "python",
   "name": "oa3"
  },
  "language_info": {
   "codemirror_mode": {
    "name": "ipython",
    "version": 3
   },
   "file_extension": ".py",
   "mimetype": "text/x-python",
   "name": "python",
   "nbconvert_exporter": "python",
   "pygments_lexer": "ipython3",
   "version": "3.12.2"
  },
  "widgets": {
   "application/vnd.jupyter.widget-state+json": {
    "state": {},
    "version_major": 2,
    "version_minor": 0
   }
  }
 },
 "nbformat": 4,
 "nbformat_minor": 5
}
