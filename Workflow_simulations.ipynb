{
 "cells": [
  {
   "cell_type": "markdown",
   "id": "ec06a039-afd0-4e46-a486-5580f25476aa",
   "metadata": {},
   "source": [
    "# Workflow for simulations of an architectured crop"
   ]
  },
  {
   "cell_type": "raw",
   "id": "d4b521b4-7bf8-456c-aa7b-d2e20a2cbd14",
   "metadata": {},
   "source": [
    "---\n",
    "title: \"Dynamic model\"\n",
    "author: \"Oriane Braud\"\n",
    "toc: true\n",
    "number-sections: true\n",
    "highlight-style: pygments\n",
    "format:\n",
    "  html: \n",
    "    code-fold: true\n",
    "    geometry: \n",
    "      - top=30mm\n",
    "      - left=30mm\n",
    "jupyter: python3\n",
    "---"
   ]
  },
  {
   "cell_type": "code",
   "execution_count": 6,
   "id": "3f4bcc2c-311a-4b8d-9e53-ce684e22a1ad",
   "metadata": {},
   "outputs": [],
   "source": [
    "#| echo: false\n",
    "\n",
    "# Ignore warning about depreciated modules\n",
    "import warnings\n",
    "warnings.filterwarnings('ignore', category=DeprecationWarning)"
   ]
  },
  {
   "cell_type": "code",
   "execution_count": 4,
   "id": "ca956c2b-9dae-49db-9c27-5c3a2ec4a055",
   "metadata": {},
   "outputs": [],
   "source": [
    "# Imports\n",
    "import numpy as np\n",
    "import matplotlib.pyplot as plt\n",
    "from openalea.plantgl.all import Vector3\n",
    "from oawidgets.plantgl import *"
   ]
  },
  {
   "cell_type": "markdown",
   "id": "d40f80a2-3b08-4873-8e73-d99b08215f77",
   "metadata": {},
   "source": [
    "## 1. Parametrized architectural model"
   ]
  },
  {
   "cell_type": "markdown",
   "id": "7597054a-c6c1-4e1c-af38-639c4db34a75",
   "metadata": {},
   "source": [
    "ArchiCrop is a Structural Plant Parametric Model (SPPM) which represents the 3D+t visible architecture of a plant shoot. \n",
    "\n",
    "An SPPM is a 3D architectural plant model that can be described at different scales : plant, axis, phytomer, organ. \n",
    "The topology of a plant is defined by a set of parameters : number of axes, number of phytomers of each axis, etc. \n",
    "The geometry of the different organs is defined by a set of parameters : axes and leaves length, insertion angle and curvature, leaves width-to-length ratio, etc. \n",
    "Organs development is defined by a set of parameters : phyllochron, \"ligulochron\" (i.e. time from start to end of growth of an organ), delay of ramification, etc. "
   ]
  },
  {
   "cell_type": "markdown",
   "id": "4ac5542c-6fd8-4c74-94a5-ccb31a841aae",
   "metadata": {},
   "source": [
    "## 2. Allometric laws on architectural parameters "
   ]
  },
  {
   "cell_type": "markdown",
   "id": "3fae2092-1403-4811-b1c1-2a24b7fd8305",
   "metadata": {},
   "source": []
  },
  {
   "cell_type": "markdown",
   "id": "b4e864b5-0315-400f-91a4-eeb09520c75e",
   "metadata": {},
   "source": [
    "## 3. Organs growth"
   ]
  },
  {
   "cell_type": "markdown",
   "id": "7bdd1a61-367e-49b1-a378-07ea99e84ccc",
   "metadata": {},
   "source": [
    "### 3.1. Compute start and end of organ growth based of phyllochron and elongation rate"
   ]
  },
  {
   "cell_type": "code",
   "execution_count": 5,
   "id": "fa233034-2bd7-44f2-a8c8-80e207298da2",
   "metadata": {},
   "outputs": [],
   "source": [
    "from openalea.archicrop.dynamic import thermal_time"
   ]
  },
  {
   "cell_type": "markdown",
   "id": "8c69154e-e168-428c-b7a1-88ec55304960",
   "metadata": {},
   "source": [
    "### 3.2. Retrieve growth increments for given thermal time steps"
   ]
  },
  {
   "cell_type": "markdown",
   "id": "92c02fcf-93b7-4e2c-88ce-c59068252ac3",
   "metadata": {},
   "source": [
    "Given a simulation with a crop model (or any source of constraint at the crop scale) :"
   ]
  },
  {
   "cell_type": "code",
   "execution_count": 2,
   "id": "f3519174-ea0a-4178-817a-a14f5c8f11bc",
   "metadata": {},
   "outputs": [],
   "source": [
    "def read_columns_from_file(filename, separator=';'):\n",
    "    '''Read a file column-wise and store the values in a 2D-list.'''\n",
    "    with open(filename, 'r') as file:\n",
    "        columns = []\n",
    "        for line in file:\n",
    "            values = line.strip().split(separator) # Strip any extra whitespace and split the line by the separator\n",
    "            if not columns:\n",
    "                columns = [[] for _ in values]\n",
    "            while len(columns) < len(values):\n",
    "                columns.append([])\n",
    "            for i, value in enumerate(values):\n",
    "                columns[i].append(value)\n",
    "            # Handle lines with fewer values than columns\n",
    "            for i in range(len(values), len(columns)):\n",
    "                columns[i].append('')\n",
    "    return columns"
   ]
  },
  {
   "cell_type": "code",
   "execution_count": 3,
   "id": "a2ea93a1-0e07-4b04-800f-e5c32b329513",
   "metadata": {},
   "outputs": [],
   "source": [
    "## e.g. from a STICS simulation for maize\n",
    "\n",
    "filename = 'mod_smaize.sti'\n",
    "columns = read_columns_from_file(filename)\n",
    "columns = columns[5:]\n",
    "\n",
    "# Cut the simulation at the end of vegetative growth\n",
    "end = 115 \n",
    "# To get an equal LA/plant \n",
    "density = 0.00095 # density = 9.5 plant/m2 = 0.00095 plant/cm2\n",
    "la = np.array([float(i)/density for i in columns[0][18:end]]) # leaf area\n",
    "height = np.array([float(i) for i in columns[1][18:end]]) # height\n",
    "tt = np.cumsum([float(i) for i in columns[2][18:end]]) # thermal times"
   ]
  },
  {
   "cell_type": "code",
   "execution_count": null,
   "id": "baa5476a-1233-4461-84d1-78086df277d7",
   "metadata": {},
   "outputs": [],
   "source": []
  },
  {
   "cell_type": "markdown",
   "id": "cc8598a9-6901-4487-ae22-2b759d2125a9",
   "metadata": {},
   "source": [
    "### Compute whole plant architectures for all time steps"
   ]
  },
  {
   "cell_type": "code",
   "execution_count": null,
   "id": "816dd885-5871-45e3-9bc0-10d525f80d96",
   "metadata": {},
   "outputs": [],
   "source": []
  }
 ],
 "metadata": {
  "kernelspec": {
   "display_name": "oa3",
   "language": "python",
   "name": "oa3"
  },
  "language_info": {
   "codemirror_mode": {
    "name": "ipython",
    "version": 3
   },
   "file_extension": ".py",
   "mimetype": "text/x-python",
   "name": "python",
   "nbconvert_exporter": "python",
   "pygments_lexer": "ipython3",
   "version": "3.12.2"
  },
  "widgets": {
   "application/vnd.jupyter.widget-state+json": {
    "state": {},
    "version_major": 2,
    "version_minor": 0
   }
  }
 },
 "nbformat": 4,
 "nbformat_minor": 5
}
