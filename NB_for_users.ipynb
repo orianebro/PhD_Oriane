{
 "cells": [
  {
   "cell_type": "code",
   "execution_count": 1,
   "id": "09500250-69a7-48c7-9086-c6e0c0972636",
   "metadata": {},
   "outputs": [],
   "source": [
    "from random import *\n",
    "import numpy as np\n",
    "import matplotlib.pyplot as plt\n",
    "\n",
    "from ipywidgets import interact, interactive, IntSlider, FloatSlider, fixed, Play, HBox, VBox, jslink\n",
    "from oawidgets.plantgl import *\n",
    "# try jupyter widgets\n",
    "\n",
    "# from openalea.archicrop.cereals import build_shoot\n",
    "from openalea.archicrop.plant_shape import compute_leaf_area_plant_from_params, check_LA_range, compute_leaf_area_growing_plant\n",
    "from openalea.archicrop.simulation import retrieve_stics_dynamics_from_file, generate_and_display_plant, dict_ranges_to_all_possible_combinations, model\n",
    "from openalea.archicrop.display import display_mtg, build_scene, display_scene\n",
    "from openalea.archicrop.archicrop import ArchiCrop\n",
    "# quasi MC sampling in scipy, cf latin hypercube\n",
    "# SALiB\n",
    "\n",
    "# Enable plotting with PlantGL\n",
    "%gui qt\n",
    "nice_green = Color3((50, 100, 0))"
   ]
  },
  {
   "cell_type": "markdown",
   "id": "5d74f5a9-42d3-4e35-8fe7-0c8aee23f5a4",
   "metadata": {},
   "source": [
    "## Retrieve STICS dynamics from file"
   ]
  },
  {
   "cell_type": "code",
   "execution_count": 2,
   "id": "bf9887b2-2903-448b-9ef2-f0eca93bedf2",
   "metadata": {},
   "outputs": [],
   "source": [
    "stics_output_file = 'mod_ssorghum.sti'\n",
    "sowing_density = 10\n",
    "inter_row = 0.4\n",
    "stics_output_data = retrieve_stics_dynamics_from_file(stics_output_file, sowing_density)\n",
    "height_potential_plant = max(value[\"Plant height\"] for value in stics_output_data.values())\n",
    "time = [value[\"Thermal time\"] for value in stics_output_data.values()]\n",
    "# print(height_potential_plant)\n",
    "# print(stics_output_data)"
   ]
  },
  {
   "cell_type": "markdown",
   "id": "002f4f30-18e6-495b-bba0-13563f26c87c",
   "metadata": {},
   "source": [
    "## Generate one potential plant from architectural parameters"
   ]
  },
  {
   "cell_type": "code",
   "execution_count": 3,
   "id": "11992b70-cc39-4372-8072-123500a9f884",
   "metadata": {},
   "outputs": [],
   "source": [
    "# For sorghum\n",
    "archi_params = dict(\n",
    "    nb_phy = [10,20,30,40], # [10,15,20,25,30], \n",
    "    max_leaf_length = [60,80,100,120], \n",
    "    wl = 0.12, \n",
    "    diam_base = 2.5, \n",
    "    diam_top = 1.5, \n",
    "    insertion_angle = 30, # [10, 50], \n",
    "    scurv = 0.7, # [0.6, 0.8], \n",
    "    curvature = 90, # [45, 135], \n",
    "    alpha = -2.3, \n",
    "    stem_q = 1.1, \n",
    "    rmax = [0.7,0.8, 0.9], # 1-(1/3*(nb_phy - 5)/nb_phy)\n",
    "    skew = [0.01,0.1], # 0.0005\n",
    "    phyllotactic_angle = 180, \n",
    "    phyllotactic_deviation = 15, # [5, 30]\n",
    "    phyllochron = [40,65],\n",
    "    plastochron = [34,46],\n",
    "    leaf_duration = [1,6],\n",
    "    stem_duration = [1,6],\n",
    "    leaf_senescence = [500, 1000]\n",
    ")"
   ]
  },
  {
   "cell_type": "code",
   "execution_count": 4,
   "id": "99d7b1c0-4a8f-46af-91da-09e1efb435bf",
   "metadata": {},
   "outputs": [
    {
     "data": {
      "text/plain": [
       "[0.8333333333333334, 0.75, 0.7222222222222223, 0.7083333333333334]"
      ]
     },
     "execution_count": 4,
     "metadata": {},
     "output_type": "execute_result"
    }
   ],
   "source": [
    "[1-(1/3*(n - 5)/n) for n in archi_params[\"nb_phy\"]] # for rmax = f(nb_phy)"
   ]
  },
  {
   "cell_type": "code",
   "execution_count": 5,
   "id": "d051632a-e2af-46f5-b2a7-a0e9276f2e9f",
   "metadata": {},
   "outputs": [],
   "source": [
    "def to_list(d):\n",
    "    return {k: (v if isinstance(v, list) else [v]) for k,v in d.items()} \n",
    "\n",
    "archi_params = to_list(archi_params)"
   ]
  },
  {
   "cell_type": "code",
   "execution_count": 6,
   "id": "5773446a-ab04-410d-bc5e-cb26ac2310d6",
   "metadata": {},
   "outputs": [
    {
     "data": {
      "application/vnd.jupyter.widget-view+json": {
       "model_id": "ffd1b601a5ad46e683406f9c6cb83240",
       "version_major": 2,
       "version_minor": 0
      },
      "text/plain": [
       "interactive(children=(IntSlider(value=16, description='nb_phy', max=40, min=10), IntSlider(value=112, descript…"
      ]
     },
     "metadata": {},
     "output_type": "display_data"
    },
    {
     "data": {
      "text/plain": [
       "<function openalea.archicrop.simulation.generate_and_display_plant(nb_phy, height, max_leaf_length, wl, diam_base, diam_top, insertion_angle, scurv, curvature, alpha, stem_q, rmax, skew, phyllotactic_angle, phyllotactic_deviation)>"
      ]
     },
     "execution_count": 6,
     "metadata": {},
     "output_type": "execute_result"
    }
   ],
   "source": [
    "# slider on parameters with ranges, others fixed \n",
    "interact(generate_and_display_plant, \n",
    "         nb_phy=IntSlider(min=min(archi_params[\"nb_phy\"]), \n",
    "                          max=max(archi_params[\"nb_phy\"]), \n",
    "                          step=1, \n",
    "                          value=randint(archi_params[\"nb_phy\"][0], archi_params[\"nb_phy\"][-1])),\n",
    "         height=fixed(height_potential_plant),\n",
    "         max_leaf_length=IntSlider(min=min(archi_params[\"max_leaf_length\"]), \n",
    "                                   max=max(archi_params[\"max_leaf_length\"]), \n",
    "                                   step=1, \n",
    "                                   value=randint(archi_params[\"max_leaf_length\"][0], archi_params[\"max_leaf_length\"][-1])),\n",
    "         wl=FloatSlider(min=min(archi_params[\"wl\"]), \n",
    "                        max=max(archi_params[\"wl\"]), \n",
    "                        step=0.01, \n",
    "                        value=choice(archi_params[\"wl\"])),\n",
    "         diam_base=fixed(archi_params[\"diam_base\"][0]),\n",
    "         diam_top=fixed(archi_params[\"diam_top\"][0]),\n",
    "         insertion_angle=IntSlider(min=min(archi_params[\"insertion_angle\"]), \n",
    "                                   max=max(archi_params[\"insertion_angle\"]), \n",
    "                                   step=1, \n",
    "                                   value=choice(archi_params[\"insertion_angle\"])),\n",
    "         scurv=FloatSlider(min=min(archi_params[\"scurv\"]), \n",
    "                           max=max(archi_params[\"scurv\"]), \n",
    "                           step=0.01, \n",
    "                           value=choice(archi_params[\"scurv\"])),\n",
    "         curvature=IntSlider(min=min(archi_params[\"curvature\"]), \n",
    "                             max=max(archi_params[\"curvature\"]), \n",
    "                             step=5, \n",
    "                             value=choice(archi_params[\"curvature\"])),\n",
    "         alpha=fixed(archi_params[\"alpha\"][0]),\n",
    "         stem_q=fixed(archi_params[\"stem_q\"][0]),\n",
    "         rmax=FloatSlider(min=min(archi_params[\"rmax\"]), \n",
    "                          max=max(archi_params[\"rmax\"]), \n",
    "                          step=0.01, \n",
    "                          value=0.75),\n",
    "         skew=FloatSlider(min=min(archi_params[\"skew\"]), \n",
    "                          max=max(archi_params[\"skew\"]), \n",
    "                          step=0.01, \n",
    "                          value=0.05),\n",
    "         phyllotactic_angle=fixed(archi_params[\"phyllotactic_angle\"][0]),\n",
    "         phyllotactic_deviation=IntSlider(min=min(archi_params[\"phyllotactic_deviation\"]), \n",
    "                                          max=max(archi_params[\"phyllotactic_deviation\"]), \n",
    "                                          step=5, \n",
    "                                          value=20))\n",
    "\n",
    "\n",
    "# cf github openalea weberpenn trunk_parameters"
   ]
  },
  {
   "cell_type": "code",
   "execution_count": 7,
   "id": "77df9681-6dd8-4e52-8060-59ed0b20eea0",
   "metadata": {},
   "outputs": [
    {
     "name": "stdout",
     "output_type": "stream",
     "text": [
      "3072\n"
     ]
    }
   ],
   "source": [
    "# take only the ones defined before\n",
    "archi_params_combinations = dict_ranges_to_all_possible_combinations(archi_params)\n",
    "print(len(archi_params_combinations))\n",
    "\n",
    "# # Print combinations in the original order of dictionary keys\n",
    "# for combo in archi_params_combinations:\n",
    "#     print(combo)"
   ]
  },
  {
   "cell_type": "markdown",
   "id": "226afb9d-849d-4a79-984c-2cc7f805cc8b",
   "metadata": {},
   "source": [
    "## Parameters for spatial configuration"
   ]
  },
  {
   "cell_type": "code",
   "execution_count": 8,
   "id": "000b191a-af63-4b79-a7a6-abd38c5a537a",
   "metadata": {},
   "outputs": [
    {
     "name": "stdout",
     "output_type": "stream",
     "text": [
      "[(1, 1, 10, 0.4), (1, 1, 10, 0.8)]\n"
     ]
    }
   ],
   "source": [
    "crop_params = {\n",
    "    \"length_plot\": 1, \n",
    "    \"width_plot\": 1, \n",
    "    \"sowing_density\": sowing_density, # [10, 28], \n",
    "    \"inter_row\": [0.4, 0.8], # 0.4 for 10\n",
    "}\n",
    "\n",
    "crop_params_combinations = dict_ranges_to_all_possible_combinations(crop_params)\n",
    "print(crop_params_combinations)"
   ]
  },
  {
   "cell_type": "markdown",
   "id": "15275a24-9de1-444a-8392-4fadd49307c2",
   "metadata": {},
   "source": [
    "## Animation of growing plant "
   ]
  },
  {
   "cell_type": "code",
   "execution_count": 9,
   "id": "17263058-129c-42d5-88f9-cea43811f2f9",
   "metadata": {},
   "outputs": [
    {
     "data": {
      "application/vnd.jupyter.widget-view+json": {
       "model_id": "b922f08c811a4567b428fe5cc850bbad",
       "version_major": 2,
       "version_minor": 0
      },
      "text/plain": [
       "VBox(children=(IntSlider(value=15, max=40, min=10), IntSlider(value=60, max=120, min=60), IntSlider(value=30, …"
      ]
     },
     "metadata": {},
     "output_type": "display_data"
    }
   ],
   "source": [
    "# Fix a seed\n",
    "seed(100)\n",
    "nice_green = Color3((50, 100, 0))\n",
    "\n",
    "# slider on parameters with ranges, others fixed \n",
    "\n",
    "height=height_potential_plant\n",
    "nb_phy_slider=IntSlider(min=min(archi_params[\"nb_phy\"]), max=max(archi_params[\"nb_phy\"]), step=1, value=15)\n",
    "max_leaf_length_slider=IntSlider(min=min(archi_params[\"max_leaf_length\"]), max=max(archi_params[\"max_leaf_length\"]), step=1, value=50)\n",
    "wl_slider=FloatSlider(min=min(archi_params[\"wl\"]), max=max(archi_params[\"wl\"]), step=0.01, value=0.12)\n",
    "diam_base_slider=fixed(archi_params[\"diam_base\"][0])\n",
    "diam_top_slider=fixed(archi_params[\"diam_top\"][0])\n",
    "insertion_angle_slider=IntSlider(min=min(archi_params[\"insertion_angle\"]), max=max(archi_params[\"insertion_angle\"]), step=1, value=30)\n",
    "scurv_slider=FloatSlider(min=min(archi_params[\"scurv\"]), max=max(archi_params[\"scurv\"]), step=0.01, value=0.7)\n",
    "curvature_slider=IntSlider(min=min(archi_params[\"curvature\"]), max=max(archi_params[\"curvature\"]), step=5, value=90)\n",
    "alpha_slider=fixed(archi_params[\"alpha\"][0])\n",
    "stem_q_slider=fixed(archi_params[\"stem_q\"][0])\n",
    "rmax_slider=FloatSlider(min=min(archi_params[\"rmax\"]), max=max(archi_params[\"rmax\"]), step=0.01, value=0.8)\n",
    "skew_slider=fixed(archi_params[\"skew\"][0])\n",
    "phyllotactic_angle_slider=fixed(archi_params[\"phyllotactic_angle\"][0])\n",
    "phyllotactic_deviation_slider=IntSlider(min=min(archi_params[\"phyllotactic_deviation\"]), max=max(archi_params[\"phyllotactic_deviation\"]), step=5, value=15)\n",
    "phyllochron_slider=IntSlider(min=min(archi_params[\"phyllochron\"]), max=max(archi_params[\"phyllochron\"]), step=1, value=55)\n",
    "plastochron_slider=IntSlider(min=min(archi_params[\"plastochron\"]), max=max(archi_params[\"plastochron\"]), step=1, value=40)\n",
    "leaf_duration_slider=FloatSlider(min=min(archi_params[\"leaf_duration\"]), max=max(archi_params[\"leaf_duration\"]), step=0.1, value=6)\n",
    "stem_duration_slider=FloatSlider(min=min(archi_params[\"stem_duration\"]), max=max(archi_params[\"stem_duration\"]), step=0.1, value=1.5)\n",
    "leaf_senescence_slider=IntSlider(min=min(archi_params[\"leaf_senescence\"]), max=max(archi_params[\"leaf_senescence\"]), step=10, value=700)\n",
    "\n",
    "time_slider = IntSlider(value=0, min=0, max=len(time), step=1, description=\"Time\")\n",
    "\n",
    "# Interactive widget setup\n",
    "play_widget = Play(value=0, min=0, max=len(time), step=1, interval=1000)\n",
    "\n",
    "# Link play widget with time slider\n",
    "jslink((play_widget, 'value'), (time_slider, 'value'))\n",
    "\n",
    "# Callback to update scene\n",
    "def update_scene(*args):\n",
    "    seed(100)\n",
    "    nb_phy = nb_phy_slider.value\n",
    "    max_leaf_length = max_leaf_length_slider.value\n",
    "    wl = wl_slider.value\n",
    "    diam_base = diam_base_slider.value\n",
    "    diam_top = diam_top_slider.value\n",
    "    insertion_angle = insertion_angle_slider.value\n",
    "    scurv = scurv_slider.value\n",
    "    curvature = curvature_slider.value\n",
    "    alpha = alpha_slider.value\n",
    "    stem_q = stem_q_slider.value\n",
    "    rmax = rmax_slider.value\n",
    "    skew = skew_slider.value\n",
    "    phyllotactic_angle = phyllotactic_angle_slider.value\n",
    "    phyllotactic_deviation = phyllotactic_deviation_slider.value\n",
    "    phyllochron = phyllochron_slider.value\n",
    "    plastochron = plastochron_slider.value\n",
    "    leaf_duration = leaf_duration_slider.value\n",
    "    stem_duration = stem_duration_slider.value\n",
    "    leaf_senescence = leaf_senescence_slider.value\n",
    "    time = time_slider.value\n",
    "    sorghum = ArchiCrop(height, nb_phy, max_leaf_length, wl, diam_base, diam_top, insertion_angle, scurv, curvature, alpha, \n",
    "                        stem_q, rmax, skew, phyllotactic_angle, phyllotactic_deviation, \n",
    "                        phyllochron, plastochron, leaf_duration, stem_duration, leaf_senescence)\n",
    "    sorghum.generate_potential_plant()\n",
    "    sorghum.define_development()\n",
    "    growing_plant = sorghum.grow_plant(stics_output_data)\n",
    "    Viewer.display(build_scene(growing_plant[time], leaf_material = Material(nice_green), stem_material=Material(nice_green))[0])\n",
    "    # PlantGL(build_scene(growing_plant[time]))\n",
    "\n",
    "# Attach update callback\n",
    "nb_phy_slider.observe(update_scene, names='value')\n",
    "max_leaf_length_slider.observe(update_scene, names='value')\n",
    "insertion_angle_slider.observe(update_scene, names='value')\n",
    "scurv_slider.observe(update_scene, names='value')\n",
    "curvature_slider.observe(update_scene, names='value')\n",
    "time_slider.observe(update_scene, names='value')\n",
    "\n",
    "# Display widgets\n",
    "controls = VBox([nb_phy_slider, max_leaf_length_slider, insertion_angle_slider, scurv_slider, curvature_slider, HBox([time_slider, play_widget])])\n",
    "display(controls)\n",
    "\n",
    "# Initial scene display\n",
    "update_scene()\n",
    "\n",
    "# cf github openalea weberpenn trunk_parameters"
   ]
  },
  {
   "cell_type": "code",
   "execution_count": 10,
   "id": "953c2ac3-326a-4933-8f62-bbb30a0b416b",
   "metadata": {},
   "outputs": [],
   "source": [
    "# same with population\n",
    "\n",
    "\n",
    "\n",
    "\n"
   ]
  },
  {
   "cell_type": "code",
   "execution_count": 11,
   "id": "eac460bc-0e5a-4b52-af1d-9e9067d6c718",
   "metadata": {},
   "outputs": [],
   "source": [
    "# same with light interception\n",
    "\n",
    "\n",
    "\n",
    "\n"
   ]
  },
  {
   "cell_type": "code",
   "execution_count": 12,
   "id": "e628e067-10d8-4e42-a113-83ee14a0fd19",
   "metadata": {},
   "outputs": [],
   "source": [
    "# for i in range(len(archi_params_combinations)):\n",
    "#     archi_without_height = archi_params_combinations[i]\n",
    "#     archi = (height_potential_plant, *archi_without_height)\n",
    "#     sorghum = ArchiCrop(*archi)\n",
    "#     sorghum.generate_potential_plant()\n",
    "#     sorghum.define_development()\n",
    "#     growing_plant = sorghum.grow_plant(stics_output_data)\n",
    "    \n",
    "#     gp_scenes = []\n",
    "#     LA = []\n",
    "#     for gp in growing_plant:\n",
    "#         # gp_scenes.append(build_scene(gp, leaf_material = Material(nice_green), stem_material=Material(nice_green))[0])\n",
    "#         leaf_area_plant = np.sum(np.array(compute_leaf_area_growing_plant(gp)))\n",
    "#         LA.append(leaf_area_plant)\n",
    "    \n",
    "#     plt.plot(time, LA)\n",
    "\n",
    "# LAI_stics = [value[\"Plant leaf area\"] for value in stics_output_data.values()]\n",
    "# plt.plot(time, LAI_stics, color=\"black\")\n",
    "# plt.show()"
   ]
  },
  {
   "cell_type": "code",
   "execution_count": 13,
   "id": "11958e95-9ac3-4394-98e7-df0fb14ef950",
   "metadata": {},
   "outputs": [],
   "source": [
    "def parametric_model_sorghum(time, max_leaf_length, leaf_duration):\n",
    "    \"\"\"\n",
    "    Define parametric model.\n",
    "\n",
    "    Args:\n",
    "    - max_leaf_length, phyllochron: Parameters of the model\n",
    "\n",
    "    Returns:\n",
    "    - leaf_areas: Output values corresponding to the model\n",
    "    \"\"\"\n",
    "\n",
    "    sorghum = ArchiCrop(height=222, # from crop model\n",
    "                        nb_phy=25,\n",
    "                        max_leaf_length=max_leaf_length,\n",
    "                        wl=0.12, diam_base=2.5, diam_top=1.5, \n",
    "                        insertion_angle=30, scurv=0.7, curvature=100, \n",
    "                        alpha=-2.3, stem_q=1.1, rmax=0.75, skew=0.08, # 0.0005\n",
    "                        phyllotactic_angle=180,\n",
    "                        phyllotactic_deviation=15,\n",
    "                        phyllochron=55, \n",
    "                        plastochron=45, \n",
    "                        leaf_duration=leaf_duration, \n",
    "                        stem_duration=2, \n",
    "                        leaf_senescence=800)\n",
    "    sorghum.generate_potential_plant()\n",
    "    sorghum.define_development()\n",
    "    growing_plant = sorghum.grow_plant(stics_output_data)\n",
    "\n",
    "    return [sum(compute_leaf_area_growing_plant(gp)) for gp in growing_plant]"
   ]
  },
  {
   "cell_type": "code",
   "execution_count": 14,
   "id": "1c1b8522-0cf6-437a-9e05-8355d62b6fdb",
   "metadata": {},
   "outputs": [
    {
     "ename": "NameError",
     "evalue": "name 'LAI_stics' is not defined",
     "output_type": "error",
     "traceback": [
      "\u001b[1;31m---------------------------------------------------------------------------\u001b[0m",
      "\u001b[1;31mNameError\u001b[0m                                 Traceback (most recent call last)",
      "Cell \u001b[1;32mIn[14], line 4\u001b[0m\n\u001b[0;32m      1\u001b[0m \u001b[38;5;28;01mfrom\u001b[39;00m \u001b[38;5;21;01mscipy\u001b[39;00m\u001b[38;5;21;01m.\u001b[39;00m\u001b[38;5;21;01moptimize\u001b[39;00m \u001b[38;5;28;01mimport\u001b[39;00m curve_fit\n\u001b[0;32m      3\u001b[0m \u001b[38;5;66;03m# Fit the model to crop model data and obtain optimal parameters\u001b[39;00m\n\u001b[1;32m----> 4\u001b[0m optimal_params, covariance \u001b[38;5;241m=\u001b[39m curve_fit(f\u001b[38;5;241m=\u001b[39mparametric_model_sorghum, xdata\u001b[38;5;241m=\u001b[39mtime, ydata\u001b[38;5;241m=\u001b[39m\u001b[43mLAI_stics\u001b[49m, bounds\u001b[38;5;241m=\u001b[39m([\u001b[38;5;241m20\u001b[39m,\u001b[38;5;241m1\u001b[39m],[\u001b[38;5;241m120\u001b[39m,\u001b[38;5;241m10\u001b[39m]), method\u001b[38;5;241m=\u001b[39m\u001b[38;5;124m'\u001b[39m\u001b[38;5;124mtrf\u001b[39m\u001b[38;5;124m'\u001b[39m) \u001b[38;5;66;03m# bounds to set from lit\u001b[39;00m\n\u001b[0;32m      5\u001b[0m se \u001b[38;5;241m=\u001b[39m np\u001b[38;5;241m.\u001b[39msqrt(np\u001b[38;5;241m.\u001b[39mdiag(covariance))\n\u001b[0;32m      7\u001b[0m \u001b[38;5;28mprint\u001b[39m(\u001b[38;5;124m\"\u001b[39m\u001b[38;5;124m                  Max leaf length  Leaf duration\u001b[39m\u001b[38;5;124m\"\u001b[39m)\n",
      "\u001b[1;31mNameError\u001b[0m: name 'LAI_stics' is not defined"
     ]
    }
   ],
   "source": [
    "from scipy.optimize import curve_fit\n",
    "\n",
    "# Fit the model to crop model data and obtain optimal parameters\n",
    "optimal_params, covariance = curve_fit(f=parametric_model_sorghum, xdata=time, ydata=LAI_stics, bounds=([20,1],[120,10]), method='trf') # bounds to set from lit\n",
    "se = np.sqrt(np.diag(covariance))\n",
    "\n",
    "print(\"                  Max leaf length  Leaf duration\")\n",
    "print(\"Optimized parameters:\", optimal_params)\n",
    "print(\"Covariances:\", covariance)\n",
    "print(\"Standard errors:\", se)\n",
    "\n",
    "# Visualize the fit\n",
    "plt.clf()\n",
    "plt.scatter(time, LAI_stics, color=(57/255,157/255,99/255), label='Simulation with STICS') # R 243, G 146, B 0\n",
    "res = parametric_model_sorghum(time, *optimal_params)\n",
    "plt.plot(time, np.array(res), color=(57/255,151/255,88/255), label='Simulation with ArchiCrop') # R 57, G 151, B 88\n",
    "plt.xlabel('Thermal time (°C.d)', fontsize=24)\n",
    "plt.ylabel('LAI', fontsize=24)\n",
    "# plt.legend()\n",
    "plt.show()"
   ]
  },
  {
   "cell_type": "code",
   "execution_count": null,
   "id": "6e5db56d-7512-4045-b1fb-a7965669c9f3",
   "metadata": {},
   "outputs": [],
   "source": [
    "def parametric_model_sorghum_nb_phy(time, max_leaf_length, nb_phy):\n",
    "    \"\"\"\n",
    "    Define parametric model.\n",
    "\n",
    "    Args:\n",
    "    - max_leaf_length, phyllochron: Parameters of the model\n",
    "\n",
    "    Returns:\n",
    "    - leaf_areas: Output values corresponding to the model\n",
    "    \"\"\"\n",
    "\n",
    "    sorghum = ArchiCrop(height=222, # from crop model\n",
    "                        nb_phy=nb_phy,\n",
    "                        max_leaf_length=max_leaf_length,\n",
    "                        wl=0.12, diam_base=2.5, diam_top=1.5, \n",
    "                        insertion_angle=30, scurv=0.7, curvature=100, \n",
    "                        alpha=-2.3, stem_q=1.1, rmax=0.75, skew=0.08, # 0.0005\n",
    "                        phyllotactic_angle=180,\n",
    "                        phyllotactic_deviation=15, phyllochron=55, plastochron=45, leaf_duration=5, stem_duration=2, leaf_senescence=800)\n",
    "    sorghum.generate_potential_plant()\n",
    "    sorghum.define_development()\n",
    "    growing_plant = sorghum.grow_plant(g, stics_output_data)\n",
    "\n",
    "    return [sum(compute_leaf_area_growing_plant(gp)) for gp in growing_plant]\n",
    "\n",
    "best_params = None\n",
    "best_error = float('inf')\n",
    "\n",
    "# Grid search over integer values for nb_phy\n",
    "for nb_phy in range(10, 36, 5):  # Integer bounds for nb_phy\n",
    "    def model_with_fixed_nb_phy(time, max_leaf_length):\n",
    "        return parametric_model_sorghum_nb_phy(time, max_leaf_length, nb_phy)\n",
    "    \n",
    "    try:\n",
    "        params, _ = curve_fit(\n",
    "            f=model_with_fixed_nb_phy,\n",
    "            xdata=time,\n",
    "            ydata=LAI_stics,\n",
    "            bounds=([20], [120]),  # Bounds for max_leaf_length only\n",
    "            method='trf'\n",
    "        )\n",
    "        error = np.sum((LAI_stics - model_with_fixed_nb_phy(time, params[0]))**2)\n",
    "        if error < best_error:\n",
    "            best_error = error\n",
    "            best_params = [params[0], nb_phy]\n",
    "            print(best_params)\n",
    "    except:\n",
    "        continue"
   ]
  },
  {
   "cell_type": "code",
   "execution_count": null,
   "id": "c4585731-08d3-4259-9b59-9bf465bc21ea",
   "metadata": {},
   "outputs": [],
   "source": [
    "time_slider = IntSlider(value=0, min=0, max=len(time), step=1, description=\"Time\")\n",
    "\n",
    "# Interactive widget setup\n",
    "play_widget = Play(value=0, min=0, max=len(time), step=1, interval=500)\n",
    "\n",
    "# Link play widget with time slider\n",
    "jslink((play_widget, 'value'), (time_slider, 'value'))\n",
    "\n",
    "# Callback to update scene\n",
    "def update_scene(*args):\n",
    "    time = time_slider.value\n",
    "    Viewer.display(gp_scenes[time])\n",
    "\n",
    "# Attach update callback\n",
    "time_slider.observe(update_scene, names='value')\n",
    "\n",
    "# Display widgets\n",
    "controls = HBox([time_slider, play_widget])\n",
    "display(controls)\n",
    "\n",
    "# Initial scene display\n",
    "update_scene()\n",
    "\n",
    "# cf github openalea weberpenn trunk_parameters"
   ]
  },
  {
   "cell_type": "code",
   "execution_count": null,
   "id": "353e0953-b5cc-418f-ad24-256997d2c48e",
   "metadata": {},
   "outputs": [],
   "source": [
    "## Imports\n",
    "\n",
    "# from installed packages\n",
    "from random import *\n",
    "\n",
    "# from archicrop\n",
    "from openalea.archicrop.stand import agronomic_plot\n",
    "\n",
    "# Enable plotting with PlantGL\n",
    "%gui qt\n",
    "\n",
    "## Code for generating ...\n",
    "# Fix a seed\n",
    "seed(100)\n",
    "\n",
    "# Initialize the list of plants\n",
    "plants_in_crop=[]\n",
    "\n",
    "# Fixed parameters for all plants\n",
    "length_plot=5\n",
    "width_plot=5\n",
    "sowing_density=8\n",
    "plant_density=8\n",
    "inter_row=0.4\n",
    "nplants, positions, domain, domain_area, unit = agronomic_plot(length_plot, \n",
    "                                                               width_plot, \n",
    "                                                               sowing_density, \n",
    "                                                               inter_row, \n",
    "                                                               noise=0.1)\n",
    "\n",
    "# For loop over all the plants in the crop\n",
    "for n in range(nplants):\n",
    "\n",
    "    # Parameters \n",
    "    max_leaf_length=optimal_params[0]\n",
    "\n",
    "    height=222                 # from crop model\n",
    "    nb_phy=18\n",
    "    \n",
    "    \n",
    "    shoot, g = build_shoot(nb_phy=nb_phy,\n",
    "                            height=height,\n",
    "                            max_leaf_length=max_leaf_length,\n",
    "                            wl=0.12, diam_base=2.5, diam_top=0.5, \n",
    "                            insertion_angle=30, scurv=0.4, curvature=150, \n",
    "                            alpha=-2.3, stem_q=1, rmax=0.8, skew=0.005, # 0.0005\n",
    "                            phyllotactic_angle=180,\n",
    "                            phyllotactic_deviation=15,\n",
    "                            plant_orientation=45)\n",
    "    \n",
    "    # Fill the list of plants\n",
    "    plants_in_crop.append(g) # put all plants in the same mtg to be able to visualize the dynamic growth easily\n",
    "\n",
    "# Build and display scene\n",
    "scene_var, nump = build_scene(plants_in_crop, positions, leaf_material=Material(nice_green), stem_material=Material(nice_green))\n",
    "PlantGL(scene_var)\n",
    "# interact(grow_plant_and_display_in_NB, g=fixed(plants_in_crop), time=IntSlider(min=20, max=2000, step=20, value=1000))"
   ]
  }
 ],
 "metadata": {
  "kernelspec": {
   "display_name": "oa3",
   "language": "python",
   "name": "oa3"
  },
  "language_info": {
   "codemirror_mode": {
    "name": "ipython",
    "version": 3
   },
   "file_extension": ".py",
   "mimetype": "text/x-python",
   "name": "python",
   "nbconvert_exporter": "python",
   "pygments_lexer": "ipython3",
   "version": "3.12.2"
  },
  "widgets": {
   "application/vnd.jupyter.widget-state+json": {
    "state": {
     "006f1d69e98f4727ae2cf4c7fd5fdce8": {
      "model_module": "@jupyter-widgets/controls",
      "model_module_version": "2.0.0",
      "model_name": "FloatSliderModel",
      "state": {
       "behavior": "drag-tap",
       "layout": "IPY_MODEL_2a7553f67a0c4b428b05c387d1b47a4d",
       "max": 0.12,
       "min": 0.12,
       "step": 0.01,
       "style": "IPY_MODEL_879a20e04b38465ca892881e9becc089",
       "value": 0.12
      }
     },
     "02d41831145a4a998bdf18bf303b9f95": {
      "model_module": "@jupyter-widgets/controls",
      "model_module_version": "2.0.0",
      "model_name": "SliderStyleModel",
      "state": {
       "description_width": ""
      }
     },
     "036699b34ef5425292952ceeaf3f4c8d": {
      "model_module": "@jupyter-widgets/base",
      "model_module_version": "2.0.0",
      "model_name": "LayoutModel",
      "state": {}
     },
     "036c3732ea4f443c898b04426ae9e926": {
      "model_module": "@jupyter-widgets/base",
      "model_module_version": "2.0.0",
      "model_name": "LayoutModel",
      "state": {}
     },
     "08f90b4da319417589e8dd5ec9069f35": {
      "model_module": "@jupyter-widgets/base",
      "model_module_version": "2.0.0",
      "model_name": "LayoutModel",
      "state": {}
     },
     "0a28c795a775494985f32a32f2a8da6b": {
      "model_module": "@jupyter-widgets/controls",
      "model_module_version": "2.0.0",
      "model_name": "FloatSliderModel",
      "state": {
       "behavior": "drag-tap",
       "layout": "IPY_MODEL_10f632a0e5074a848a9e28781bea7507",
       "max": 0.9,
       "min": 0.7,
       "step": 0.01,
       "style": "IPY_MODEL_f9231ebc1e8c4a9481855b837d85dcd6",
       "value": 0.8
      }
     },
     "0f1af523eb8947a69769a9b812aa8008": {
      "model_module": "@jupyter-widgets/controls",
      "model_module_version": "2.0.0",
      "model_name": "SliderStyleModel",
      "state": {
       "description_width": ""
      }
     },
     "10f632a0e5074a848a9e28781bea7507": {
      "model_module": "@jupyter-widgets/base",
      "model_module_version": "2.0.0",
      "model_name": "LayoutModel",
      "state": {}
     },
     "12c50d1e048647c7a5281378dc8e3299": {
      "model_module": "@jupyter-widgets/base",
      "model_module_version": "2.0.0",
      "model_name": "LayoutModel",
      "state": {}
     },
     "13af64a00edf487aaf35fc0332ee5a57": {
      "model_module": "@jupyter-widgets/base",
      "model_module_version": "2.0.0",
      "model_name": "LayoutModel",
      "state": {}
     },
     "13fe023e240e4bb9abc5c2ba5dc34c52": {
      "model_module": "@jupyter-widgets/controls",
      "model_module_version": "2.0.0",
      "model_name": "FloatSliderModel",
      "state": {
       "behavior": "drag-tap",
       "description": "skew",
       "layout": "IPY_MODEL_42495bbf2b7b4d07b76f16142f87c5cf",
       "max": 0.1,
       "min": 0.01,
       "step": 0.01,
       "style": "IPY_MODEL_6243809fcb69488594597b5f6ff78172",
       "value": 0.049999999999999996
      }
     },
     "14da717418e245538c5bcf2e1933a5a2": {
      "model_module": "@jupyter-widgets/base",
      "model_module_version": "2.0.0",
      "model_name": "LayoutModel",
      "state": {}
     },
     "16c95481a8034aef93f07f68a0047b9d": {
      "model_module": "@jupyter-widgets/controls",
      "model_module_version": "2.0.0",
      "model_name": "IntSliderModel",
      "state": {
       "behavior": "drag-tap",
       "layout": "IPY_MODEL_1794d5016db44cd6ad0520710e6c1e5b",
       "max": 40,
       "min": 10,
       "style": "IPY_MODEL_3f27671e8d3042869265b077dcf33d7d",
       "value": 15
      }
     },
     "1794d5016db44cd6ad0520710e6c1e5b": {
      "model_module": "@jupyter-widgets/base",
      "model_module_version": "2.0.0",
      "model_name": "LayoutModel",
      "state": {}
     },
     "1b80f96b81ef4d13a858ea1732ebbb1a": {
      "model_module": "k3d",
      "model_module_version": "2.16.1",
      "model_name": "PlotModel",
      "state": {
       "_backend_version": "2.16.1",
       "antialias": 3,
       "auto_rendering": true,
       "axes": [
        "x",
        "y",
        "z"
       ],
       "axes_helper": 1,
       "axes_helper_colors": [
        16711680,
        65280,
        255
       ],
       "background_color": 16777215,
       "camera": [
        251.9035416366931,
        -377.2366801384503,
        154.11157704117198,
        -6.820108413696289,
        10.848794937133789,
        128.2392120361328,
        0,
        0,
        1
       ],
       "camera_animation": [],
       "camera_auto_fit": true,
       "camera_damping_factor": 0,
       "camera_fov": 60,
       "camera_mode": "trackball",
       "camera_no_pan": false,
       "camera_no_rotate": false,
       "camera_no_zoom": false,
       "camera_pan_speed": 0.3,
       "camera_rotate_speed": 1,
       "camera_zoom_speed": 1.2,
       "clipping_planes": [],
       "colorbar_object_id": -1,
       "colorbar_scientific": false,
       "custom_data": null,
       "fps": 25,
       "fps_meter": false,
       "grid": [
        -1,
        -1,
        -1,
        1,
        1,
        1
       ],
       "grid_auto_fit": true,
       "grid_color": 15132390,
       "grid_visible": true,
       "height": 512,
       "label_color": 4473924,
       "layout": "IPY_MODEL_d650bb3d99864608a73b60fc6c1373fa",
       "lighting": 3,
       "logarithmic_depth_buffer": true,
       "manipulate_mode": "translate",
       "menu_visibility": true,
       "minimum_fps": -1,
       "mode": "view",
       "name": null,
       "object_ids": [
        2834970180304
       ],
       "rendering_steps": 1,
       "screenshot": "",
       "screenshot_scale": 2,
       "snapshot": "",
       "snapshot_type": "full",
       "time": 0,
       "voxel_paint_color": 0
      }
     },
     "2127263bc5fa4b68b054894bf9db8337": {
      "model_module": "@jupyter-widgets/base",
      "model_module_version": "2.0.0",
      "model_name": "LayoutModel",
      "state": {}
     },
     "2242707f73b64db1b38566c9a0753c4b": {
      "model_module": "@jupyter-widgets/controls",
      "model_module_version": "2.0.0",
      "model_name": "SliderStyleModel",
      "state": {
       "description_width": ""
      }
     },
     "246ee88f247746d68fad0ec7a120195a": {
      "model_module": "@jupyter-widgets/controls",
      "model_module_version": "2.0.0",
      "model_name": "SliderStyleModel",
      "state": {
       "description_width": ""
      }
     },
     "2554c110d34147f59b9ddca183f1a80d": {
      "model_module": "@jupyter-widgets/controls",
      "model_module_version": "2.0.0",
      "model_name": "IntSliderModel",
      "state": {
       "behavior": "drag-tap",
       "description": "Time",
       "layout": "IPY_MODEL_bde3bc21a333476e924351ad3c0bc85e",
       "max": 76,
       "style": "IPY_MODEL_65600e5a68414c8e9a8d3ca60a298b7c",
       "value": 52
      }
     },
     "2a7553f67a0c4b428b05c387d1b47a4d": {
      "model_module": "@jupyter-widgets/base",
      "model_module_version": "2.0.0",
      "model_name": "LayoutModel",
      "state": {}
     },
     "2b77fda3f090482084b27ba73709004d": {
      "model_module": "@jupyter-widgets/controls",
      "model_module_version": "2.0.0",
      "model_name": "FloatSliderModel",
      "state": {
       "behavior": "drag-tap",
       "description": "scurv",
       "layout": "IPY_MODEL_e8f18539293842e99e2540fa60da6614",
       "max": 0.7,
       "min": 0.7,
       "step": 0.01,
       "style": "IPY_MODEL_ea2536210b174ffaafa03eb97f992ad9",
       "value": 0.7
      }
     },
     "2e90c4701fe24cbd85b55025a0884485": {
      "model_module": "@jupyter-widgets/base",
      "model_module_version": "2.0.0",
      "model_name": "LayoutModel",
      "state": {}
     },
     "31061b4904bf4bf28466a90641737684": {
      "model_module": "@jupyter-widgets/base",
      "model_module_version": "2.0.0",
      "model_name": "LayoutModel",
      "state": {}
     },
     "32492172f8644687b8368190af08d969": {
      "model_module": "@jupyter-widgets/base",
      "model_module_version": "2.0.0",
      "model_name": "LayoutModel",
      "state": {}
     },
     "373fdec9733d46d9b9647b276e7bdd6f": {
      "model_module": "@jupyter-widgets/controls",
      "model_module_version": "2.0.0",
      "model_name": "IntSliderModel",
      "state": {
       "behavior": "drag-tap",
       "layout": "IPY_MODEL_66775c62c4cc44edbda09cf4a4ecda88",
       "max": 65,
       "min": 40,
       "style": "IPY_MODEL_63f859dccdbd4d9ea7a1c00cf4582e11",
       "value": 55
      }
     },
     "388b11eb9c6e4fafaafdcd533f851cf3": {
      "model_module": "@jupyter-widgets/base",
      "model_module_version": "2.0.0",
      "model_name": "LayoutModel",
      "state": {}
     },
     "38fb9d4159cd4cb8a54e0e0104cd06b3": {
      "model_module": "@jupyter-widgets/controls",
      "model_module_version": "2.0.0",
      "model_name": "SliderStyleModel",
      "state": {
       "description_width": ""
      }
     },
     "393e52c0ddca43b1b2b0123d35f48f00": {
      "model_module": "@jupyter-widgets/output",
      "model_module_version": "1.0.0",
      "model_name": "OutputModel",
      "state": {
       "layout": "IPY_MODEL_13af64a00edf487aaf35fc0332ee5a57",
       "outputs": [
        {
         "data": {
          "application/vnd.jupyter.widget-view+json": {
           "model_id": "1b80f96b81ef4d13a858ea1732ebbb1a",
           "version_major": 2,
           "version_minor": 0
          },
          "text/plain": "Plot(antialias=3, axes=['x', 'y', 'z'], axes_helper=1.0, axes_helper_colors=[16711680, 65280, 255], background…"
         },
         "metadata": {},
         "output_type": "display_data"
        }
       ]
      }
     },
     "3f27671e8d3042869265b077dcf33d7d": {
      "model_module": "@jupyter-widgets/controls",
      "model_module_version": "2.0.0",
      "model_name": "SliderStyleModel",
      "state": {
       "description_width": ""
      }
     },
     "42495bbf2b7b4d07b76f16142f87c5cf": {
      "model_module": "@jupyter-widgets/base",
      "model_module_version": "2.0.0",
      "model_name": "LayoutModel",
      "state": {}
     },
     "432a8df9c4d24754a9d6a800374b7667": {
      "model_module": "@jupyter-widgets/controls",
      "model_module_version": "2.0.0",
      "model_name": "IntSliderModel",
      "state": {
       "behavior": "drag-tap",
       "layout": "IPY_MODEL_2127263bc5fa4b68b054894bf9db8337",
       "max": 90,
       "min": 90,
       "step": 5,
       "style": "IPY_MODEL_5339ebcf43bb4dba9839bc44770f51d8",
       "value": 90
      }
     },
     "445843f27bc84d0a9ea0c842ddaaf557": {
      "model_module": "k3d",
      "model_module_version": "2.16.1",
      "model_name": "PlotModel",
      "state": {
       "_backend_version": "2.16.1",
       "antialias": 3,
       "auto_rendering": true,
       "axes": [
        "x",
        "y",
        "z"
       ],
       "axes_helper": 1,
       "axes_helper_colors": [
        16711680,
        65280,
        255
       ],
       "background_color": 16777215,
       "camera": [
        262.68440623416893,
        -390.27736942968363,
        154.1743806792643,
        3.3327198028564453,
        -1.2498397827148438,
        128.2392120361328,
        0,
        0,
        1
       ],
       "camera_animation": [],
       "camera_auto_fit": true,
       "camera_damping_factor": 0,
       "camera_fov": 60,
       "camera_mode": "trackball",
       "camera_no_pan": false,
       "camera_no_rotate": false,
       "camera_no_zoom": false,
       "camera_pan_speed": 0.3,
       "camera_rotate_speed": 1,
       "camera_zoom_speed": 1.2,
       "clipping_planes": [],
       "colorbar_object_id": -1,
       "colorbar_scientific": false,
       "custom_data": null,
       "fps": 25,
       "fps_meter": false,
       "grid": [
        -1,
        -1,
        -1,
        1,
        1,
        1
       ],
       "grid_auto_fit": true,
       "grid_color": 15132390,
       "grid_visible": true,
       "height": 512,
       "label_color": 4473924,
       "layout": "IPY_MODEL_baef1cb64ec342f09c1184711f897119",
       "lighting": 3,
       "logarithmic_depth_buffer": true,
       "manipulate_mode": "translate",
       "menu_visibility": true,
       "minimum_fps": -1,
       "mode": "view",
       "name": null,
       "object_ids": [
        2834970364096
       ],
       "rendering_steps": 1,
       "screenshot": "",
       "screenshot_scale": 2,
       "snapshot": "",
       "snapshot_type": "full",
       "time": 0,
       "voxel_paint_color": 0
      }
     },
     "49a7658bd07b4ef9aa700f8f9b1dab7a": {
      "model_module": "@jupyter-widgets/base",
      "model_module_version": "2.0.0",
      "model_name": "LayoutModel",
      "state": {}
     },
     "4a5dc982b4a04fe4a2010c326d93fa5e": {
      "model_module": "@jupyter-widgets/controls",
      "model_module_version": "2.0.0",
      "model_name": "FloatSliderModel",
      "state": {
       "behavior": "drag-tap",
       "description": "rmax",
       "layout": "IPY_MODEL_9fab45ef5eeb47ffaad368a871b81a36",
       "max": 0.9,
       "min": 0.7,
       "step": 0.01,
       "style": "IPY_MODEL_02d41831145a4a998bdf18bf303b9f95",
       "value": 0.75
      }
     },
     "50e06cd2767c4cc4a9e77e06602c3f82": {
      "model_module": "@jupyter-widgets/controls",
      "model_module_version": "2.0.0",
      "model_name": "IntSliderModel",
      "state": {
       "behavior": "drag-tap",
       "layout": "IPY_MODEL_14da717418e245538c5bcf2e1933a5a2",
       "max": 15,
       "min": 15,
       "step": 5,
       "style": "IPY_MODEL_7f266b312e08429cb69fc1004d0c261c",
       "value": 15
      }
     },
     "5225cc589a5a4aa0b35c591a1e9c4a25": {
      "model_module": "@jupyter-widgets/base",
      "model_module_version": "2.0.0",
      "model_name": "LayoutModel",
      "state": {}
     },
     "5339ebcf43bb4dba9839bc44770f51d8": {
      "model_module": "@jupyter-widgets/controls",
      "model_module_version": "2.0.0",
      "model_name": "SliderStyleModel",
      "state": {
       "description_width": ""
      }
     },
     "5cb378ac1b75401589c90b8cb9e37ce9": {
      "model_module": "@jupyter-widgets/controls",
      "model_module_version": "2.0.0",
      "model_name": "SliderStyleModel",
      "state": {
       "description_width": ""
      }
     },
     "5f9d2b9b284f45eba454f572380d71d7": {
      "model_module": "@jupyter-widgets/controls",
      "model_module_version": "2.0.0",
      "model_name": "SliderStyleModel",
      "state": {
       "description_width": ""
      }
     },
     "6243809fcb69488594597b5f6ff78172": {
      "model_module": "@jupyter-widgets/controls",
      "model_module_version": "2.0.0",
      "model_name": "SliderStyleModel",
      "state": {
       "description_width": ""
      }
     },
     "626f939511cd4a648a3e63df4f6c2a00": {
      "model_module": "@jupyter-widgets/controls",
      "model_module_version": "2.0.0",
      "model_name": "SliderStyleModel",
      "state": {
       "description_width": ""
      }
     },
     "63f859dccdbd4d9ea7a1c00cf4582e11": {
      "model_module": "@jupyter-widgets/controls",
      "model_module_version": "2.0.0",
      "model_name": "SliderStyleModel",
      "state": {
       "description_width": ""
      }
     },
     "65600e5a68414c8e9a8d3ca60a298b7c": {
      "model_module": "@jupyter-widgets/controls",
      "model_module_version": "2.0.0",
      "model_name": "SliderStyleModel",
      "state": {
       "description_width": ""
      }
     },
     "66775c62c4cc44edbda09cf4a4ecda88": {
      "model_module": "@jupyter-widgets/base",
      "model_module_version": "2.0.0",
      "model_name": "LayoutModel",
      "state": {}
     },
     "668cbfe987b24bfa996ee7ebed184d76": {
      "model_module": "@jupyter-widgets/controls",
      "model_module_version": "2.0.0",
      "model_name": "FloatSliderModel",
      "state": {
       "behavior": "drag-tap",
       "layout": "IPY_MODEL_388b11eb9c6e4fafaafdcd533f851cf3",
       "max": 0.7,
       "min": 0.7,
       "step": 0.01,
       "style": "IPY_MODEL_626f939511cd4a648a3e63df4f6c2a00",
       "value": 0.7
      }
     },
     "677445597f8f4cc8a9115cf93249fafd": {
      "model_module": "@jupyter-widgets/controls",
      "model_module_version": "2.0.0",
      "model_name": "IntSliderModel",
      "state": {
       "behavior": "drag-tap",
       "description": "phyllotactic_deviation",
       "layout": "IPY_MODEL_96347ae17d0f4c3baa5af812d53837f3",
       "max": 15,
       "min": 15,
       "step": 5,
       "style": "IPY_MODEL_38fb9d4159cd4cb8a54e0e0104cd06b3",
       "value": 15
      }
     },
     "67b3b7fb040042abb2450d9364cb35e0": {
      "model_module": "@jupyter-widgets/base",
      "model_module_version": "2.0.0",
      "model_name": "LayoutModel",
      "state": {}
     },
     "73319f745c004407985c71368c1cc790": {
      "model_module": "@jupyter-widgets/controls",
      "model_module_version": "2.0.0",
      "model_name": "IntSliderModel",
      "state": {
       "behavior": "drag-tap",
       "layout": "IPY_MODEL_036699b34ef5425292952ceeaf3f4c8d",
       "max": 1000,
       "min": 500,
       "step": 10,
       "style": "IPY_MODEL_e382529818d244e8aae5d5888e2a4925",
       "value": 700
      }
     },
     "740f3ce885db4652940a34dda99a4363": {
      "model_module": "@jupyter-widgets/controls",
      "model_module_version": "2.0.0",
      "model_name": "IntSliderModel",
      "state": {
       "behavior": "drag-tap",
       "layout": "IPY_MODEL_08f90b4da319417589e8dd5ec9069f35",
       "max": 46,
       "min": 34,
       "style": "IPY_MODEL_5cb378ac1b75401589c90b8cb9e37ce9",
       "value": 40
      }
     },
     "77d2b1d8e13a4c45bff649f2bfbe7413": {
      "model_module": "@jupyter-widgets/controls",
      "model_module_version": "2.0.0",
      "model_name": "IntSliderModel",
      "state": {
       "behavior": "drag-tap",
       "layout": "IPY_MODEL_49a7658bd07b4ef9aa700f8f9b1dab7a",
       "max": 30,
       "min": 30,
       "style": "IPY_MODEL_0f1af523eb8947a69769a9b812aa8008",
       "value": 30
      }
     },
     "7f266b312e08429cb69fc1004d0c261c": {
      "model_module": "@jupyter-widgets/controls",
      "model_module_version": "2.0.0",
      "model_name": "SliderStyleModel",
      "state": {
       "description_width": ""
      }
     },
     "81971d6cf77044e9a629530688fd8516": {
      "model_module": "@jupyter-widgets/base",
      "model_module_version": "2.0.0",
      "model_name": "LayoutModel",
      "state": {}
     },
     "8345b8377d3842289e04567223f8cd4e": {
      "model_module": "@jupyter-widgets/controls",
      "model_module_version": "2.0.0",
      "model_name": "FloatSliderModel",
      "state": {
       "behavior": "drag-tap",
       "description": "wl",
       "layout": "IPY_MODEL_32492172f8644687b8368190af08d969",
       "max": 0.12,
       "min": 0.12,
       "step": 0.01,
       "style": "IPY_MODEL_5f9d2b9b284f45eba454f572380d71d7",
       "value": 0.12
      }
     },
     "879a20e04b38465ca892881e9becc089": {
      "model_module": "@jupyter-widgets/controls",
      "model_module_version": "2.0.0",
      "model_name": "SliderStyleModel",
      "state": {
       "description_width": ""
      }
     },
     "88ca3e61c1f84539bc89a817519da596": {
      "model_module": "@jupyter-widgets/base",
      "model_module_version": "2.0.0",
      "model_name": "LayoutModel",
      "state": {}
     },
     "96347ae17d0f4c3baa5af812d53837f3": {
      "model_module": "@jupyter-widgets/base",
      "model_module_version": "2.0.0",
      "model_name": "LayoutModel",
      "state": {}
     },
     "97e8ee96aeb14c44928e35e09c43718f": {
      "buffers": [
       {
        "data": "",
        "encoding": "base64",
        "path": [
         "attribute",
         "data"
        ]
       },
       {
        "data": "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",
        "encoding": "base64",
        "path": [
         "color_map",
         "data"
        ]
       },
       {
        "data": "",
        "encoding": "base64",
        "path": [
         "colors",
         "data"
        ]
       },
       {
        "data": "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",
        "encoding": "base64",
        "path": [
         "indices",
         "data"
        ]
       },
       {
        "data": "AACAPwAAAAAAAAAAAAAAAAAAAAAAAIA/AAAAAAAAAAAAAAAAAAAAAAAAgD8AAAAAAAAAAAAAAAAAAAAAAACAPw==",
        "encoding": "base64",
        "path": [
         "model_matrix",
         "data"
        ]
       },
       {
        "data": "",
        "encoding": "base64",
        "path": [
         "normals",
         "data"
        ]
       },
       {
        "data": "",
        "encoding": "base64",
        "path": [
         "opacity_function",
         "data"
        ]
       },
       {
        "data": "",
        "encoding": "base64",
        "path": [
         "triangles_attribute",
         "data"
        ]
       },
       {
        "data": "AADAfw==",
        "encoding": "base64",
        "path": [
         "uvs",
         "data"
        ]
       },
       {
        "data": "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",
        "encoding": "base64",
        "path": [
         "vertices",
         "data"
        ]
       },
       {
        "data": "",
        "encoding": "base64",
        "path": [
         "volume",
         "data"
        ]
       },
       {
        "data": "",
        "encoding": "base64",
        "path": [
         "volume_bounds",
         "data"
        ]
       }
      ],
      "model_module": "k3d",
      "model_module_version": "2.16.1",
      "model_name": "ObjectModel",
      "state": {
       "_view_module": null,
       "_view_module_version": "",
       "_view_name": null,
       "attribute": {
        "dtype": "float32",
        "shape": [
         0
        ]
       },
       "click_callback": false,
       "color": 3302400,
       "colorLegend": false,
       "color_map": {
        "dtype": "float32",
        "shape": [
         1024
        ]
       },
       "color_range": [],
       "colors": {
        "dtype": "uint32",
        "shape": [
         0
        ]
       },
       "compression_level": 0,
       "custom_data": null,
       "flat_shading": true,
       "group": null,
       "hover_callback": false,
       "id": 2834970364096,
       "indices": {
        "dtype": "uint32",
        "shape": [
         1872,
         3
        ]
       },
       "model_matrix": {
        "dtype": "float32",
        "shape": [
         4,
         4
        ]
       },
       "name": "Mesh #1",
       "normals": {
        "dtype": "float32",
        "shape": [
         0
        ]
       },
       "opacity": 1,
       "opacity_function": {
        "dtype": "float32",
        "shape": [
         0
        ]
       },
       "side": "front",
       "texture": null,
       "texture_file_format": null,
       "triangles_attribute": {
        "dtype": "float32",
        "shape": [
         0
        ]
       },
       "type": "Mesh",
       "uvs": {
        "dtype": "float32",
        "shape": []
       },
       "vertices": {
        "dtype": "float32",
        "shape": [
         1184,
         3
        ]
       },
       "visible": true,
       "volume": {
        "dtype": "float32",
        "shape": [
         0
        ]
       },
       "volume_bounds": {
        "dtype": "float32",
        "shape": [
         0
        ]
       },
       "wireframe": false
      }
     },
     "9cb5f98eb0c44389ae0efec10c487e0d": {
      "model_module": "@jupyter-widgets/controls",
      "model_module_version": "2.0.0",
      "model_name": "SliderStyleModel",
      "state": {
       "description_width": ""
      }
     },
     "9fab45ef5eeb47ffaad368a871b81a36": {
      "model_module": "@jupyter-widgets/base",
      "model_module_version": "2.0.0",
      "model_name": "LayoutModel",
      "state": {}
     },
     "a0afc5d875584bed96863ce0044088fe": {
      "model_module": "@jupyter-widgets/base",
      "model_module_version": "2.0.0",
      "model_name": "LayoutModel",
      "state": {}
     },
     "a78edd76500e45eead959418d6f21eb8": {
      "model_module": "@jupyter-widgets/controls",
      "model_module_version": "2.0.0",
      "model_name": "SliderStyleModel",
      "state": {
       "description_width": ""
      }
     },
     "a7c199240ee44b7fb8e0f7501a6d86c0": {
      "model_module": "@jupyter-widgets/controls",
      "model_module_version": "2.0.0",
      "model_name": "FloatSliderModel",
      "state": {
       "behavior": "drag-tap",
       "layout": "IPY_MODEL_31061b4904bf4bf28466a90641737684",
       "max": 6,
       "min": 1,
       "step": 0.1,
       "style": "IPY_MODEL_f778b910798a414880e3c679aace4cd7",
       "value": 1.5
      }
     },
     "aa53c747169d45a58ef0dfb13658d919": {
      "model_module": "@jupyter-widgets/controls",
      "model_module_version": "2.0.0",
      "model_name": "IntSliderModel",
      "state": {
       "behavior": "drag-tap",
       "layout": "IPY_MODEL_abba36898bb54508a5a3603c39ac6fa2",
       "max": 120,
       "min": 60,
       "style": "IPY_MODEL_9cb5f98eb0c44389ae0efec10c487e0d",
       "value": 60
      }
     },
     "abba36898bb54508a5a3603c39ac6fa2": {
      "model_module": "@jupyter-widgets/base",
      "model_module_version": "2.0.0",
      "model_name": "LayoutModel",
      "state": {}
     },
     "afa9ebc07548432ab698324543e703e0": {
      "model_module": "@jupyter-widgets/controls",
      "model_module_version": "2.0.0",
      "model_name": "PlayModel",
      "state": {
       "interval": 1000,
       "layout": "IPY_MODEL_2e90c4701fe24cbd85b55025a0884485",
       "max": 76,
       "playing": true,
       "style": "IPY_MODEL_f9dc4a11eca44ee8b290971ba47e37e2",
       "value": 52
      }
     },
     "b922f08c811a4567b428fe5cc850bbad": {
      "model_module": "@jupyter-widgets/controls",
      "model_module_version": "2.0.0",
      "model_name": "VBoxModel",
      "state": {
       "children": [
        "IPY_MODEL_16c95481a8034aef93f07f68a0047b9d",
        "IPY_MODEL_aa53c747169d45a58ef0dfb13658d919",
        "IPY_MODEL_77d2b1d8e13a4c45bff649f2bfbe7413",
        "IPY_MODEL_668cbfe987b24bfa996ee7ebed184d76",
        "IPY_MODEL_432a8df9c4d24754a9d6a800374b7667",
        "IPY_MODEL_c23174e8ab4c4c72b91fff9f20aa7176"
       ],
       "layout": "IPY_MODEL_88ca3e61c1f84539bc89a817519da596"
      }
     },
     "baef1cb64ec342f09c1184711f897119": {
      "model_module": "@jupyter-widgets/base",
      "model_module_version": "2.0.0",
      "model_name": "LayoutModel",
      "state": {}
     },
     "bd17a361e8084fe2ac9e374d054d9127": {
      "buffers": [
       {
        "data": "",
        "encoding": "base64",
        "path": [
         "attribute",
         "data"
        ]
       },
       {
        "data": "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",
        "encoding": "base64",
        "path": [
         "color_map",
         "data"
        ]
       },
       {
        "data": "",
        "encoding": "base64",
        "path": [
         "colors",
         "data"
        ]
       },
       {
        "data": "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",
        "encoding": "base64",
        "path": [
         "indices",
         "data"
        ]
       },
       {
        "data": "AACAPwAAAAAAAAAAAAAAAAAAAAAAAIA/AAAAAAAAAAAAAAAAAAAAAAAAgD8AAAAAAAAAAAAAAAAAAAAAAACAPw==",
        "encoding": "base64",
        "path": [
         "model_matrix",
         "data"
        ]
       },
       {
        "data": "",
        "encoding": "base64",
        "path": [
         "normals",
         "data"
        ]
       },
       {
        "data": "",
        "encoding": "base64",
        "path": [
         "opacity_function",
         "data"
        ]
       },
       {
        "data": "",
        "encoding": "base64",
        "path": [
         "triangles_attribute",
         "data"
        ]
       },
       {
        "data": "AADAfw==",
        "encoding": "base64",
        "path": [
         "uvs",
         "data"
        ]
       },
       {
        "data": "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",
        "encoding": "base64",
        "path": [
         "vertices",
         "data"
        ]
       },
       {
        "data": "",
        "encoding": "base64",
        "path": [
         "volume",
         "data"
        ]
       },
       {
        "data": "",
        "encoding": "base64",
        "path": [
         "volume_bounds",
         "data"
        ]
       }
      ],
      "model_module": "k3d",
      "model_module_version": "2.16.1",
      "model_name": "ObjectModel",
      "state": {
       "_view_module": null,
       "_view_module_version": "",
       "_view_name": null,
       "attribute": {
        "dtype": "float32",
        "shape": [
         0
        ]
       },
       "click_callback": false,
       "color": 3302400,
       "colorLegend": false,
       "color_map": {
        "dtype": "float32",
        "shape": [
         1024
        ]
       },
       "color_range": [],
       "colors": {
        "dtype": "uint32",
        "shape": [
         0
        ]
       },
       "compression_level": 0,
       "custom_data": null,
       "flat_shading": true,
       "group": null,
       "hover_callback": false,
       "id": 2834970180304,
       "indices": {
        "dtype": "uint32",
        "shape": [
         1872,
         3
        ]
       },
       "model_matrix": {
        "dtype": "float32",
        "shape": [
         4,
         4
        ]
       },
       "name": "Mesh #1",
       "normals": {
        "dtype": "float32",
        "shape": [
         0
        ]
       },
       "opacity": 1,
       "opacity_function": {
        "dtype": "float32",
        "shape": [
         0
        ]
       },
       "side": "front",
       "texture": null,
       "texture_file_format": null,
       "triangles_attribute": {
        "dtype": "float32",
        "shape": [
         0
        ]
       },
       "type": "Mesh",
       "uvs": {
        "dtype": "float32",
        "shape": []
       },
       "vertices": {
        "dtype": "float32",
        "shape": [
         1184,
         3
        ]
       },
       "visible": true,
       "volume": {
        "dtype": "float32",
        "shape": [
         0
        ]
       },
       "volume_bounds": {
        "dtype": "float32",
        "shape": [
         0
        ]
       },
       "wireframe": false
      }
     },
     "bde3bc21a333476e924351ad3c0bc85e": {
      "model_module": "@jupyter-widgets/base",
      "model_module_version": "2.0.0",
      "model_name": "LayoutModel",
      "state": {}
     },
     "c23174e8ab4c4c72b91fff9f20aa7176": {
      "model_module": "@jupyter-widgets/controls",
      "model_module_version": "2.0.0",
      "model_name": "HBoxModel",
      "state": {
       "children": [
        "IPY_MODEL_2554c110d34147f59b9ddca183f1a80d",
        "IPY_MODEL_afa9ebc07548432ab698324543e703e0"
       ],
       "layout": "IPY_MODEL_a0afc5d875584bed96863ce0044088fe"
      }
     },
     "c51d6d03ef0340e09fcd32a14404a3c1": {
      "model_module": "@jupyter-widgets/controls",
      "model_module_version": "2.0.0",
      "model_name": "LinkModel",
      "state": {
       "source": [
        "IPY_MODEL_afa9ebc07548432ab698324543e703e0",
        "value"
       ],
       "target": [
        "IPY_MODEL_2554c110d34147f59b9ddca183f1a80d",
        "value"
       ]
      }
     },
     "c5c87d78f34d4fac91abd6ed8e76fbeb": {
      "model_module": "@jupyter-widgets/controls",
      "model_module_version": "2.0.0",
      "model_name": "FloatSliderModel",
      "state": {
       "behavior": "drag-tap",
       "layout": "IPY_MODEL_5225cc589a5a4aa0b35c591a1e9c4a25",
       "max": 6,
       "min": 1,
       "step": 0.1,
       "style": "IPY_MODEL_a78edd76500e45eead959418d6f21eb8",
       "value": 6
      }
     },
     "c8fde40a147a4225a40e8a7577376325": {
      "model_module": "@jupyter-widgets/controls",
      "model_module_version": "2.0.0",
      "model_name": "IntSliderModel",
      "state": {
       "behavior": "drag-tap",
       "description": "max_leaf_length",
       "layout": "IPY_MODEL_67b3b7fb040042abb2450d9364cb35e0",
       "max": 120,
       "min": 60,
       "style": "IPY_MODEL_2242707f73b64db1b38566c9a0753c4b",
       "value": 112
      }
     },
     "d650bb3d99864608a73b60fc6c1373fa": {
      "model_module": "@jupyter-widgets/base",
      "model_module_version": "2.0.0",
      "model_name": "LayoutModel",
      "state": {}
     },
     "d952c8362e5342f08e9c854e928a9f72": {
      "model_module": "@jupyter-widgets/base",
      "model_module_version": "2.0.0",
      "model_name": "LayoutModel",
      "state": {}
     },
     "e382529818d244e8aae5d5888e2a4925": {
      "model_module": "@jupyter-widgets/controls",
      "model_module_version": "2.0.0",
      "model_name": "SliderStyleModel",
      "state": {
       "description_width": ""
      }
     },
     "e8f18539293842e99e2540fa60da6614": {
      "model_module": "@jupyter-widgets/base",
      "model_module_version": "2.0.0",
      "model_name": "LayoutModel",
      "state": {}
     },
     "ea2536210b174ffaafa03eb97f992ad9": {
      "model_module": "@jupyter-widgets/controls",
      "model_module_version": "2.0.0",
      "model_name": "SliderStyleModel",
      "state": {
       "description_width": ""
      }
     },
     "f4b56ecc24ee43d3a7914fc7f84772a2": {
      "model_module": "@jupyter-widgets/controls",
      "model_module_version": "2.0.0",
      "model_name": "IntSliderModel",
      "state": {
       "behavior": "drag-tap",
       "description": "curvature",
       "layout": "IPY_MODEL_036c3732ea4f443c898b04426ae9e926",
       "max": 90,
       "min": 90,
       "step": 5,
       "style": "IPY_MODEL_fe79558c9c444d19be741806a2e0b013",
       "value": 90
      }
     },
     "f778b910798a414880e3c679aace4cd7": {
      "model_module": "@jupyter-widgets/controls",
      "model_module_version": "2.0.0",
      "model_name": "SliderStyleModel",
      "state": {
       "description_width": ""
      }
     },
     "f7fde6962a114fd18baed66a38edf3a7": {
      "model_module": "@jupyter-widgets/controls",
      "model_module_version": "2.0.0",
      "model_name": "IntSliderModel",
      "state": {
       "behavior": "drag-tap",
       "description": "nb_phy",
       "layout": "IPY_MODEL_12c50d1e048647c7a5281378dc8e3299",
       "max": 40,
       "min": 10,
       "style": "IPY_MODEL_fa15a0f9345c4b03b3a46e14d7b27119",
       "value": 16
      }
     },
     "f9231ebc1e8c4a9481855b837d85dcd6": {
      "model_module": "@jupyter-widgets/controls",
      "model_module_version": "2.0.0",
      "model_name": "SliderStyleModel",
      "state": {
       "description_width": ""
      }
     },
     "f9dc4a11eca44ee8b290971ba47e37e2": {
      "model_module": "@jupyter-widgets/controls",
      "model_module_version": "2.0.0",
      "model_name": "DescriptionStyleModel",
      "state": {
       "description_width": ""
      }
     },
     "fa15a0f9345c4b03b3a46e14d7b27119": {
      "model_module": "@jupyter-widgets/controls",
      "model_module_version": "2.0.0",
      "model_name": "SliderStyleModel",
      "state": {
       "description_width": ""
      }
     },
     "fb5b5accf4d34766b45b81247f2a72e3": {
      "model_module": "@jupyter-widgets/controls",
      "model_module_version": "2.0.0",
      "model_name": "IntSliderModel",
      "state": {
       "behavior": "drag-tap",
       "description": "insertion_angle",
       "layout": "IPY_MODEL_81971d6cf77044e9a629530688fd8516",
       "max": 30,
       "min": 30,
       "style": "IPY_MODEL_246ee88f247746d68fad0ec7a120195a",
       "value": 30
      }
     },
     "fe79558c9c444d19be741806a2e0b013": {
      "model_module": "@jupyter-widgets/controls",
      "model_module_version": "2.0.0",
      "model_name": "SliderStyleModel",
      "state": {
       "description_width": ""
      }
     },
     "ffd1b601a5ad46e683406f9c6cb83240": {
      "model_module": "@jupyter-widgets/controls",
      "model_module_version": "2.0.0",
      "model_name": "VBoxModel",
      "state": {
       "_dom_classes": [
        "widget-interact"
       ],
       "children": [
        "IPY_MODEL_f7fde6962a114fd18baed66a38edf3a7",
        "IPY_MODEL_c8fde40a147a4225a40e8a7577376325",
        "IPY_MODEL_8345b8377d3842289e04567223f8cd4e",
        "IPY_MODEL_fb5b5accf4d34766b45b81247f2a72e3",
        "IPY_MODEL_2b77fda3f090482084b27ba73709004d",
        "IPY_MODEL_f4b56ecc24ee43d3a7914fc7f84772a2",
        "IPY_MODEL_4a5dc982b4a04fe4a2010c326d93fa5e",
        "IPY_MODEL_13fe023e240e4bb9abc5c2ba5dc34c52",
        "IPY_MODEL_677445597f8f4cc8a9115cf93249fafd",
        "IPY_MODEL_393e52c0ddca43b1b2b0123d35f48f00"
       ],
       "layout": "IPY_MODEL_d952c8362e5342f08e9c854e928a9f72"
      }
     }
    },
    "version_major": 2,
    "version_minor": 0
   }
  }
 },
 "nbformat": 4,
 "nbformat_minor": 5
}
