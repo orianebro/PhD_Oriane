{
 "cells": [
  {
   "cell_type": "code",
   "execution_count": 1,
   "id": "09500250-69a7-48c7-9086-c6e0c0972636",
   "metadata": {},
   "outputs": [],
   "source": [
    "from random import *\n",
    "import numpy as np\n",
    "import matplotlib.pyplot as plt\n",
    "\n",
    "from ipywidgets import interact, interactive, IntSlider, FloatSlider, fixed, Play, HBox, VBox, jslink\n",
    "from oawidgets.plantgl import *\n",
    "# try jupyter widgets\n",
    "\n",
    "# from openalea.archicrop.cereals import build_shoot\n",
    "from openalea.archicrop.plant_shape import compute_leaf_area_plant_from_params, check_LA_range, compute_leaf_area_growing_plant\n",
    "from openalea.archicrop.simulation import retrieve_stics_dynamics_from_file, generate_and_display_plant, dict_ranges_to_all_possible_combinations, model\n",
    "from openalea.archicrop.display import display_mtg, build_scene, display_scene\n",
    "from openalea.archicrop.archicrop import ArchiCrop\n",
    "# quasi MC sampling in scipy, cf latin hypercube\n",
    "# SALiB\n",
    "\n",
    "# Enable plotting with PlantGL\n",
    "%gui qt\n",
    "nice_green = Color3((50, 100, 0))"
   ]
  },
  {
   "cell_type": "markdown",
   "id": "5d74f5a9-42d3-4e35-8fe7-0c8aee23f5a4",
   "metadata": {},
   "source": [
    "## Retrieve STICS dynamics from file"
   ]
  },
  {
   "cell_type": "code",
   "execution_count": 2,
   "id": "bf9887b2-2903-448b-9ef2-f0eca93bedf2",
   "metadata": {},
   "outputs": [],
   "source": [
    "stics_output_file = 'mod_ssorghum.sti'\n",
    "sowing_density = 10\n",
    "inter_row = 0.4\n",
    "stics_output_data = retrieve_stics_dynamics_from_file(stics_output_file, sowing_density)\n",
    "height_potential_plant = max(value[\"Plant height\"] for value in stics_output_data.values())\n",
    "LAI_stics = [value[\"Plant leaf area\"] for value in stics_output_data.values()]\n",
    "time = [value[\"Thermal time\"] for value in stics_output_data.values()]\n",
    "# print(height_potential_plant)\n",
    "# print(stics_output_data)"
   ]
  },
  {
   "cell_type": "markdown",
   "id": "002f4f30-18e6-495b-bba0-13563f26c87c",
   "metadata": {},
   "source": [
    "## Generate one potential plant from architectural parameters"
   ]
  },
  {
   "cell_type": "code",
   "execution_count": 3,
   "id": "11992b70-cc39-4372-8072-123500a9f884",
   "metadata": {},
   "outputs": [],
   "source": [
    "# For sorghum\n",
    "archi_params = dict(\n",
    "    nb_phy = [10,20,30,40], # [10,15,20,25,30], \n",
    "    max_leaf_length = [60,80,100,120], \n",
    "    wl = 0.12, \n",
    "    diam_base = 2.5, \n",
    "    diam_top = 1.5, \n",
    "    insertion_angle = 30, # [10, 50], \n",
    "    scurv = 0.7, # [0.6, 0.8], \n",
    "    curvature = 90, # [45, 135], \n",
    "    alpha = -2.3, \n",
    "    stem_q = 1.1, \n",
    "    rmax = [0.7,0.8, 0.9], # 1-(1/3*(nb_phy - 5)/nb_phy)\n",
    "    skew = [0.01,0.1], # 0.0005\n",
    "    phyllotactic_angle = 180, \n",
    "    phyllotactic_deviation = 15, # [5, 30]\n",
    "    phyllochron = [40,65],\n",
    "    plastochron = [34,46],\n",
    "    leaf_duration = [1,6],\n",
    "    stem_duration = [1,6],\n",
    "    leaf_senescence = [500, 1000]\n",
    ")"
   ]
  },
  {
   "cell_type": "code",
   "execution_count": 4,
   "id": "99d7b1c0-4a8f-46af-91da-09e1efb435bf",
   "metadata": {},
   "outputs": [
    {
     "data": {
      "text/plain": [
       "[0.8333333333333334, 0.75, 0.7222222222222223, 0.7083333333333334]"
      ]
     },
     "execution_count": 4,
     "metadata": {},
     "output_type": "execute_result"
    }
   ],
   "source": [
    "[1-(1/3*(n - 5)/n) for n in archi_params[\"nb_phy\"]] # for rmax = f(nb_phy)"
   ]
  },
  {
   "cell_type": "code",
   "execution_count": 5,
   "id": "d051632a-e2af-46f5-b2a7-a0e9276f2e9f",
   "metadata": {},
   "outputs": [],
   "source": [
    "def to_list(d):\n",
    "    return {k: (v if isinstance(v, list) else [v]) for k,v in d.items()} \n",
    "\n",
    "archi_params = to_list(archi_params)"
   ]
  },
  {
   "cell_type": "code",
   "execution_count": 6,
   "id": "5773446a-ab04-410d-bc5e-cb26ac2310d6",
   "metadata": {},
   "outputs": [
    {
     "data": {
      "application/vnd.jupyter.widget-view+json": {
       "model_id": "98def0f602c34d2db99deaca2bebc0d2",
       "version_major": 2,
       "version_minor": 0
      },
      "text/plain": [
       "interactive(children=(IntSlider(value=32, description='nb_phy', max=40, min=10), IntSlider(value=95, descripti…"
      ]
     },
     "metadata": {},
     "output_type": "display_data"
    },
    {
     "data": {
      "text/plain": [
       "<function openalea.archicrop.simulation.generate_and_display_plant(nb_phy, height, max_leaf_length, wl, diam_base, diam_top, insertion_angle, scurv, curvature, alpha, stem_q, rmax, skew, phyllotactic_angle, phyllotactic_deviation)>"
      ]
     },
     "execution_count": 6,
     "metadata": {},
     "output_type": "execute_result"
    }
   ],
   "source": [
    "# slider on parameters with ranges, others fixed \n",
    "interact(generate_and_display_plant, \n",
    "         nb_phy=IntSlider(min=min(archi_params[\"nb_phy\"]), \n",
    "                          max=max(archi_params[\"nb_phy\"]), \n",
    "                          step=1, \n",
    "                          value=randint(archi_params[\"nb_phy\"][0], archi_params[\"nb_phy\"][-1])),\n",
    "         height=fixed(height_potential_plant),\n",
    "         max_leaf_length=IntSlider(min=min(archi_params[\"max_leaf_length\"]), \n",
    "                                   max=max(archi_params[\"max_leaf_length\"]), \n",
    "                                   step=1, \n",
    "                                   value=randint(archi_params[\"max_leaf_length\"][0], archi_params[\"max_leaf_length\"][-1])),\n",
    "         wl=FloatSlider(min=min(archi_params[\"wl\"]), \n",
    "                        max=max(archi_params[\"wl\"]), \n",
    "                        step=0.01, \n",
    "                        value=choice(archi_params[\"wl\"])),\n",
    "         diam_base=fixed(archi_params[\"diam_base\"][0]),\n",
    "         diam_top=fixed(archi_params[\"diam_top\"][0]),\n",
    "         insertion_angle=IntSlider(min=min(archi_params[\"insertion_angle\"]), \n",
    "                                   max=max(archi_params[\"insertion_angle\"]), \n",
    "                                   step=1, \n",
    "                                   value=choice(archi_params[\"insertion_angle\"])),\n",
    "         scurv=FloatSlider(min=min(archi_params[\"scurv\"]), \n",
    "                           max=max(archi_params[\"scurv\"]), \n",
    "                           step=0.01, \n",
    "                           value=choice(archi_params[\"scurv\"])),\n",
    "         curvature=IntSlider(min=min(archi_params[\"curvature\"]), \n",
    "                             max=max(archi_params[\"curvature\"]), \n",
    "                             step=5, \n",
    "                             value=choice(archi_params[\"curvature\"])),\n",
    "         alpha=fixed(archi_params[\"alpha\"][0]),\n",
    "         stem_q=fixed(archi_params[\"stem_q\"][0]),\n",
    "         rmax=FloatSlider(min=min(archi_params[\"rmax\"]), \n",
    "                          max=max(archi_params[\"rmax\"]), \n",
    "                          step=0.01, \n",
    "                          value=0.75),\n",
    "         skew=FloatSlider(min=min(archi_params[\"skew\"]), \n",
    "                          max=max(archi_params[\"skew\"]), \n",
    "                          step=0.01, \n",
    "                          value=0.05),\n",
    "         phyllotactic_angle=fixed(archi_params[\"phyllotactic_angle\"][0]),\n",
    "         phyllotactic_deviation=IntSlider(min=min(archi_params[\"phyllotactic_deviation\"]), \n",
    "                                          max=max(archi_params[\"phyllotactic_deviation\"]), \n",
    "                                          step=5, \n",
    "                                          value=20))\n",
    "\n",
    "\n",
    "# cf github openalea weberpenn trunk_parameters"
   ]
  },
  {
   "cell_type": "code",
   "execution_count": 7,
   "id": "77df9681-6dd8-4e52-8060-59ed0b20eea0",
   "metadata": {},
   "outputs": [
    {
     "name": "stdout",
     "output_type": "stream",
     "text": [
      "3072\n"
     ]
    }
   ],
   "source": [
    "# take only the ones defined before\n",
    "archi_params_combinations = dict_ranges_to_all_possible_combinations(archi_params)\n",
    "print(len(archi_params_combinations))\n",
    "\n",
    "# # Print combinations in the original order of dictionary keys\n",
    "# for combo in archi_params_combinations:\n",
    "#     print(combo)"
   ]
  },
  {
   "cell_type": "markdown",
   "id": "15275a24-9de1-444a-8392-4fadd49307c2",
   "metadata": {},
   "source": [
    "## Animation of growing plant "
   ]
  },
  {
   "cell_type": "code",
   "execution_count": 8,
   "id": "17263058-129c-42d5-88f9-cea43811f2f9",
   "metadata": {},
   "outputs": [
    {
     "data": {
      "application/vnd.jupyter.widget-view+json": {
       "model_id": "c67e72bb1a72476aade84ea7f1138de1",
       "version_major": 2,
       "version_minor": 0
      },
      "text/plain": [
       "VBox(children=(IntSlider(value=15, max=40, min=10), IntSlider(value=60, max=120, min=60), IntSlider(value=30, …"
      ]
     },
     "metadata": {},
     "output_type": "display_data"
    },
    {
     "ename": "TypeError",
     "evalue": "bell_shaped_dist() got an unexpected keyword argument 'max_leaf_length'",
     "output_type": "error",
     "traceback": [
      "\u001b[1;31m---------------------------------------------------------------------------\u001b[0m",
      "\u001b[1;31mTypeError\u001b[0m                                 Traceback (most recent call last)",
      "Cell \u001b[1;32mIn[8], line 81\u001b[0m\n\u001b[0;32m     78\u001b[0m display(controls)\n\u001b[0;32m     80\u001b[0m \u001b[38;5;66;03m# Initial scene display\u001b[39;00m\n\u001b[1;32m---> 81\u001b[0m \u001b[43mupdate_scene\u001b[49m\u001b[43m(\u001b[49m\u001b[43m)\u001b[49m\n\u001b[0;32m     83\u001b[0m \u001b[38;5;66;03m# cf github openalea weberpenn trunk_parameters\u001b[39;00m\n",
      "Cell \u001b[1;32mIn[8], line 62\u001b[0m, in \u001b[0;36mupdate_scene\u001b[1;34m(*args)\u001b[0m\n\u001b[0;32m     58\u001b[0m time \u001b[38;5;241m=\u001b[39m time_slider\u001b[38;5;241m.\u001b[39mvalue\n\u001b[0;32m     59\u001b[0m sorghum \u001b[38;5;241m=\u001b[39m ArchiCrop(height, nb_phy, max_leaf_length, wl, diam_base, diam_top, insertion_angle, scurv, curvature, alpha, \n\u001b[0;32m     60\u001b[0m                     stem_q, rmax, skew, phyllotactic_angle, phyllotactic_deviation, \n\u001b[0;32m     61\u001b[0m                     phyllochron, plastochron, leaf_duration, stem_duration, leaf_senescence)\n\u001b[1;32m---> 62\u001b[0m \u001b[43msorghum\u001b[49m\u001b[38;5;241;43m.\u001b[39;49m\u001b[43mgenerate_potential_plant\u001b[49m\u001b[43m(\u001b[49m\u001b[43m)\u001b[49m\n\u001b[0;32m     63\u001b[0m sorghum\u001b[38;5;241m.\u001b[39mdefine_development()\n\u001b[0;32m     64\u001b[0m growing_plant \u001b[38;5;241m=\u001b[39m sorghum\u001b[38;5;241m.\u001b[39mgrow_plant(stics_output_data)\n",
      "File \u001b[1;32md:\\archicrop\\src\\openalea\\archicrop\\archicrop.py:84\u001b[0m, in \u001b[0;36mArchiCrop.generate_potential_plant\u001b[1;34m(self)\u001b[0m\n\u001b[0;32m     78\u001b[0m \u001b[38;5;28;01mdef\u001b[39;00m \u001b[38;5;21mgenerate_potential_plant\u001b[39m(\u001b[38;5;28mself\u001b[39m):\n\u001b[0;32m     79\u001b[0m \u001b[38;5;250m    \u001b[39m\u001b[38;5;124;03m\"\"\"\u001b[39;00m\n\u001b[0;32m     80\u001b[0m \u001b[38;5;124;03m    Generate a potential plant from parameters.\u001b[39;00m\n\u001b[0;32m     81\u001b[0m \n\u001b[0;32m     82\u001b[0m \u001b[38;5;124;03m    :return: MTG, MTG of the potential plant generated\u001b[39;00m\n\u001b[0;32m     83\u001b[0m \u001b[38;5;124;03m    \"\"\"\u001b[39;00m\n\u001b[1;32m---> 84\u001b[0m     shoot, \u001b[38;5;28mself\u001b[39m\u001b[38;5;241m.\u001b[39mg \u001b[38;5;241m=\u001b[39m \u001b[43mbuild_shoot\u001b[49m\u001b[43m(\u001b[49m\u001b[38;5;28;43mself\u001b[39;49m\u001b[38;5;241;43m.\u001b[39;49m\u001b[43mnb_phy\u001b[49m\u001b[43m,\u001b[49m\n\u001b[0;32m     85\u001b[0m \u001b[43m                           \u001b[49m\u001b[38;5;28;43mself\u001b[39;49m\u001b[38;5;241;43m.\u001b[39;49m\u001b[43mheight\u001b[49m\u001b[43m,\u001b[49m\n\u001b[0;32m     86\u001b[0m \u001b[43m                           \u001b[49m\u001b[38;5;28;43mself\u001b[39;49m\u001b[38;5;241;43m.\u001b[39;49m\u001b[43mmax_leaf_length\u001b[49m\u001b[43m,\u001b[49m\n\u001b[0;32m     87\u001b[0m \u001b[43m                           \u001b[49m\u001b[38;5;28;43mself\u001b[39;49m\u001b[38;5;241;43m.\u001b[39;49m\u001b[43mwl\u001b[49m\u001b[43m,\u001b[49m\n\u001b[0;32m     88\u001b[0m \u001b[43m                           \u001b[49m\u001b[38;5;28;43mself\u001b[39;49m\u001b[38;5;241;43m.\u001b[39;49m\u001b[43mdiam_base\u001b[49m\u001b[43m,\u001b[49m\n\u001b[0;32m     89\u001b[0m \u001b[43m                           \u001b[49m\u001b[38;5;28;43mself\u001b[39;49m\u001b[38;5;241;43m.\u001b[39;49m\u001b[43mdiam_top\u001b[49m\u001b[43m,\u001b[49m\n\u001b[0;32m     90\u001b[0m \u001b[43m                           \u001b[49m\u001b[38;5;28;43mself\u001b[39;49m\u001b[38;5;241;43m.\u001b[39;49m\u001b[43minsertion_angle\u001b[49m\u001b[43m,\u001b[49m\n\u001b[0;32m     91\u001b[0m \u001b[43m                           \u001b[49m\u001b[38;5;28;43mself\u001b[39;49m\u001b[38;5;241;43m.\u001b[39;49m\u001b[43mscurv\u001b[49m\u001b[43m,\u001b[49m\n\u001b[0;32m     92\u001b[0m \u001b[43m                           \u001b[49m\u001b[38;5;28;43mself\u001b[39;49m\u001b[38;5;241;43m.\u001b[39;49m\u001b[43mcurvature\u001b[49m\u001b[43m,\u001b[49m\n\u001b[0;32m     93\u001b[0m \u001b[43m                           \u001b[49m\u001b[38;5;28;43mself\u001b[39;49m\u001b[38;5;241;43m.\u001b[39;49m\u001b[43malpha\u001b[49m\u001b[43m,\u001b[49m\n\u001b[0;32m     94\u001b[0m \u001b[43m                           \u001b[49m\u001b[38;5;28;43mself\u001b[39;49m\u001b[38;5;241;43m.\u001b[39;49m\u001b[43mstem_q\u001b[49m\u001b[43m,\u001b[49m\n\u001b[0;32m     95\u001b[0m \u001b[43m                           \u001b[49m\u001b[38;5;28;43mself\u001b[39;49m\u001b[38;5;241;43m.\u001b[39;49m\u001b[43mrmax\u001b[49m\u001b[43m,\u001b[49m\n\u001b[0;32m     96\u001b[0m \u001b[43m                           \u001b[49m\u001b[38;5;28;43mself\u001b[39;49m\u001b[38;5;241;43m.\u001b[39;49m\u001b[43mskew\u001b[49m\u001b[43m,\u001b[49m\n\u001b[0;32m     97\u001b[0m \u001b[43m                           \u001b[49m\u001b[38;5;28;43mself\u001b[39;49m\u001b[38;5;241;43m.\u001b[39;49m\u001b[43mphyllotactic_angle\u001b[49m\u001b[43m,\u001b[49m\n\u001b[0;32m     98\u001b[0m \u001b[43m                           \u001b[49m\u001b[38;5;28;43mself\u001b[39;49m\u001b[38;5;241;43m.\u001b[39;49m\u001b[43mphyllotactic_deviation\u001b[49m\u001b[43m)\u001b[49m\n",
      "File \u001b[1;32md:\\archicrop\\src\\openalea\\archicrop\\cereals.py:84\u001b[0m, in \u001b[0;36mbuild_shoot\u001b[1;34m(nb_phy, height, max_leaf_length, wl, diam_base, diam_top, insertion_angle, scurv, curvature, alpha, stem_q, rmax, skew, phyllotactic_angle, phyllotactic_deviation, plant_orientation, spiral)\u001b[0m\n\u001b[0;32m     76\u001b[0m stem \u001b[38;5;241m=\u001b[39m stem_dimension(\n\u001b[0;32m     77\u001b[0m     h_ins\u001b[38;5;241m=\u001b[39minsertion_heights, d_internode\u001b[38;5;241m=\u001b[39mstem_diameters, ntop\u001b[38;5;241m=\u001b[39mntop\n\u001b[0;32m     78\u001b[0m )\n\u001b[0;32m     80\u001b[0m \u001b[38;5;66;03m## Leaves\u001b[39;00m\n\u001b[0;32m     81\u001b[0m \n\u001b[0;32m     82\u001b[0m \u001b[38;5;66;03m# leaf length repartition along axis\u001b[39;00m\n\u001b[0;32m     83\u001b[0m leaf_lengths_stem \u001b[38;5;241m=\u001b[39m np\u001b[38;5;241m.\u001b[39marray(\n\u001b[1;32m---> 84\u001b[0m     \u001b[43mbell_shaped_dist\u001b[49m\u001b[43m(\u001b[49m\n\u001b[0;32m     85\u001b[0m \u001b[43m        \u001b[49m\u001b[43mmax_leaf_length\u001b[49m\u001b[38;5;241;43m=\u001b[39;49m\u001b[43mmax_leaf_length\u001b[49m\u001b[43m,\u001b[49m\u001b[43m \u001b[49m\u001b[43mnb_phy\u001b[49m\u001b[38;5;241;43m=\u001b[39;49m\u001b[43mnb_phy\u001b[49m\u001b[43m \u001b[49m\u001b[38;5;241;43m-\u001b[39;49m\u001b[43m \u001b[49m\u001b[43mnb_young_phy\u001b[49m\u001b[43m,\u001b[49m\u001b[43m \u001b[49m\u001b[43mrmax\u001b[49m\u001b[38;5;241;43m=\u001b[39;49m\u001b[43mrmax\u001b[49m\u001b[43m,\u001b[49m\u001b[43m \u001b[49m\u001b[43mskew\u001b[49m\u001b[38;5;241;43m=\u001b[39;49m\u001b[43mskew\u001b[49m\n\u001b[0;32m     86\u001b[0m \u001b[43m    \u001b[49m\u001b[43m)\u001b[49m\n\u001b[0;32m     87\u001b[0m )\n\u001b[0;32m     88\u001b[0m leaf_lengths_pseudostem \u001b[38;5;241m=\u001b[39m np\u001b[38;5;241m.\u001b[39marray(\n\u001b[0;32m     89\u001b[0m     bell_shaped_dist(\n\u001b[0;32m     90\u001b[0m         max_leaf_length\u001b[38;5;241m=\u001b[39mleaf_lengths_stem[\u001b[38;5;241m0\u001b[39m], nb_phy\u001b[38;5;241m=\u001b[39mnb_young_phy, rmax\u001b[38;5;241m=\u001b[39m\u001b[38;5;241m1\u001b[39m, skew\u001b[38;5;241m=\u001b[39m\u001b[38;5;241m1\u001b[39m\n\u001b[0;32m     91\u001b[0m     )\n\u001b[0;32m     92\u001b[0m )\n\u001b[0;32m     93\u001b[0m leaf_lengths \u001b[38;5;241m=\u001b[39m np\u001b[38;5;241m.\u001b[39mconcatenate((leaf_lengths_pseudostem, leaf_lengths_stem), axis\u001b[38;5;241m=\u001b[39m\u001b[38;5;241m0\u001b[39m)\n",
      "\u001b[1;31mTypeError\u001b[0m: bell_shaped_dist() got an unexpected keyword argument 'max_leaf_length'"
     ]
    }
   ],
   "source": [
    "# Fix a seed\n",
    "seed(100)\n",
    "nice_green = Color3((50, 100, 0))\n",
    "\n",
    "# slider on parameters with ranges, others fixed \n",
    "\n",
    "height=height_potential_plant\n",
    "nb_phy_slider=IntSlider(min=min(archi_params[\"nb_phy\"]), max=max(archi_params[\"nb_phy\"]), step=1, value=15)\n",
    "max_leaf_length_slider=IntSlider(min=min(archi_params[\"max_leaf_length\"]), max=max(archi_params[\"max_leaf_length\"]), step=1, value=50)\n",
    "wl_slider=FloatSlider(min=min(archi_params[\"wl\"]), max=max(archi_params[\"wl\"]), step=0.01, value=0.12)\n",
    "diam_base_slider=fixed(archi_params[\"diam_base\"][0])\n",
    "diam_top_slider=fixed(archi_params[\"diam_top\"][0])\n",
    "insertion_angle_slider=IntSlider(min=min(archi_params[\"insertion_angle\"]), max=max(archi_params[\"insertion_angle\"]), step=1, value=30)\n",
    "scurv_slider=FloatSlider(min=min(archi_params[\"scurv\"]), max=max(archi_params[\"scurv\"]), step=0.01, value=0.7)\n",
    "curvature_slider=IntSlider(min=min(archi_params[\"curvature\"]), max=max(archi_params[\"curvature\"]), step=5, value=90)\n",
    "alpha_slider=fixed(archi_params[\"alpha\"][0])\n",
    "stem_q_slider=fixed(archi_params[\"stem_q\"][0])\n",
    "rmax_slider=FloatSlider(min=min(archi_params[\"rmax\"]), max=max(archi_params[\"rmax\"]), step=0.01, value=0.8)\n",
    "skew_slider=fixed(archi_params[\"skew\"][0])\n",
    "phyllotactic_angle_slider=fixed(archi_params[\"phyllotactic_angle\"][0])\n",
    "phyllotactic_deviation_slider=IntSlider(min=min(archi_params[\"phyllotactic_deviation\"]), max=max(archi_params[\"phyllotactic_deviation\"]), step=5, value=15)\n",
    "phyllochron_slider=IntSlider(min=min(archi_params[\"phyllochron\"]), max=max(archi_params[\"phyllochron\"]), step=1, value=55)\n",
    "plastochron_slider=IntSlider(min=min(archi_params[\"plastochron\"]), max=max(archi_params[\"plastochron\"]), step=1, value=40)\n",
    "leaf_duration_slider=FloatSlider(min=min(archi_params[\"leaf_duration\"]), max=max(archi_params[\"leaf_duration\"]), step=0.1, value=6)\n",
    "stem_duration_slider=FloatSlider(min=min(archi_params[\"stem_duration\"]), max=max(archi_params[\"stem_duration\"]), step=0.1, value=1.5)\n",
    "leaf_senescence_slider=IntSlider(min=min(archi_params[\"leaf_senescence\"]), max=max(archi_params[\"leaf_senescence\"]), step=10, value=700)\n",
    "\n",
    "time_slider = IntSlider(value=0, min=0, max=len(time), step=1, description=\"Time\")\n",
    "\n",
    "# Interactive widget setup\n",
    "play_widget = Play(value=0, min=0, max=len(time), step=1, interval=1000)\n",
    "\n",
    "# Link play widget with time slider\n",
    "jslink((play_widget, 'value'), (time_slider, 'value'))\n",
    "\n",
    "# Callback to update scene\n",
    "def update_scene(*args):\n",
    "    seed(100)\n",
    "    nb_phy = nb_phy_slider.value\n",
    "    max_leaf_length = max_leaf_length_slider.value\n",
    "    wl = wl_slider.value\n",
    "    diam_base = diam_base_slider.value\n",
    "    diam_top = diam_top_slider.value\n",
    "    insertion_angle = insertion_angle_slider.value\n",
    "    scurv = scurv_slider.value\n",
    "    curvature = curvature_slider.value\n",
    "    alpha = alpha_slider.value\n",
    "    stem_q = stem_q_slider.value\n",
    "    rmax = rmax_slider.value\n",
    "    skew = skew_slider.value\n",
    "    phyllotactic_angle = phyllotactic_angle_slider.value\n",
    "    phyllotactic_deviation = phyllotactic_deviation_slider.value\n",
    "    phyllochron = phyllochron_slider.value\n",
    "    plastochron = plastochron_slider.value\n",
    "    leaf_duration = leaf_duration_slider.value\n",
    "    stem_duration = stem_duration_slider.value\n",
    "    leaf_senescence = leaf_senescence_slider.value\n",
    "    time = time_slider.value\n",
    "    sorghum = ArchiCrop(height, nb_phy, max_leaf_length, wl, diam_base, diam_top, insertion_angle, scurv, curvature, alpha, \n",
    "                        stem_q, rmax, skew, phyllotactic_angle, phyllotactic_deviation, \n",
    "                        phyllochron, plastochron, leaf_duration, stem_duration, leaf_senescence)\n",
    "    sorghum.generate_potential_plant()\n",
    "    sorghum.define_development()\n",
    "    growing_plant = sorghum.grow_plant(stics_output_data)\n",
    "    Viewer.display(build_scene(growing_plant[time], leaf_material = Material(nice_green), stem_material=Material(nice_green))[0])\n",
    "    # PlantGL(build_scene(growing_plant[time]))\n",
    "\n",
    "# Attach update callback\n",
    "nb_phy_slider.observe(update_scene, names='value')\n",
    "max_leaf_length_slider.observe(update_scene, names='value')\n",
    "insertion_angle_slider.observe(update_scene, names='value')\n",
    "scurv_slider.observe(update_scene, names='value')\n",
    "curvature_slider.observe(update_scene, names='value')\n",
    "time_slider.observe(update_scene, names='value')\n",
    "\n",
    "# Display widgets\n",
    "controls = VBox([nb_phy_slider, max_leaf_length_slider, insertion_angle_slider, scurv_slider, curvature_slider, HBox([time_slider, play_widget])])\n",
    "display(controls)\n",
    "\n",
    "# Initial scene display\n",
    "update_scene()\n",
    "\n",
    "# cf github openalea weberpenn trunk_parameters"
   ]
  },
  {
   "cell_type": "code",
   "execution_count": null,
   "id": "11958e95-9ac3-4394-98e7-df0fb14ef950",
   "metadata": {},
   "outputs": [],
   "source": [
    "def parametric_model_sorghum(time, max_leaf_length, rmax, skew, phyllochron, plastochron, leaf_duration, stem_duration):\n",
    "    \"\"\"\n",
    "    Define parametric model.\n",
    "\n",
    "    Args:\n",
    "    - max_leaf_length, phyllochron: Parameters of the model\n",
    "\n",
    "    Returns:\n",
    "    - leaf_areas: Output values corresponding to the model\n",
    "    \"\"\"\n",
    "\n",
    "    sorghum = ArchiCrop(height=222, # from crop model\n",
    "                        nb_phy=25,\n",
    "                        max_leaf_length=max_leaf_length,\n",
    "                        wl=0.12, diam_base=2.5, diam_top=1.5, \n",
    "                        insertion_angle=30, scurv=0.7, curvature=100, \n",
    "                        alpha=-2.3, stem_q=1.1, rmax=rmax, skew=skew, # 0.0005\n",
    "                        phyllotactic_angle=180,\n",
    "                        phyllotactic_deviation=15,\n",
    "                        phyllochron=phyllochron, \n",
    "                        plastochron=plastochron, \n",
    "                        leaf_duration=leaf_duration, \n",
    "                        stem_duration=stem_duration, \n",
    "                        leaf_senescence=800)\n",
    "    sorghum.generate_potential_plant()\n",
    "    sorghum.define_development()\n",
    "    growing_plant = sorghum.grow_plant(stics_output_data)\n",
    "\n",
    "    return [sum(compute_leaf_area_growing_plant(gp)) for gp in growing_plant]"
   ]
  },
  {
   "cell_type": "code",
   "execution_count": null,
   "id": "1c1b8522-0cf6-437a-9e05-8355d62b6fdb",
   "metadata": {},
   "outputs": [],
   "source": [
    "from scipy.optimize import curve_fit\n",
    "\n",
    "# Fit the model to crop model data and obtain optimal parameters\n",
    "optimal_params, covariance = curve_fit(f=parametric_model_sorghum, xdata=time, ydata=LAI_stics, bounds=([20,0.6,0.0005,30,30,1,1],[120,0.8,0.1,70,70,10,10]), method='trf') # bounds to set from lit\n",
    "se = np.sqrt(np.diag(covariance))\n",
    "\n",
    "print(\"                  Max leaf length  Leaf duration\")\n",
    "print(\"Optimized parameters:\", optimal_params)\n",
    "print(\"Covariances:\", covariance)\n",
    "print(\"Standard errors:\", se)\n",
    "\n",
    "# Visualize the fit\n",
    "plt.clf()\n",
    "plt.scatter(time, LAI_stics, color=(57/255,157/255,99/255), label='Simulation with STICS') # R 243, G 146, B 0\n",
    "res = parametric_model_sorghum(time, *optimal_params)\n",
    "plt.plot(time, np.array(res), color=(57/255,151/255,88/255), label='Simulation with ArchiCrop') # R 57, G 151, B 88\n",
    "plt.xlabel('Thermal time (°C.d)', fontsize=24)\n",
    "plt.ylabel('LAI', fontsize=24)\n",
    "# plt.legend()\n",
    "plt.show()"
   ]
  },
  {
   "cell_type": "code",
   "execution_count": null,
   "id": "c4585731-08d3-4259-9b59-9bf465bc21ea",
   "metadata": {},
   "outputs": [],
   "source": [
    "time_slider = IntSlider(value=0, min=0, max=len(time), step=1, description=\"Time\")\n",
    "\n",
    "# Interactive widget setup\n",
    "play_widget = Play(value=0, min=0, max=len(time), step=1, interval=500)\n",
    "\n",
    "# Link play widget with time slider\n",
    "jslink((play_widget, 'value'), (time_slider, 'value'))\n",
    "\n",
    "# Callback to update scene\n",
    "def update_scene(*args):\n",
    "    time = time_slider.value\n",
    "    Viewer.display(gp_scenes[time])\n",
    "\n",
    "# Attach update callback\n",
    "time_slider.observe(update_scene, names='value')\n",
    "\n",
    "# Display widgets\n",
    "controls = HBox([time_slider, play_widget])\n",
    "display(controls)\n",
    "\n",
    "# Initial scene display\n",
    "update_scene()\n",
    "\n",
    "# cf github openalea weberpenn trunk_parameters"
   ]
  },
  {
   "cell_type": "code",
   "execution_count": null,
   "id": "6e5db56d-7512-4045-b1fb-a7965669c9f3",
   "metadata": {},
   "outputs": [],
   "source": [
    "def parametric_model_sorghum_nb_phy(time, max_leaf_length, nb_phy):\n",
    "    \"\"\"\n",
    "    Define parametric model.\n",
    "\n",
    "    Args:\n",
    "    - max_leaf_length, phyllochron: Parameters of the model\n",
    "\n",
    "    Returns:\n",
    "    - leaf_areas: Output values corresponding to the model\n",
    "    \"\"\"\n",
    "\n",
    "    sorghum = ArchiCrop(height=222, # from crop model\n",
    "                        nb_phy=nb_phy,\n",
    "                        max_leaf_length=max_leaf_length,\n",
    "                        wl=0.12, diam_base=2.5, diam_top=1.5, \n",
    "                        insertion_angle=30, scurv=0.7, curvature=100, \n",
    "                        alpha=-2.3, stem_q=1.1, rmax=0.75, skew=0.08, # 0.0005\n",
    "                        phyllotactic_angle=180,\n",
    "                        phyllotactic_deviation=15, phyllochron=55, plastochron=45, leaf_duration=5, stem_duration=2, leaf_senescence=800)\n",
    "    sorghum.generate_potential_plant()\n",
    "    sorghum.define_development()\n",
    "    growing_plant = sorghum.grow_plant(g, stics_output_data)\n",
    "\n",
    "    return [sum(compute_leaf_area_growing_plant(gp)) for gp in growing_plant]\n",
    "\n",
    "best_params = None\n",
    "best_error = float('inf')\n",
    "\n",
    "# Grid search over integer values for nb_phy\n",
    "for nb_phy in range(10, 36, 5):  # Integer bounds for nb_phy\n",
    "    def model_with_fixed_nb_phy(time, max_leaf_length):\n",
    "        return parametric_model_sorghum_nb_phy(time, max_leaf_length, nb_phy)\n",
    "    \n",
    "    try:\n",
    "        params, _ = curve_fit(\n",
    "            f=model_with_fixed_nb_phy,\n",
    "            xdata=time,\n",
    "            ydata=LAI_stics,\n",
    "            bounds=([20], [120]),  # Bounds for max_leaf_length only\n",
    "            method='trf'\n",
    "        )\n",
    "        error = np.sum((LAI_stics - model_with_fixed_nb_phy(time, params[0]))**2)\n",
    "        if error < best_error:\n",
    "            best_error = error\n",
    "            best_params = [params[0], nb_phy]\n",
    "            print(best_params)\n",
    "    except:\n",
    "        continue"
   ]
  }
 ],
 "metadata": {
  "kernelspec": {
   "display_name": "oa3",
   "language": "python",
   "name": "oa3"
  },
  "language_info": {
   "codemirror_mode": {
    "name": "ipython",
    "version": 3
   },
   "file_extension": ".py",
   "mimetype": "text/x-python",
   "name": "python",
   "nbconvert_exporter": "python",
   "pygments_lexer": "ipython3",
   "version": "3.12.2"
  },
  "widgets": {
   "application/vnd.jupyter.widget-state+json": {
    "state": {
     "00c084dc3c0547b98b17244e067c5812": {
      "model_module": "@jupyter-widgets/base",
      "model_module_version": "2.0.0",
      "model_name": "LayoutModel",
      "state": {}
     },
     "00ece664e7d649129c0bfb01200539b4": {
      "model_module": "@jupyter-widgets/controls",
      "model_module_version": "2.0.0",
      "model_name": "PlayModel",
      "state": {
       "interval": 1000,
       "layout": "IPY_MODEL_f80c2eb4396d468182dd4fcc25b935f3",
       "max": 77,
       "style": "IPY_MODEL_e047a1d97d774f5c98bb00c6ba2a34dd"
      }
     },
     "01b0a7f242724fd3bdc2e3ec220e5fce": {
      "model_module": "@jupyter-widgets/controls",
      "model_module_version": "2.0.0",
      "model_name": "SliderStyleModel",
      "state": {
       "description_width": ""
      }
     },
     "02f764e8f1914563a1e338b8508204a6": {
      "model_module": "@jupyter-widgets/base",
      "model_module_version": "2.0.0",
      "model_name": "LayoutModel",
      "state": {}
     },
     "05befc2411764ea0af0ef162210d5aa8": {
      "model_module": "@jupyter-widgets/controls",
      "model_module_version": "2.0.0",
      "model_name": "IntSliderModel",
      "state": {
       "behavior": "drag-tap",
       "layout": "IPY_MODEL_b6c0db743f234f1c8a624d6493dcc5f1",
       "max": 30,
       "min": 30,
       "style": "IPY_MODEL_ea940c324c1049fb847758341832e42d",
       "value": 30
      }
     },
     "08d8f19e483a43f998404563342a80b9": {
      "model_module": "@jupyter-widgets/controls",
      "model_module_version": "2.0.0",
      "model_name": "LinkModel",
      "state": {
       "source": [
        "IPY_MODEL_00ece664e7d649129c0bfb01200539b4",
        "value"
       ],
       "target": [
        "IPY_MODEL_788387ae9ce646beb7e209fbccb2eeec",
        "value"
       ]
      }
     },
     "092230f3051a437faf24643713a3d56e": {
      "model_module": "@jupyter-widgets/base",
      "model_module_version": "2.0.0",
      "model_name": "LayoutModel",
      "state": {}
     },
     "0966f523883a4d47a094ee718918e14a": {
      "model_module": "@jupyter-widgets/controls",
      "model_module_version": "2.0.0",
      "model_name": "SliderStyleModel",
      "state": {
       "description_width": ""
      }
     },
     "19a8877144f94d298d2daaab1e75e968": {
      "model_module": "@jupyter-widgets/base",
      "model_module_version": "2.0.0",
      "model_name": "LayoutModel",
      "state": {}
     },
     "292755f776644052a02c01506d6fc2fb": {
      "model_module": "@jupyter-widgets/controls",
      "model_module_version": "2.0.0",
      "model_name": "FloatSliderModel",
      "state": {
       "behavior": "drag-tap",
       "layout": "IPY_MODEL_e477881e649a4eb58b6142ac10bd1954",
       "max": 0.9,
       "min": 0.7,
       "step": 0.01,
       "style": "IPY_MODEL_cd85df18ece84bb5b295c4f6cf62e5de",
       "value": 0.8
      }
     },
     "2cc73fe9c1ca4abb8b95e7fda6be6c66": {
      "model_module": "@jupyter-widgets/controls",
      "model_module_version": "2.0.0",
      "model_name": "IntSliderModel",
      "state": {
       "behavior": "drag-tap",
       "description": "curvature",
       "layout": "IPY_MODEL_c67b128ff1b0453c9eeceb9af32fb8be",
       "max": 90,
       "min": 90,
       "step": 5,
       "style": "IPY_MODEL_5c51cc07d1784420ab1e6261e43ab0bc",
       "value": 90
      }
     },
     "33d48f2ac10a4b8eaa9a2925c19fdf8d": {
      "model_module": "@jupyter-widgets/base",
      "model_module_version": "2.0.0",
      "model_name": "LayoutModel",
      "state": {}
     },
     "3c67e1bc3adb4a8a823f8dacc68a535a": {
      "model_module": "@jupyter-widgets/base",
      "model_module_version": "2.0.0",
      "model_name": "LayoutModel",
      "state": {}
     },
     "3dc89c68a11a4133908903c6058b2d0d": {
      "model_module": "@jupyter-widgets/controls",
      "model_module_version": "2.0.0",
      "model_name": "SliderStyleModel",
      "state": {
       "description_width": ""
      }
     },
     "3e1bb1b4a7a2422983c99644a5d3553d": {
      "model_module": "@jupyter-widgets/controls",
      "model_module_version": "2.0.0",
      "model_name": "SliderStyleModel",
      "state": {
       "description_width": ""
      }
     },
     "43a9dd3728a443f08a1a1151adaddd71": {
      "model_module": "@jupyter-widgets/controls",
      "model_module_version": "2.0.0",
      "model_name": "IntSliderModel",
      "state": {
       "behavior": "drag-tap",
       "layout": "IPY_MODEL_4a63e620d317432083a33efd0105afaa",
       "max": 40,
       "min": 10,
       "style": "IPY_MODEL_c13f52d2c2124efa84da0d07a3df6e77",
       "value": 15
      }
     },
     "49c4b7da990e46d38c9ea4854ec03c13": {
      "model_module": "@jupyter-widgets/controls",
      "model_module_version": "2.0.0",
      "model_name": "FloatSliderModel",
      "state": {
       "behavior": "drag-tap",
       "description": "skew",
       "layout": "IPY_MODEL_c89b1d0967414158ad57b561846f6b49",
       "max": 0.1,
       "min": 0.01,
       "step": 0.01,
       "style": "IPY_MODEL_93210c70174942b9975acc7ce5e068a7",
       "value": 0.049999999999999996
      }
     },
     "4a63e620d317432083a33efd0105afaa": {
      "model_module": "@jupyter-widgets/base",
      "model_module_version": "2.0.0",
      "model_name": "LayoutModel",
      "state": {}
     },
     "4bed007b47794fc8bc17bf50747e6623": {
      "model_module": "@jupyter-widgets/base",
      "model_module_version": "2.0.0",
      "model_name": "LayoutModel",
      "state": {}
     },
     "55ed655c5254499881f1d8d8875376af": {
      "model_module": "@jupyter-widgets/base",
      "model_module_version": "2.0.0",
      "model_name": "LayoutModel",
      "state": {}
     },
     "5c51cc07d1784420ab1e6261e43ab0bc": {
      "model_module": "@jupyter-widgets/controls",
      "model_module_version": "2.0.0",
      "model_name": "SliderStyleModel",
      "state": {
       "description_width": ""
      }
     },
     "627cd1086ed142289714f2b1fcb113ea": {
      "model_module": "@jupyter-widgets/controls",
      "model_module_version": "2.0.0",
      "model_name": "SliderStyleModel",
      "state": {
       "description_width": ""
      }
     },
     "629f48e06715440391f361bf0ba67256": {
      "model_module": "@jupyter-widgets/base",
      "model_module_version": "2.0.0",
      "model_name": "LayoutModel",
      "state": {}
     },
     "64aa5ce5f4324767812d959e28877a23": {
      "model_module": "@jupyter-widgets/controls",
      "model_module_version": "2.0.0",
      "model_name": "SliderStyleModel",
      "state": {
       "description_width": ""
      }
     },
     "706f0afe238a45b692fea2ca2e8ed8ca": {
      "model_module": "@jupyter-widgets/controls",
      "model_module_version": "2.0.0",
      "model_name": "IntSliderModel",
      "state": {
       "behavior": "drag-tap",
       "layout": "IPY_MODEL_33d48f2ac10a4b8eaa9a2925c19fdf8d",
       "max": 65,
       "min": 40,
       "style": "IPY_MODEL_0966f523883a4d47a094ee718918e14a",
       "value": 55
      }
     },
     "70d6d3ce94f34e4c9a76454f3a98d01c": {
      "model_module": "@jupyter-widgets/controls",
      "model_module_version": "2.0.0",
      "model_name": "IntSliderModel",
      "state": {
       "behavior": "drag-tap",
       "description": "insertion_angle",
       "layout": "IPY_MODEL_9f258254e491465f9728ee988ae0a0b8",
       "max": 30,
       "min": 30,
       "style": "IPY_MODEL_3dc89c68a11a4133908903c6058b2d0d",
       "value": 30
      }
     },
     "71a9c23c8e31437d950d6844ce283809": {
      "model_module": "@jupyter-widgets/controls",
      "model_module_version": "2.0.0",
      "model_name": "IntSliderModel",
      "state": {
       "behavior": "drag-tap",
       "layout": "IPY_MODEL_629f48e06715440391f361bf0ba67256",
       "max": 15,
       "min": 15,
       "step": 5,
       "style": "IPY_MODEL_f3e8a118841943d8bb1fc739711613a2",
       "value": 15
      }
     },
     "723bf5fff7d84ab8ba0ab039a9a8e6da": {
      "model_module": "@jupyter-widgets/base",
      "model_module_version": "2.0.0",
      "model_name": "LayoutModel",
      "state": {}
     },
     "788387ae9ce646beb7e209fbccb2eeec": {
      "model_module": "@jupyter-widgets/controls",
      "model_module_version": "2.0.0",
      "model_name": "IntSliderModel",
      "state": {
       "behavior": "drag-tap",
       "description": "Time",
       "layout": "IPY_MODEL_cda3f2991ee446f08645b21ddd8f963b",
       "max": 77,
       "style": "IPY_MODEL_3e1bb1b4a7a2422983c99644a5d3553d"
      }
     },
     "78a229ff183447d7bf9c2f5b78f5b32b": {
      "model_module": "@jupyter-widgets/controls",
      "model_module_version": "2.0.0",
      "model_name": "SliderStyleModel",
      "state": {
       "description_width": ""
      }
     },
     "7c0fd7f516f549ecabc5fa578cf8533f": {
      "model_module": "@jupyter-widgets/controls",
      "model_module_version": "2.0.0",
      "model_name": "SliderStyleModel",
      "state": {
       "description_width": ""
      }
     },
     "7d277b5819c545e0a59b59a358fe2288": {
      "model_module": "@jupyter-widgets/controls",
      "model_module_version": "2.0.0",
      "model_name": "SliderStyleModel",
      "state": {
       "description_width": ""
      }
     },
     "826d5c377c9b4cf189f8229ef4ad6a5a": {
      "model_module": "@jupyter-widgets/controls",
      "model_module_version": "2.0.0",
      "model_name": "IntSliderModel",
      "state": {
       "behavior": "drag-tap",
       "layout": "IPY_MODEL_a55ec390fff84bd285a5e33edbe554d5",
       "max": 90,
       "min": 90,
       "step": 5,
       "style": "IPY_MODEL_627cd1086ed142289714f2b1fcb113ea",
       "value": 90
      }
     },
     "839dde228a704e65896da60943785603": {
      "model_module": "@jupyter-widgets/controls",
      "model_module_version": "2.0.0",
      "model_name": "FloatSliderModel",
      "state": {
       "behavior": "drag-tap",
       "layout": "IPY_MODEL_871675d9bc5f4848bff51b71e242ec09",
       "max": 6,
       "min": 1,
       "step": 0.1,
       "style": "IPY_MODEL_01b0a7f242724fd3bdc2e3ec220e5fce",
       "value": 1.5
      }
     },
     "871675d9bc5f4848bff51b71e242ec09": {
      "model_module": "@jupyter-widgets/base",
      "model_module_version": "2.0.0",
      "model_name": "LayoutModel",
      "state": {}
     },
     "8a7adb97dfde4b7b88cf20dfd57a3b25": {
      "model_module": "@jupyter-widgets/base",
      "model_module_version": "2.0.0",
      "model_name": "LayoutModel",
      "state": {}
     },
     "8f894f005b8b41e9bb88adf592ee0eae": {
      "model_module": "@jupyter-widgets/controls",
      "model_module_version": "2.0.0",
      "model_name": "IntSliderModel",
      "state": {
       "behavior": "drag-tap",
       "description": "nb_phy",
       "layout": "IPY_MODEL_9bd3ba897cb24debb9a5181e40f6abc0",
       "max": 40,
       "min": 10,
       "style": "IPY_MODEL_db4285e6db5941f38ac21d32452032f4",
       "value": 32
      }
     },
     "93210c70174942b9975acc7ce5e068a7": {
      "model_module": "@jupyter-widgets/controls",
      "model_module_version": "2.0.0",
      "model_name": "SliderStyleModel",
      "state": {
       "description_width": ""
      }
     },
     "9539bdb3e46f48d0b6f8048361d5003c": {
      "model_module": "@jupyter-widgets/controls",
      "model_module_version": "2.0.0",
      "model_name": "FloatSliderModel",
      "state": {
       "behavior": "drag-tap",
       "layout": "IPY_MODEL_af2d6b9632b84710b7cd0406a3f4d3e5",
       "max": 0.7,
       "min": 0.7,
       "step": 0.01,
       "style": "IPY_MODEL_bd69b6033ae24c0c8f457bdbf9a69b29",
       "value": 0.7
      }
     },
     "98def0f602c34d2db99deaca2bebc0d2": {
      "model_module": "@jupyter-widgets/controls",
      "model_module_version": "2.0.0",
      "model_name": "VBoxModel",
      "state": {
       "_dom_classes": [
        "widget-interact"
       ],
       "children": [
        "IPY_MODEL_8f894f005b8b41e9bb88adf592ee0eae",
        "IPY_MODEL_c5e3894cf2864b8fb5670b3ce92be8db",
        "IPY_MODEL_d5e86d1531a14658a4f9fabf41b53109",
        "IPY_MODEL_70d6d3ce94f34e4c9a76454f3a98d01c",
        "IPY_MODEL_f9f6dc34e87e4b45a31dfe9fb6a08166",
        "IPY_MODEL_2cc73fe9c1ca4abb8b95e7fda6be6c66",
        "IPY_MODEL_b8c40068fa6544a2b7486c3e0eafbc93",
        "IPY_MODEL_49c4b7da990e46d38c9ea4854ec03c13",
        "IPY_MODEL_e374df5ca19a42669a3fb9fd061e5071",
        "IPY_MODEL_cfc3b5757c664d50b03f4d6281319ba7"
       ],
       "layout": "IPY_MODEL_00c084dc3c0547b98b17244e067c5812"
      }
     },
     "99b071149be84bd28f4970752e1cdc49": {
      "model_module": "@jupyter-widgets/controls",
      "model_module_version": "2.0.0",
      "model_name": "FloatSliderModel",
      "state": {
       "behavior": "drag-tap",
       "layout": "IPY_MODEL_02f764e8f1914563a1e338b8508204a6",
       "max": 0.12,
       "min": 0.12,
       "step": 0.01,
       "style": "IPY_MODEL_acd0d0fb670846d1bccf9bf365506272",
       "value": 0.12
      }
     },
     "9a9a96f60e804cb683ab2d408b5aa3c1": {
      "model_module": "@jupyter-widgets/controls",
      "model_module_version": "2.0.0",
      "model_name": "SliderStyleModel",
      "state": {
       "description_width": ""
      }
     },
     "9bd3ba897cb24debb9a5181e40f6abc0": {
      "model_module": "@jupyter-widgets/base",
      "model_module_version": "2.0.0",
      "model_name": "LayoutModel",
      "state": {}
     },
     "9f258254e491465f9728ee988ae0a0b8": {
      "model_module": "@jupyter-widgets/base",
      "model_module_version": "2.0.0",
      "model_name": "LayoutModel",
      "state": {}
     },
     "a55ec390fff84bd285a5e33edbe554d5": {
      "model_module": "@jupyter-widgets/base",
      "model_module_version": "2.0.0",
      "model_name": "LayoutModel",
      "state": {}
     },
     "abc6434f93e647a0aaa0064e9ce33417": {
      "model_module": "@jupyter-widgets/base",
      "model_module_version": "2.0.0",
      "model_name": "LayoutModel",
      "state": {}
     },
     "acd0d0fb670846d1bccf9bf365506272": {
      "model_module": "@jupyter-widgets/controls",
      "model_module_version": "2.0.0",
      "model_name": "SliderStyleModel",
      "state": {
       "description_width": ""
      }
     },
     "af2d6b9632b84710b7cd0406a3f4d3e5": {
      "model_module": "@jupyter-widgets/base",
      "model_module_version": "2.0.0",
      "model_name": "LayoutModel",
      "state": {}
     },
     "b5f9b83cda644b9686543770a92c0c1e": {
      "model_module": "@jupyter-widgets/base",
      "model_module_version": "2.0.0",
      "model_name": "LayoutModel",
      "state": {}
     },
     "b6c0db743f234f1c8a624d6493dcc5f1": {
      "model_module": "@jupyter-widgets/base",
      "model_module_version": "2.0.0",
      "model_name": "LayoutModel",
      "state": {}
     },
     "b8c40068fa6544a2b7486c3e0eafbc93": {
      "model_module": "@jupyter-widgets/controls",
      "model_module_version": "2.0.0",
      "model_name": "FloatSliderModel",
      "state": {
       "behavior": "drag-tap",
       "description": "rmax",
       "layout": "IPY_MODEL_fbcdf6a59426415d8776162b0b40f721",
       "max": 0.9,
       "min": 0.7,
       "step": 0.01,
       "style": "IPY_MODEL_64aa5ce5f4324767812d959e28877a23",
       "value": 0.75
      }
     },
     "bb09e0ec4a77492b8e983d1ff08ee887": {
      "model_module": "@jupyter-widgets/controls",
      "model_module_version": "2.0.0",
      "model_name": "SliderStyleModel",
      "state": {
       "description_width": ""
      }
     },
     "bd69b6033ae24c0c8f457bdbf9a69b29": {
      "model_module": "@jupyter-widgets/controls",
      "model_module_version": "2.0.0",
      "model_name": "SliderStyleModel",
      "state": {
       "description_width": ""
      }
     },
     "c13f52d2c2124efa84da0d07a3df6e77": {
      "model_module": "@jupyter-widgets/controls",
      "model_module_version": "2.0.0",
      "model_name": "SliderStyleModel",
      "state": {
       "description_width": ""
      }
     },
     "c1f3798eadae43578563aebb1ebc75b5": {
      "model_module": "@jupyter-widgets/controls",
      "model_module_version": "2.0.0",
      "model_name": "IntSliderModel",
      "state": {
       "behavior": "drag-tap",
       "layout": "IPY_MODEL_b5f9b83cda644b9686543770a92c0c1e",
       "max": 120,
       "min": 60,
       "style": "IPY_MODEL_c7c39c034ae045c492a2583145e2d3a7",
       "value": 60
      }
     },
     "c5e3894cf2864b8fb5670b3ce92be8db": {
      "model_module": "@jupyter-widgets/controls",
      "model_module_version": "2.0.0",
      "model_name": "IntSliderModel",
      "state": {
       "behavior": "drag-tap",
       "description": "max_leaf_length",
       "layout": "IPY_MODEL_092230f3051a437faf24643713a3d56e",
       "max": 120,
       "min": 60,
       "style": "IPY_MODEL_c82b9dffc3f94d7cb816e38cbd528063",
       "value": 95
      }
     },
     "c67b128ff1b0453c9eeceb9af32fb8be": {
      "model_module": "@jupyter-widgets/base",
      "model_module_version": "2.0.0",
      "model_name": "LayoutModel",
      "state": {}
     },
     "c67e72bb1a72476aade84ea7f1138de1": {
      "model_module": "@jupyter-widgets/controls",
      "model_module_version": "2.0.0",
      "model_name": "VBoxModel",
      "state": {
       "children": [
        "IPY_MODEL_43a9dd3728a443f08a1a1151adaddd71",
        "IPY_MODEL_c1f3798eadae43578563aebb1ebc75b5",
        "IPY_MODEL_05befc2411764ea0af0ef162210d5aa8",
        "IPY_MODEL_9539bdb3e46f48d0b6f8048361d5003c",
        "IPY_MODEL_826d5c377c9b4cf189f8229ef4ad6a5a",
        "IPY_MODEL_ea714e8b5b6f47d293acd764089024ff"
       ],
       "layout": "IPY_MODEL_8a7adb97dfde4b7b88cf20dfd57a3b25"
      }
     },
     "c7c39c034ae045c492a2583145e2d3a7": {
      "model_module": "@jupyter-widgets/controls",
      "model_module_version": "2.0.0",
      "model_name": "SliderStyleModel",
      "state": {
       "description_width": ""
      }
     },
     "c82b9dffc3f94d7cb816e38cbd528063": {
      "model_module": "@jupyter-widgets/controls",
      "model_module_version": "2.0.0",
      "model_name": "SliderStyleModel",
      "state": {
       "description_width": ""
      }
     },
     "c89b1d0967414158ad57b561846f6b49": {
      "model_module": "@jupyter-widgets/base",
      "model_module_version": "2.0.0",
      "model_name": "LayoutModel",
      "state": {}
     },
     "cd85df18ece84bb5b295c4f6cf62e5de": {
      "model_module": "@jupyter-widgets/controls",
      "model_module_version": "2.0.0",
      "model_name": "SliderStyleModel",
      "state": {
       "description_width": ""
      }
     },
     "cda3f2991ee446f08645b21ddd8f963b": {
      "model_module": "@jupyter-widgets/base",
      "model_module_version": "2.0.0",
      "model_name": "LayoutModel",
      "state": {}
     },
     "cfc3b5757c664d50b03f4d6281319ba7": {
      "model_module": "@jupyter-widgets/output",
      "model_module_version": "1.0.0",
      "model_name": "OutputModel",
      "state": {
       "layout": "IPY_MODEL_55ed655c5254499881f1d8d8875376af",
       "outputs": [
        {
         "ename": "TypeError",
         "evalue": "bell_shaped_dist() got an unexpected keyword argument 'max_leaf_length'",
         "output_type": "error",
         "traceback": [
          "\u001b[1;31m---------------------------------------------------------------------------\u001b[0m",
          "\u001b[1;31mTypeError\u001b[0m                                 Traceback (most recent call last)",
          "File \u001b[1;32m~\\anaconda3\\envs\\oa3\\Lib\\site-packages\\ipywidgets\\widgets\\interaction.py:240\u001b[0m, in \u001b[0;36minteractive.update\u001b[1;34m(self, *args)\u001b[0m\n\u001b[0;32m    238\u001b[0m     value \u001b[38;5;241m=\u001b[39m widget\u001b[38;5;241m.\u001b[39mget_interact_value()\n\u001b[0;32m    239\u001b[0m     \u001b[38;5;28mself\u001b[39m\u001b[38;5;241m.\u001b[39mkwargs[widget\u001b[38;5;241m.\u001b[39m_kwarg] \u001b[38;5;241m=\u001b[39m value\n\u001b[1;32m--> 240\u001b[0m \u001b[38;5;28mself\u001b[39m\u001b[38;5;241m.\u001b[39mresult \u001b[38;5;241m=\u001b[39m \u001b[38;5;28;43mself\u001b[39;49m\u001b[38;5;241;43m.\u001b[39;49m\u001b[43mf\u001b[49m\u001b[43m(\u001b[49m\u001b[38;5;241;43m*\u001b[39;49m\u001b[38;5;241;43m*\u001b[39;49m\u001b[38;5;28;43mself\u001b[39;49m\u001b[38;5;241;43m.\u001b[39;49m\u001b[43mkwargs\u001b[49m\u001b[43m)\u001b[49m\n\u001b[0;32m    241\u001b[0m show_inline_matplotlib_plots()\n\u001b[0;32m    242\u001b[0m \u001b[38;5;28;01mif\u001b[39;00m \u001b[38;5;28mself\u001b[39m\u001b[38;5;241m.\u001b[39mauto_display \u001b[38;5;129;01mand\u001b[39;00m \u001b[38;5;28mself\u001b[39m\u001b[38;5;241m.\u001b[39mresult \u001b[38;5;129;01mis\u001b[39;00m \u001b[38;5;129;01mnot\u001b[39;00m \u001b[38;5;28;01mNone\u001b[39;00m:\n",
          "File \u001b[1;32md:\\archicrop\\src\\openalea\\archicrop\\simulation.py:199\u001b[0m, in \u001b[0;36mgenerate_and_display_plant\u001b[1;34m(nb_phy, height, max_leaf_length, wl, diam_base, diam_top, insertion_angle, scurv, curvature, alpha, stem_q, rmax, skew, phyllotactic_angle, phyllotactic_deviation)\u001b[0m\n\u001b[0;32m    184\u001b[0m \u001b[38;5;28;01mdef\u001b[39;00m \u001b[38;5;21mgenerate_and_display_plant\u001b[39m(nb_phy,\n\u001b[0;32m    185\u001b[0m                                 height,\n\u001b[0;32m    186\u001b[0m                                 max_leaf_length,\n\u001b[1;32m   (...)\u001b[0m\n\u001b[0;32m    197\u001b[0m                                 phyllotactic_angle,\n\u001b[0;32m    198\u001b[0m                                 phyllotactic_deviation):\n\u001b[1;32m--> 199\u001b[0m     shoot, g \u001b[38;5;241m=\u001b[39m \u001b[43mbuild_shoot\u001b[49m\u001b[43m(\u001b[49m\u001b[43mnb_phy\u001b[49m\u001b[43m,\u001b[49m\n\u001b[0;32m    200\u001b[0m \u001b[43m                            \u001b[49m\u001b[43mheight\u001b[49m\u001b[43m,\u001b[49m\n\u001b[0;32m    201\u001b[0m \u001b[43m                            \u001b[49m\u001b[43mmax_leaf_length\u001b[49m\u001b[43m,\u001b[49m\n\u001b[0;32m    202\u001b[0m \u001b[43m                            \u001b[49m\u001b[43mwl\u001b[49m\u001b[43m,\u001b[49m\n\u001b[0;32m    203\u001b[0m \u001b[43m                            \u001b[49m\u001b[43mdiam_base\u001b[49m\u001b[43m,\u001b[49m\n\u001b[0;32m    204\u001b[0m \u001b[43m                            \u001b[49m\u001b[43mdiam_top\u001b[49m\u001b[43m,\u001b[49m\n\u001b[0;32m    205\u001b[0m \u001b[43m                            \u001b[49m\u001b[43minsertion_angle\u001b[49m\u001b[43m,\u001b[49m\n\u001b[0;32m    206\u001b[0m \u001b[43m                            \u001b[49m\u001b[43mscurv\u001b[49m\u001b[43m,\u001b[49m\n\u001b[0;32m    207\u001b[0m \u001b[43m                            \u001b[49m\u001b[43mcurvature\u001b[49m\u001b[43m,\u001b[49m\n\u001b[0;32m    208\u001b[0m \u001b[43m                            \u001b[49m\u001b[43malpha\u001b[49m\u001b[43m,\u001b[49m\n\u001b[0;32m    209\u001b[0m \u001b[43m                            \u001b[49m\u001b[43mstem_q\u001b[49m\u001b[43m,\u001b[49m\n\u001b[0;32m    210\u001b[0m \u001b[43m                            \u001b[49m\u001b[43mrmax\u001b[49m\u001b[43m,\u001b[49m\n\u001b[0;32m    211\u001b[0m \u001b[43m                            \u001b[49m\u001b[43mskew\u001b[49m\u001b[43m,\u001b[49m\n\u001b[0;32m    212\u001b[0m \u001b[43m                            \u001b[49m\u001b[43mphyllotactic_angle\u001b[49m\u001b[43m,\u001b[49m\n\u001b[0;32m    213\u001b[0m \u001b[43m                            \u001b[49m\u001b[43mphyllotactic_deviation\u001b[49m\u001b[43m)\u001b[49m\n\u001b[0;32m    215\u001b[0m     \u001b[38;5;66;03m# print(\"LA plant = \", compute_leaf_area_plant_from_params(nb_phy,\u001b[39;00m\n\u001b[0;32m    216\u001b[0m     \u001b[38;5;66;03m#                                         max_leaf_length,\u001b[39;00m\n\u001b[0;32m    217\u001b[0m     \u001b[38;5;66;03m#                                         wl,\u001b[39;00m\n\u001b[0;32m    218\u001b[0m     \u001b[38;5;66;03m#                                         rmax,\u001b[39;00m\n\u001b[0;32m    219\u001b[0m     \u001b[38;5;66;03m#                                         skew))\u001b[39;00m\n\u001b[0;32m    221\u001b[0m     axes \u001b[38;5;241m=\u001b[39m g\u001b[38;5;241m.\u001b[39mvertices(scale\u001b[38;5;241m=\u001b[39m\u001b[38;5;241m1\u001b[39m)\n",
          "File \u001b[1;32md:\\archicrop\\src\\openalea\\archicrop\\cereals.py:84\u001b[0m, in \u001b[0;36mbuild_shoot\u001b[1;34m(nb_phy, height, max_leaf_length, wl, diam_base, diam_top, insertion_angle, scurv, curvature, alpha, stem_q, rmax, skew, phyllotactic_angle, phyllotactic_deviation, plant_orientation, spiral)\u001b[0m\n\u001b[0;32m     76\u001b[0m stem \u001b[38;5;241m=\u001b[39m stem_dimension(\n\u001b[0;32m     77\u001b[0m     h_ins\u001b[38;5;241m=\u001b[39minsertion_heights, d_internode\u001b[38;5;241m=\u001b[39mstem_diameters, ntop\u001b[38;5;241m=\u001b[39mntop\n\u001b[0;32m     78\u001b[0m )\n\u001b[0;32m     80\u001b[0m \u001b[38;5;66;03m## Leaves\u001b[39;00m\n\u001b[0;32m     81\u001b[0m \n\u001b[0;32m     82\u001b[0m \u001b[38;5;66;03m# leaf length repartition along axis\u001b[39;00m\n\u001b[0;32m     83\u001b[0m leaf_lengths_stem \u001b[38;5;241m=\u001b[39m np\u001b[38;5;241m.\u001b[39marray(\n\u001b[1;32m---> 84\u001b[0m     \u001b[43mbell_shaped_dist\u001b[49m\u001b[43m(\u001b[49m\n\u001b[0;32m     85\u001b[0m \u001b[43m        \u001b[49m\u001b[43mmax_leaf_length\u001b[49m\u001b[38;5;241;43m=\u001b[39;49m\u001b[43mmax_leaf_length\u001b[49m\u001b[43m,\u001b[49m\u001b[43m \u001b[49m\u001b[43mnb_phy\u001b[49m\u001b[38;5;241;43m=\u001b[39;49m\u001b[43mnb_phy\u001b[49m\u001b[43m \u001b[49m\u001b[38;5;241;43m-\u001b[39;49m\u001b[43m \u001b[49m\u001b[43mnb_young_phy\u001b[49m\u001b[43m,\u001b[49m\u001b[43m \u001b[49m\u001b[43mrmax\u001b[49m\u001b[38;5;241;43m=\u001b[39;49m\u001b[43mrmax\u001b[49m\u001b[43m,\u001b[49m\u001b[43m \u001b[49m\u001b[43mskew\u001b[49m\u001b[38;5;241;43m=\u001b[39;49m\u001b[43mskew\u001b[49m\n\u001b[0;32m     86\u001b[0m \u001b[43m    \u001b[49m\u001b[43m)\u001b[49m\n\u001b[0;32m     87\u001b[0m )\n\u001b[0;32m     88\u001b[0m leaf_lengths_pseudostem \u001b[38;5;241m=\u001b[39m np\u001b[38;5;241m.\u001b[39marray(\n\u001b[0;32m     89\u001b[0m     bell_shaped_dist(\n\u001b[0;32m     90\u001b[0m         max_leaf_length\u001b[38;5;241m=\u001b[39mleaf_lengths_stem[\u001b[38;5;241m0\u001b[39m], nb_phy\u001b[38;5;241m=\u001b[39mnb_young_phy, rmax\u001b[38;5;241m=\u001b[39m\u001b[38;5;241m1\u001b[39m, skew\u001b[38;5;241m=\u001b[39m\u001b[38;5;241m1\u001b[39m\n\u001b[0;32m     91\u001b[0m     )\n\u001b[0;32m     92\u001b[0m )\n\u001b[0;32m     93\u001b[0m leaf_lengths \u001b[38;5;241m=\u001b[39m np\u001b[38;5;241m.\u001b[39mconcatenate((leaf_lengths_pseudostem, leaf_lengths_stem), axis\u001b[38;5;241m=\u001b[39m\u001b[38;5;241m0\u001b[39m)\n",
          "\u001b[1;31mTypeError\u001b[0m: bell_shaped_dist() got an unexpected keyword argument 'max_leaf_length'"
         ]
        }
       ]
      }
     },
     "d450ac55707f4047b4bb7eb67462513b": {
      "model_module": "@jupyter-widgets/controls",
      "model_module_version": "2.0.0",
      "model_name": "FloatSliderModel",
      "state": {
       "behavior": "drag-tap",
       "layout": "IPY_MODEL_3c67e1bc3adb4a8a823f8dacc68a535a",
       "max": 6,
       "min": 1,
       "step": 0.1,
       "style": "IPY_MODEL_9a9a96f60e804cb683ab2d408b5aa3c1",
       "value": 6
      }
     },
     "d5e86d1531a14658a4f9fabf41b53109": {
      "model_module": "@jupyter-widgets/controls",
      "model_module_version": "2.0.0",
      "model_name": "FloatSliderModel",
      "state": {
       "behavior": "drag-tap",
       "description": "wl",
       "layout": "IPY_MODEL_fd6bca8e4801479080a4a5fb3e09382c",
       "max": 0.12,
       "min": 0.12,
       "step": 0.01,
       "style": "IPY_MODEL_ef20e6a804ee431794a3b4de0ffbcadb",
       "value": 0.12
      }
     },
     "db4285e6db5941f38ac21d32452032f4": {
      "model_module": "@jupyter-widgets/controls",
      "model_module_version": "2.0.0",
      "model_name": "SliderStyleModel",
      "state": {
       "description_width": ""
      }
     },
     "e047a1d97d774f5c98bb00c6ba2a34dd": {
      "model_module": "@jupyter-widgets/controls",
      "model_module_version": "2.0.0",
      "model_name": "DescriptionStyleModel",
      "state": {
       "description_width": ""
      }
     },
     "e374df5ca19a42669a3fb9fd061e5071": {
      "model_module": "@jupyter-widgets/controls",
      "model_module_version": "2.0.0",
      "model_name": "IntSliderModel",
      "state": {
       "behavior": "drag-tap",
       "description": "phyllotactic_deviation",
       "layout": "IPY_MODEL_ffd31341f50b4eccb3cb146fd3c7b8a9",
       "max": 15,
       "min": 15,
       "step": 5,
       "style": "IPY_MODEL_7d277b5819c545e0a59b59a358fe2288",
       "value": 15
      }
     },
     "e477881e649a4eb58b6142ac10bd1954": {
      "model_module": "@jupyter-widgets/base",
      "model_module_version": "2.0.0",
      "model_name": "LayoutModel",
      "state": {}
     },
     "ea714e8b5b6f47d293acd764089024ff": {
      "model_module": "@jupyter-widgets/controls",
      "model_module_version": "2.0.0",
      "model_name": "HBoxModel",
      "state": {
       "children": [
        "IPY_MODEL_788387ae9ce646beb7e209fbccb2eeec",
        "IPY_MODEL_00ece664e7d649129c0bfb01200539b4"
       ],
       "layout": "IPY_MODEL_4bed007b47794fc8bc17bf50747e6623"
      }
     },
     "ea940c324c1049fb847758341832e42d": {
      "model_module": "@jupyter-widgets/controls",
      "model_module_version": "2.0.0",
      "model_name": "SliderStyleModel",
      "state": {
       "description_width": ""
      }
     },
     "ecf40f64ae3140afac133b9eaeab9938": {
      "model_module": "@jupyter-widgets/controls",
      "model_module_version": "2.0.0",
      "model_name": "IntSliderModel",
      "state": {
       "behavior": "drag-tap",
       "layout": "IPY_MODEL_19a8877144f94d298d2daaab1e75e968",
       "max": 46,
       "min": 34,
       "style": "IPY_MODEL_bb09e0ec4a77492b8e983d1ff08ee887",
       "value": 40
      }
     },
     "ef20e6a804ee431794a3b4de0ffbcadb": {
      "model_module": "@jupyter-widgets/controls",
      "model_module_version": "2.0.0",
      "model_name": "SliderStyleModel",
      "state": {
       "description_width": ""
      }
     },
     "f3e8a118841943d8bb1fc739711613a2": {
      "model_module": "@jupyter-widgets/controls",
      "model_module_version": "2.0.0",
      "model_name": "SliderStyleModel",
      "state": {
       "description_width": ""
      }
     },
     "f80c2eb4396d468182dd4fcc25b935f3": {
      "model_module": "@jupyter-widgets/base",
      "model_module_version": "2.0.0",
      "model_name": "LayoutModel",
      "state": {}
     },
     "f99e6e74ab1f47fe919d783c50bab04f": {
      "model_module": "@jupyter-widgets/controls",
      "model_module_version": "2.0.0",
      "model_name": "IntSliderModel",
      "state": {
       "behavior": "drag-tap",
       "layout": "IPY_MODEL_abc6434f93e647a0aaa0064e9ce33417",
       "max": 1000,
       "min": 500,
       "step": 10,
       "style": "IPY_MODEL_7c0fd7f516f549ecabc5fa578cf8533f",
       "value": 700
      }
     },
     "f9f6dc34e87e4b45a31dfe9fb6a08166": {
      "model_module": "@jupyter-widgets/controls",
      "model_module_version": "2.0.0",
      "model_name": "FloatSliderModel",
      "state": {
       "behavior": "drag-tap",
       "description": "scurv",
       "layout": "IPY_MODEL_723bf5fff7d84ab8ba0ab039a9a8e6da",
       "max": 0.7,
       "min": 0.7,
       "step": 0.01,
       "style": "IPY_MODEL_78a229ff183447d7bf9c2f5b78f5b32b",
       "value": 0.7
      }
     },
     "fbcdf6a59426415d8776162b0b40f721": {
      "model_module": "@jupyter-widgets/base",
      "model_module_version": "2.0.0",
      "model_name": "LayoutModel",
      "state": {}
     },
     "fd6bca8e4801479080a4a5fb3e09382c": {
      "model_module": "@jupyter-widgets/base",
      "model_module_version": "2.0.0",
      "model_name": "LayoutModel",
      "state": {}
     },
     "ffd31341f50b4eccb3cb146fd3c7b8a9": {
      "model_module": "@jupyter-widgets/base",
      "model_module_version": "2.0.0",
      "model_name": "LayoutModel",
      "state": {}
     }
    },
    "version_major": 2,
    "version_minor": 0
   }
  }
 },
 "nbformat": 4,
 "nbformat_minor": 5
}
