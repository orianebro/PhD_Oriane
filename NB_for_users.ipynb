{
 "cells": [
  {
   "cell_type": "code",
   "execution_count": 1,
   "id": "09500250-69a7-48c7-9086-c6e0c0972636",
   "metadata": {},
   "outputs": [],
   "source": [
    "from random import *\n",
    "import numpy as np\n",
    "import matplotlib.pyplot as plt\n",
    "\n",
    "from ipywidgets import interact, interactive, IntSlider, FloatSlider, fixed, Play, HBox, VBox, jslink\n",
    "from oawidgets.plantgl import *\n",
    "# try jupyter widgets\n",
    "\n",
    "# from openalea.archicrop.cereals import build_shoot\n",
    "from openalea.archicrop.plant_shape import compute_leaf_area_plant_from_params, check_LA_range, compute_leaf_area_growing_plant\n",
    "from openalea.archicrop.simulation import retrieve_stics_dynamics_from_file, generate_and_display_plant, dict_ranges_to_all_possible_combinations, model\n",
    "from openalea.archicrop.display import display_mtg, build_scene, display_scene\n",
    "from openalea.archicrop.archicrop import ArchiCrop\n",
    "# quasi MC sampling in scipy, cf latin hypercube\n",
    "# SALiB\n",
    "\n",
    "# Enable plotting with PlantGL\n",
    "%gui qt\n",
    "nice_green = Color3((50, 100, 0))"
   ]
  },
  {
   "cell_type": "markdown",
   "id": "5d74f5a9-42d3-4e35-8fe7-0c8aee23f5a4",
   "metadata": {},
   "source": [
    "## Retrieve STICS dynamics from file"
   ]
  },
  {
   "cell_type": "code",
   "execution_count": 2,
   "id": "bf9887b2-2903-448b-9ef2-f0eca93bedf2",
   "metadata": {},
   "outputs": [],
   "source": [
    "stics_output_file = 'mod_ssorghum.sti'\n",
    "sowing_density = 10\n",
    "inter_row = 0.4\n",
    "stics_output_data = retrieve_stics_dynamics_from_file(stics_output_file, sowing_density)\n",
    "height_potential_plant = max(value[\"Plant height\"] for value in stics_output_data.values())\n",
    "time = [value[\"Thermal time\"] for value in stics_output_data.values()]\n",
    "# print(height_potential_plant)\n",
    "# print(stics_output_data)"
   ]
  },
  {
   "cell_type": "markdown",
   "id": "002f4f30-18e6-495b-bba0-13563f26c87c",
   "metadata": {},
   "source": [
    "## Generate one potential plant from architectural parameters"
   ]
  },
  {
   "cell_type": "code",
   "execution_count": 3,
   "id": "11992b70-cc39-4372-8072-123500a9f884",
   "metadata": {},
   "outputs": [],
   "source": [
    "# For sorghum\n",
    "archi_params = dict(\n",
    "    nb_phy = [20,30,40], # [10,15,20,25,30], \n",
    "    max_leaf_length = [60,80,100,120], \n",
    "    wl = 0.12, \n",
    "    diam_base = 2.5, \n",
    "    diam_top = 1.5, \n",
    "    insertion_angle = 30, # [10, 50], \n",
    "    scurv = 0.7, # [0.6, 0.8], \n",
    "    curvature = 90, # [45, 135], \n",
    "    alpha = -2.3, \n",
    "    stem_q = 1.1, \n",
    "    rmax = 0.75, # [0.7,0.8, 0.9], # 1-(1/3*(nb_phy - 5)/nb_phy)\n",
    "    skew = 0.08, # 0.0005\n",
    "    phyllotactic_angle = 180, \n",
    "    phyllotactic_deviation = 15, # [5, 30]\n",
    "    phyllochron = [40,65],\n",
    "    plastochron = [34,46],\n",
    "    leaf_duration = [1,6],\n",
    "    stem_duration = [1,6],\n",
    "    leaf_senescence = [500, 1000]\n",
    ")"
   ]
  },
  {
   "cell_type": "code",
   "execution_count": 4,
   "id": "99d7b1c0-4a8f-46af-91da-09e1efb435bf",
   "metadata": {},
   "outputs": [
    {
     "data": {
      "text/plain": [
       "[0.75, 0.7222222222222223, 0.7083333333333334]"
      ]
     },
     "execution_count": 4,
     "metadata": {},
     "output_type": "execute_result"
    }
   ],
   "source": [
    "[1-(1/3*(n - 5)/n) for n in archi_params[\"nb_phy\"]] # for rmax = f(nb_phy)"
   ]
  },
  {
   "cell_type": "code",
   "execution_count": 5,
   "id": "d051632a-e2af-46f5-b2a7-a0e9276f2e9f",
   "metadata": {},
   "outputs": [],
   "source": [
    "def to_list(d):\n",
    "    return {k: (v if isinstance(v, list) else [v]) for k,v in d.items()} \n",
    "\n",
    "archi_params = to_list(archi_params)"
   ]
  },
  {
   "cell_type": "code",
   "execution_count": 6,
   "id": "5773446a-ab04-410d-bc5e-cb26ac2310d6",
   "metadata": {},
   "outputs": [
    {
     "data": {
      "application/vnd.jupyter.widget-view+json": {
       "model_id": "4328ecef98e546abb7732ee794df624f",
       "version_major": 2,
       "version_minor": 0
      },
      "text/plain": [
       "interactive(children=(IntSlider(value=30, description='nb_phy', max=40, min=20), IntSlider(value=72, descripti…"
      ]
     },
     "metadata": {},
     "output_type": "display_data"
    },
    {
     "data": {
      "text/plain": [
       "<function openalea.archicrop.simulation.generate_and_display_plant(nb_phy, height, max_leaf_length, wl, diam_base, diam_top, insertion_angle, scurv, curvature, alpha, stem_q, rmax, skew, phyllotactic_angle, phyllotactic_deviation)>"
      ]
     },
     "execution_count": 6,
     "metadata": {},
     "output_type": "execute_result"
    }
   ],
   "source": [
    "# slider on parameters with ranges, others fixed \n",
    "interact(generate_and_display_plant, \n",
    "         nb_phy=IntSlider(min=min(archi_params[\"nb_phy\"]), \n",
    "                          max=max(archi_params[\"nb_phy\"]), \n",
    "                          step=1, \n",
    "                          value=randint(archi_params[\"nb_phy\"][0], archi_params[\"nb_phy\"][-1])),\n",
    "         height=fixed(height_potential_plant),\n",
    "         max_leaf_length=IntSlider(min=min(archi_params[\"max_leaf_length\"]), \n",
    "                                   max=max(archi_params[\"max_leaf_length\"]), \n",
    "                                   step=1, \n",
    "                                   value=randint(archi_params[\"max_leaf_length\"][0], archi_params[\"max_leaf_length\"][-1])),\n",
    "         wl=FloatSlider(min=min(archi_params[\"wl\"]), \n",
    "                        max=max(archi_params[\"wl\"]), \n",
    "                        step=0.01, \n",
    "                        value=choice(archi_params[\"wl\"])),\n",
    "         diam_base=fixed(archi_params[\"diam_base\"][0]),\n",
    "         diam_top=fixed(archi_params[\"diam_top\"][0]),\n",
    "         insertion_angle=IntSlider(min=min(archi_params[\"insertion_angle\"]), \n",
    "                                   max=max(archi_params[\"insertion_angle\"]), \n",
    "                                   step=1, \n",
    "                                   value=choice(archi_params[\"insertion_angle\"])),\n",
    "         scurv=FloatSlider(min=min(archi_params[\"scurv\"]), \n",
    "                           max=max(archi_params[\"scurv\"]), \n",
    "                           step=0.01, \n",
    "                           value=choice(archi_params[\"scurv\"])),\n",
    "         curvature=IntSlider(min=min(archi_params[\"curvature\"]), \n",
    "                             max=max(archi_params[\"curvature\"]), \n",
    "                             step=5, \n",
    "                             value=choice(archi_params[\"curvature\"])),\n",
    "         alpha=fixed(archi_params[\"alpha\"][0]),\n",
    "         stem_q=fixed(archi_params[\"stem_q\"][0]),\n",
    "         rmax=FloatSlider(min=min(archi_params[\"rmax\"]), \n",
    "                          max=max(archi_params[\"rmax\"]), \n",
    "                          step=0.01, \n",
    "                          value=0.75),\n",
    "         skew=fixed(archi_params[\"skew\"][0]),\n",
    "         phyllotactic_angle=fixed(archi_params[\"phyllotactic_angle\"][0]),\n",
    "         phyllotactic_deviation=IntSlider(min=min(archi_params[\"phyllotactic_deviation\"]), \n",
    "                                          max=max(archi_params[\"phyllotactic_deviation\"]), \n",
    "                                          step=5, \n",
    "                                          value=20))\n",
    "\n",
    "\n",
    "# cf github openalea weberpenn trunk_parameters"
   ]
  },
  {
   "cell_type": "markdown",
   "id": "cd2fbbdd-621b-4ccb-891a-57c6fbd84e6a",
   "metadata": {},
   "source": [
    "## Reduce parameters space for parameters related to leaf area for a given crop model simulation"
   ]
  },
  {
   "cell_type": "code",
   "execution_count": 7,
   "id": "77df9681-6dd8-4e52-8060-59ed0b20eea0",
   "metadata": {},
   "outputs": [
    {
     "name": "stdout",
     "output_type": "stream",
     "text": [
      "384\n"
     ]
    }
   ],
   "source": [
    "# take only the ones defined before\n",
    "archi_params_combinations = dict_ranges_to_all_possible_combinations(archi_params)\n",
    "print(len(archi_params_combinations))\n",
    "\n",
    "# # Print combinations in the original order of dictionary keys\n",
    "# for combo in archi_params_combinations:\n",
    "#     print(combo)"
   ]
  },
  {
   "cell_type": "markdown",
   "id": "226afb9d-849d-4a79-984c-2cc7f805cc8b",
   "metadata": {},
   "source": [
    "## Parameters for spatial configuration"
   ]
  },
  {
   "cell_type": "code",
   "execution_count": 8,
   "id": "000b191a-af63-4b79-a7a6-abd38c5a537a",
   "metadata": {},
   "outputs": [
    {
     "name": "stdout",
     "output_type": "stream",
     "text": [
      "[(1, 1, 10, 0.4), (1, 1, 10, 0.8)]\n"
     ]
    }
   ],
   "source": [
    "crop_params = {\n",
    "    \"length_plot\": 1, \n",
    "    \"width_plot\": 1, \n",
    "    \"sowing_density\": sowing_density, # [10, 28], \n",
    "    \"inter_row\": [0.4, 0.8], # 0.4 for 10\n",
    "}\n",
    "\n",
    "crop_params_combinations = dict_ranges_to_all_possible_combinations(crop_params)\n",
    "print(crop_params_combinations)"
   ]
  },
  {
   "cell_type": "markdown",
   "id": "15275a24-9de1-444a-8392-4fadd49307c2",
   "metadata": {},
   "source": [
    "## Animation of growing plant "
   ]
  },
  {
   "cell_type": "code",
   "execution_count": null,
   "id": "17263058-129c-42d5-88f9-cea43811f2f9",
   "metadata": {},
   "outputs": [],
   "source": [
    "# Fix a seed\n",
    "seed(100)\n",
    "nice_green = Color3((50, 100, 0))\n",
    "\n",
    "# slider on parameters with ranges, others fixed \n",
    "\n",
    "height=height_potential_plant\n",
    "nb_phy_slider=IntSlider(min=min(archi_params[\"nb_phy\"]), max=max(archi_params[\"nb_phy\"]), step=1, value=15)\n",
    "max_leaf_length_slider=IntSlider(min=min(archi_params[\"max_leaf_length\"]), max=max(archi_params[\"max_leaf_length\"]), step=1, value=50)\n",
    "wl_slider=FloatSlider(min=min(archi_params[\"wl\"]), max=max(archi_params[\"wl\"]), step=0.01, value=0.12)\n",
    "diam_base_slider=fixed(archi_params[\"diam_base\"][0])\n",
    "diam_top_slider=fixed(archi_params[\"diam_top\"][0])\n",
    "insertion_angle_slider=IntSlider(min=min(archi_params[\"insertion_angle\"]), max=max(archi_params[\"insertion_angle\"]), step=1, value=30)\n",
    "scurv_slider=FloatSlider(min=min(archi_params[\"scurv\"]), max=max(archi_params[\"scurv\"]), step=0.01, value=0.7)\n",
    "curvature_slider=IntSlider(min=min(archi_params[\"curvature\"]), max=max(archi_params[\"curvature\"]), step=5, value=90)\n",
    "alpha_slider=fixed(archi_params[\"alpha\"][0])\n",
    "stem_q_slider=fixed(archi_params[\"stem_q\"][0])\n",
    "rmax_slider=FloatSlider(min=min(archi_params[\"rmax\"]), max=max(archi_params[\"rmax\"]), step=0.01, value=0.8)\n",
    "skew_slider=fixed(archi_params[\"skew\"][0])\n",
    "phyllotactic_angle_slider=fixed(archi_params[\"phyllotactic_angle\"][0])\n",
    "phyllotactic_deviation_slider=IntSlider(min=min(archi_params[\"phyllotactic_deviation\"]), max=max(archi_params[\"phyllotactic_deviation\"]), step=5, value=15)\n",
    "phyllochron_slider=IntSlider(min=min(archi_params[\"phyllochron\"]), max=max(archi_params[\"phyllochron\"]), step=1, value=55)\n",
    "plastochron_slider=IntSlider(min=min(archi_params[\"plastochron\"]), max=max(archi_params[\"plastochron\"]), step=1, value=40)\n",
    "leaf_duration_slider=FloatSlider(min=min(archi_params[\"leaf_duration\"]), max=max(archi_params[\"leaf_duration\"]), step=0.1, value=3)\n",
    "stem_duration_slider=FloatSlider(min=min(archi_params[\"stem_duration\"]), max=max(archi_params[\"stem_duration\"]), step=0.1, value=2)\n",
    "leaf_senescence_slider=IntSlider(min=min(archi_params[\"leaf_senescence\"]), max=max(archi_params[\"leaf_senescence\"]), step=10, value=800)\n",
    "\n",
    "time_slider = IntSlider(value=0, min=0, max=len(time), step=1, description=\"Time\")\n",
    "\n",
    "# Interactive widget setup\n",
    "play_widget = Play(value=0, min=0, max=len(time), step=1, interval=1000)\n",
    "\n",
    "# Link play widget with time slider\n",
    "jslink((play_widget, 'value'), (time_slider, 'value'))\n",
    "\n",
    "# Callback to update scene\n",
    "def update_scene(*args):\n",
    "    seed(100)\n",
    "    nb_phy = nb_phy_slider.value\n",
    "    max_leaf_length = max_leaf_length_slider.value\n",
    "    wl = wl_slider.value\n",
    "    diam_base = diam_base_slider.value\n",
    "    diam_top = diam_top_slider.value\n",
    "    insertion_angle = insertion_angle_slider.value\n",
    "    scurv = scurv_slider.value\n",
    "    curvature = curvature_slider.value\n",
    "    alpha = alpha_slider.value\n",
    "    stem_q = stem_q_slider.value\n",
    "    rmax = rmax_slider.value\n",
    "    skew = skew_slider.value\n",
    "    phyllotactic_angle = phyllotactic_angle_slider.value\n",
    "    phyllotactic_deviation = phyllotactic_deviation_slider.value\n",
    "    phyllochron = phyllochron_slider.value\n",
    "    plastochron = plastochron_slider.value\n",
    "    leaf_duration = leaf_duration_slider.value\n",
    "    stem_duration = stem_duration_slider.value\n",
    "    leaf_senescence = leaf_senescence_slider.value\n",
    "    time = time_slider.value\n",
    "    sorghum = ArchiCrop(height, nb_phy, max_leaf_length, wl, diam_base, diam_top, insertion_angle, scurv, curvature, alpha, \n",
    "                        stem_q, rmax, skew, phyllotactic_angle, phyllotactic_deviation, \n",
    "                        phyllochron, plastochron, leaf_duration, stem_duration, leaf_senescence)\n",
    "    sorghum.generate_potential_plant()\n",
    "    sorghum.define_development()\n",
    "    growing_plant = sorghum.grow_plant(stics_output_data)\n",
    "    Viewer.display(build_scene(growing_plant[time], leaf_material = Material(nice_green), stem_material=Material(nice_green))[0])\n",
    "    # PlantGL(build_scene(growing_plant[time]))\n",
    "\n",
    "# Attach update callback\n",
    "nb_phy_slider.observe(update_scene, names='value')\n",
    "max_leaf_length_slider.observe(update_scene, names='value')\n",
    "insertion_angle_slider.observe(update_scene, names='value')\n",
    "scurv_slider.observe(update_scene, names='value')\n",
    "curvature_slider.observe(update_scene, names='value')\n",
    "time_slider.observe(update_scene, names='value')\n",
    "\n",
    "# Display widgets\n",
    "controls = VBox([nb_phy_slider, max_leaf_length_slider, insertion_angle_slider, scurv_slider, curvature_slider, HBox([time_slider, play_widget])])\n",
    "display(controls)\n",
    "\n",
    "# Initial scene display\n",
    "update_scene()\n",
    "\n",
    "# cf github openalea weberpenn trunk_parameters"
   ]
  },
  {
   "cell_type": "code",
   "execution_count": 10,
   "id": "953c2ac3-326a-4933-8f62-bbb30a0b416b",
   "metadata": {},
   "outputs": [],
   "source": [
    "# same with population\n",
    "\n",
    "\n",
    "\n",
    "\n"
   ]
  },
  {
   "cell_type": "code",
   "execution_count": 11,
   "id": "eac460bc-0e5a-4b52-af1d-9e9067d6c718",
   "metadata": {},
   "outputs": [],
   "source": [
    "# same with light interception\n",
    "\n",
    "\n",
    "\n",
    "\n"
   ]
  },
  {
   "cell_type": "code",
   "execution_count": 13,
   "id": "e628e067-10d8-4e42-a113-83ee14a0fd19",
   "metadata": {},
   "outputs": [
    {
     "data": {
      "image/png": "[encoded data removed]",
      "text/plain": [
       "<Figure size 640x480 with 1 Axes>"
      ]
     },
     "metadata": {},
     "output_type": "display_data"
    }
   ],
   "source": [
    "for i in range(len(archi_params_combinations)):\n",
    "    archi_without_height = archi_params_combinations[i]\n",
    "    archi = (height_potential_plant, *archi_without_height)\n",
    "    sorghum = ArchiCrop(*archi)\n",
    "    sorghum.generate_potential_plant()\n",
    "    sorghum.define_development()\n",
    "    growing_plant = sorghum.grow_plant(stics_output_data)\n",
    "    \n",
    "    gp_scenes = []\n",
    "    LA = []\n",
    "    for gp in growing_plant:\n",
    "        # gp_scenes.append(build_scene(gp, leaf_material = Material(nice_green), stem_material=Material(nice_green))[0])\n",
    "        leaf_area_plant = np.sum(np.array(compute_leaf_area_growing_plant(gp)))\n",
    "        LA.append(leaf_area_plant)\n",
    "    \n",
    "    plt.plot(time, LA)\n",
    "\n",
    "LAI_stics = [value[\"Plant leaf area\"] for value in stics_output_data.values()]\n",
    "plt.plot(time, LAI_stics, color=\"black\")\n",
    "plt.show()"
   ]
  },
  {
   "cell_type": "code",
   "execution_count": 14,
   "id": "11958e95-9ac3-4394-98e7-df0fb14ef950",
   "metadata": {},
   "outputs": [],
   "source": [
    "def parametric_model_sorghum(time, max_leaf_length, leaf_duration):\n",
    "    \"\"\"\n",
    "    Define parametric model.\n",
    "\n",
    "    Args:\n",
    "    - max_leaf_length, phyllochron: Parameters of the model\n",
    "\n",
    "    Returns:\n",
    "    - leaf_areas: Output values corresponding to the model\n",
    "    \"\"\"\n",
    "\n",
    "    sorghum = ArchiCrop(height=222, # from crop model\n",
    "                        nb_phy=25,\n",
    "                        max_leaf_length=max_leaf_length,\n",
    "                        wl=0.12, diam_base=2.5, diam_top=1.5, \n",
    "                        insertion_angle=30, scurv=0.7, curvature=100, \n",
    "                        alpha=-2.3, stem_q=1.1, rmax=0.75, skew=0.08, # 0.0005\n",
    "                        phyllotactic_angle=180,\n",
    "                        phyllotactic_deviation=15,\n",
    "                        phyllochron=55, \n",
    "                        plastochron=45, \n",
    "                        leaf_duration=leaf_duration, \n",
    "                        stem_duration=2, \n",
    "                        leaf_senescence=800)\n",
    "    sorghum.generate_potential_plant()\n",
    "    sorghum.define_development()\n",
    "    growing_plant = sorghum.grow_plant(stics_output_data)\n",
    "\n",
    "    return [sum(compute_leaf_area_growing_plant(gp)) for gp in growing_plant]"
   ]
  },
  {
   "cell_type": "code",
   "execution_count": 15,
   "id": "1c1b8522-0cf6-437a-9e05-8355d62b6fdb",
   "metadata": {},
   "outputs": [
    {
     "name": "stdout",
     "output_type": "stream",
     "text": [
      "                  Max leaf length  Leaf duration\n",
      "Optimized parameters: [119.92470748   5.5       ]\n",
      "Covariances: [[1.0030182e+15 0.0000000e+00]\n",
      " [0.0000000e+00 0.0000000e+00]]\n",
      "Standard errors: [31670462.60601818        0.        ]\n"
     ]
    },
    {
     "data": {
      "image/png": "[encoded data removed]",
      "text/plain": [
       "<Figure size 640x480 with 1 Axes>"
      ]
     },
     "metadata": {},
     "output_type": "display_data"
    }
   ],
   "source": [
    "from scipy.optimize import curve_fit\n",
    "\n",
    "# Fit the model to crop model data and obtain optimal parameters\n",
    "optimal_params, covariance = curve_fit(f=parametric_model_sorghum, xdata=time, ydata=LAI_stics, bounds=([20,1],[120,10]), method='trf') # bounds to set from lit\n",
    "se = np.sqrt(np.diag(covariance))\n",
    "\n",
    "print(\"                  Max leaf length  Leaf duration\")\n",
    "print(\"Optimized parameters:\", optimal_params)\n",
    "print(\"Covariances:\", covariance)\n",
    "print(\"Standard errors:\", se)\n",
    "\n",
    "# Visualize the fit\n",
    "plt.clf()\n",
    "plt.scatter(time, LAI_stics, color=(57/255,157/255,99/255), label='Simulation with STICS') # R 243, G 146, B 0\n",
    "res = parametric_model_sorghum(time, *optimal_params)\n",
    "plt.plot(time, np.array(res), color=(57/255,151/255,88/255), label='Simulation with ArchiCrop') # R 57, G 151, B 88\n",
    "plt.xlabel('Thermal time (°C.d)', fontsize=24)\n",
    "plt.ylabel('LAI', fontsize=24)\n",
    "# plt.legend()\n",
    "plt.show()"
   ]
  },
  {
   "cell_type": "code",
   "execution_count": 16,
   "id": "6e5db56d-7512-4045-b1fb-a7965669c9f3",
   "metadata": {},
   "outputs": [],
   "source": [
    "def parametric_model_sorghum_nb_phy(time, max_leaf_length, nb_phy):\n",
    "    \"\"\"\n",
    "    Define parametric model.\n",
    "\n",
    "    Args:\n",
    "    - max_leaf_length, phyllochron: Parameters of the model\n",
    "\n",
    "    Returns:\n",
    "    - leaf_areas: Output values corresponding to the model\n",
    "    \"\"\"\n",
    "\n",
    "    sorghum = ArchiCrop(height=222, # from crop model\n",
    "                        nb_phy=nb_phy,\n",
    "                        max_leaf_length=max_leaf_length,\n",
    "                        wl=0.12, diam_base=2.5, diam_top=1.5, \n",
    "                        insertion_angle=30, scurv=0.7, curvature=100, \n",
    "                        alpha=-2.3, stem_q=1.1, rmax=0.75, skew=0.08, # 0.0005\n",
    "                        phyllotactic_angle=180,\n",
    "                        phyllotactic_deviation=15, phyllochron=55, plastochron=45, leaf_duration=5, stem_duration=2, leaf_senescence=800)\n",
    "    sorghum.generate_potential_plant()\n",
    "    sorghum.define_development()\n",
    "    growing_plant = sorghum.grow_plant(g, stics_output_data)\n",
    "\n",
    "    return [sum(compute_leaf_area_growing_plant(gp)) for gp in growing_plant]\n",
    "\n",
    "best_params = None\n",
    "best_error = float('inf')\n",
    "\n",
    "# Grid search over integer values for nb_phy\n",
    "for nb_phy in range(10, 36, 5):  # Integer bounds for nb_phy\n",
    "    def model_with_fixed_nb_phy(time, max_leaf_length):\n",
    "        return parametric_model_sorghum_nb_phy(time, max_leaf_length, nb_phy)\n",
    "    \n",
    "    try:\n",
    "        params, _ = curve_fit(\n",
    "            f=model_with_fixed_nb_phy,\n",
    "            xdata=time,\n",
    "            ydata=LAI_stics,\n",
    "            bounds=([20], [120]),  # Bounds for max_leaf_length only\n",
    "            method='trf'\n",
    "        )\n",
    "        error = np.sum((LAI_stics - model_with_fixed_nb_phy(time, params[0]))**2)\n",
    "        if error < best_error:\n",
    "            best_error = error\n",
    "            best_params = [params[0], nb_phy]\n",
    "            print(best_params)\n",
    "    except:\n",
    "        continue"
   ]
  },
  {
   "cell_type": "code",
   "execution_count": 17,
   "id": "c4585731-08d3-4259-9b59-9bf465bc21ea",
   "metadata": {},
   "outputs": [
    {
     "data": {
      "application/vnd.jupyter.widget-view+json": {
       "model_id": "306c74b1b0f5461db1702813ef02d75d",
       "version_major": 2,
       "version_minor": 0
      },
      "text/plain": [
       "HBox(children=(IntSlider(value=0, description='Time', max=76), Play(value=0, interval=500, max=76)))"
      ]
     },
     "metadata": {},
     "output_type": "display_data"
    },
    {
     "ename": "IndexError",
     "evalue": "list index out of range",
     "output_type": "error",
     "traceback": [
      "\u001b[1;31m---------------------------------------------------------------------------\u001b[0m",
      "\u001b[1;31mIndexError\u001b[0m                                Traceback (most recent call last)",
      "Cell \u001b[1;32mIn[17], line 22\u001b[0m\n\u001b[0;32m     19\u001b[0m display(controls)\n\u001b[0;32m     21\u001b[0m \u001b[38;5;66;03m# Initial scene display\u001b[39;00m\n\u001b[1;32m---> 22\u001b[0m \u001b[43mupdate_scene\u001b[49m\u001b[43m(\u001b[49m\u001b[43m)\u001b[49m\n\u001b[0;32m     24\u001b[0m \u001b[38;5;66;03m# cf github openalea weberpenn trunk_parameters\u001b[39;00m\n",
      "Cell \u001b[1;32mIn[17], line 12\u001b[0m, in \u001b[0;36mupdate_scene\u001b[1;34m(*args)\u001b[0m\n\u001b[0;32m     10\u001b[0m \u001b[38;5;28;01mdef\u001b[39;00m \u001b[38;5;21mupdate_scene\u001b[39m(\u001b[38;5;241m*\u001b[39margs):\n\u001b[0;32m     11\u001b[0m     time \u001b[38;5;241m=\u001b[39m time_slider\u001b[38;5;241m.\u001b[39mvalue\n\u001b[1;32m---> 12\u001b[0m     Viewer\u001b[38;5;241m.\u001b[39mdisplay(\u001b[43mgp_scenes\u001b[49m\u001b[43m[\u001b[49m\u001b[43mtime\u001b[49m\u001b[43m]\u001b[49m)\n",
      "\u001b[1;31mIndexError\u001b[0m: list index out of range"
     ]
    }
   ],
   "source": [
    "time_slider = IntSlider(value=0, min=0, max=len(time), step=1, description=\"Time\")\n",
    "\n",
    "# Interactive widget setup\n",
    "play_widget = Play(value=0, min=0, max=len(time), step=1, interval=500)\n",
    "\n",
    "# Link play widget with time slider\n",
    "jslink((play_widget, 'value'), (time_slider, 'value'))\n",
    "\n",
    "# Callback to update scene\n",
    "def update_scene(*args):\n",
    "    time = time_slider.value\n",
    "    Viewer.display(gp_scenes[time])\n",
    "\n",
    "# Attach update callback\n",
    "time_slider.observe(update_scene, names='value')\n",
    "\n",
    "# Display widgets\n",
    "controls = HBox([time_slider, play_widget])\n",
    "display(controls)\n",
    "\n",
    "# Initial scene display\n",
    "update_scene()\n",
    "\n",
    "# cf github openalea weberpenn trunk_parameters"
   ]
  },
  {
   "cell_type": "code",
   "execution_count": null,
   "id": "353e0953-b5cc-418f-ad24-256997d2c48e",
   "metadata": {},
   "outputs": [],
   "source": [
    "## Imports\n",
    "\n",
    "# from installed packages\n",
    "from random import *\n",
    "\n",
    "# from archicrop\n",
    "from openalea.archicrop.stand import agronomic_plot\n",
    "\n",
    "# Enable plotting with PlantGL\n",
    "%gui qt\n",
    "\n",
    "## Code for generating ...\n",
    "# Fix a seed\n",
    "seed(100)\n",
    "\n",
    "# Initialize the list of plants\n",
    "plants_in_crop=[]\n",
    "\n",
    "# Fixed parameters for all plants\n",
    "length_plot=5\n",
    "width_plot=5\n",
    "sowing_density=8\n",
    "plant_density=8\n",
    "inter_row=0.4\n",
    "nplants, positions, domain, domain_area, unit = agronomic_plot(length_plot, \n",
    "                                                               width_plot, \n",
    "                                                               sowing_density, \n",
    "                                                               inter_row, \n",
    "                                                               noise=0.1)\n",
    "\n",
    "# For loop over all the plants in the crop\n",
    "for n in range(nplants):\n",
    "\n",
    "    # Parameters \n",
    "    max_leaf_length=optimal_params[0]\n",
    "\n",
    "    height=222                 # from crop model\n",
    "    nb_phy=18\n",
    "    \n",
    "    \n",
    "    shoot, g = build_shoot(nb_phy=nb_phy,\n",
    "                            height=height,\n",
    "                            max_leaf_length=max_leaf_length,\n",
    "                            wl=0.12, diam_base=2.5, diam_top=0.5, \n",
    "                            insertion_angle=30, scurv=0.4, curvature=150, \n",
    "                            alpha=-2.3, stem_q=1, rmax=0.8, skew=0.005, # 0.0005\n",
    "                            phyllotactic_angle=180,\n",
    "                            phyllotactic_deviation=15,\n",
    "                            plant_orientation=45)\n",
    "    \n",
    "    # Fill the list of plants\n",
    "    plants_in_crop.append(g) # put all plants in the same mtg to be able to visualize the dynamic growth easily\n",
    "\n",
    "# Build and display scene\n",
    "scene_var, nump = build_scene(plants_in_crop, positions, leaf_material=Material(nice_green), stem_material=Material(nice_green))\n",
    "PlantGL(scene_var)\n",
    "# interact(grow_plant_and_display_in_NB, g=fixed(plants_in_crop), time=IntSlider(min=20, max=2000, step=20, value=1000))"
   ]
  }
 ],
 "metadata": {
  "kernelspec": {
   "display_name": "oa3",
   "language": "python",
   "name": "oa3"
  },
  "language_info": {
   "codemirror_mode": {
    "name": "ipython",
    "version": 3
   },
   "file_extension": ".py",
   "mimetype": "text/x-python",
   "name": "python",
   "nbconvert_exporter": "python",
   "pygments_lexer": "ipython3",
   "version": "3.12.2"
  },
  "widgets": {
   "application/vnd.jupyter.widget-state+json": {
    "state": {
     "007c6a86f8744df6b0a85fe4d9c2b5c4": {
      "model_module": "@jupyter-widgets/controls",
      "model_module_version": "2.0.0",
      "model_name": "SliderStyleModel",
      "state": {
       "description_width": ""
      }
     },
     "00a88648c72e4d7899c5b97adcb697fd": {
      "model_module": "@jupyter-widgets/controls",
      "model_module_version": "2.0.0",
      "model_name": "HBoxModel",
      "state": {
       "children": [
        "IPY_MODEL_fed2e9939e374e0a98f02e99ecf36389",
        "IPY_MODEL_781d6c97867b4f868b1d7f92a5754c12"
       ],
       "layout": "IPY_MODEL_45fdbfd87e72472caf14d58e0733eedb"
      }
     },
     "043bf97f62774668861c7f1029702fd7": {
      "model_module": "k3d",
      "model_module_version": "2.16.1",
      "model_name": "PlotModel",
      "state": {
       "_backend_version": "2.16.1",
       "antialias": 3,
       "auto_rendering": true,
       "axes": [
        "x",
        "y",
        "z"
       ],
       "axes_helper": 1,
       "axes_helper_colors": [
        16711680,
        65280,
        255
       ],
       "background_color": 16777215,
       "camera": [
        231.474862444142,
        -346.3535137589864,
        145.42622617361363,
        2.7211761474609375,
        -3.2229843139648438,
        122.55085754394531,
        0,
        0,
        1
       ],
       "camera_animation": [],
       "camera_auto_fit": true,
       "camera_damping_factor": 0,
       "camera_fov": 60,
       "camera_mode": "trackball",
       "camera_no_pan": false,
       "camera_no_rotate": false,
       "camera_no_zoom": false,
       "camera_pan_speed": 0.3,
       "camera_rotate_speed": 1,
       "camera_zoom_speed": 1.2,
       "clipping_planes": [],
       "colorbar_object_id": -1,
       "colorbar_scientific": false,
       "custom_data": null,
       "fps": 25,
       "fps_meter": false,
       "grid": [
        -1,
        -1,
        -1,
        1,
        1,
        1
       ],
       "grid_auto_fit": true,
       "grid_color": 15132390,
       "grid_visible": true,
       "height": 512,
       "label_color": 4473924,
       "layout": "IPY_MODEL_c0079abe8de541f9a8cdedc57089a7a2",
       "lighting": 3,
       "logarithmic_depth_buffer": true,
       "manipulate_mode": "translate",
       "menu_visibility": true,
       "minimum_fps": -1,
       "mode": "view",
       "name": null,
       "object_ids": [
        2500319106288
       ],
       "rendering_steps": 1,
       "screenshot": "",
       "screenshot_scale": 2,
       "snapshot": "",
       "snapshot_type": "full",
       "time": 0,
       "voxel_paint_color": 0
      }
     },
     "04f92a4fa9f74b1590d83bfe96cb7265": {
      "model_module": "@jupyter-widgets/base",
      "model_module_version": "2.0.0",
      "model_name": "LayoutModel",
      "state": {}
     },
     "105306a8099c412d9e0543f02cfe1b84": {
      "model_module": "@jupyter-widgets/base",
      "model_module_version": "2.0.0",
      "model_name": "LayoutModel",
      "state": {}
     },
     "106b5992fb8e4ef7bb0158503f5f8b2b": {
      "model_module": "@jupyter-widgets/base",
      "model_module_version": "2.0.0",
      "model_name": "LayoutModel",
      "state": {}
     },
     "118c5040435845e4b35e9a8d84077449": {
      "model_module": "@jupyter-widgets/base",
      "model_module_version": "2.0.0",
      "model_name": "LayoutModel",
      "state": {}
     },
     "12d0a2a690b046749d62c65b3b63b8da": {
      "model_module": "@jupyter-widgets/controls",
      "model_module_version": "2.0.0",
      "model_name": "SliderStyleModel",
      "state": {
       "description_width": ""
      }
     },
     "136f2ace2f7d461fa34fa5864c35d783": {
      "model_module": "@jupyter-widgets/base",
      "model_module_version": "2.0.0",
      "model_name": "LayoutModel",
      "state": {}
     },
     "1744bd343eab4aad919ec7a3fb7e9606": {
      "model_module": "@jupyter-widgets/base",
      "model_module_version": "2.0.0",
      "model_name": "LayoutModel",
      "state": {}
     },
     "188ad35a646a4051b288572dd1d3357d": {
      "model_module": "@jupyter-widgets/output",
      "model_module_version": "1.0.0",
      "model_name": "OutputModel",
      "state": {
       "layout": "IPY_MODEL_49b5dbc4838c4948b4aca3e97f73e721",
       "outputs": [
        {
         "data": {
          "application/vnd.jupyter.widget-view+json": {
           "model_id": "043bf97f62774668861c7f1029702fd7",
           "version_major": 2,
           "version_minor": 0
          },
          "text/plain": "Plot(antialias=3, axes=['x', 'y', 'z'], axes_helper=1.0, axes_helper_colors=[16711680, 65280, 255], background…"
         },
         "metadata": {},
         "output_type": "display_data"
        }
       ]
      }
     },
     "1f9016198a854853b026025b5f325377": {
      "model_module": "@jupyter-widgets/controls",
      "model_module_version": "2.0.0",
      "model_name": "LinkModel",
      "state": {
       "source": [
        "IPY_MODEL_d73c4fa3e8274d5aa5b8d4125dd953d4",
        "value"
       ],
       "target": [
        "IPY_MODEL_7c54a9d748e846a8a34275e5550a40c5",
        "value"
       ]
      }
     },
     "2826c9ceca3149da8724084b2148f764": {
      "model_module": "@jupyter-widgets/controls",
      "model_module_version": "2.0.0",
      "model_name": "FloatSliderModel",
      "state": {
       "behavior": "drag-tap",
       "description": "scurv",
       "layout": "IPY_MODEL_e20fd47dd0714125ada11f98e44b6d64",
       "max": 0.7,
       "min": 0.7,
       "step": 0.01,
       "style": "IPY_MODEL_ec21963ec74e4c33baceae704a46fc5f",
       "value": 0.7
      }
     },
     "2a359ba567b04cc9b8f2165230dc90d2": {
      "model_module": "@jupyter-widgets/base",
      "model_module_version": "2.0.0",
      "model_name": "LayoutModel",
      "state": {}
     },
     "2c57ad9c56f94651929ad2be9e34f48d": {
      "model_module": "@jupyter-widgets/controls",
      "model_module_version": "2.0.0",
      "model_name": "SliderStyleModel",
      "state": {
       "description_width": ""
      }
     },
     "303e40690a8841d8ae61f8730756e3f7": {
      "model_module": "@jupyter-widgets/base",
      "model_module_version": "2.0.0",
      "model_name": "LayoutModel",
      "state": {}
     },
     "306c74b1b0f5461db1702813ef02d75d": {
      "model_module": "@jupyter-widgets/controls",
      "model_module_version": "2.0.0",
      "model_name": "HBoxModel",
      "state": {
       "children": [
        "IPY_MODEL_7c54a9d748e846a8a34275e5550a40c5",
        "IPY_MODEL_d73c4fa3e8274d5aa5b8d4125dd953d4"
       ],
       "layout": "IPY_MODEL_5d18502f264c4a63bbe2b2d01ddc685d"
      }
     },
     "36b67808cd154d5c992a050559fe2024": {
      "model_module": "@jupyter-widgets/controls",
      "model_module_version": "2.0.0",
      "model_name": "FloatSliderModel",
      "state": {
       "behavior": "drag-tap",
       "layout": "IPY_MODEL_694ac11c1dbb402badc5e1890bbac6f3",
       "max": 0.75,
       "min": 0.75,
       "step": 0.01,
       "style": "IPY_MODEL_44becb4523fc4c20ac57b38b2ede4fb7",
       "value": 0.75
      }
     },
     "3a2391d84ec94fc6b814577fc03c25c6": {
      "model_module": "@jupyter-widgets/controls",
      "model_module_version": "2.0.0",
      "model_name": "SliderStyleModel",
      "state": {
       "description_width": ""
      }
     },
     "3c53602f05e2445fb43c37c1d4e0dd43": {
      "model_module": "@jupyter-widgets/controls",
      "model_module_version": "2.0.0",
      "model_name": "SliderStyleModel",
      "state": {
       "description_width": ""
      }
     },
     "3fd803ca9dca422f851c5ff8af541b2c": {
      "model_module": "@jupyter-widgets/controls",
      "model_module_version": "2.0.0",
      "model_name": "IntSliderModel",
      "state": {
       "behavior": "drag-tap",
       "layout": "IPY_MODEL_e2ac16d30c384de2b3a676bd2c41165b",
       "max": 120,
       "min": 60,
       "style": "IPY_MODEL_8e676ccb76a44e958be52dfa6cc3176c",
       "value": 60
      }
     },
     "4328ecef98e546abb7732ee794df624f": {
      "model_module": "@jupyter-widgets/controls",
      "model_module_version": "2.0.0",
      "model_name": "VBoxModel",
      "state": {
       "_dom_classes": [
        "widget-interact"
       ],
       "children": [
        "IPY_MODEL_7764e869194141339da9adf50c888975",
        "IPY_MODEL_89e174e17d934e5b804b4fbcd38b68ea",
        "IPY_MODEL_6ed2367227fa444584d445a9a5d816c0",
        "IPY_MODEL_e336287572aa4eb6aa7799ea9aa081ec",
        "IPY_MODEL_2826c9ceca3149da8724084b2148f764",
        "IPY_MODEL_4783dc3034f44549a3e2a21e61468113",
        "IPY_MODEL_7cdc60a3bfad4b63b2e81119385d2fe4",
        "IPY_MODEL_838595bc91be4f02b4b404ec7fa65b46",
        "IPY_MODEL_188ad35a646a4051b288572dd1d3357d"
       ],
       "layout": "IPY_MODEL_4a038859136247c795938eb6a4f6dee3"
      }
     },
     "44becb4523fc4c20ac57b38b2ede4fb7": {
      "model_module": "@jupyter-widgets/controls",
      "model_module_version": "2.0.0",
      "model_name": "SliderStyleModel",
      "state": {
       "description_width": ""
      }
     },
     "45fdbfd87e72472caf14d58e0733eedb": {
      "model_module": "@jupyter-widgets/base",
      "model_module_version": "2.0.0",
      "model_name": "LayoutModel",
      "state": {}
     },
     "4783dc3034f44549a3e2a21e61468113": {
      "model_module": "@jupyter-widgets/controls",
      "model_module_version": "2.0.0",
      "model_name": "IntSliderModel",
      "state": {
       "behavior": "drag-tap",
       "description": "curvature",
       "layout": "IPY_MODEL_9c9348289fb34679a04e04425ccc8e9a",
       "max": 90,
       "min": 90,
       "step": 5,
       "style": "IPY_MODEL_e46a937d2a5f48fca2ed1a252c92fe3c",
       "value": 90
      }
     },
     "490191495dc3420e9830c807a21c7fec": {
      "model_module": "k3d",
      "model_module_version": "2.16.1",
      "model_name": "PlotModel",
      "state": {
       "_backend_version": "2.16.1",
       "antialias": 3,
       "auto_rendering": true,
       "axes": [
        "x",
        "y",
        "z"
       ],
       "axes_helper": 1,
       "axes_helper_colors": [
        16711680,
        65280,
        255
       ],
       "background_color": 16777215,
       "camera": [],
       "camera_animation": [],
       "camera_auto_fit": true,
       "camera_damping_factor": 0,
       "camera_fov": 60,
       "camera_mode": "trackball",
       "camera_no_pan": false,
       "camera_no_rotate": false,
       "camera_no_zoom": false,
       "camera_pan_speed": 0.3,
       "camera_rotate_speed": 1,
       "camera_zoom_speed": 1.2,
       "clipping_planes": [],
       "colorbar_object_id": -1,
       "colorbar_scientific": false,
       "custom_data": null,
       "fps": 25,
       "fps_meter": false,
       "grid": [
        -1,
        -1,
        -1,
        1,
        1,
        1
       ],
       "grid_auto_fit": true,
       "grid_color": 15132390,
       "grid_visible": true,
       "height": 512,
       "label_color": 4473924,
       "layout": "IPY_MODEL_106b5992fb8e4ef7bb0158503f5f8b2b",
       "lighting": 3,
       "logarithmic_depth_buffer": true,
       "manipulate_mode": "translate",
       "menu_visibility": true,
       "minimum_fps": -1,
       "mode": "view",
       "name": null,
       "object_ids": [],
       "rendering_steps": 1,
       "screenshot": "",
       "screenshot_scale": 2,
       "snapshot": "",
       "snapshot_type": "full",
       "time": 0,
       "voxel_paint_color": 0
      }
     },
     "49b5dbc4838c4948b4aca3e97f73e721": {
      "model_module": "@jupyter-widgets/base",
      "model_module_version": "2.0.0",
      "model_name": "LayoutModel",
      "state": {}
     },
     "4a038859136247c795938eb6a4f6dee3": {
      "model_module": "@jupyter-widgets/base",
      "model_module_version": "2.0.0",
      "model_name": "LayoutModel",
      "state": {}
     },
     "4a866296d21c4750b8d583a076350aae": {
      "model_module": "@jupyter-widgets/controls",
      "model_module_version": "2.0.0",
      "model_name": "SliderStyleModel",
      "state": {
       "description_width": ""
      }
     },
     "4e8449a4b5a74991979065de87e8ed94": {
      "model_module": "@jupyter-widgets/controls",
      "model_module_version": "2.0.0",
      "model_name": "IntSliderModel",
      "state": {
       "behavior": "drag-tap",
       "layout": "IPY_MODEL_105306a8099c412d9e0543f02cfe1b84",
       "max": 90,
       "min": 90,
       "step": 5,
       "style": "IPY_MODEL_3c53602f05e2445fb43c37c1d4e0dd43",
       "value": 90
      }
     },
     "50768fbf912b48ee8030e0a7dda3d74a": {
      "model_module": "@jupyter-widgets/base",
      "model_module_version": "2.0.0",
      "model_name": "LayoutModel",
      "state": {}
     },
     "53a44a2990fd4d83af5fc83a26dc8a6a": {
      "model_module": "@jupyter-widgets/base",
      "model_module_version": "2.0.0",
      "model_name": "LayoutModel",
      "state": {}
     },
     "59fa4832c46c4113900cb06253902f97": {
      "model_module": "@jupyter-widgets/controls",
      "model_module_version": "2.0.0",
      "model_name": "IntSliderModel",
      "state": {
       "behavior": "drag-tap",
       "layout": "IPY_MODEL_53a44a2990fd4d83af5fc83a26dc8a6a",
       "max": 40,
       "min": 20,
       "style": "IPY_MODEL_3a2391d84ec94fc6b814577fc03c25c6",
       "value": 20
      }
     },
     "5d18502f264c4a63bbe2b2d01ddc685d": {
      "model_module": "@jupyter-widgets/base",
      "model_module_version": "2.0.0",
      "model_name": "LayoutModel",
      "state": {}
     },
     "5d4994983bf14736adea85fb3318ba5e": {
      "model_module": "@jupyter-widgets/controls",
      "model_module_version": "2.0.0",
      "model_name": "FloatSliderModel",
      "state": {
       "behavior": "drag-tap",
       "layout": "IPY_MODEL_938be901520c456b9d4e4a46fc94ac04",
       "max": 0.7,
       "min": 0.7,
       "step": 0.01,
       "style": "IPY_MODEL_70b401c7b3424edab8a5f726e84e2795",
       "value": 0.7
      }
     },
     "634499db96064a8ea2663f13e2a39cfe": {
      "model_module": "k3d",
      "model_module_version": "2.16.1",
      "model_name": "PlotModel",
      "state": {
       "_backend_version": "2.16.1",
       "antialias": 3,
       "auto_rendering": true,
       "axes": [
        "x",
        "y",
        "z"
       ],
       "axes_helper": 1,
       "axes_helper_colors": [
        16711680,
        65280,
        255
       ],
       "background_color": 16777215,
       "camera": [],
       "camera_animation": [],
       "camera_auto_fit": true,
       "camera_damping_factor": 0,
       "camera_fov": 60,
       "camera_mode": "trackball",
       "camera_no_pan": false,
       "camera_no_rotate": false,
       "camera_no_zoom": false,
       "camera_pan_speed": 0.3,
       "camera_rotate_speed": 1,
       "camera_zoom_speed": 1.2,
       "clipping_planes": [],
       "colorbar_object_id": -1,
       "colorbar_scientific": false,
       "custom_data": null,
       "fps": 25,
       "fps_meter": false,
       "grid": [
        -1,
        -1,
        -1,
        1,
        1,
        1
       ],
       "grid_auto_fit": true,
       "grid_color": 15132390,
       "grid_visible": true,
       "height": 512,
       "label_color": 4473924,
       "layout": "IPY_MODEL_303e40690a8841d8ae61f8730756e3f7",
       "lighting": 3,
       "logarithmic_depth_buffer": true,
       "manipulate_mode": "translate",
       "menu_visibility": true,
       "minimum_fps": -1,
       "mode": "view",
       "name": null,
       "object_ids": [],
       "rendering_steps": 1,
       "screenshot": "",
       "screenshot_scale": 2,
       "snapshot": "",
       "snapshot_type": "full",
       "time": 0,
       "voxel_paint_color": 0
      }
     },
     "63e2d7377c1244c5bc74eda5d3df8944": {
      "buffers": [
       {
        "data": "",
        "encoding": "base64",
        "path": [
         "attribute",
         "data"
        ]
       },
       {
        "data": "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",
        "encoding": "base64",
        "path": [
         "color_map",
         "data"
        ]
       },
       {
        "data": "",
        "encoding": "base64",
        "path": [
         "colors",
         "data"
        ]
       },
       {
        "data": "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",
        "encoding": "base64",
        "path": [
         "indices",
         "data"
        ]
       },
       {
        "data": "AACAPwAAAAAAAAAAAAAAAAAAAAAAAIA/AAAAAAAAAAAAAAAAAAAAAAAAgD8AAAAAAAAAAAAAAAAAAAAAAACAPw==",
        "encoding": "base64",
        "path": [
         "model_matrix",
         "data"
        ]
       },
       {
        "data": "",
        "encoding": "base64",
        "path": [
         "normals",
         "data"
        ]
       },
       {
        "data": "",
        "encoding": "base64",
        "path": [
         "opacity_function",
         "data"
        ]
       },
       {
        "data": "",
        "encoding": "base64",
        "path": [
         "triangles_attribute",
         "data"
        ]
       },
       {
        "data": "AADAfw==",
        "encoding": "base64",
        "path": [
         "uvs",
         "data"
        ]
       },
       {
        "data": "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",
        "encoding": "base64",
        "path": [
         "vertices",
         "data"
        ]
       },
       {
        "data": "",
        "encoding": "base64",
        "path": [
         "volume",
         "data"
        ]
       },
       {
        "data": "",
        "encoding": "base64",
        "path": [
         "volume_bounds",
         "data"
        ]
       }
      ],
      "model_module": "k3d",
      "model_module_version": "2.16.1",
      "model_name": "ObjectModel",
      "state": {
       "_view_module": null,
       "_view_module_version": "",
       "_view_name": null,
       "attribute": {
        "dtype": "float32",
        "shape": [
         0
        ]
       },
       "click_callback": false,
       "color": 3302400,
       "colorLegend": false,
       "color_map": {
        "dtype": "float32",
        "shape": [
         1024
        ]
       },
       "color_range": [],
       "colors": {
        "dtype": "uint32",
        "shape": [
         0
        ]
       },
       "compression_level": 0,
       "custom_data": null,
       "flat_shading": true,
       "group": null,
       "hover_callback": false,
       "id": 2500319106288,
       "indices": {
        "dtype": "uint32",
        "shape": [
         3414,
         3
        ]
       },
       "model_matrix": {
        "dtype": "float32",
        "shape": [
         4,
         4
        ]
       },
       "name": "Mesh #1",
       "normals": {
        "dtype": "float32",
        "shape": [
         0
        ]
       },
       "opacity": 1,
       "opacity_function": {
        "dtype": "float32",
        "shape": [
         0
        ]
       },
       "side": "front",
       "texture": null,
       "texture_file_format": null,
       "triangles_attribute": {
        "dtype": "float32",
        "shape": [
         0
        ]
       },
       "type": "Mesh",
       "uvs": {
        "dtype": "float32",
        "shape": []
       },
       "vertices": {
        "dtype": "float32",
        "shape": [
         2170,
         3
        ]
       },
       "visible": true,
       "volume": {
        "dtype": "float32",
        "shape": [
         0
        ]
       },
       "volume_bounds": {
        "dtype": "float32",
        "shape": [
         0
        ]
       },
       "wireframe": false
      }
     },
     "65dd7b833de547709389e0d2bc41718d": {
      "model_module": "@jupyter-widgets/base",
      "model_module_version": "2.0.0",
      "model_name": "LayoutModel",
      "state": {}
     },
     "66bda756af214c1481572b80ad6705ed": {
      "model_module": "@jupyter-widgets/controls",
      "model_module_version": "2.0.0",
      "model_name": "SliderStyleModel",
      "state": {
       "description_width": ""
      }
     },
     "694ac11c1dbb402badc5e1890bbac6f3": {
      "model_module": "@jupyter-widgets/base",
      "model_module_version": "2.0.0",
      "model_name": "LayoutModel",
      "state": {}
     },
     "6ba9143e13f84ec38b2e857a1aded70f": {
      "model_module": "@jupyter-widgets/controls",
      "model_module_version": "2.0.0",
      "model_name": "FloatSliderModel",
      "state": {
       "behavior": "drag-tap",
       "layout": "IPY_MODEL_1744bd343eab4aad919ec7a3fb7e9606",
       "max": 0.12,
       "min": 0.12,
       "step": 0.01,
       "style": "IPY_MODEL_cb865cec5f5544e799d7860a5433c80d",
       "value": 0.12
      }
     },
     "6ed2367227fa444584d445a9a5d816c0": {
      "model_module": "@jupyter-widgets/controls",
      "model_module_version": "2.0.0",
      "model_name": "FloatSliderModel",
      "state": {
       "behavior": "drag-tap",
       "description": "wl",
       "layout": "IPY_MODEL_65dd7b833de547709389e0d2bc41718d",
       "max": 0.12,
       "min": 0.12,
       "step": 0.01,
       "style": "IPY_MODEL_fb318a352f3b4fb09f2db524f5fc75cd",
       "value": 0.12
      }
     },
     "70b401c7b3424edab8a5f726e84e2795": {
      "model_module": "@jupyter-widgets/controls",
      "model_module_version": "2.0.0",
      "model_name": "SliderStyleModel",
      "state": {
       "description_width": ""
      }
     },
     "7764e869194141339da9adf50c888975": {
      "model_module": "@jupyter-widgets/controls",
      "model_module_version": "2.0.0",
      "model_name": "IntSliderModel",
      "state": {
       "behavior": "drag-tap",
       "description": "nb_phy",
       "layout": "IPY_MODEL_f6a5ec186c5f4aeb83aeef6ba7fc0b9f",
       "max": 40,
       "min": 20,
       "style": "IPY_MODEL_cbb408caabe4493fb8712cd990205665",
       "value": 30
      }
     },
     "781d6c97867b4f868b1d7f92a5754c12": {
      "model_module": "@jupyter-widgets/controls",
      "model_module_version": "2.0.0",
      "model_name": "PlayModel",
      "state": {
       "interval": 1000,
       "layout": "IPY_MODEL_b510fa72430f47a1ad2a8213d142f2dc",
       "max": 76,
       "style": "IPY_MODEL_e0cd2461c76b4555935ca3906398e46a",
       "value": 7
      }
     },
     "7c54a9d748e846a8a34275e5550a40c5": {
      "model_module": "@jupyter-widgets/controls",
      "model_module_version": "2.0.0",
      "model_name": "IntSliderModel",
      "state": {
       "behavior": "drag-tap",
       "description": "Time",
       "layout": "IPY_MODEL_edd8a4d174864f34a09d93c1b2a797b8",
       "max": 76,
       "style": "IPY_MODEL_007c6a86f8744df6b0a85fe4d9c2b5c4"
      }
     },
     "7cdc60a3bfad4b63b2e81119385d2fe4": {
      "model_module": "@jupyter-widgets/controls",
      "model_module_version": "2.0.0",
      "model_name": "FloatSliderModel",
      "state": {
       "behavior": "drag-tap",
       "description": "rmax",
       "layout": "IPY_MODEL_fa480f2e80574239a5f0e27162cc3e0b",
       "max": 0.75,
       "min": 0.75,
       "step": 0.01,
       "style": "IPY_MODEL_4a866296d21c4750b8d583a076350aae",
       "value": 0.75
      }
     },
     "7da3bd402b3f48dfbf3182d7ef76c742": {
      "model_module": "k3d",
      "model_module_version": "2.16.1",
      "model_name": "PlotModel",
      "state": {
       "_backend_version": "2.16.1",
       "antialias": 3,
       "auto_rendering": true,
       "axes": [
        "x",
        "y",
        "z"
       ],
       "axes_helper": 1,
       "axes_helper_colors": [
        16711680,
        65280,
        255
       ],
       "background_color": 16777215,
       "camera": [],
       "camera_animation": [],
       "camera_auto_fit": true,
       "camera_damping_factor": 0,
       "camera_fov": 60,
       "camera_mode": "trackball",
       "camera_no_pan": false,
       "camera_no_rotate": false,
       "camera_no_zoom": false,
       "camera_pan_speed": 0.3,
       "camera_rotate_speed": 1,
       "camera_zoom_speed": 1.2,
       "clipping_planes": [],
       "colorbar_object_id": -1,
       "colorbar_scientific": false,
       "custom_data": null,
       "fps": 25,
       "fps_meter": false,
       "grid": [
        -1,
        -1,
        -1,
        1,
        1,
        1
       ],
       "grid_auto_fit": true,
       "grid_color": 15132390,
       "grid_visible": true,
       "height": 512,
       "label_color": 4473924,
       "layout": "IPY_MODEL_ea7ece11162942a69261d0dd25760b46",
       "lighting": 3,
       "logarithmic_depth_buffer": true,
       "manipulate_mode": "translate",
       "menu_visibility": true,
       "minimum_fps": -1,
       "mode": "view",
       "name": null,
       "object_ids": [],
       "rendering_steps": 1,
       "screenshot": "",
       "screenshot_scale": 2,
       "snapshot": "",
       "snapshot_type": "full",
       "time": 0,
       "voxel_paint_color": 0
      }
     },
     "7e1bfddb5d154b84a249ff3a70996dff": {
      "model_module": "@jupyter-widgets/base",
      "model_module_version": "2.0.0",
      "model_name": "LayoutModel",
      "state": {}
     },
     "8366a982926f46e8b64e2ceb940d654f": {
      "model_module": "@jupyter-widgets/base",
      "model_module_version": "2.0.0",
      "model_name": "LayoutModel",
      "state": {}
     },
     "838595bc91be4f02b4b404ec7fa65b46": {
      "model_module": "@jupyter-widgets/controls",
      "model_module_version": "2.0.0",
      "model_name": "IntSliderModel",
      "state": {
       "behavior": "drag-tap",
       "description": "phyllotactic_deviation",
       "layout": "IPY_MODEL_9c0e3026d1e240eeaa809eefd91d98a1",
       "max": 15,
       "min": 15,
       "step": 5,
       "style": "IPY_MODEL_c44241c829d14b6287383749db121150",
       "value": 15
      }
     },
     "86ecd40116da498fa52140ed470d9726": {
      "model_module": "@jupyter-widgets/controls",
      "model_module_version": "2.0.0",
      "model_name": "IntSliderModel",
      "state": {
       "behavior": "drag-tap",
       "layout": "IPY_MODEL_9f7b9392540447419374b62b0d907c71",
       "max": 30,
       "min": 30,
       "style": "IPY_MODEL_8b251fe49c6e48909cc954fa80db51a1",
       "value": 30
      }
     },
     "89e174e17d934e5b804b4fbcd38b68ea": {
      "model_module": "@jupyter-widgets/controls",
      "model_module_version": "2.0.0",
      "model_name": "IntSliderModel",
      "state": {
       "behavior": "drag-tap",
       "description": "max_leaf_length",
       "layout": "IPY_MODEL_7e1bfddb5d154b84a249ff3a70996dff",
       "max": 120,
       "min": 60,
       "style": "IPY_MODEL_e617529be89d4fb7b2521e5634e6fb13",
       "value": 72
      }
     },
     "8b251fe49c6e48909cc954fa80db51a1": {
      "model_module": "@jupyter-widgets/controls",
      "model_module_version": "2.0.0",
      "model_name": "SliderStyleModel",
      "state": {
       "description_width": ""
      }
     },
     "8bbe213580014720a5413887fc60cf3a": {
      "model_module": "@jupyter-widgets/controls",
      "model_module_version": "2.0.0",
      "model_name": "SliderStyleModel",
      "state": {
       "description_width": ""
      }
     },
     "8e676ccb76a44e958be52dfa6cc3176c": {
      "model_module": "@jupyter-widgets/controls",
      "model_module_version": "2.0.0",
      "model_name": "SliderStyleModel",
      "state": {
       "description_width": ""
      }
     },
     "938be901520c456b9d4e4a46fc94ac04": {
      "model_module": "@jupyter-widgets/base",
      "model_module_version": "2.0.0",
      "model_name": "LayoutModel",
      "state": {}
     },
     "94902652cbcc4cbc9708638bd7b93c88": {
      "model_module": "@jupyter-widgets/controls",
      "model_module_version": "2.0.0",
      "model_name": "VBoxModel",
      "state": {
       "children": [
        "IPY_MODEL_59fa4832c46c4113900cb06253902f97",
        "IPY_MODEL_3fd803ca9dca422f851c5ff8af541b2c",
        "IPY_MODEL_86ecd40116da498fa52140ed470d9726",
        "IPY_MODEL_5d4994983bf14736adea85fb3318ba5e",
        "IPY_MODEL_4e8449a4b5a74991979065de87e8ed94",
        "IPY_MODEL_00a88648c72e4d7899c5b97adcb697fd"
       ],
       "layout": "IPY_MODEL_de132e33ab7e4d51ac9ca1ddc45eb01c"
      }
     },
     "94d66c67eeae42bfbd818d5fec26b125": {
      "model_module": "@jupyter-widgets/base",
      "model_module_version": "2.0.0",
      "model_name": "LayoutModel",
      "state": {}
     },
     "9c0e3026d1e240eeaa809eefd91d98a1": {
      "model_module": "@jupyter-widgets/base",
      "model_module_version": "2.0.0",
      "model_name": "LayoutModel",
      "state": {}
     },
     "9c9348289fb34679a04e04425ccc8e9a": {
      "model_module": "@jupyter-widgets/base",
      "model_module_version": "2.0.0",
      "model_name": "LayoutModel",
      "state": {}
     },
     "9f7b9392540447419374b62b0d907c71": {
      "model_module": "@jupyter-widgets/base",
      "model_module_version": "2.0.0",
      "model_name": "LayoutModel",
      "state": {}
     },
     "a0a30ce2a81641bea78333cafde72c88": {
      "model_module": "@jupyter-widgets/controls",
      "model_module_version": "2.0.0",
      "model_name": "FloatSliderModel",
      "state": {
       "behavior": "drag-tap",
       "layout": "IPY_MODEL_8366a982926f46e8b64e2ceb940d654f",
       "max": 6,
       "min": 1,
       "step": 0.1,
       "style": "IPY_MODEL_d157ae1b902f4d50b93e251352929be3",
       "value": 3
      }
     },
     "ad643ac3a9504918acc5a2b25c06cf28": {
      "model_module": "@jupyter-widgets/controls",
      "model_module_version": "2.0.0",
      "model_name": "IntSliderModel",
      "state": {
       "behavior": "drag-tap",
       "layout": "IPY_MODEL_bbcbb3f6b6a842dca40efc5e976e6b29",
       "max": 46,
       "min": 34,
       "style": "IPY_MODEL_2c57ad9c56f94651929ad2be9e34f48d",
       "value": 40
      }
     },
     "b510fa72430f47a1ad2a8213d142f2dc": {
      "model_module": "@jupyter-widgets/base",
      "model_module_version": "2.0.0",
      "model_name": "LayoutModel",
      "state": {}
     },
     "b6468a0d45b54cf9a2c89002416e0bdd": {
      "model_module": "@jupyter-widgets/controls",
      "model_module_version": "2.0.0",
      "model_name": "IntSliderModel",
      "state": {
       "behavior": "drag-tap",
       "layout": "IPY_MODEL_50768fbf912b48ee8030e0a7dda3d74a",
       "max": 15,
       "min": 15,
       "step": 5,
       "style": "IPY_MODEL_8bbe213580014720a5413887fc60cf3a",
       "value": 15
      }
     },
     "bbcbb3f6b6a842dca40efc5e976e6b29": {
      "model_module": "@jupyter-widgets/base",
      "model_module_version": "2.0.0",
      "model_name": "LayoutModel",
      "state": {}
     },
     "c0079abe8de541f9a8cdedc57089a7a2": {
      "model_module": "@jupyter-widgets/base",
      "model_module_version": "2.0.0",
      "model_name": "LayoutModel",
      "state": {}
     },
     "c44241c829d14b6287383749db121150": {
      "model_module": "@jupyter-widgets/controls",
      "model_module_version": "2.0.0",
      "model_name": "SliderStyleModel",
      "state": {
       "description_width": ""
      }
     },
     "c74cb1f13624420c83169495836167e9": {
      "model_module": "@jupyter-widgets/controls",
      "model_module_version": "2.0.0",
      "model_name": "FloatSliderModel",
      "state": {
       "behavior": "drag-tap",
       "layout": "IPY_MODEL_118c5040435845e4b35e9a8d84077449",
       "max": 6,
       "min": 1,
       "step": 0.1,
       "style": "IPY_MODEL_12d0a2a690b046749d62c65b3b63b8da",
       "value": 2
      }
     },
     "cb865cec5f5544e799d7860a5433c80d": {
      "model_module": "@jupyter-widgets/controls",
      "model_module_version": "2.0.0",
      "model_name": "SliderStyleModel",
      "state": {
       "description_width": ""
      }
     },
     "cbb408caabe4493fb8712cd990205665": {
      "model_module": "@jupyter-widgets/controls",
      "model_module_version": "2.0.0",
      "model_name": "SliderStyleModel",
      "state": {
       "description_width": ""
      }
     },
     "d06c9ce942f54e3c96b5f89f845df5cd": {
      "model_module": "@jupyter-widgets/controls",
      "model_module_version": "2.0.0",
      "model_name": "SliderStyleModel",
      "state": {
       "description_width": ""
      }
     },
     "d157ae1b902f4d50b93e251352929be3": {
      "model_module": "@jupyter-widgets/controls",
      "model_module_version": "2.0.0",
      "model_name": "SliderStyleModel",
      "state": {
       "description_width": ""
      }
     },
     "d4c2057822d343dd9e9e89d0f5da850b": {
      "model_module": "@jupyter-widgets/controls",
      "model_module_version": "2.0.0",
      "model_name": "SliderStyleModel",
      "state": {
       "description_width": ""
      }
     },
     "d6c79fa426124271a8b615810ada2321": {
      "model_module": "@jupyter-widgets/controls",
      "model_module_version": "2.0.0",
      "model_name": "DescriptionStyleModel",
      "state": {
       "description_width": ""
      }
     },
     "d73c4fa3e8274d5aa5b8d4125dd953d4": {
      "model_module": "@jupyter-widgets/controls",
      "model_module_version": "2.0.0",
      "model_name": "PlayModel",
      "state": {
       "interval": 500,
       "layout": "IPY_MODEL_94d66c67eeae42bfbd818d5fec26b125",
       "max": 76,
       "style": "IPY_MODEL_d6c79fa426124271a8b615810ada2321"
      }
     },
     "d7443b8a4a584ce68d8b316696147ec0": {
      "model_module": "@jupyter-widgets/base",
      "model_module_version": "2.0.0",
      "model_name": "LayoutModel",
      "state": {}
     },
     "de132e33ab7e4d51ac9ca1ddc45eb01c": {
      "model_module": "@jupyter-widgets/base",
      "model_module_version": "2.0.0",
      "model_name": "LayoutModel",
      "state": {}
     },
     "e0cd2461c76b4555935ca3906398e46a": {
      "model_module": "@jupyter-widgets/controls",
      "model_module_version": "2.0.0",
      "model_name": "DescriptionStyleModel",
      "state": {
       "description_width": ""
      }
     },
     "e20fd47dd0714125ada11f98e44b6d64": {
      "model_module": "@jupyter-widgets/base",
      "model_module_version": "2.0.0",
      "model_name": "LayoutModel",
      "state": {}
     },
     "e2ac16d30c384de2b3a676bd2c41165b": {
      "model_module": "@jupyter-widgets/base",
      "model_module_version": "2.0.0",
      "model_name": "LayoutModel",
      "state": {}
     },
     "e336287572aa4eb6aa7799ea9aa081ec": {
      "model_module": "@jupyter-widgets/controls",
      "model_module_version": "2.0.0",
      "model_name": "IntSliderModel",
      "state": {
       "behavior": "drag-tap",
       "description": "insertion_angle",
       "layout": "IPY_MODEL_d7443b8a4a584ce68d8b316696147ec0",
       "max": 30,
       "min": 30,
       "style": "IPY_MODEL_66bda756af214c1481572b80ad6705ed",
       "value": 30
      }
     },
     "e46a937d2a5f48fca2ed1a252c92fe3c": {
      "model_module": "@jupyter-widgets/controls",
      "model_module_version": "2.0.0",
      "model_name": "SliderStyleModel",
      "state": {
       "description_width": ""
      }
     },
     "e617529be89d4fb7b2521e5634e6fb13": {
      "model_module": "@jupyter-widgets/controls",
      "model_module_version": "2.0.0",
      "model_name": "SliderStyleModel",
      "state": {
       "description_width": ""
      }
     },
     "e7eba886fc6a45d195add63c98da2d0f": {
      "model_module": "@jupyter-widgets/controls",
      "model_module_version": "2.0.0",
      "model_name": "SliderStyleModel",
      "state": {
       "description_width": ""
      }
     },
     "ea7ece11162942a69261d0dd25760b46": {
      "model_module": "@jupyter-widgets/base",
      "model_module_version": "2.0.0",
      "model_name": "LayoutModel",
      "state": {}
     },
     "ec21963ec74e4c33baceae704a46fc5f": {
      "model_module": "@jupyter-widgets/controls",
      "model_module_version": "2.0.0",
      "model_name": "SliderStyleModel",
      "state": {
       "description_width": ""
      }
     },
     "edd8a4d174864f34a09d93c1b2a797b8": {
      "model_module": "@jupyter-widgets/base",
      "model_module_version": "2.0.0",
      "model_name": "LayoutModel",
      "state": {}
     },
     "f12d1988be13454eb71e30cefc02a345": {
      "model_module": "@jupyter-widgets/controls",
      "model_module_version": "2.0.0",
      "model_name": "LinkModel",
      "state": {
       "source": [
        "IPY_MODEL_781d6c97867b4f868b1d7f92a5754c12",
        "value"
       ],
       "target": [
        "IPY_MODEL_fed2e9939e374e0a98f02e99ecf36389",
        "value"
       ]
      }
     },
     "f422da9bc0e54a2ba2c22e0107a1d67b": {
      "model_module": "@jupyter-widgets/controls",
      "model_module_version": "2.0.0",
      "model_name": "IntSliderModel",
      "state": {
       "behavior": "drag-tap",
       "layout": "IPY_MODEL_04f92a4fa9f74b1590d83bfe96cb7265",
       "max": 1000,
       "min": 500,
       "step": 10,
       "style": "IPY_MODEL_d06c9ce942f54e3c96b5f89f845df5cd",
       "value": 800
      }
     },
     "f4f649b0fdcb4a5bbc1a405fa0d909cc": {
      "model_module": "@jupyter-widgets/controls",
      "model_module_version": "2.0.0",
      "model_name": "IntSliderModel",
      "state": {
       "behavior": "drag-tap",
       "layout": "IPY_MODEL_136f2ace2f7d461fa34fa5864c35d783",
       "max": 65,
       "min": 40,
       "style": "IPY_MODEL_d4c2057822d343dd9e9e89d0f5da850b",
       "value": 55
      }
     },
     "f6a5ec186c5f4aeb83aeef6ba7fc0b9f": {
      "model_module": "@jupyter-widgets/base",
      "model_module_version": "2.0.0",
      "model_name": "LayoutModel",
      "state": {}
     },
     "fa480f2e80574239a5f0e27162cc3e0b": {
      "model_module": "@jupyter-widgets/base",
      "model_module_version": "2.0.0",
      "model_name": "LayoutModel",
      "state": {}
     },
     "fb318a352f3b4fb09f2db524f5fc75cd": {
      "model_module": "@jupyter-widgets/controls",
      "model_module_version": "2.0.0",
      "model_name": "SliderStyleModel",
      "state": {
       "description_width": ""
      }
     },
     "fed2e9939e374e0a98f02e99ecf36389": {
      "model_module": "@jupyter-widgets/controls",
      "model_module_version": "2.0.0",
      "model_name": "IntSliderModel",
      "state": {
       "behavior": "drag-tap",
       "description": "Time",
       "layout": "IPY_MODEL_2a359ba567b04cc9b8f2165230dc90d2",
       "max": 76,
       "style": "IPY_MODEL_e7eba886fc6a45d195add63c98da2d0f",
       "value": 7
      }
     }
    },
    "version_major": 2,
    "version_minor": 0
   }
  }
 },
 "nbformat": 4,
 "nbformat_minor": 5
}
