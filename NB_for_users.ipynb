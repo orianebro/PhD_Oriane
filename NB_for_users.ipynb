{
 "cells": [
  {
   "cell_type": "code",
   "execution_count": 1,
   "id": "09500250-69a7-48c7-9086-c6e0c0972636",
   "metadata": {},
   "outputs": [],
   "source": [
    "from random import *\n",
    "import numpy as np\n",
    "import matplotlib.pyplot as plt\n",
    "\n",
    "from ipywidgets import interact, interactive, IntSlider, FloatSlider, fixed, Play, HBox, VBox, jslink\n",
    "from oawidgets.plantgl import *\n",
    "# try jupyter widgets\n",
    "\n",
    "# from openalea.archicrop.cereals import build_shoot\n",
    "from openalea.archicrop.plant_shape import compute_leaf_area_plant_from_params, check_LA_range, compute_leaf_area_growing_plant\n",
    "from openalea.archicrop.simulation import retrieve_stics_dynamics_from_file, generate_and_display_plant, dict_ranges_to_all_possible_combinations, model\n",
    "from openalea.archicrop.display import display_mtg, build_scene, display_scene\n",
    "from openalea.archicrop.archicrop import ArchiCrop\n",
    "# quasi MC sampling in scipy, cf latin hypercube\n",
    "# SALiB\n",
    "\n",
    "# Enable plotting with PlantGL\n",
    "%gui qt\n",
    "nice_green = Color3((50, 100, 0))"
   ]
  },
  {
   "cell_type": "markdown",
   "id": "5d74f5a9-42d3-4e35-8fe7-0c8aee23f5a4",
   "metadata": {},
   "source": [
    "## Retrieve STICS dynamics from file"
   ]
  },
  {
   "cell_type": "code",
   "execution_count": 15,
   "id": "bf9887b2-2903-448b-9ef2-f0eca93bedf2",
   "metadata": {},
   "outputs": [],
   "source": [
    "stics_output_file = 'mod_ssorghum.sti'\n",
    "sowing_density = 10\n",
    "inter_row = 0.4\n",
    "stics_output_data = retrieve_stics_dynamics_from_file(stics_output_file, sowing_density)\n",
    "height_potential_plant = max(value[\"Plant height\"] for value in stics_output_data.values())\n",
    "LAI_stics = [value[\"Plant leaf area\"] for value in stics_output_data.values()]\n",
    "time = [value[\"Thermal time\"] for value in stics_output_data.values()]\n",
    "# print(height_potential_plant)\n",
    "# print(stics_output_data)"
   ]
  },
  {
   "cell_type": "markdown",
   "id": "002f4f30-18e6-495b-bba0-13563f26c87c",
   "metadata": {},
   "source": [
    "## Generate one potential plant from architectural parameters"
   ]
  },
  {
   "cell_type": "code",
   "execution_count": 3,
   "id": "11992b70-cc39-4372-8072-123500a9f884",
   "metadata": {},
   "outputs": [],
   "source": [
    "# For sorghum\n",
    "archi_params = dict(\n",
    "    nb_phy = [10,20,30,40], # [10,15,20,25,30], \n",
    "    max_leaf_length = [60,80,100,120], \n",
    "    wl = 0.12, \n",
    "    diam_base = 2.5, \n",
    "    diam_top = 1.5, \n",
    "    insertion_angle = 30, # [10, 50], \n",
    "    scurv = 0.7, # [0.6, 0.8], \n",
    "    curvature = 90, # [45, 135], \n",
    "    alpha = -2.3, \n",
    "    stem_q = 1.1, \n",
    "    rmax = [0.7,0.8, 0.9], # 1-(1/3*(nb_phy - 5)/nb_phy)\n",
    "    skew = [0.01,0.1], # 0.0005\n",
    "    phyllotactic_angle = 180, \n",
    "    phyllotactic_deviation = 15, # [5, 30]\n",
    "    phyllochron = [40,65],\n",
    "    plastochron = [34,46],\n",
    "    leaf_duration = [1,6],\n",
    "    stem_duration = [1,6],\n",
    "    leaf_senescence = [500, 1000]\n",
    ")"
   ]
  },
  {
   "cell_type": "code",
   "execution_count": 4,
   "id": "99d7b1c0-4a8f-46af-91da-09e1efb435bf",
   "metadata": {},
   "outputs": [
    {
     "data": {
      "text/plain": [
       "[0.8333333333333334, 0.75, 0.7222222222222223, 0.7083333333333334]"
      ]
     },
     "execution_count": 4,
     "metadata": {},
     "output_type": "execute_result"
    }
   ],
   "source": [
    "[1-(1/3*(n - 5)/n) for n in archi_params[\"nb_phy\"]] # for rmax = f(nb_phy)"
   ]
  },
  {
   "cell_type": "code",
   "execution_count": 5,
   "id": "d051632a-e2af-46f5-b2a7-a0e9276f2e9f",
   "metadata": {},
   "outputs": [],
   "source": [
    "def to_list(d):\n",
    "    return {k: (v if isinstance(v, list) else [v]) for k,v in d.items()} \n",
    "\n",
    "archi_params = to_list(archi_params)"
   ]
  },
  {
   "cell_type": "code",
   "execution_count": 6,
   "id": "5773446a-ab04-410d-bc5e-cb26ac2310d6",
   "metadata": {},
   "outputs": [
    {
     "data": {
      "application/vnd.jupyter.widget-view+json": {
       "model_id": "23b9e6e6dbfe428da20af1a1e8333ef3",
       "version_major": 2,
       "version_minor": 0
      },
      "text/plain": [
       "interactive(children=(IntSlider(value=35, description='nb_phy', max=40, min=10), IntSlider(value=118, descript…"
      ]
     },
     "metadata": {},
     "output_type": "display_data"
    },
    {
     "data": {
      "text/plain": [
       "<function openalea.archicrop.simulation.generate_and_display_plant(nb_phy, height, max_leaf_length, wl, diam_base, diam_top, insertion_angle, scurv, curvature, alpha, stem_q, rmax, skew, phyllotactic_angle, phyllotactic_deviation)>"
      ]
     },
     "execution_count": 6,
     "metadata": {},
     "output_type": "execute_result"
    }
   ],
   "source": [
    "# slider on parameters with ranges, others fixed \n",
    "interact(generate_and_display_plant, \n",
    "         nb_phy=IntSlider(min=min(archi_params[\"nb_phy\"]), \n",
    "                          max=max(archi_params[\"nb_phy\"]), \n",
    "                          step=1, \n",
    "                          value=randint(archi_params[\"nb_phy\"][0], archi_params[\"nb_phy\"][-1])),\n",
    "         height=fixed(height_potential_plant),\n",
    "         max_leaf_length=IntSlider(min=min(archi_params[\"max_leaf_length\"]), \n",
    "                                   max=max(archi_params[\"max_leaf_length\"]), \n",
    "                                   step=1, \n",
    "                                   value=randint(archi_params[\"max_leaf_length\"][0], archi_params[\"max_leaf_length\"][-1])),\n",
    "         wl=FloatSlider(min=min(archi_params[\"wl\"]), \n",
    "                        max=max(archi_params[\"wl\"]), \n",
    "                        step=0.01, \n",
    "                        value=choice(archi_params[\"wl\"])),\n",
    "         diam_base=fixed(archi_params[\"diam_base\"][0]),\n",
    "         diam_top=fixed(archi_params[\"diam_top\"][0]),\n",
    "         insertion_angle=IntSlider(min=min(archi_params[\"insertion_angle\"]), \n",
    "                                   max=max(archi_params[\"insertion_angle\"]), \n",
    "                                   step=1, \n",
    "                                   value=choice(archi_params[\"insertion_angle\"])),\n",
    "         scurv=FloatSlider(min=min(archi_params[\"scurv\"]), \n",
    "                           max=max(archi_params[\"scurv\"]), \n",
    "                           step=0.01, \n",
    "                           value=choice(archi_params[\"scurv\"])),\n",
    "         curvature=IntSlider(min=min(archi_params[\"curvature\"]), \n",
    "                             max=max(archi_params[\"curvature\"]), \n",
    "                             step=5, \n",
    "                             value=choice(archi_params[\"curvature\"])),\n",
    "         alpha=fixed(archi_params[\"alpha\"][0]),\n",
    "         stem_q=fixed(archi_params[\"stem_q\"][0]),\n",
    "         rmax=FloatSlider(min=min(archi_params[\"rmax\"]), \n",
    "                          max=max(archi_params[\"rmax\"]), \n",
    "                          step=0.01, \n",
    "                          value=0.75),\n",
    "         skew=FloatSlider(min=min(archi_params[\"skew\"]), \n",
    "                          max=max(archi_params[\"skew\"]), \n",
    "                          step=0.01, \n",
    "                          value=0.05),\n",
    "         phyllotactic_angle=fixed(archi_params[\"phyllotactic_angle\"][0]),\n",
    "         phyllotactic_deviation=IntSlider(min=min(archi_params[\"phyllotactic_deviation\"]), \n",
    "                                          max=max(archi_params[\"phyllotactic_deviation\"]), \n",
    "                                          step=5, \n",
    "                                          value=20))\n",
    "\n",
    "\n",
    "# cf github openalea weberpenn trunk_parameters"
   ]
  },
  {
   "cell_type": "code",
   "execution_count": 7,
   "id": "77df9681-6dd8-4e52-8060-59ed0b20eea0",
   "metadata": {},
   "outputs": [
    {
     "name": "stdout",
     "output_type": "stream",
     "text": [
      "3072\n"
     ]
    }
   ],
   "source": [
    "# take only the ones defined before\n",
    "archi_params_combinations = dict_ranges_to_all_possible_combinations(archi_params)\n",
    "print(len(archi_params_combinations))\n",
    "\n",
    "# # Print combinations in the original order of dictionary keys\n",
    "# for combo in archi_params_combinations:\n",
    "#     print(combo)"
   ]
  },
  {
   "cell_type": "markdown",
   "id": "15275a24-9de1-444a-8392-4fadd49307c2",
   "metadata": {},
   "source": [
    "## Animation of growing plant "
   ]
  },
  {
   "cell_type": "code",
   "execution_count": 9,
   "id": "17263058-129c-42d5-88f9-cea43811f2f9",
   "metadata": {},
   "outputs": [
    {
     "data": {
      "application/vnd.jupyter.widget-view+json": {
       "model_id": "4326a71a1efd420c8f392c4f643886e2",
       "version_major": 2,
       "version_minor": 0
      },
      "text/plain": [
       "VBox(children=(IntSlider(value=15, max=40, min=10), IntSlider(value=60, max=120, min=60), IntSlider(value=30, …"
      ]
     },
     "metadata": {},
     "output_type": "display_data"
    }
   ],
   "source": [
    "# Fix a seed\n",
    "seed(100)\n",
    "nice_green = Color3((50, 100, 0))\n",
    "\n",
    "# slider on parameters with ranges, others fixed \n",
    "\n",
    "height=height_potential_plant\n",
    "nb_phy_slider=IntSlider(min=min(archi_params[\"nb_phy\"]), max=max(archi_params[\"nb_phy\"]), step=1, value=15)\n",
    "max_leaf_length_slider=IntSlider(min=min(archi_params[\"max_leaf_length\"]), max=max(archi_params[\"max_leaf_length\"]), step=1, value=50)\n",
    "wl_slider=FloatSlider(min=min(archi_params[\"wl\"]), max=max(archi_params[\"wl\"]), step=0.01, value=0.12)\n",
    "diam_base_slider=fixed(archi_params[\"diam_base\"][0])\n",
    "diam_top_slider=fixed(archi_params[\"diam_top\"][0])\n",
    "insertion_angle_slider=IntSlider(min=min(archi_params[\"insertion_angle\"]), max=max(archi_params[\"insertion_angle\"]), step=1, value=30)\n",
    "scurv_slider=FloatSlider(min=min(archi_params[\"scurv\"]), max=max(archi_params[\"scurv\"]), step=0.01, value=0.7)\n",
    "curvature_slider=IntSlider(min=min(archi_params[\"curvature\"]), max=max(archi_params[\"curvature\"]), step=5, value=90)\n",
    "alpha_slider=fixed(archi_params[\"alpha\"][0])\n",
    "stem_q_slider=fixed(archi_params[\"stem_q\"][0])\n",
    "rmax_slider=FloatSlider(min=min(archi_params[\"rmax\"]), max=max(archi_params[\"rmax\"]), step=0.01, value=0.8)\n",
    "skew_slider=fixed(archi_params[\"skew\"][0])\n",
    "phyllotactic_angle_slider=fixed(archi_params[\"phyllotactic_angle\"][0])\n",
    "phyllotactic_deviation_slider=IntSlider(min=min(archi_params[\"phyllotactic_deviation\"]), max=max(archi_params[\"phyllotactic_deviation\"]), step=5, value=15)\n",
    "phyllochron_slider=IntSlider(min=min(archi_params[\"phyllochron\"]), max=max(archi_params[\"phyllochron\"]), step=1, value=55)\n",
    "plastochron_slider=IntSlider(min=min(archi_params[\"plastochron\"]), max=max(archi_params[\"plastochron\"]), step=1, value=40)\n",
    "leaf_duration_slider=FloatSlider(min=min(archi_params[\"leaf_duration\"]), max=max(archi_params[\"leaf_duration\"]), step=0.1, value=6)\n",
    "stem_duration_slider=FloatSlider(min=min(archi_params[\"stem_duration\"]), max=max(archi_params[\"stem_duration\"]), step=0.1, value=1.5)\n",
    "leaf_senescence_slider=IntSlider(min=min(archi_params[\"leaf_senescence\"]), max=max(archi_params[\"leaf_senescence\"]), step=10, value=700)\n",
    "\n",
    "time_slider = IntSlider(value=0, min=0, max=len(time), step=1, description=\"Time\")\n",
    "\n",
    "# Interactive widget setup\n",
    "play_widget = Play(value=0, min=0, max=len(time), step=1, interval=1000)\n",
    "\n",
    "# Link play widget with time slider\n",
    "jslink((play_widget, 'value'), (time_slider, 'value'))\n",
    "\n",
    "# Callback to update scene\n",
    "def update_scene(*args):\n",
    "    seed(100)\n",
    "    nb_phy = nb_phy_slider.value\n",
    "    max_leaf_length = max_leaf_length_slider.value\n",
    "    wl = wl_slider.value\n",
    "    diam_base = diam_base_slider.value\n",
    "    diam_top = diam_top_slider.value\n",
    "    insertion_angle = insertion_angle_slider.value\n",
    "    scurv = scurv_slider.value\n",
    "    curvature = curvature_slider.value\n",
    "    alpha = alpha_slider.value\n",
    "    stem_q = stem_q_slider.value\n",
    "    rmax = rmax_slider.value\n",
    "    skew = skew_slider.value\n",
    "    phyllotactic_angle = phyllotactic_angle_slider.value\n",
    "    phyllotactic_deviation = phyllotactic_deviation_slider.value\n",
    "    phyllochron = phyllochron_slider.value\n",
    "    plastochron = plastochron_slider.value\n",
    "    leaf_duration = leaf_duration_slider.value\n",
    "    stem_duration = stem_duration_slider.value\n",
    "    leaf_senescence = leaf_senescence_slider.value\n",
    "    time = time_slider.value\n",
    "    sorghum = ArchiCrop(height, nb_phy, max_leaf_length, wl, diam_base, diam_top, insertion_angle, scurv, curvature, alpha, \n",
    "                        stem_q, rmax, skew, phyllotactic_angle, phyllotactic_deviation, \n",
    "                        phyllochron, plastochron, leaf_duration, stem_duration, leaf_senescence)\n",
    "    sorghum.generate_potential_plant()\n",
    "    sorghum.define_development()\n",
    "    growing_plant = sorghum.grow_plant(stics_output_data)\n",
    "    Viewer.display(build_scene(growing_plant[time], leaf_material = Material(nice_green), stem_material=Material(nice_green))[0])\n",
    "    # PlantGL(build_scene(growing_plant[time]))\n",
    "\n",
    "# Attach update callback\n",
    "nb_phy_slider.observe(update_scene, names='value')\n",
    "max_leaf_length_slider.observe(update_scene, names='value')\n",
    "insertion_angle_slider.observe(update_scene, names='value')\n",
    "scurv_slider.observe(update_scene, names='value')\n",
    "curvature_slider.observe(update_scene, names='value')\n",
    "time_slider.observe(update_scene, names='value')\n",
    "\n",
    "# Display widgets\n",
    "controls = VBox([nb_phy_slider, max_leaf_length_slider, insertion_angle_slider, scurv_slider, curvature_slider, HBox([time_slider, play_widget])])\n",
    "display(controls)\n",
    "\n",
    "# Initial scene display\n",
    "update_scene()\n",
    "\n",
    "# cf github openalea weberpenn trunk_parameters"
   ]
  },
  {
   "cell_type": "code",
   "execution_count": 19,
   "id": "11958e95-9ac3-4394-98e7-df0fb14ef950",
   "metadata": {},
   "outputs": [],
   "source": [
    "def parametric_model_sorghum(time, max_leaf_length, rmax, skew, phyllochron, plastochron, leaf_duration, stem_duration):\n",
    "    \"\"\"\n",
    "    Define parametric model.\n",
    "\n",
    "    Args:\n",
    "    - max_leaf_length, phyllochron: Parameters of the model\n",
    "\n",
    "    Returns:\n",
    "    - leaf_areas: Output values corresponding to the model\n",
    "    \"\"\"\n",
    "\n",
    "    sorghum = ArchiCrop(height=222, # from crop model\n",
    "                        nb_phy=25,\n",
    "                        max_leaf_length=max_leaf_length,\n",
    "                        wl=0.12, diam_base=2.5, diam_top=1.5, \n",
    "                        insertion_angle=30, scurv=0.7, curvature=100, \n",
    "                        alpha=-2.3, stem_q=1.1, rmax=rmax, skew=skew, # 0.0005\n",
    "                        phyllotactic_angle=180,\n",
    "                        phyllotactic_deviation=15,\n",
    "                        phyllochron=phyllochron, \n",
    "                        plastochron=plastochron, \n",
    "                        leaf_duration=leaf_duration, \n",
    "                        stem_duration=stem_duration, \n",
    "                        leaf_senescence=800)\n",
    "    sorghum.generate_potential_plant()\n",
    "    sorghum.define_development()\n",
    "    growing_plant = sorghum.grow_plant(stics_output_data)\n",
    "\n",
    "    return [sum(compute_leaf_area_growing_plant(gp)) for gp in growing_plant]"
   ]
  },
  {
   "cell_type": "code",
   "execution_count": 20,
   "id": "1c1b8522-0cf6-437a-9e05-8355d62b6fdb",
   "metadata": {},
   "outputs": [
    {
     "name": "stdout",
     "output_type": "stream",
     "text": [
      "                  Max leaf length  Leaf duration\n",
      "Optimized parameters: [92.07654878  0.60000131  0.1        50.         50.          5.5\n",
      "  5.5       ]\n",
      "Covariances: [[ 4.05509955e-12 -1.54735164e-08 -1.77363194e-09  0.00000000e+00\n",
      "   0.00000000e+00  0.00000000e+00  0.00000000e+00]\n",
      " [-1.54735164e-08  5.66486478e-04  4.23165304e-04  0.00000000e+00\n",
      "   0.00000000e+00  0.00000000e+00  0.00000000e+00]\n",
      " [-1.77363194e-09  4.23165304e-04  3.44064797e-04  0.00000000e+00\n",
      "   0.00000000e+00  0.00000000e+00  0.00000000e+00]\n",
      " [ 0.00000000e+00  0.00000000e+00  0.00000000e+00  0.00000000e+00\n",
      "   0.00000000e+00  0.00000000e+00  0.00000000e+00]\n",
      " [ 0.00000000e+00  0.00000000e+00  0.00000000e+00  0.00000000e+00\n",
      "   0.00000000e+00  0.00000000e+00  0.00000000e+00]\n",
      " [ 0.00000000e+00  0.00000000e+00  0.00000000e+00  0.00000000e+00\n",
      "   0.00000000e+00  0.00000000e+00  0.00000000e+00]\n",
      " [ 0.00000000e+00  0.00000000e+00  0.00000000e+00  0.00000000e+00\n",
      "   0.00000000e+00  0.00000000e+00  0.00000000e+00]]\n",
      "Standard errors: [2.01372777e-06 2.38009764e-02 1.85489837e-02 0.00000000e+00\n",
      " 0.00000000e+00 0.00000000e+00 0.00000000e+00]\n"
     ]
    },
    {
     "data": {
      "image/png": "[encoded data removed]",
      "text/plain": [
       "<Figure size 640x480 with 1 Axes>"
      ]
     },
     "metadata": {},
     "output_type": "display_data"
    }
   ],
   "source": [
    "from scipy.optimize import curve_fit\n",
    "\n",
    "# Fit the model to crop model data and obtain optimal parameters\n",
    "optimal_params, covariance = curve_fit(f=parametric_model_sorghum, xdata=time, ydata=LAI_stics, bounds=([20,0.6,0.0005,30,30,1,1],[120,0.8,0.1,70,70,10,10]), method='trf') # bounds to set from lit\n",
    "se = np.sqrt(np.diag(covariance))\n",
    "\n",
    "print(\"                  Max leaf length  Leaf duration\")\n",
    "print(\"Optimized parameters:\", optimal_params)\n",
    "print(\"Covariances:\", covariance)\n",
    "print(\"Standard errors:\", se)\n",
    "\n",
    "# Visualize the fit\n",
    "plt.clf()\n",
    "plt.scatter(time, LAI_stics, color=(57/255,157/255,99/255), label='Simulation with STICS') # R 243, G 146, B 0\n",
    "res = parametric_model_sorghum(time, *optimal_params)\n",
    "plt.plot(time, np.array(res), color=(57/255,151/255,88/255), label='Simulation with ArchiCrop') # R 57, G 151, B 88\n",
    "plt.xlabel('Thermal time (°C.d)', fontsize=24)\n",
    "plt.ylabel('LAI', fontsize=24)\n",
    "# plt.legend()\n",
    "plt.show()"
   ]
  },
  {
   "cell_type": "code",
   "execution_count": 18,
   "id": "c4585731-08d3-4259-9b59-9bf465bc21ea",
   "metadata": {},
   "outputs": [
    {
     "data": {
      "application/vnd.jupyter.widget-view+json": {
       "model_id": "bb2e35da97aa4571a63141b7e7e86c82",
       "version_major": 2,
       "version_minor": 0
      },
      "text/plain": [
       "HBox(children=(IntSlider(value=0, description='Time', max=77), Play(value=0, interval=500, max=77)))"
      ]
     },
     "metadata": {},
     "output_type": "display_data"
    },
    {
     "ename": "NameError",
     "evalue": "name 'gp_scenes' is not defined",
     "output_type": "error",
     "traceback": [
      "\u001b[1;31m---------------------------------------------------------------------------\u001b[0m",
      "\u001b[1;31mNameError\u001b[0m                                 Traceback (most recent call last)",
      "Cell \u001b[1;32mIn[18], line 22\u001b[0m\n\u001b[0;32m     19\u001b[0m display(controls)\n\u001b[0;32m     21\u001b[0m \u001b[38;5;66;03m# Initial scene display\u001b[39;00m\n\u001b[1;32m---> 22\u001b[0m \u001b[43mupdate_scene\u001b[49m\u001b[43m(\u001b[49m\u001b[43m)\u001b[49m\n\u001b[0;32m     24\u001b[0m \u001b[38;5;66;03m# cf github openalea weberpenn trunk_parameters\u001b[39;00m\n",
      "Cell \u001b[1;32mIn[18], line 12\u001b[0m, in \u001b[0;36mupdate_scene\u001b[1;34m(*args)\u001b[0m\n\u001b[0;32m     10\u001b[0m \u001b[38;5;28;01mdef\u001b[39;00m \u001b[38;5;21mupdate_scene\u001b[39m(\u001b[38;5;241m*\u001b[39margs):\n\u001b[0;32m     11\u001b[0m     time \u001b[38;5;241m=\u001b[39m time_slider\u001b[38;5;241m.\u001b[39mvalue\n\u001b[1;32m---> 12\u001b[0m     Viewer\u001b[38;5;241m.\u001b[39mdisplay(\u001b[43mgp_scenes\u001b[49m[time])\n",
      "\u001b[1;31mNameError\u001b[0m: name 'gp_scenes' is not defined"
     ]
    }
   ],
   "source": [
    "time_slider = IntSlider(value=0, min=0, max=len(time), step=1, description=\"Time\")\n",
    "\n",
    "# Interactive widget setup\n",
    "play_widget = Play(value=0, min=0, max=len(time), step=1, interval=500)\n",
    "\n",
    "# Link play widget with time slider\n",
    "jslink((play_widget, 'value'), (time_slider, 'value'))\n",
    "\n",
    "# Callback to update scene\n",
    "def update_scene(*args):\n",
    "    time = time_slider.value\n",
    "    Viewer.display(gp_scenes[time])\n",
    "\n",
    "# Attach update callback\n",
    "time_slider.observe(update_scene, names='value')\n",
    "\n",
    "# Display widgets\n",
    "controls = HBox([time_slider, play_widget])\n",
    "display(controls)\n",
    "\n",
    "# Initial scene display\n",
    "update_scene()\n",
    "\n",
    "# cf github openalea weberpenn trunk_parameters"
   ]
  },
  {
   "cell_type": "code",
   "execution_count": 17,
   "id": "6e5db56d-7512-4045-b1fb-a7965669c9f3",
   "metadata": {},
   "outputs": [],
   "source": [
    "def parametric_model_sorghum_nb_phy(time, max_leaf_length, nb_phy):\n",
    "    \"\"\"\n",
    "    Define parametric model.\n",
    "\n",
    "    Args:\n",
    "    - max_leaf_length, phyllochron: Parameters of the model\n",
    "\n",
    "    Returns:\n",
    "    - leaf_areas: Output values corresponding to the model\n",
    "    \"\"\"\n",
    "\n",
    "    sorghum = ArchiCrop(height=222, # from crop model\n",
    "                        nb_phy=nb_phy,\n",
    "                        max_leaf_length=max_leaf_length,\n",
    "                        wl=0.12, diam_base=2.5, diam_top=1.5, \n",
    "                        insertion_angle=30, scurv=0.7, curvature=100, \n",
    "                        alpha=-2.3, stem_q=1.1, rmax=0.75, skew=0.08, # 0.0005\n",
    "                        phyllotactic_angle=180,\n",
    "                        phyllotactic_deviation=15, phyllochron=55, plastochron=45, leaf_duration=5, stem_duration=2, leaf_senescence=800)\n",
    "    sorghum.generate_potential_plant()\n",
    "    sorghum.define_development()\n",
    "    growing_plant = sorghum.grow_plant(g, stics_output_data)\n",
    "\n",
    "    return [sum(compute_leaf_area_growing_plant(gp)) for gp in growing_plant]\n",
    "\n",
    "best_params = None\n",
    "best_error = float('inf')\n",
    "\n",
    "# Grid search over integer values for nb_phy\n",
    "for nb_phy in range(10, 36, 5):  # Integer bounds for nb_phy\n",
    "    def model_with_fixed_nb_phy(time, max_leaf_length):\n",
    "        return parametric_model_sorghum_nb_phy(time, max_leaf_length, nb_phy)\n",
    "    \n",
    "    try:\n",
    "        params, _ = curve_fit(\n",
    "            f=model_with_fixed_nb_phy,\n",
    "            xdata=time,\n",
    "            ydata=LAI_stics,\n",
    "            bounds=([20], [120]),  # Bounds for max_leaf_length only\n",
    "            method='trf'\n",
    "        )\n",
    "        error = np.sum((LAI_stics - model_with_fixed_nb_phy(time, params[0]))**2)\n",
    "        if error < best_error:\n",
    "            best_error = error\n",
    "            best_params = [params[0], nb_phy]\n",
    "            print(best_params)\n",
    "    except:\n",
    "        continue"
   ]
  }
 ],
 "metadata": {
  "kernelspec": {
   "display_name": "oa3",
   "language": "python",
   "name": "oa3"
  },
  "language_info": {
   "codemirror_mode": {
    "name": "ipython",
    "version": 3
   },
   "file_extension": ".py",
   "mimetype": "text/x-python",
   "name": "python",
   "nbconvert_exporter": "python",
   "pygments_lexer": "ipython3",
   "version": "3.12.2"
  },
  "widgets": {
   "application/vnd.jupyter.widget-state+json": {
    "state": {},
    "version_major": 2,
    "version_minor": 0
   }
  }
 },
 "nbformat": 4,
 "nbformat_minor": 5
}
