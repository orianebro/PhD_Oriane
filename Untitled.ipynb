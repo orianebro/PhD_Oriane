{
 "cells": [
  {
   "cell_type": "code",
   "execution_count": 1,
   "id": "8183991c-8027-4131-8648-d1e54d99fa4d",
   "metadata": {},
   "outputs": [],
   "source": [
    "v1 = 0.01\n",
    "v2 = 0.02"
   ]
  },
  {
   "cell_type": "code",
   "execution_count": 7,
   "id": "8bd8aaba-6faa-4d5a-95c8-81a78a50a203",
   "metadata": {},
   "outputs": [
    {
     "name": "stdout",
     "output_type": "stream",
     "text": [
      "0.0100000000000000002\n"
     ]
    }
   ],
   "source": [
    "print(\"{0:.19f}\".format(v1))"
   ]
  },
  {
   "cell_type": "code",
   "execution_count": 6,
   "id": "2a602378-cd85-42fb-a200-49a4ad87ea2e",
   "metadata": {},
   "outputs": [
    {
     "name": "stdout",
     "output_type": "stream",
     "text": [
      "0.0200000000000000004\n"
     ]
    }
   ],
   "source": [
    "print(\"{0:.19f}\".format(v2))"
   ]
  },
  {
   "cell_type": "code",
   "execution_count": 16,
   "id": "9b516c37-a3c9-4e58-ad66-4ddcb17c5d43",
   "metadata": {},
   "outputs": [
    {
     "name": "stdout",
     "output_type": "stream",
     "text": [
      "0.029999999999999999\n"
     ]
    }
   ],
   "source": [
    "print(\"{0:.18f}\".format(v1+v2))"
   ]
  },
  {
   "cell_type": "code",
   "execution_count": null,
   "id": "311e2efa-d3ef-4a45-b0df-dcddabe79c78",
   "metadata": {},
   "outputs": [],
   "source": []
  }
 ],
 "metadata": {
  "kernelspec": {
   "display_name": "Python 3 (ipykernel)",
   "language": "python",
   "name": "python3"
  },
  "language_info": {
   "codemirror_mode": {
    "name": "ipython",
    "version": 3
   },
   "file_extension": ".py",
   "mimetype": "text/x-python",
   "name": "python",
   "nbconvert_exporter": "python",
   "pygments_lexer": "ipython3",
   "version": "3.12.2"
  },
  "widgets": {
   "application/vnd.jupyter.widget-state+json": {
    "state": {},
    "version_major": 2,
    "version_minor": 0
   }
  }
 },
 "nbformat": 4,
 "nbformat_minor": 5
}
