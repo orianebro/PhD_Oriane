{
 "cells": [
  {
   "cell_type": "code",
   "execution_count": 19,
   "id": "747e63aa-400c-4d09-84c5-a1215c53ad7b",
   "metadata": {},
   "outputs": [],
   "source": [
    "import numpy as np\n",
    "import pandas as pd\n",
    "from alinea.astk.sun_and_sky import sun_sky_sources\n",
    "\n",
    "# Ignore warning about depreciated modules\n",
    "import warnings\n",
    "warnings.filterwarnings('ignore', category=DeprecationWarning)\n",
    "warnings.filterwarnings('ignore', category=FutureWarning)"
   ]
  },
  {
   "cell_type": "code",
   "execution_count": 58,
   "id": "9cb35502-e207-450d-9b53-b50e7af69dbd",
   "metadata": {},
   "outputs": [
    {
     "name": "stdout",
     "output_type": "stream",
     "text": [
      "DatetimeIndex(['1996-04-21 00:00:00+00:00', '1996-04-22 00:00:00+00:00'], dtype='datetime64[ns, UTC]', freq='D')\n",
      "Sun (array([ 5.05875151, 19.35169373, 33.83666393, 48.39582785, 62.9955449 ,\n",
      "       77.60615521, 87.5333926 , 73.05544727, 58.44625766, 43.86095695,\n",
      "       29.32707816, 14.88732897,  0.88976537]), array([ 78.81207441,  81.65648266,  84.12474982,  86.44553007,\n",
      "        88.9484176 ,  92.99581537, 247.97593836, 268.80445365,\n",
      "       272.00235084, 274.39953599, 276.75094168, 279.32623376,\n",
      "       282.36197025]), array([0., 0., 0., 0., 0., 0., 0., 0., 0., 0., 0., 0., 0.]))\n",
      "13\n",
      "13\n",
      "13\n",
      "Sky ([90, 26.57, 26.57, 26.57, 26.57, 26.57, 52.62, 52.62, 52.62, 52.62, 52.62, 10.81, 10.81, 10.81, 10.81, 10.81, 69.16, 69.16, 69.16, 69.16, 69.16, 47.41, 47.41, 47.41, 47.41, 47.41, 31.08, 31.08, 31.08, 31.08, 31.08, 31.08, 31.08, 31.08, 31.08, 31.08, 9.23, 9.23, 9.23, 9.23, 9.23, 9.23, 9.23, 9.23, 9.23, 9.23], [180, 0, 72, 144, 216, 288, 36, 108, 180, 252, 324, 36, 108, 180, 252, 324, 0, 72, 144, 216, 288, 0, 72, 144, 216, 288, 23.27, 48.73, 95.27, 120.73, 167.27, 192.73, 239.27, 264.73, 311.27, 336.73, 12.23, 59.77, 84.23, 131.77, 156.23, 203.77, 228.23, 275.77, 300.23, 347.77], array([72.25322668, 19.87322166, 19.87322166, 19.87322166, 19.87322166,\n",
      "       19.87322166, 51.09428579, 51.09428579, 51.09428579, 51.09428579,\n",
      "       51.09428579,  4.97225873,  4.97225873,  4.97225873,  4.97225873,\n",
      "        4.97225873, 65.37841461, 65.37841461, 65.37841461, 65.37841461,\n",
      "       65.37841461, 45.34527942, 45.34527942, 45.34527942, 45.34527942,\n",
      "       45.34527942, 25.36464741, 25.36464741, 25.36464741, 25.36464741,\n",
      "       25.36464741, 25.36464741, 25.36464741, 25.36464741, 25.36464741,\n",
      "       25.36464741,  4.07829981,  4.07829981,  4.07829981,  4.07829981,\n",
      "        4.07829981,  4.07829981,  4.07829981,  4.07829981,  4.07829981,\n",
      "        4.07829981]))\n",
      "46\n",
      "46\n",
      "46\n"
     ]
    }
   ],
   "source": [
    "# Inputs\n",
    "latitude = 13.0  # Latitude in degrees\n",
    "longitude = -13.0  # Longitude in degrees\n",
    "start_date = '1996-4-21'  # Date for the calculation\n",
    "end_date = '1996-4-22'\n",
    "timezone = 'UTC'  # Timezone\n",
    "altitude = 0  # Altitude in meters\n",
    "\n",
    "# Generate a range of times for the specified date\n",
    "# times = pd.date_range(daydate, freq='H', periods=24, tz=timezone)\n",
    "times = pd.date_range(start=start_date, end=end_date, freq='D', tz=timezone)\n",
    "print(times)\n",
    "\n",
    "trg_astk = []\n",
    "# for time in times:\n",
    "    # trg_temp = []\n",
    "sun, sky = sun_sky_sources(ghi=None, dhi=None, attenuation=None, model='sun_soc',\n",
    "                dates=None, daydate=times[0], pressure=101325,\n",
    "                temp_dew=None, longitude=longitude, latitude=latitude,\n",
    "                altitude=altitude, timezone=timezone, normalisation=None)\n",
    "\n",
    "\n",
    "print(\"Sun\", sun)\n",
    "for i in sun:\n",
    "    print(len(i))\n",
    "print(\"Sky\", sky)\n",
    "for i in sky:\n",
    "    print(len(i))\n",
    "    # for s in sun[2]:\n",
    "    #     trg_temp.append(s*0.0864)\n",
    "    # print(trg_temp)\n",
    "    # trg_astk.append(trg_temp)\n",
    "\n",
    "# for 1 m2 :\n",
    "# 1 W = 1 J/s\n",
    "# for 1 day : 1 MJ/day = 0.0864 W\n",
    "# \n"
   ]
  },
  {
   "cell_type": "code",
   "execution_count": 53,
   "id": "da6cafe1-499c-40a4-8490-1a12e53eccc0",
   "metadata": {},
   "outputs": [
    {
     "data": {
      "text/plain": [
       "323.53712811531483"
      ]
     },
     "execution_count": 53,
     "metadata": {},
     "output_type": "execute_result"
    }
   ],
   "source": [
    "np.sum(sun[2]) * 0.0864"
   ]
  },
  {
   "cell_type": "code",
   "execution_count": 54,
   "id": "3d45ea54-9ea6-45a6-9199-0b359d314f27",
   "metadata": {},
   "outputs": [
    {
     "data": {
      "text/plain": [
       "244.2300881483817"
      ]
     },
     "execution_count": 54,
     "metadata": {},
     "output_type": "execute_result"
    }
   ],
   "source": [
    "np.sum(sky[2]) * 0.0864\n",
    "# sky integrated a l'echelle de la journee ??"
   ]
  },
  {
   "cell_type": "code",
   "execution_count": null,
   "id": "b6d6a9d2-369a-411c-b715-3984f56f3230",
   "metadata": {},
   "outputs": [],
   "source": []
  }
 ],
 "metadata": {
  "kernelspec": {
   "display_name": "oa3",
   "language": "python",
   "name": "oa3"
  },
  "language_info": {
   "codemirror_mode": {
    "name": "ipython",
    "version": 3
   },
   "file_extension": ".py",
   "mimetype": "text/x-python",
   "name": "python",
   "nbconvert_exporter": "python",
   "pygments_lexer": "ipython3",
   "version": "3.12.2"
  },
  "widgets": {
   "application/vnd.jupyter.widget-state+json": {
    "state": {},
    "version_major": 2,
    "version_minor": 0
   }
  }
 },
 "nbformat": 4,
 "nbformat_minor": 5
}
