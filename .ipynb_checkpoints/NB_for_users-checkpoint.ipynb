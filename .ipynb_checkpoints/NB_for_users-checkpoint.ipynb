{
 "cells": [
  {
   "cell_type": "code",
   "execution_count": 1,
   "id": "09500250-69a7-48c7-9086-c6e0c0972636",
   "metadata": {},
   "outputs": [],
   "source": [
    "from random import *\n",
    "import numpy as np\n",
    "import matplotlib.pyplot as plt\n",
    "\n",
    "from ipywidgets import interact, interactive, IntSlider, FloatSlider, fixed, Play, HBox, VBox, jslink\n",
    "from oawidgets.plantgl import *\n",
    "# try jupyter widgets\n",
    "\n",
    "# from openalea.archicrop.cereals import build_shoot\n",
    "from openalea.archicrop.plant_shape import compute_leaf_area_plant_from_params, check_LA_range, compute_leaf_area_growing_plant\n",
    "from openalea.archicrop.simulation import retrieve_stics_dynamics_from_file, generate_and_display_plant, dict_ranges_to_all_possible_combinations, model\n",
    "from openalea.archicrop.display import display_mtg, build_scene, display_scene\n",
    "from openalea.archicrop.archicrop import ArchiCrop\n",
    "# quasi MC sampling in scipy, cf latin hypercube\n",
    "# SALiB\n",
    "\n",
    "# Enable plotting with PlantGL\n",
    "%gui qt\n",
    "nice_green = Color3((50, 100, 0))"
   ]
  },
  {
   "cell_type": "markdown",
   "id": "5d74f5a9-42d3-4e35-8fe7-0c8aee23f5a4",
   "metadata": {},
   "source": [
    "## Retrieve STICS dynamics from file"
   ]
  },
  {
   "cell_type": "code",
   "execution_count": 2,
   "id": "bf9887b2-2903-448b-9ef2-f0eca93bedf2",
   "metadata": {},
   "outputs": [],
   "source": [
    "stics_output_file = 'mod_ssorghum.sti'\n",
    "sowing_density = 10\n",
    "inter_row = 0.4\n",
    "stics_output_data = retrieve_stics_dynamics_from_file(stics_output_file, sowing_density)\n",
    "height_potential_plant = max(value[\"Plant height\"] for value in stics_output_data.values())\n",
    "time = [value[\"Thermal time\"] for value in stics_output_data.values()]\n",
    "# print(height_potential_plant)\n",
    "# print(stics_output_data)"
   ]
  },
  {
   "cell_type": "markdown",
   "id": "002f4f30-18e6-495b-bba0-13563f26c87c",
   "metadata": {},
   "source": [
    "## Generate one potential plant from architectural parameters"
   ]
  },
  {
   "cell_type": "code",
   "execution_count": 3,
   "id": "11992b70-cc39-4372-8072-123500a9f884",
   "metadata": {},
   "outputs": [],
   "source": [
    "# For sorghum\n",
    "archi_params = dict(\n",
    "    nb_phy = [10,20,30,40], # [10,15,20,25,30], \n",
    "    max_leaf_length = [60,80,100,120], \n",
    "    wl = 0.12, \n",
    "    diam_base = 2.5, \n",
    "    diam_top = 1.5, \n",
    "    insertion_angle = 30, # [10, 50], \n",
    "    scurv = 0.7, # [0.6, 0.8], \n",
    "    curvature = 90, # [45, 135], \n",
    "    alpha = -2.3, \n",
    "    stem_q = 1.1, \n",
    "    rmax = [0.7,0.8, 0.9], # 1-(1/3*(nb_phy - 5)/nb_phy)\n",
    "    skew = [0.01,0.1], # 0.0005\n",
    "    phyllotactic_angle = 180, \n",
    "    phyllotactic_deviation = 15, # [5, 30]\n",
    "    phyllochron = [40,65],\n",
    "    plastochron = [34,46],\n",
    "    leaf_duration = [1,6],\n",
    "    stem_duration = [1,6],\n",
    "    leaf_senescence = [500, 1000]\n",
    ")"
   ]
  },
  {
   "cell_type": "code",
   "execution_count": 4,
   "id": "99d7b1c0-4a8f-46af-91da-09e1efb435bf",
   "metadata": {},
   "outputs": [
    {
     "data": {
      "text/plain": [
       "[0.8333333333333334, 0.75, 0.7222222222222223, 0.7083333333333334]"
      ]
     },
     "execution_count": 4,
     "metadata": {},
     "output_type": "execute_result"
    }
   ],
   "source": [
    "[1-(1/3*(n - 5)/n) for n in archi_params[\"nb_phy\"]] # for rmax = f(nb_phy)"
   ]
  },
  {
   "cell_type": "code",
   "execution_count": 5,
   "id": "d051632a-e2af-46f5-b2a7-a0e9276f2e9f",
   "metadata": {},
   "outputs": [],
   "source": [
    "def to_list(d):\n",
    "    return {k: (v if isinstance(v, list) else [v]) for k,v in d.items()} \n",
    "\n",
    "archi_params = to_list(archi_params)"
   ]
  },
  {
   "cell_type": "code",
   "execution_count": 6,
   "id": "5773446a-ab04-410d-bc5e-cb26ac2310d6",
   "metadata": {},
   "outputs": [
    {
     "data": {
      "application/vnd.jupyter.widget-view+json": {
       "model_id": "ede25577b0fa4f608af45d4b69f1a8a3",
       "version_major": 2,
       "version_minor": 0
      },
      "text/plain": [
       "interactive(children=(IntSlider(value=14, description='nb_phy', max=40, min=10), IntSlider(value=85, descripti…"
      ]
     },
     "metadata": {},
     "output_type": "display_data"
    },
    {
     "data": {
      "text/plain": [
       "<function openalea.archicrop.simulation.generate_and_display_plant(nb_phy, height, max_leaf_length, wl, diam_base, diam_top, insertion_angle, scurv, curvature, alpha, stem_q, rmax, skew, phyllotactic_angle, phyllotactic_deviation)>"
      ]
     },
     "execution_count": 6,
     "metadata": {},
     "output_type": "execute_result"
    }
   ],
   "source": [
    "# slider on parameters with ranges, others fixed \n",
    "interact(generate_and_display_plant, \n",
    "         nb_phy=IntSlider(min=min(archi_params[\"nb_phy\"]), \n",
    "                          max=max(archi_params[\"nb_phy\"]), \n",
    "                          step=1, \n",
    "                          value=randint(archi_params[\"nb_phy\"][0], archi_params[\"nb_phy\"][-1])),\n",
    "         height=fixed(height_potential_plant),\n",
    "         max_leaf_length=IntSlider(min=min(archi_params[\"max_leaf_length\"]), \n",
    "                                   max=max(archi_params[\"max_leaf_length\"]), \n",
    "                                   step=1, \n",
    "                                   value=randint(archi_params[\"max_leaf_length\"][0], archi_params[\"max_leaf_length\"][-1])),\n",
    "         wl=FloatSlider(min=min(archi_params[\"wl\"]), \n",
    "                        max=max(archi_params[\"wl\"]), \n",
    "                        step=0.01, \n",
    "                        value=choice(archi_params[\"wl\"])),\n",
    "         diam_base=fixed(archi_params[\"diam_base\"][0]),\n",
    "         diam_top=fixed(archi_params[\"diam_top\"][0]),\n",
    "         insertion_angle=IntSlider(min=min(archi_params[\"insertion_angle\"]), \n",
    "                                   max=max(archi_params[\"insertion_angle\"]), \n",
    "                                   step=1, \n",
    "                                   value=choice(archi_params[\"insertion_angle\"])),\n",
    "         scurv=FloatSlider(min=min(archi_params[\"scurv\"]), \n",
    "                           max=max(archi_params[\"scurv\"]), \n",
    "                           step=0.01, \n",
    "                           value=choice(archi_params[\"scurv\"])),\n",
    "         curvature=IntSlider(min=min(archi_params[\"curvature\"]), \n",
    "                             max=max(archi_params[\"curvature\"]), \n",
    "                             step=5, \n",
    "                             value=choice(archi_params[\"curvature\"])),\n",
    "         alpha=fixed(archi_params[\"alpha\"][0]),\n",
    "         stem_q=fixed(archi_params[\"stem_q\"][0]),\n",
    "         rmax=FloatSlider(min=min(archi_params[\"rmax\"]), \n",
    "                          max=max(archi_params[\"rmax\"]), \n",
    "                          step=0.01, \n",
    "                          value=0.75),\n",
    "         skew=FloatSlider(min=min(archi_params[\"skew\"]), \n",
    "                          max=max(archi_params[\"skew\"]), \n",
    "                          step=0.01, \n",
    "                          value=0.05),\n",
    "         phyllotactic_angle=fixed(archi_params[\"phyllotactic_angle\"][0]),\n",
    "         phyllotactic_deviation=IntSlider(min=min(archi_params[\"phyllotactic_deviation\"]), \n",
    "                                          max=max(archi_params[\"phyllotactic_deviation\"]), \n",
    "                                          step=5, \n",
    "                                          value=20))\n",
    "\n",
    "\n",
    "# cf github openalea weberpenn trunk_parameters"
   ]
  },
  {
   "cell_type": "code",
   "execution_count": 7,
   "id": "77df9681-6dd8-4e52-8060-59ed0b20eea0",
   "metadata": {},
   "outputs": [
    {
     "name": "stdout",
     "output_type": "stream",
     "text": [
      "3072\n"
     ]
    }
   ],
   "source": [
    "# take only the ones defined before\n",
    "archi_params_combinations = dict_ranges_to_all_possible_combinations(archi_params)\n",
    "print(len(archi_params_combinations))\n",
    "\n",
    "# # Print combinations in the original order of dictionary keys\n",
    "# for combo in archi_params_combinations:\n",
    "#     print(combo)"
   ]
  },
  {
   "cell_type": "markdown",
   "id": "226afb9d-849d-4a79-984c-2cc7f805cc8b",
   "metadata": {},
   "source": [
    "## Parameters for spatial configuration"
   ]
  },
  {
   "cell_type": "code",
   "execution_count": 8,
   "id": "000b191a-af63-4b79-a7a6-abd38c5a537a",
   "metadata": {},
   "outputs": [
    {
     "name": "stdout",
     "output_type": "stream",
     "text": [
      "[(1, 1, 10, 0.4), (1, 1, 10, 0.8)]\n"
     ]
    }
   ],
   "source": [
    "crop_params = {\n",
    "    \"length_plot\": 1, \n",
    "    \"width_plot\": 1, \n",
    "    \"sowing_density\": sowing_density, # [10, 28], \n",
    "    \"inter_row\": [0.4, 0.8], # 0.4 for 10\n",
    "}\n",
    "\n",
    "crop_params_combinations = dict_ranges_to_all_possible_combinations(crop_params)\n",
    "print(crop_params_combinations)"
   ]
  },
  {
   "cell_type": "markdown",
   "id": "15275a24-9de1-444a-8392-4fadd49307c2",
   "metadata": {},
   "source": [
    "## Animation of growing plant "
   ]
  },
  {
   "cell_type": "code",
   "execution_count": 9,
   "id": "17263058-129c-42d5-88f9-cea43811f2f9",
   "metadata": {},
   "outputs": [
    {
     "data": {
      "application/vnd.jupyter.widget-view+json": {
       "model_id": "47d2fe2b48b74352849aa82c38d02e05",
       "version_major": 2,
       "version_minor": 0
      },
      "text/plain": [
       "VBox(children=(IntSlider(value=15, max=40, min=10), IntSlider(value=60, max=120, min=60), IntSlider(value=30, …"
      ]
     },
     "metadata": {},
     "output_type": "display_data"
    }
   ],
   "source": [
    "# Fix a seed\n",
    "seed(100)\n",
    "nice_green = Color3((50, 100, 0))\n",
    "\n",
    "# slider on parameters with ranges, others fixed \n",
    "\n",
    "height=height_potential_plant\n",
    "nb_phy_slider=IntSlider(min=min(archi_params[\"nb_phy\"]), max=max(archi_params[\"nb_phy\"]), step=1, value=15)\n",
    "max_leaf_length_slider=IntSlider(min=min(archi_params[\"max_leaf_length\"]), max=max(archi_params[\"max_leaf_length\"]), step=1, value=50)\n",
    "wl_slider=FloatSlider(min=min(archi_params[\"wl\"]), max=max(archi_params[\"wl\"]), step=0.01, value=0.12)\n",
    "diam_base_slider=fixed(archi_params[\"diam_base\"][0])\n",
    "diam_top_slider=fixed(archi_params[\"diam_top\"][0])\n",
    "insertion_angle_slider=IntSlider(min=min(archi_params[\"insertion_angle\"]), max=max(archi_params[\"insertion_angle\"]), step=1, value=30)\n",
    "scurv_slider=FloatSlider(min=min(archi_params[\"scurv\"]), max=max(archi_params[\"scurv\"]), step=0.01, value=0.7)\n",
    "curvature_slider=IntSlider(min=min(archi_params[\"curvature\"]), max=max(archi_params[\"curvature\"]), step=5, value=90)\n",
    "alpha_slider=fixed(archi_params[\"alpha\"][0])\n",
    "stem_q_slider=fixed(archi_params[\"stem_q\"][0])\n",
    "rmax_slider=FloatSlider(min=min(archi_params[\"rmax\"]), max=max(archi_params[\"rmax\"]), step=0.01, value=0.8)\n",
    "skew_slider=fixed(archi_params[\"skew\"][0])\n",
    "phyllotactic_angle_slider=fixed(archi_params[\"phyllotactic_angle\"][0])\n",
    "phyllotactic_deviation_slider=IntSlider(min=min(archi_params[\"phyllotactic_deviation\"]), max=max(archi_params[\"phyllotactic_deviation\"]), step=5, value=15)\n",
    "phyllochron_slider=IntSlider(min=min(archi_params[\"phyllochron\"]), max=max(archi_params[\"phyllochron\"]), step=1, value=55)\n",
    "plastochron_slider=IntSlider(min=min(archi_params[\"plastochron\"]), max=max(archi_params[\"plastochron\"]), step=1, value=40)\n",
    "leaf_duration_slider=FloatSlider(min=min(archi_params[\"leaf_duration\"]), max=max(archi_params[\"leaf_duration\"]), step=0.1, value=6)\n",
    "stem_duration_slider=FloatSlider(min=min(archi_params[\"stem_duration\"]), max=max(archi_params[\"stem_duration\"]), step=0.1, value=1.5)\n",
    "leaf_senescence_slider=IntSlider(min=min(archi_params[\"leaf_senescence\"]), max=max(archi_params[\"leaf_senescence\"]), step=10, value=700)\n",
    "\n",
    "time_slider = IntSlider(value=0, min=0, max=len(time), step=1, description=\"Time\")\n",
    "\n",
    "# Interactive widget setup\n",
    "play_widget = Play(value=0, min=0, max=len(time), step=1, interval=1000)\n",
    "\n",
    "# Link play widget with time slider\n",
    "jslink((play_widget, 'value'), (time_slider, 'value'))\n",
    "\n",
    "# Callback to update scene\n",
    "def update_scene(*args):\n",
    "    seed(100)\n",
    "    nb_phy = nb_phy_slider.value\n",
    "    max_leaf_length = max_leaf_length_slider.value\n",
    "    wl = wl_slider.value\n",
    "    diam_base = diam_base_slider.value\n",
    "    diam_top = diam_top_slider.value\n",
    "    insertion_angle = insertion_angle_slider.value\n",
    "    scurv = scurv_slider.value\n",
    "    curvature = curvature_slider.value\n",
    "    alpha = alpha_slider.value\n",
    "    stem_q = stem_q_slider.value\n",
    "    rmax = rmax_slider.value\n",
    "    skew = skew_slider.value\n",
    "    phyllotactic_angle = phyllotactic_angle_slider.value\n",
    "    phyllotactic_deviation = phyllotactic_deviation_slider.value\n",
    "    phyllochron = phyllochron_slider.value\n",
    "    plastochron = plastochron_slider.value\n",
    "    leaf_duration = leaf_duration_slider.value\n",
    "    stem_duration = stem_duration_slider.value\n",
    "    leaf_senescence = leaf_senescence_slider.value\n",
    "    time = time_slider.value\n",
    "    sorghum = ArchiCrop(height, nb_phy, max_leaf_length, wl, diam_base, diam_top, insertion_angle, scurv, curvature, alpha, \n",
    "                        stem_q, rmax, skew, phyllotactic_angle, phyllotactic_deviation, \n",
    "                        phyllochron, plastochron, leaf_duration, stem_duration, leaf_senescence)\n",
    "    sorghum.generate_potential_plant()\n",
    "    sorghum.define_development()\n",
    "    growing_plant = sorghum.grow_plant(stics_output_data)\n",
    "    Viewer.display(build_scene(growing_plant[time], leaf_material = Material(nice_green), stem_material=Material(nice_green))[0])\n",
    "    # PlantGL(build_scene(growing_plant[time]))\n",
    "\n",
    "# Attach update callback\n",
    "nb_phy_slider.observe(update_scene, names='value')\n",
    "max_leaf_length_slider.observe(update_scene, names='value')\n",
    "insertion_angle_slider.observe(update_scene, names='value')\n",
    "scurv_slider.observe(update_scene, names='value')\n",
    "curvature_slider.observe(update_scene, names='value')\n",
    "time_slider.observe(update_scene, names='value')\n",
    "\n",
    "# Display widgets\n",
    "controls = VBox([nb_phy_slider, max_leaf_length_slider, insertion_angle_slider, scurv_slider, curvature_slider, HBox([time_slider, play_widget])])\n",
    "display(controls)\n",
    "\n",
    "# Initial scene display\n",
    "update_scene()\n",
    "\n",
    "# cf github openalea weberpenn trunk_parameters"
   ]
  },
  {
   "cell_type": "code",
   "execution_count": 10,
   "id": "953c2ac3-326a-4933-8f62-bbb30a0b416b",
   "metadata": {},
   "outputs": [],
   "source": [
    "# same with population\n",
    "\n",
    "\n",
    "\n",
    "\n"
   ]
  },
  {
   "cell_type": "code",
   "execution_count": 11,
   "id": "eac460bc-0e5a-4b52-af1d-9e9067d6c718",
   "metadata": {},
   "outputs": [],
   "source": [
    "# same with light interception\n",
    "\n",
    "\n",
    "\n",
    "\n"
   ]
  },
  {
   "cell_type": "code",
   "execution_count": 12,
   "id": "e628e067-10d8-4e42-a113-83ee14a0fd19",
   "metadata": {},
   "outputs": [],
   "source": [
    "# for i in range(len(archi_params_combinations)):\n",
    "#     archi_without_height = archi_params_combinations[i]\n",
    "#     archi = (height_potential_plant, *archi_without_height)\n",
    "#     sorghum = ArchiCrop(*archi)\n",
    "#     sorghum.generate_potential_plant()\n",
    "#     sorghum.define_development()\n",
    "#     growing_plant = sorghum.grow_plant(stics_output_data)\n",
    "    \n",
    "#     gp_scenes = []\n",
    "#     LA = []\n",
    "#     for gp in growing_plant:\n",
    "#         # gp_scenes.append(build_scene(gp, leaf_material = Material(nice_green), stem_material=Material(nice_green))[0])\n",
    "#         leaf_area_plant = np.sum(np.array(compute_leaf_area_growing_plant(gp)))\n",
    "#         LA.append(leaf_area_plant)\n",
    "    \n",
    "#     plt.plot(time, LA)\n",
    "\n",
    "# LAI_stics = [value[\"Plant leaf area\"] for value in stics_output_data.values()]\n",
    "# plt.plot(time, LAI_stics, color=\"black\")\n",
    "# plt.show()"
   ]
  },
  {
   "cell_type": "code",
   "execution_count": 13,
   "id": "11958e95-9ac3-4394-98e7-df0fb14ef950",
   "metadata": {},
   "outputs": [],
   "source": [
    "def parametric_model_sorghum(time, max_leaf_length, leaf_duration):\n",
    "    \"\"\"\n",
    "    Define parametric model.\n",
    "\n",
    "    Args:\n",
    "    - max_leaf_length, phyllochron: Parameters of the model\n",
    "\n",
    "    Returns:\n",
    "    - leaf_areas: Output values corresponding to the model\n",
    "    \"\"\"\n",
    "\n",
    "    sorghum = ArchiCrop(height=222, # from crop model\n",
    "                        nb_phy=25,\n",
    "                        max_leaf_length=max_leaf_length,\n",
    "                        wl=0.12, diam_base=2.5, diam_top=1.5, \n",
    "                        insertion_angle=30, scurv=0.7, curvature=100, \n",
    "                        alpha=-2.3, stem_q=1.1, rmax=0.75, skew=0.08, # 0.0005\n",
    "                        phyllotactic_angle=180,\n",
    "                        phyllotactic_deviation=15,\n",
    "                        phyllochron=55, \n",
    "                        plastochron=45, \n",
    "                        leaf_duration=leaf_duration, \n",
    "                        stem_duration=2, \n",
    "                        leaf_senescence=800)\n",
    "    sorghum.generate_potential_plant()\n",
    "    sorghum.define_development()\n",
    "    growing_plant = sorghum.grow_plant(stics_output_data)\n",
    "\n",
    "    return [sum(compute_leaf_area_growing_plant(gp)) for gp in growing_plant]"
   ]
  },
  {
   "cell_type": "code",
   "execution_count": 14,
   "id": "1c1b8522-0cf6-437a-9e05-8355d62b6fdb",
   "metadata": {},
   "outputs": [
    {
     "ename": "NameError",
     "evalue": "name 'LAI_stics' is not defined",
     "output_type": "error",
     "traceback": [
      "\u001b[1;31m---------------------------------------------------------------------------\u001b[0m",
      "\u001b[1;31mNameError\u001b[0m                                 Traceback (most recent call last)",
      "Cell \u001b[1;32mIn[14], line 4\u001b[0m\n\u001b[0;32m      1\u001b[0m \u001b[38;5;28;01mfrom\u001b[39;00m \u001b[38;5;21;01mscipy\u001b[39;00m\u001b[38;5;21;01m.\u001b[39;00m\u001b[38;5;21;01moptimize\u001b[39;00m \u001b[38;5;28;01mimport\u001b[39;00m curve_fit\n\u001b[0;32m      3\u001b[0m \u001b[38;5;66;03m# Fit the model to crop model data and obtain optimal parameters\u001b[39;00m\n\u001b[1;32m----> 4\u001b[0m optimal_params, covariance \u001b[38;5;241m=\u001b[39m curve_fit(f\u001b[38;5;241m=\u001b[39mparametric_model_sorghum, xdata\u001b[38;5;241m=\u001b[39mtime, ydata\u001b[38;5;241m=\u001b[39m\u001b[43mLAI_stics\u001b[49m, bounds\u001b[38;5;241m=\u001b[39m([\u001b[38;5;241m20\u001b[39m,\u001b[38;5;241m1\u001b[39m],[\u001b[38;5;241m120\u001b[39m,\u001b[38;5;241m10\u001b[39m]), method\u001b[38;5;241m=\u001b[39m\u001b[38;5;124m'\u001b[39m\u001b[38;5;124mtrf\u001b[39m\u001b[38;5;124m'\u001b[39m) \u001b[38;5;66;03m# bounds to set from lit\u001b[39;00m\n\u001b[0;32m      5\u001b[0m se \u001b[38;5;241m=\u001b[39m np\u001b[38;5;241m.\u001b[39msqrt(np\u001b[38;5;241m.\u001b[39mdiag(covariance))\n\u001b[0;32m      7\u001b[0m \u001b[38;5;28mprint\u001b[39m(\u001b[38;5;124m\"\u001b[39m\u001b[38;5;124m                  Max leaf length  Leaf duration\u001b[39m\u001b[38;5;124m\"\u001b[39m)\n",
      "\u001b[1;31mNameError\u001b[0m: name 'LAI_stics' is not defined"
     ]
    }
   ],
   "source": [
    "from scipy.optimize import curve_fit\n",
    "\n",
    "# Fit the model to crop model data and obtain optimal parameters\n",
    "optimal_params, covariance = curve_fit(f=parametric_model_sorghum, xdata=time, ydata=LAI_stics, bounds=([20,1],[120,10]), method='trf') # bounds to set from lit\n",
    "se = np.sqrt(np.diag(covariance))\n",
    "\n",
    "print(\"                  Max leaf length  Leaf duration\")\n",
    "print(\"Optimized parameters:\", optimal_params)\n",
    "print(\"Covariances:\", covariance)\n",
    "print(\"Standard errors:\", se)\n",
    "\n",
    "# Visualize the fit\n",
    "plt.clf()\n",
    "plt.scatter(time, LAI_stics, color=(57/255,157/255,99/255), label='Simulation with STICS') # R 243, G 146, B 0\n",
    "res = parametric_model_sorghum(time, *optimal_params)\n",
    "plt.plot(time, np.array(res), color=(57/255,151/255,88/255), label='Simulation with ArchiCrop') # R 57, G 151, B 88\n",
    "plt.xlabel('Thermal time (°C.d)', fontsize=24)\n",
    "plt.ylabel('LAI', fontsize=24)\n",
    "# plt.legend()\n",
    "plt.show()"
   ]
  },
  {
   "cell_type": "code",
   "execution_count": null,
   "id": "6e5db56d-7512-4045-b1fb-a7965669c9f3",
   "metadata": {},
   "outputs": [],
   "source": [
    "def parametric_model_sorghum_nb_phy(time, max_leaf_length, nb_phy):\n",
    "    \"\"\"\n",
    "    Define parametric model.\n",
    "\n",
    "    Args:\n",
    "    - max_leaf_length, phyllochron: Parameters of the model\n",
    "\n",
    "    Returns:\n",
    "    - leaf_areas: Output values corresponding to the model\n",
    "    \"\"\"\n",
    "\n",
    "    sorghum = ArchiCrop(height=222, # from crop model\n",
    "                        nb_phy=nb_phy,\n",
    "                        max_leaf_length=max_leaf_length,\n",
    "                        wl=0.12, diam_base=2.5, diam_top=1.5, \n",
    "                        insertion_angle=30, scurv=0.7, curvature=100, \n",
    "                        alpha=-2.3, stem_q=1.1, rmax=0.75, skew=0.08, # 0.0005\n",
    "                        phyllotactic_angle=180,\n",
    "                        phyllotactic_deviation=15, phyllochron=55, plastochron=45, leaf_duration=5, stem_duration=2, leaf_senescence=800)\n",
    "    sorghum.generate_potential_plant()\n",
    "    sorghum.define_development()\n",
    "    growing_plant = sorghum.grow_plant(g, stics_output_data)\n",
    "\n",
    "    return [sum(compute_leaf_area_growing_plant(gp)) for gp in growing_plant]\n",
    "\n",
    "best_params = None\n",
    "best_error = float('inf')\n",
    "\n",
    "# Grid search over integer values for nb_phy\n",
    "for nb_phy in range(10, 36, 5):  # Integer bounds for nb_phy\n",
    "    def model_with_fixed_nb_phy(time, max_leaf_length):\n",
    "        return parametric_model_sorghum_nb_phy(time, max_leaf_length, nb_phy)\n",
    "    \n",
    "    try:\n",
    "        params, _ = curve_fit(\n",
    "            f=model_with_fixed_nb_phy,\n",
    "            xdata=time,\n",
    "            ydata=LAI_stics,\n",
    "            bounds=([20], [120]),  # Bounds for max_leaf_length only\n",
    "            method='trf'\n",
    "        )\n",
    "        error = np.sum((LAI_stics - model_with_fixed_nb_phy(time, params[0]))**2)\n",
    "        if error < best_error:\n",
    "            best_error = error\n",
    "            best_params = [params[0], nb_phy]\n",
    "            print(best_params)\n",
    "    except:\n",
    "        continue"
   ]
  },
  {
   "cell_type": "code",
   "execution_count": null,
   "id": "c4585731-08d3-4259-9b59-9bf465bc21ea",
   "metadata": {},
   "outputs": [],
   "source": [
    "time_slider = IntSlider(value=0, min=0, max=len(time), step=1, description=\"Time\")\n",
    "\n",
    "# Interactive widget setup\n",
    "play_widget = Play(value=0, min=0, max=len(time), step=1, interval=500)\n",
    "\n",
    "# Link play widget with time slider\n",
    "jslink((play_widget, 'value'), (time_slider, 'value'))\n",
    "\n",
    "# Callback to update scene\n",
    "def update_scene(*args):\n",
    "    time = time_slider.value\n",
    "    Viewer.display(gp_scenes[time])\n",
    "\n",
    "# Attach update callback\n",
    "time_slider.observe(update_scene, names='value')\n",
    "\n",
    "# Display widgets\n",
    "controls = HBox([time_slider, play_widget])\n",
    "display(controls)\n",
    "\n",
    "# Initial scene display\n",
    "update_scene()\n",
    "\n",
    "# cf github openalea weberpenn trunk_parameters"
   ]
  },
  {
   "cell_type": "code",
   "execution_count": null,
   "id": "353e0953-b5cc-418f-ad24-256997d2c48e",
   "metadata": {},
   "outputs": [],
   "source": [
    "## Imports\n",
    "\n",
    "# from installed packages\n",
    "from random import *\n",
    "\n",
    "# from archicrop\n",
    "from openalea.archicrop.stand import agronomic_plot\n",
    "\n",
    "# Enable plotting with PlantGL\n",
    "%gui qt\n",
    "\n",
    "## Code for generating ...\n",
    "# Fix a seed\n",
    "seed(100)\n",
    "\n",
    "# Initialize the list of plants\n",
    "plants_in_crop=[]\n",
    "\n",
    "# Fixed parameters for all plants\n",
    "length_plot=5\n",
    "width_plot=5\n",
    "sowing_density=8\n",
    "plant_density=8\n",
    "inter_row=0.4\n",
    "nplants, positions, domain, domain_area, unit = agronomic_plot(length_plot, \n",
    "                                                               width_plot, \n",
    "                                                               sowing_density, \n",
    "                                                               inter_row, \n",
    "                                                               noise=0.1)\n",
    "\n",
    "# For loop over all the plants in the crop\n",
    "for n in range(nplants):\n",
    "\n",
    "    # Parameters \n",
    "    max_leaf_length=optimal_params[0]\n",
    "\n",
    "    height=222                 # from crop model\n",
    "    nb_phy=18\n",
    "    \n",
    "    \n",
    "    shoot, g = build_shoot(nb_phy=nb_phy,\n",
    "                            height=height,\n",
    "                            max_leaf_length=max_leaf_length,\n",
    "                            wl=0.12, diam_base=2.5, diam_top=0.5, \n",
    "                            insertion_angle=30, scurv=0.4, curvature=150, \n",
    "                            alpha=-2.3, stem_q=1, rmax=0.8, skew=0.005, # 0.0005\n",
    "                            phyllotactic_angle=180,\n",
    "                            phyllotactic_deviation=15,\n",
    "                            plant_orientation=45)\n",
    "    \n",
    "    # Fill the list of plants\n",
    "    plants_in_crop.append(g) # put all plants in the same mtg to be able to visualize the dynamic growth easily\n",
    "\n",
    "# Build and display scene\n",
    "scene_var, nump = build_scene(plants_in_crop, positions, leaf_material=Material(nice_green), stem_material=Material(nice_green))\n",
    "PlantGL(scene_var)\n",
    "# interact(grow_plant_and_display_in_NB, g=fixed(plants_in_crop), time=IntSlider(min=20, max=2000, step=20, value=1000))"
   ]
  }
 ],
 "metadata": {
  "kernelspec": {
   "display_name": "oa3",
   "language": "python",
   "name": "oa3"
  },
  "language_info": {
   "codemirror_mode": {
    "name": "ipython",
    "version": 3
   },
   "file_extension": ".py",
   "mimetype": "text/x-python",
   "name": "python",
   "nbconvert_exporter": "python",
   "pygments_lexer": "ipython3",
   "version": "3.12.2"
  },
  "widgets": {
   "application/vnd.jupyter.widget-state+json": {
    "state": {
     "09e5e95884784b6d81c35be2ba84b0be": {
      "model_module": "@jupyter-widgets/controls",
      "model_module_version": "2.0.0",
      "model_name": "IntSliderModel",
      "state": {
       "behavior": "drag-tap",
       "layout": "IPY_MODEL_a3ca3e06e4314dcc823cdf0a960e06a3",
       "max": 46,
       "min": 34,
       "style": "IPY_MODEL_736483e89610420a8fc5b637272bceb4",
       "value": 40
      }
     },
     "0b8a0c55dd1f4c49a9128457785a10e8": {
      "model_module": "k3d",
      "model_module_version": "2.16.1",
      "model_name": "PlotModel",
      "state": {
       "_backend_version": "2.16.1",
       "antialias": 3,
       "auto_rendering": true,
       "axes": [
        "x",
        "y",
        "z"
       ],
       "axes_helper": 1,
       "axes_helper_colors": [
        16711680,
        65280,
        255
       ],
       "background_color": 16777215,
       "camera": [],
       "camera_animation": [],
       "camera_auto_fit": true,
       "camera_damping_factor": 0,
       "camera_fov": 60,
       "camera_mode": "trackball",
       "camera_no_pan": false,
       "camera_no_rotate": false,
       "camera_no_zoom": false,
       "camera_pan_speed": 0.3,
       "camera_rotate_speed": 1,
       "camera_zoom_speed": 1.2,
       "clipping_planes": [],
       "colorbar_object_id": -1,
       "colorbar_scientific": false,
       "custom_data": null,
       "fps": 25,
       "fps_meter": false,
       "grid": [
        -1,
        -1,
        -1,
        1,
        1,
        1
       ],
       "grid_auto_fit": true,
       "grid_color": 15132390,
       "grid_visible": true,
       "height": 512,
       "label_color": 4473924,
       "layout": "IPY_MODEL_80e822bf8d2b4430acb1414adef2d100",
       "lighting": 3,
       "logarithmic_depth_buffer": true,
       "manipulate_mode": "translate",
       "menu_visibility": true,
       "minimum_fps": -1,
       "mode": "view",
       "name": null,
       "object_ids": [
        2123831434160
       ],
       "rendering_steps": 1,
       "screenshot": "",
       "screenshot_scale": 2,
       "snapshot": "",
       "snapshot_type": "full",
       "time": 0,
       "voxel_paint_color": 0
      }
     },
     "0da3c2af22ac478594d1b3cfefbd2177": {
      "model_module": "@jupyter-widgets/output",
      "model_module_version": "1.0.0",
      "model_name": "OutputModel",
      "state": {
       "layout": "IPY_MODEL_50db4c31cc004e42ba9193e5c041cea0",
       "outputs": [
        {
         "data": {
          "application/vnd.jupyter.widget-view+json": {
           "model_id": "0b8a0c55dd1f4c49a9128457785a10e8",
           "version_major": 2,
           "version_minor": 0
          },
          "text/plain": "Plot(antialias=3, axes=['x', 'y', 'z'], axes_helper=1.0, axes_helper_colors=[16711680, 65280, 255], background…"
         },
         "metadata": {},
         "output_type": "display_data"
        }
       ]
      }
     },
     "0f153a643e33419e8c5c6b1023e36c61": {
      "model_module": "@jupyter-widgets/controls",
      "model_module_version": "2.0.0",
      "model_name": "IntSliderModel",
      "state": {
       "behavior": "drag-tap",
       "description": "insertion_angle",
       "layout": "IPY_MODEL_d9ef43f30bef48c09ef0cacd549a6506",
       "max": 30,
       "min": 30,
       "style": "IPY_MODEL_cdc0b05ecf1b43fda2ba0ca72d4965f9",
       "value": 30
      }
     },
     "0f372f2ee4014bbcbffa929e417316c2": {
      "model_module": "@jupyter-widgets/controls",
      "model_module_version": "2.0.0",
      "model_name": "IntSliderModel",
      "state": {
       "behavior": "drag-tap",
       "description": "max_leaf_length",
       "layout": "IPY_MODEL_c39973b442154cfbb0ac9644a628d550",
       "max": 120,
       "min": 60,
       "style": "IPY_MODEL_456ec9451a5b47bfb4251a7cfcccc7e7",
       "value": 85
      }
     },
     "11a8452df632457684121b490d20cb1c": {
      "model_module": "@jupyter-widgets/controls",
      "model_module_version": "2.0.0",
      "model_name": "SliderStyleModel",
      "state": {
       "description_width": ""
      }
     },
     "13623f16b1c64dae8fca2df05c15d82b": {
      "model_module": "@jupyter-widgets/base",
      "model_module_version": "2.0.0",
      "model_name": "LayoutModel",
      "state": {}
     },
     "1517b005a4ce4b989f25ce0b6fec5564": {
      "model_module": "@jupyter-widgets/controls",
      "model_module_version": "2.0.0",
      "model_name": "SliderStyleModel",
      "state": {
       "description_width": ""
      }
     },
     "18af22f75f9849b5a7c8380f5aa6cd0c": {
      "model_module": "@jupyter-widgets/base",
      "model_module_version": "2.0.0",
      "model_name": "LayoutModel",
      "state": {}
     },
     "19b6170d66b146b8855f354c2ed3ad6e": {
      "model_module": "@jupyter-widgets/base",
      "model_module_version": "2.0.0",
      "model_name": "LayoutModel",
      "state": {}
     },
     "1b756b40dc8a46da87b6bd29654a2038": {
      "model_module": "@jupyter-widgets/controls",
      "model_module_version": "2.0.0",
      "model_name": "SliderStyleModel",
      "state": {
       "description_width": ""
      }
     },
     "1d18841cdb6f42eeb9da1cd2227c0211": {
      "model_module": "@jupyter-widgets/controls",
      "model_module_version": "2.0.0",
      "model_name": "SliderStyleModel",
      "state": {
       "description_width": ""
      }
     },
     "1e0ae546d4264b0e851774e2df059039": {
      "model_module": "@jupyter-widgets/controls",
      "model_module_version": "2.0.0",
      "model_name": "SliderStyleModel",
      "state": {
       "description_width": ""
      }
     },
     "25d9e4d9971f408d80c47970d71b4619": {
      "buffers": [
       {
        "data": "",
        "encoding": "base64",
        "path": [
         "attribute",
         "data"
        ]
       },
       {
        "data": "AAAAAKabxDpvEgM607xjPCSXfzuZuxY7w2SqOgdfmDwkl/870ERYO+AtEDsUP8Y8ylRBPLx0kzuJ0l47/yH9PEmdgDymm8Q7dQKaOwkbHj0ukKA8SFD8O4LixztbsT89EoPAPFJJHTxIUPw7irBhPa5H4TxbsT88dQIaPEoMgj1JnQA9QmBlPDSANzxPQJM9vJYQPbn8hzxioVY8VHSkPS6QID3A7J48/mV3PMbctT2giTA9NIC3PATnjDw5Rcc97utAPYZa0zwJG548GeLYPWDlUD1F2PA8xSCwPGiz6j3T3mA9cM4IPYEmwjwkufw9RdhwPVFrGj09LNQ8cF8HPtxogD3EQi09+THmPIV8ED4Cmog9NxpAPbU3+DwHzhk+vJaQPYZaUz24HgU9ih8jPnWTmD2wA2c9u7gNPQ1xLD4ukKA9tRV7PeLpFT3G3DU+VcGoPUvIhz0tsh097nw/Pg6+sD0qOpI9nRElPRUdST7Hurg9duCcPVafKz08vVI+gLfAPZ7vpz1XWzE9mndcPjm0yD3F/rI9fa42PfkxZj5g5dA9yXa+PRHHOj2OBnA+GeLYPTojyj3tDT497MB5PtPe4D2GONY9EoNAPaW9gT6M2+g9003iPYEmQj3UmoY+RdjwPWkA7z04+EI96GqLPmwJ+T3/svs9XI9CPeAtkD4SgwA+OGcEPqW9QT2945Q+b4EEPigPCz43GkA9Y3+ZPsx/CD5O0RE+Njw9PdIAnj5fmAw+rK0YPjVeOj3uWqI+vJYQPgmKHz59rjY9uY2mPhiVFD7UmiY+6pUyPUymqj51kxg+n6stPnsULj1yiq4+0ZEcPmq8ND4Mkyk9KjqyPmWqID42zTs+nRElPY/CtT7BqCQ+OPhCPgn5ID1sCbk+HqcoPgMJSj5SSR099ii8PnqlLD7OGVE+dQIaPRIUvz7XozA+mSpYPlCNFz3c18E+arw0Pi0hXz7i6RU9HVrEPse6OD75MWY+KxgVPQu1xj4kuTw+Vg5tPisYFT2n6Mg+gLdAPuoEdD7i6RU98fTKPhTQRD5I4Xo+K/YXPc3MzD5wzkg+t9GAPlFrGj1yis4+zcxMPsoyhD4JGx49xSDQPinLUD7ek4c+nDMiPcWP0T6GyVQ+1eeKPsKGJz2q8dI+GeJYPs07jj6fqy09PSzUPnbgXD7Fj5E+fdAzPZhM1T7T3mA+veOUPhHHOj29UtY+L91kPpkqmD5cj0I9x0vXPsP1aD52cZs+qFdKPZkq2D4f9Gw+NquePs6IUj0179g+fPJwPhPyoT7RIls9tabZPtjwdD7UK6U+07xjPRpR2j4173g+lWWoPrG/bD1I4do+yAd9Plafqz5rK3Y9WmTbPhKDgD4X2a4+SS5/PVHa2z5BgoI+1xKyPgFNhD0tQ9w+b4GEPn0/tT7eAok97Z7cPp2Ahj4+ebg+u7iNPZHt3D7njIg+46W7PgWjkj0bL90+FYyKPqTfvj7iWJc9iGPdPkSLjD5KDMI+LUOcPduK3T5yio4+7zjFPgn5oD0tst0+vJaQPrByyD7mrqU9SL/dPuqVkj5Wn8s+MZmqPWTM3T4YlZQ++8vOPg5Prz1kzN0+RpSWPqH40T7qBLQ9SL/dPnWTmD5GJdU+x7q4PRKl3T6+n5o+7FHYPqRwvT3bit0+7Z6cPqyL2z6BJsI9iGPdPhuenj5SuN4+XdzGPRsv3T5JnaA+9+ThPsxdyz2t+tw+eJyiPp0R5T6pE9A9JLncPsGopD5eS+g+GJXUPX9q3D7wp6Y+A3jrPvVK2T2/Dtw+HqeoPqmk7j5kzN09/7LbPkymqj5O0fE+003iPSNK2z6Wsqw+Dwv1PrAD5z1I4do+xLGuPrU3+D4fhes9NV7aPvKwsD5aZPs+jgbwPT7o2T4hsLI+G57+Pv2H9D0QWNk+T6+0PmDlAD9sCfk948fYPpm7tj6zewI/24r9PZkq2D7Hurg+kxgEPyUGAT40gNc+9bm6PuauBT+lLAM+tMjWPiS5vD45RQc/XW0FPjQR1j5SuL4+GeIIPxSuBz60WdU+nMTAPmx4Cj/M7gk+/YfUPsrDwj5NFQw/gy8MPka20z74wsQ+n6sNPztwDj5z19I+J8LGPvJBDz/ysBA+ofjRPnDOyD7T3hA/4QsTPrMM0T6fzco+JXUSP5hMFT6pE9A+zczMPngLFD9QjRc+hA3PPvvLzj7LoRU/PugZPl8Hzj4py9A+HTgXPy1DHD4f9Mw+c9fSPnDOGD/kgx4+w9PLPqHW1D7DZBo/CfkgPmizyj7Q1dY+FvsbP/hTIz7whck+/tTYPmiRHT/mriU+XkvIPkjh2j67Jx8/CyQoPssQxz524Nw+gLcgPzGZKj4dycU+pN/ePtNNIj9WDi0+VHTEPtPe4D6Y3SM/e4MvPoofwz4B3uI+63MlP9cSMj6lvcE+S+rkPrADJz80ojQ+pU7APnnp5j51kyg/x0s3PonSvj6n6Og+rBwqPyPbOT5tVr0+1efqPnGsKz/tnjw+Udq7PgTn7D6oNS0/gEg/Pv5Duj5N8+4+bcUuP0oMQj7Hurg+fPLwPqVOMD8U0EQ+WRe3Pqrx8j5O0TE/FK5HPutztT7Y8PQ+hlozP0ymSj5hw7M+Iv32Pi/dND9NhE0+1xKyPlD8+D7ZXzY/vJZQPjJVsD5/+/o+guI3P/OOUz5yiq4+rfr8Pp5eOT+Zu1Y+sb+sPtv5/j662jo/PuhZPvH0qj4SgwA/1lY8P+QUXT75D6k+qoIBP2TMPT/AW2A+HTinPkGCAj/yQT8/07xjPiZTpT7YgQM/gLdAP+cdZz4TYaM+b4EEP4EmQj8xmWo+AG+hPpSHBT+BlUM/si5uPtJvnz4rhwY/gQRFPzPEcT6kcJ0+woYHP/RsRj/rc3U+WmSbPlmGCD/Zzkc/oyN5PhBYmT5+jAk/vjBJP8gHfT7HS5c+FYwKP6OSSj/3dYA+YTKVPqyLCz/67Us/CmiCPvwYkz5Eiww/UklNP1R0hD588pA+24oNPxueTj+dgIY++8uOPgCRDj9X7E8/ApqIPnqljD6XkA8/kzpRP4PAij7ecYo+LpAQP86IUj8E54w+Qj6IPsWPET990FM/oBqPPov9hT5cjxI/nRFVP1dbkT7vyYM+gZUTP71SVj8qqZM+N4mBPhiVFD9QjVc//faVPgCRfj6vlBU/VcFYPwdfmD5a9Xk+RpQWP1r1WT8Rx5o+tFl1PmuaFz/RIls/Gy+dPg6+cD4Cmhg/uklcP1uxnz5oImw+mpkZP6RwXT+cM6I+woZnPjGZGj8AkV4/+MKkPuXQYj7ImBs/zqpfP3Bfpz4JG14+7Z4cP5zEYD8DCao+LGVZPoSeHT/c12E/lrKsPhiVVD4bnh4/j+RiP0Rprz47308+sp0fP7PqYz8OLbI+KA9LPtejID/Y8GQ/2PC0PhQ/Rj5uoyE/b/BlP77Btz4Ab0E+BaMiP3npZj++n7o+toQ8PpyiIz/122c/v329PqK0Nz40oiQ/cM5oP/d1wD5YyjI+WKglP166aT8TYcM+DeAtPvCnJj++n2o/ZmbGPozbKD6Hpyc/kX5rP7pryT5B8SM+HqcoP9ZWbD8ofsw+wOwePrWmKT8bL20/l5DPPj7oGT7arCo/RPptPyGw0j694xQ+cawrP23Fbj+rz9U+BcUPPgisLD8Jim8/UPzYPkymCj6fqy0/pU5wPxE23D6UhwU+xLEuPyUGcT/Sb98+3GgAPluxLz+lvXE/rrbiPkaU9j3ysDA/mG5yP4v95T5oIuw9irAxP/wYcz+DUek+irDhPSGwMj/TvHM/eqXsPj0K1z1GtjM/HVp0P3L57z5fmMw93bU0P2b3dD+hZ/M+E/LBPXS1NT+Uh3U/tMj2PsdLtz0LtTY/whd2P+M2+j56paw9orQ3P2Khdj8tsv0+Lv+hPce6OD90JHc/LpAAP+JYlz1eujk/+aB3P2FUAj+Wsow99bk6P34deD8GEgQ/SgyCPYy5Oz/njHg/xtwFP9c0bz2xvzw/UPx4P/mgBz8aUVo9SL89PyxleT+6awk/FD9GPeC+Pj96x3k/ejYLP+qVMj13vj8/OiN6PzsBDT9SJyA9Dr5AP2x4ej+J0g4/TfMOPTPEQT+fzXo/ZaoQP0mdAD3Kw0I/tRV7P7N7Ej/VeOk8YcNDP8xdez+PUxQ/YqHWPPjCRD9Wn3s/aysWP6hXyjyPwkU/Udp7P0cDGD84+MI8tMhGP78OfD+x4Rk/ylTBPEvIRz+fPHw/GsAbPxQ/xjzjx0g/f2p8PxKlHT8Xt9E8esdJP0SLfD97gx8/07zjPJ/NSj8IrHw/c2ghP/8h/Tw2zUs/sb98P2pNIz9N8w49zcxMP1vTfD9hMiU/L24jPWTMTT924Hw/5x0nPxHHOj37y04/BOd8P2wJKT9hw1M9INJPPwTnfD9j7io/+8tuPbfRUD8E53w/duAsPwK8hT1O0VE/6Nl8P/vLLj/hepQ95dBSP83MfD8OvjA/CtejPQrXUz+Wsnw/k6kyPw+csz2h1lQ/X5h8P6abND9d/sM9OdZVP5p3fD9GlDY/hsnUPdDVVj9IUHw/WYY4Px3J5T1n1Vc/aCJ8P2x4Oj/+Zfc9jNtYP/rtez8NcTw/ppsEPiPbWT//sns/rWk+P/LSDT662lo/dnF7P8BbQD90JBc+UdpbP+wvez9hVEI/ZaogPujZXD9I4Xo/AU1EP8NkKj4N4F0/o5J6P6JFRj9YOTQ+pN9eP3E9ej/QREg/klw+PjvfXz+x4Xk/cT1KPzm0SD7T3mA/Y395PxE2TD9PQFM+9+RhPxUdeT+yLk4/CRtePo/kYj85tHg/UidQPzAqaT4m5GM/0ER4P/MfUj/GbXQ+veNkP9nOdz+TGFQ/AACAPlTjZT/iWHc/NBFWP1TjhT556WY/6+J2P0cDWD8W+4s+EOlnP2Zmdj/n+1k/Di2SPqfoaD/i6XU/+u1bP3WTmD4+6Gk/XW11P3/ZXT8tIZ8+1edqP9jwdD8FxV8/VOOlPvrtaz/henQ/irBhP83MrD6R7Ww/6gR0P/OOYz+z6rM+Ke1tP4GVcz9dbWU/7C+7PsDsbj8zM3M/OUVnP662wj7l8m8/Ad5yP4cWaT/DZMo+fPJwP+qVcj+62mo/RUfSPhPycT98YXI/X5hsPxpR2j6q8XI/RUdyP+lIbj9BguI+QfFzP0VHcj9X7G8/n83qPmb3dD8KaHI/HHxxPzMz8z799nU/k6lyP1MFcz/ImPs+lPZ2P28Scz9vgXQ/vAUCPyv2dz+conM/4ul1P/kxBj/D9Xg/HVp0PzlFdz+oVwo/5/t5P+84dT91k3g/rWkOP3/7ej+GOHY/ldR5PwpoEj8W+3s/4lh3PygPez+9UhY/rfp8P5CgeD+fPHw/xykaP9IAfj/n+3k/iGN9P5vmHT9pAH8/A3h7P1Z9fj83iSE/AACAP8gHfT8kl38/KxglPw==",
        "encoding": "base64",
        "path": [
         "color_map",
         "data"
        ]
       },
       {
        "data": "",
        "encoding": "base64",
        "path": [
         "colors",
         "data"
        ]
       },
       {
        "data": "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",
        "encoding": "base64",
        "path": [
         "indices",
         "data"
        ]
       },
       {
        "data": "AACAPwAAAAAAAAAAAAAAAAAAAAAAAIA/AAAAAAAAAAAAAAAAAAAAAAAAgD8AAAAAAAAAAAAAAAAAAAAAAACAPw==",
        "encoding": "base64",
        "path": [
         "model_matrix",
         "data"
        ]
       },
       {
        "data": "",
        "encoding": "base64",
        "path": [
         "normals",
         "data"
        ]
       },
       {
        "data": "",
        "encoding": "base64",
        "path": [
         "opacity_function",
         "data"
        ]
       },
       {
        "data": "",
        "encoding": "base64",
        "path": [
         "triangles_attribute",
         "data"
        ]
       },
       {
        "data": "AADAfw==",
        "encoding": "base64",
        "path": [
         "uvs",
         "data"
        ]
       },
       {
        "data": "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",
        "encoding": "base64",
        "path": [
         "vertices",
         "data"
        ]
       },
       {
        "data": "",
        "encoding": "base64",
        "path": [
         "volume",
         "data"
        ]
       },
       {
        "data": "",
        "encoding": "base64",
        "path": [
         "volume_bounds",
         "data"
        ]
       }
      ],
      "model_module": "k3d",
      "model_module_version": "2.16.1",
      "model_name": "ObjectModel",
      "state": {
       "_view_module": null,
       "_view_module_version": "",
       "_view_name": null,
       "attribute": {
        "dtype": "float32",
        "shape": [
         0
        ]
       },
       "click_callback": false,
       "color": 3302400,
       "colorLegend": false,
       "color_map": {
        "dtype": "float32",
        "shape": [
         1024
        ]
       },
       "color_range": [],
       "colors": {
        "dtype": "uint32",
        "shape": [
         0
        ]
       },
       "compression_level": 0,
       "custom_data": null,
       "flat_shading": true,
       "group": null,
       "hover_callback": false,
       "id": 2123857220848,
       "indices": {
        "dtype": "uint32",
        "shape": [
         1638,
         3
        ]
       },
       "model_matrix": {
        "dtype": "float32",
        "shape": [
         4,
         4
        ]
       },
       "name": "Mesh #1",
       "normals": {
        "dtype": "float32",
        "shape": [
         0
        ]
       },
       "opacity": 1,
       "opacity_function": {
        "dtype": "float32",
        "shape": [
         0
        ]
       },
       "side": "front",
       "texture": null,
       "texture_file_format": null,
       "triangles_attribute": {
        "dtype": "float32",
        "shape": [
         0
        ]
       },
       "type": "Mesh",
       "uvs": {
        "dtype": "float32",
        "shape": []
       },
       "vertices": {
        "dtype": "float32",
        "shape": [
         1036,
         3
        ]
       },
       "visible": true,
       "volume": {
        "dtype": "float32",
        "shape": [
         0
        ]
       },
       "volume_bounds": {
        "dtype": "float32",
        "shape": [
         0
        ]
       },
       "wireframe": false
      }
     },
     "262b729a04f74ecabd3a56707174f884": {
      "model_module": "@jupyter-widgets/controls",
      "model_module_version": "2.0.0",
      "model_name": "SliderStyleModel",
      "state": {
       "description_width": ""
      }
     },
     "266d66ca939e48ad8e8e5590cf284df1": {
      "model_module": "@jupyter-widgets/base",
      "model_module_version": "2.0.0",
      "model_name": "LayoutModel",
      "state": {}
     },
     "28adc07a52824ac1948891adb0c7bbe1": {
      "model_module": "@jupyter-widgets/controls",
      "model_module_version": "2.0.0",
      "model_name": "FloatSliderModel",
      "state": {
       "behavior": "drag-tap",
       "description": "wl",
       "layout": "IPY_MODEL_13623f16b1c64dae8fca2df05c15d82b",
       "max": 0.12,
       "min": 0.12,
       "step": 0.01,
       "style": "IPY_MODEL_6a6f89c1b7ae4891a16f7dc7185e8f0b",
       "value": 0.12
      }
     },
     "28eb7a4f165b470ba1172299d0404424": {
      "model_module": "@jupyter-widgets/controls",
      "model_module_version": "2.0.0",
      "model_name": "SliderStyleModel",
      "state": {
       "description_width": ""
      }
     },
     "2c6b34329fc04aa69f566226d69eb50a": {
      "model_module": "@jupyter-widgets/controls",
      "model_module_version": "2.0.0",
      "model_name": "SliderStyleModel",
      "state": {
       "description_width": ""
      }
     },
     "2e33526663544693846aa115aabbcea8": {
      "model_module": "@jupyter-widgets/controls",
      "model_module_version": "2.0.0",
      "model_name": "SliderStyleModel",
      "state": {
       "description_width": ""
      }
     },
     "2f4f8a1447014dd3b91acbc61d1e4181": {
      "model_module": "@jupyter-widgets/controls",
      "model_module_version": "2.0.0",
      "model_name": "SliderStyleModel",
      "state": {
       "description_width": ""
      }
     },
     "315a7cde017144d795d1ce4ceb4a915a": {
      "model_module": "@jupyter-widgets/controls",
      "model_module_version": "2.0.0",
      "model_name": "IntSliderModel",
      "state": {
       "behavior": "drag-tap",
       "layout": "IPY_MODEL_19b6170d66b146b8855f354c2ed3ad6e",
       "max": 30,
       "min": 30,
       "style": "IPY_MODEL_2f4f8a1447014dd3b91acbc61d1e4181",
       "value": 30
      }
     },
     "359dfe127f7e4e0ca0944a4a0fbbc25b": {
      "model_module": "@jupyter-widgets/base",
      "model_module_version": "2.0.0",
      "model_name": "LayoutModel",
      "state": {}
     },
     "36b1b4883e6c44c48e423a9024944f24": {
      "model_module": "@jupyter-widgets/controls",
      "model_module_version": "2.0.0",
      "model_name": "IntSliderModel",
      "state": {
       "behavior": "drag-tap",
       "description": "phyllotactic_deviation",
       "layout": "IPY_MODEL_9b0122423d9e4d598f53eec11f3f3b7c",
       "max": 15,
       "min": 15,
       "step": 5,
       "style": "IPY_MODEL_ee8b9ba7bb31454aac275edb53fa177d",
       "value": 15
      }
     },
     "3a38a94820ab474a93075ab9ade1b955": {
      "model_module": "@jupyter-widgets/base",
      "model_module_version": "2.0.0",
      "model_name": "LayoutModel",
      "state": {}
     },
     "3f8c6c1ff3104ddca335ec6ca7bb7657": {
      "model_module": "@jupyter-widgets/base",
      "model_module_version": "2.0.0",
      "model_name": "LayoutModel",
      "state": {}
     },
     "456ec9451a5b47bfb4251a7cfcccc7e7": {
      "model_module": "@jupyter-widgets/controls",
      "model_module_version": "2.0.0",
      "model_name": "SliderStyleModel",
      "state": {
       "description_width": ""
      }
     },
     "45f2bb65af634cc59881013d24380ea2": {
      "model_module": "@jupyter-widgets/controls",
      "model_module_version": "2.0.0",
      "model_name": "IntSliderModel",
      "state": {
       "behavior": "drag-tap",
       "layout": "IPY_MODEL_59e82c561abe4949b05453a1c664a4da",
       "max": 15,
       "min": 15,
       "step": 5,
       "style": "IPY_MODEL_1e0ae546d4264b0e851774e2df059039",
       "value": 15
      }
     },
     "47d2fe2b48b74352849aa82c38d02e05": {
      "model_module": "@jupyter-widgets/controls",
      "model_module_version": "2.0.0",
      "model_name": "VBoxModel",
      "state": {
       "children": [
        "IPY_MODEL_4c41859cd57441ca81a1299be65479bb",
        "IPY_MODEL_fffd025b5e014a43a59724a04b0a9b29",
        "IPY_MODEL_315a7cde017144d795d1ce4ceb4a915a",
        "IPY_MODEL_5a579f6e949348e2b0575a4183992e57",
        "IPY_MODEL_658ddb2f52ad4783930bf363252fcba3",
        "IPY_MODEL_e661d198f9e64c0aa9116fd967c63ab1"
       ],
       "layout": "IPY_MODEL_5375ddf183134d6d90d49530e1f82ec9"
      }
     },
     "4a3003cdb2dc45d0902a7cf159cb177f": {
      "model_module": "k3d",
      "model_module_version": "2.16.1",
      "model_name": "PlotModel",
      "state": {
       "_backend_version": "2.16.1",
       "antialias": 3,
       "auto_rendering": true,
       "axes": [
        "x",
        "y",
        "z"
       ],
       "axes_helper": 1,
       "axes_helper_colors": [
        16711680,
        65280,
        255
       ],
       "background_color": 16777215,
       "camera": [
        231.54168503590424,
        -349.5379094050527,
        147.50229205400566,
        -1.5426063537597656,
        0.08852767944335938,
        124.19386291503906,
        0,
        0,
        1
       ],
       "camera_animation": [],
       "camera_auto_fit": true,
       "camera_damping_factor": 0,
       "camera_fov": 60,
       "camera_mode": "trackball",
       "camera_no_pan": false,
       "camera_no_rotate": false,
       "camera_no_zoom": false,
       "camera_pan_speed": 0.3,
       "camera_rotate_speed": 1,
       "camera_zoom_speed": 1.2,
       "clipping_planes": [],
       "colorbar_object_id": -1,
       "colorbar_scientific": false,
       "custom_data": null,
       "fps": 25,
       "fps_meter": false,
       "grid": [
        -1,
        -1,
        -1,
        1,
        1,
        1
       ],
       "grid_auto_fit": true,
       "grid_color": 15132390,
       "grid_visible": true,
       "height": 512,
       "label_color": 4473924,
       "layout": "IPY_MODEL_86c53771ade34177a0a074098b9d2626",
       "lighting": 3,
       "logarithmic_depth_buffer": true,
       "manipulate_mode": "translate",
       "menu_visibility": true,
       "minimum_fps": -1,
       "mode": "view",
       "name": null,
       "object_ids": [
        2123857220848
       ],
       "rendering_steps": 1,
       "screenshot": "",
       "screenshot_scale": 2,
       "snapshot": "",
       "snapshot_type": "full",
       "time": 0,
       "voxel_paint_color": 0
      }
     },
     "4bfd3467d056426c95a09c340bc4213f": {
      "model_module": "@jupyter-widgets/controls",
      "model_module_version": "2.0.0",
      "model_name": "IntSliderModel",
      "state": {
       "behavior": "drag-tap",
       "description": "Time",
       "layout": "IPY_MODEL_e4a0b7f30f81444c90eeaa05d2f09621",
       "max": 76,
       "style": "IPY_MODEL_c625ab470661456fad969d1a77906451",
       "value": 62
      }
     },
     "4c41859cd57441ca81a1299be65479bb": {
      "model_module": "@jupyter-widgets/controls",
      "model_module_version": "2.0.0",
      "model_name": "IntSliderModel",
      "state": {
       "behavior": "drag-tap",
       "layout": "IPY_MODEL_4df8107c0b8e4cbfad7c5fbfdfcf40dc",
       "max": 40,
       "min": 10,
       "style": "IPY_MODEL_e4ff2bcb7dac42f99d9da7bfeb062a5f",
       "value": 15
      }
     },
     "4df8107c0b8e4cbfad7c5fbfdfcf40dc": {
      "model_module": "@jupyter-widgets/base",
      "model_module_version": "2.0.0",
      "model_name": "LayoutModel",
      "state": {}
     },
     "50953bc3221b408c827d8e5af78fca91": {
      "model_module": "@jupyter-widgets/controls",
      "model_module_version": "2.0.0",
      "model_name": "IntSliderModel",
      "state": {
       "behavior": "drag-tap",
       "layout": "IPY_MODEL_db6f669ea960462c89fddc783af2560b",
       "max": 1000,
       "min": 500,
       "step": 10,
       "style": "IPY_MODEL_2c6b34329fc04aa69f566226d69eb50a",
       "value": 700
      }
     },
     "50db4c31cc004e42ba9193e5c041cea0": {
      "model_module": "@jupyter-widgets/base",
      "model_module_version": "2.0.0",
      "model_name": "LayoutModel",
      "state": {}
     },
     "5375ddf183134d6d90d49530e1f82ec9": {
      "model_module": "@jupyter-widgets/base",
      "model_module_version": "2.0.0",
      "model_name": "LayoutModel",
      "state": {}
     },
     "59e82c561abe4949b05453a1c664a4da": {
      "model_module": "@jupyter-widgets/base",
      "model_module_version": "2.0.0",
      "model_name": "LayoutModel",
      "state": {}
     },
     "59fb82e77acd4627a599fe5b4b1b7540": {
      "model_module": "@jupyter-widgets/base",
      "model_module_version": "2.0.0",
      "model_name": "LayoutModel",
      "state": {}
     },
     "5a579f6e949348e2b0575a4183992e57": {
      "model_module": "@jupyter-widgets/controls",
      "model_module_version": "2.0.0",
      "model_name": "FloatSliderModel",
      "state": {
       "behavior": "drag-tap",
       "layout": "IPY_MODEL_ccbc205421b3482b8e37ecab7cee72fe",
       "max": 0.7,
       "min": 0.7,
       "step": 0.01,
       "style": "IPY_MODEL_262b729a04f74ecabd3a56707174f884",
       "value": 0.7
      }
     },
     "62a29f386d404966874ec76ab599a3b1": {
      "model_module": "@jupyter-widgets/controls",
      "model_module_version": "2.0.0",
      "model_name": "SliderStyleModel",
      "state": {
       "description_width": ""
      }
     },
     "658ddb2f52ad4783930bf363252fcba3": {
      "model_module": "@jupyter-widgets/controls",
      "model_module_version": "2.0.0",
      "model_name": "IntSliderModel",
      "state": {
       "behavior": "drag-tap",
       "layout": "IPY_MODEL_18af22f75f9849b5a7c8380f5aa6cd0c",
       "max": 90,
       "min": 90,
       "step": 5,
       "style": "IPY_MODEL_62a29f386d404966874ec76ab599a3b1",
       "value": 90
      }
     },
     "68ee3cd7d4234570a505f09e22573de7": {
      "model_module": "@jupyter-widgets/base",
      "model_module_version": "2.0.0",
      "model_name": "LayoutModel",
      "state": {}
     },
     "6a6f89c1b7ae4891a16f7dc7185e8f0b": {
      "model_module": "@jupyter-widgets/controls",
      "model_module_version": "2.0.0",
      "model_name": "SliderStyleModel",
      "state": {
       "description_width": ""
      }
     },
     "6f6dc4fa355f40fa80ac9ad9f10bc56f": {
      "model_module": "@jupyter-widgets/controls",
      "model_module_version": "2.0.0",
      "model_name": "LinkModel",
      "state": {
       "source": [
        "IPY_MODEL_87bcb5e1918140649967a8c47f3eb50f",
        "value"
       ],
       "target": [
        "IPY_MODEL_4bfd3467d056426c95a09c340bc4213f",
        "value"
       ]
      }
     },
     "716a04bf4743420da74e085566f7d8d1": {
      "model_module": "@jupyter-widgets/base",
      "model_module_version": "2.0.0",
      "model_name": "LayoutModel",
      "state": {}
     },
     "736483e89610420a8fc5b637272bceb4": {
      "model_module": "@jupyter-widgets/controls",
      "model_module_version": "2.0.0",
      "model_name": "SliderStyleModel",
      "state": {
       "description_width": ""
      }
     },
     "74b3f103583e45f5b29d5b1d0ada0a15": {
      "model_module": "@jupyter-widgets/base",
      "model_module_version": "2.0.0",
      "model_name": "LayoutModel",
      "state": {}
     },
     "80e822bf8d2b4430acb1414adef2d100": {
      "model_module": "@jupyter-widgets/base",
      "model_module_version": "2.0.0",
      "model_name": "LayoutModel",
      "state": {}
     },
     "82c11e4e626d417bb15d56d390a56e42": {
      "model_module": "@jupyter-widgets/base",
      "model_module_version": "2.0.0",
      "model_name": "LayoutModel",
      "state": {}
     },
     "85509f640faf427d9f47a5c7b7b6875e": {
      "model_module": "@jupyter-widgets/controls",
      "model_module_version": "2.0.0",
      "model_name": "IntSliderModel",
      "state": {
       "behavior": "drag-tap",
       "layout": "IPY_MODEL_68ee3cd7d4234570a505f09e22573de7",
       "max": 65,
       "min": 40,
       "style": "IPY_MODEL_f7c5a1a555004c62be0001f6fd1f4fdf",
       "value": 55
      }
     },
     "85d9e38e9cb2450bade023517dc2635b": {
      "model_module": "@jupyter-widgets/controls",
      "model_module_version": "2.0.0",
      "model_name": "IntSliderModel",
      "state": {
       "behavior": "drag-tap",
       "description": "nb_phy",
       "layout": "IPY_MODEL_9860a4a74b154579af0fff6cc50e169c",
       "max": 40,
       "min": 10,
       "style": "IPY_MODEL_af332c83ddd547f294c6fa33c35bffad",
       "value": 14
      }
     },
     "86c53771ade34177a0a074098b9d2626": {
      "model_module": "@jupyter-widgets/base",
      "model_module_version": "2.0.0",
      "model_name": "LayoutModel",
      "state": {}
     },
     "87bcb5e1918140649967a8c47f3eb50f": {
      "model_module": "@jupyter-widgets/controls",
      "model_module_version": "2.0.0",
      "model_name": "PlayModel",
      "state": {
       "interval": 1000,
       "layout": "IPY_MODEL_a7529051029843088ce4dbd759d37200",
       "max": 76,
       "playing": true,
       "style": "IPY_MODEL_c9d258b2c3b44973973a8eb7479d2ded",
       "value": 62
      }
     },
     "9860a4a74b154579af0fff6cc50e169c": {
      "model_module": "@jupyter-widgets/base",
      "model_module_version": "2.0.0",
      "model_name": "LayoutModel",
      "state": {}
     },
     "98702dcc658d4b4daefd5100a49707ae": {
      "model_module": "@jupyter-widgets/base",
      "model_module_version": "2.0.0",
      "model_name": "LayoutModel",
      "state": {}
     },
     "9af5f349f2c94d889121c4926d403c21": {
      "model_module": "@jupyter-widgets/controls",
      "model_module_version": "2.0.0",
      "model_name": "FloatSliderModel",
      "state": {
       "behavior": "drag-tap",
       "layout": "IPY_MODEL_716a04bf4743420da74e085566f7d8d1",
       "max": 0.9,
       "min": 0.7,
       "step": 0.01,
       "style": "IPY_MODEL_1b756b40dc8a46da87b6bd29654a2038",
       "value": 0.8
      }
     },
     "9b0122423d9e4d598f53eec11f3f3b7c": {
      "model_module": "@jupyter-widgets/base",
      "model_module_version": "2.0.0",
      "model_name": "LayoutModel",
      "state": {}
     },
     "a3ca3e06e4314dcc823cdf0a960e06a3": {
      "model_module": "@jupyter-widgets/base",
      "model_module_version": "2.0.0",
      "model_name": "LayoutModel",
      "state": {}
     },
     "a7529051029843088ce4dbd759d37200": {
      "model_module": "@jupyter-widgets/base",
      "model_module_version": "2.0.0",
      "model_name": "LayoutModel",
      "state": {}
     },
     "a7d0fadac954447783a300677f2753de": {
      "model_module": "@jupyter-widgets/base",
      "model_module_version": "2.0.0",
      "model_name": "LayoutModel",
      "state": {}
     },
     "ab714ab4cd774afe8af2dca5ce3c1d10": {
      "buffers": [
       {
        "data": "",
        "encoding": "base64",
        "path": [
         "attribute",
         "data"
        ]
       },
       {
        "data": "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",
        "encoding": "base64",
        "path": [
         "color_map",
         "data"
        ]
       },
       {
        "data": "",
        "encoding": "base64",
        "path": [
         "colors",
         "data"
        ]
       },
       {
        "data": "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",
        "encoding": "base64",
        "path": [
         "indices",
         "data"
        ]
       },
       {
        "data": "AACAPwAAAAAAAAAAAAAAAAAAAAAAAIA/AAAAAAAAAAAAAAAAAAAAAAAAgD8AAAAAAAAAAAAAAAAAAAAAAACAPw==",
        "encoding": "base64",
        "path": [
         "model_matrix",
         "data"
        ]
       },
       {
        "data": "",
        "encoding": "base64",
        "path": [
         "normals",
         "data"
        ]
       },
       {
        "data": "",
        "encoding": "base64",
        "path": [
         "opacity_function",
         "data"
        ]
       },
       {
        "data": "",
        "encoding": "base64",
        "path": [
         "triangles_attribute",
         "data"
        ]
       },
       {
        "data": "AADAfw==",
        "encoding": "base64",
        "path": [
         "uvs",
         "data"
        ]
       },
       {
        "data": "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",
        "encoding": "base64",
        "path": [
         "vertices",
         "data"
        ]
       },
       {
        "data": "",
        "encoding": "base64",
        "path": [
         "volume",
         "data"
        ]
       },
       {
        "data": "",
        "encoding": "base64",
        "path": [
         "volume_bounds",
         "data"
        ]
       }
      ],
      "model_module": "k3d",
      "model_module_version": "2.16.1",
      "model_name": "ObjectModel",
      "state": {
       "_view_module": null,
       "_view_module_version": "",
       "_view_name": null,
       "attribute": {
        "dtype": "float32",
        "shape": [
         0
        ]
       },
       "click_callback": false,
       "color": 3302400,
       "colorLegend": false,
       "color_map": {
        "dtype": "float32",
        "shape": [
         1024
        ]
       },
       "color_range": [],
       "colors": {
        "dtype": "uint32",
        "shape": [
         0
        ]
       },
       "compression_level": 0,
       "custom_data": null,
       "flat_shading": true,
       "group": null,
       "hover_callback": false,
       "id": 2123831434160,
       "indices": {
        "dtype": "uint32",
        "shape": [
         1638,
         3
        ]
       },
       "model_matrix": {
        "dtype": "float32",
        "shape": [
         4,
         4
        ]
       },
       "name": "Mesh #1",
       "normals": {
        "dtype": "float32",
        "shape": [
         0
        ]
       },
       "opacity": 1,
       "opacity_function": {
        "dtype": "float32",
        "shape": [
         0
        ]
       },
       "side": "front",
       "texture": null,
       "texture_file_format": null,
       "triangles_attribute": {
        "dtype": "float32",
        "shape": [
         0
        ]
       },
       "type": "Mesh",
       "uvs": {
        "dtype": "float32",
        "shape": []
       },
       "vertices": {
        "dtype": "float32",
        "shape": [
         1036,
         3
        ]
       },
       "visible": true,
       "volume": {
        "dtype": "float32",
        "shape": [
         0
        ]
       },
       "volume_bounds": {
        "dtype": "float32",
        "shape": [
         0
        ]
       },
       "wireframe": false
      }
     },
     "af332c83ddd547f294c6fa33c35bffad": {
      "model_module": "@jupyter-widgets/controls",
      "model_module_version": "2.0.0",
      "model_name": "SliderStyleModel",
      "state": {
       "description_width": ""
      }
     },
     "ba2ca6e4fe7a47b8a6e0986c0d6f4fbb": {
      "model_module": "@jupyter-widgets/controls",
      "model_module_version": "2.0.0",
      "model_name": "FloatSliderModel",
      "state": {
       "behavior": "drag-tap",
       "description": "rmax",
       "layout": "IPY_MODEL_82c11e4e626d417bb15d56d390a56e42",
       "max": 0.9,
       "min": 0.7,
       "step": 0.01,
       "style": "IPY_MODEL_1d18841cdb6f42eeb9da1cd2227c0211",
       "value": 0.75
      }
     },
     "bd82c01f80074b77849d9430d8002173": {
      "model_module": "@jupyter-widgets/controls",
      "model_module_version": "2.0.0",
      "model_name": "IntSliderModel",
      "state": {
       "behavior": "drag-tap",
       "description": "curvature",
       "layout": "IPY_MODEL_a7d0fadac954447783a300677f2753de",
       "max": 90,
       "min": 90,
       "step": 5,
       "style": "IPY_MODEL_28eb7a4f165b470ba1172299d0404424",
       "value": 90
      }
     },
     "c1aa12bd91584b078596f7465f6f6abd": {
      "model_module": "@jupyter-widgets/controls",
      "model_module_version": "2.0.0",
      "model_name": "FloatSliderModel",
      "state": {
       "behavior": "drag-tap",
       "layout": "IPY_MODEL_359dfe127f7e4e0ca0944a4a0fbbc25b",
       "max": 0.12,
       "min": 0.12,
       "step": 0.01,
       "style": "IPY_MODEL_eb0eb8a4c3034a1892d280875d289b31",
       "value": 0.12
      }
     },
     "c39973b442154cfbb0ac9644a628d550": {
      "model_module": "@jupyter-widgets/base",
      "model_module_version": "2.0.0",
      "model_name": "LayoutModel",
      "state": {}
     },
     "c625ab470661456fad969d1a77906451": {
      "model_module": "@jupyter-widgets/controls",
      "model_module_version": "2.0.0",
      "model_name": "SliderStyleModel",
      "state": {
       "description_width": ""
      }
     },
     "c9d258b2c3b44973973a8eb7479d2ded": {
      "model_module": "@jupyter-widgets/controls",
      "model_module_version": "2.0.0",
      "model_name": "DescriptionStyleModel",
      "state": {
       "description_width": ""
      }
     },
     "ccbc205421b3482b8e37ecab7cee72fe": {
      "model_module": "@jupyter-widgets/base",
      "model_module_version": "2.0.0",
      "model_name": "LayoutModel",
      "state": {}
     },
     "cdc0b05ecf1b43fda2ba0ca72d4965f9": {
      "model_module": "@jupyter-widgets/controls",
      "model_module_version": "2.0.0",
      "model_name": "SliderStyleModel",
      "state": {
       "description_width": ""
      }
     },
     "cf25276361964ad2a207a28ed65f3e14": {
      "model_module": "@jupyter-widgets/controls",
      "model_module_version": "2.0.0",
      "model_name": "FloatSliderModel",
      "state": {
       "behavior": "drag-tap",
       "description": "scurv",
       "layout": "IPY_MODEL_59fb82e77acd4627a599fe5b4b1b7540",
       "max": 0.7,
       "min": 0.7,
       "step": 0.01,
       "style": "IPY_MODEL_11a8452df632457684121b490d20cb1c",
       "value": 0.7
      }
     },
     "d9ef43f30bef48c09ef0cacd549a6506": {
      "model_module": "@jupyter-widgets/base",
      "model_module_version": "2.0.0",
      "model_name": "LayoutModel",
      "state": {}
     },
     "da4231dc83d544eb9152299f6f3bc070": {
      "model_module": "@jupyter-widgets/controls",
      "model_module_version": "2.0.0",
      "model_name": "FloatSliderModel",
      "state": {
       "behavior": "drag-tap",
       "layout": "IPY_MODEL_3a38a94820ab474a93075ab9ade1b955",
       "max": 6,
       "min": 1,
       "step": 0.1,
       "style": "IPY_MODEL_fe0fe4711f66413bb744e1c39f240838",
       "value": 6
      }
     },
     "db6f669ea960462c89fddc783af2560b": {
      "model_module": "@jupyter-widgets/base",
      "model_module_version": "2.0.0",
      "model_name": "LayoutModel",
      "state": {}
     },
     "e4a0b7f30f81444c90eeaa05d2f09621": {
      "model_module": "@jupyter-widgets/base",
      "model_module_version": "2.0.0",
      "model_name": "LayoutModel",
      "state": {}
     },
     "e4ff2bcb7dac42f99d9da7bfeb062a5f": {
      "model_module": "@jupyter-widgets/controls",
      "model_module_version": "2.0.0",
      "model_name": "SliderStyleModel",
      "state": {
       "description_width": ""
      }
     },
     "e661d198f9e64c0aa9116fd967c63ab1": {
      "model_module": "@jupyter-widgets/controls",
      "model_module_version": "2.0.0",
      "model_name": "HBoxModel",
      "state": {
       "children": [
        "IPY_MODEL_4bfd3467d056426c95a09c340bc4213f",
        "IPY_MODEL_87bcb5e1918140649967a8c47f3eb50f"
       ],
       "layout": "IPY_MODEL_266d66ca939e48ad8e8e5590cf284df1"
      }
     },
     "e92eada523534f098f284700232da701": {
      "model_module": "@jupyter-widgets/controls",
      "model_module_version": "2.0.0",
      "model_name": "SliderStyleModel",
      "state": {
       "description_width": ""
      }
     },
     "eb0eb8a4c3034a1892d280875d289b31": {
      "model_module": "@jupyter-widgets/controls",
      "model_module_version": "2.0.0",
      "model_name": "SliderStyleModel",
      "state": {
       "description_width": ""
      }
     },
     "ede25577b0fa4f608af45d4b69f1a8a3": {
      "model_module": "@jupyter-widgets/controls",
      "model_module_version": "2.0.0",
      "model_name": "VBoxModel",
      "state": {
       "_dom_classes": [
        "widget-interact"
       ],
       "children": [
        "IPY_MODEL_85d9e38e9cb2450bade023517dc2635b",
        "IPY_MODEL_0f372f2ee4014bbcbffa929e417316c2",
        "IPY_MODEL_28adc07a52824ac1948891adb0c7bbe1",
        "IPY_MODEL_0f153a643e33419e8c5c6b1023e36c61",
        "IPY_MODEL_cf25276361964ad2a207a28ed65f3e14",
        "IPY_MODEL_bd82c01f80074b77849d9430d8002173",
        "IPY_MODEL_ba2ca6e4fe7a47b8a6e0986c0d6f4fbb",
        "IPY_MODEL_f921313165f64ad1af82dfd038e885a5",
        "IPY_MODEL_36b1b4883e6c44c48e423a9024944f24",
        "IPY_MODEL_0da3c2af22ac478594d1b3cfefbd2177"
       ],
       "layout": "IPY_MODEL_74b3f103583e45f5b29d5b1d0ada0a15"
      }
     },
     "edf51a6b1faa458fa48aa398ec87bb42": {
      "model_module": "@jupyter-widgets/controls",
      "model_module_version": "2.0.0",
      "model_name": "FloatSliderModel",
      "state": {
       "behavior": "drag-tap",
       "layout": "IPY_MODEL_98702dcc658d4b4daefd5100a49707ae",
       "max": 6,
       "min": 1,
       "step": 0.1,
       "style": "IPY_MODEL_e92eada523534f098f284700232da701",
       "value": 2
      }
     },
     "ee8b9ba7bb31454aac275edb53fa177d": {
      "model_module": "@jupyter-widgets/controls",
      "model_module_version": "2.0.0",
      "model_name": "SliderStyleModel",
      "state": {
       "description_width": ""
      }
     },
     "f4cfed34dbf24dfe9f7f0540ac349793": {
      "model_module": "@jupyter-widgets/base",
      "model_module_version": "2.0.0",
      "model_name": "LayoutModel",
      "state": {}
     },
     "f7c5a1a555004c62be0001f6fd1f4fdf": {
      "model_module": "@jupyter-widgets/controls",
      "model_module_version": "2.0.0",
      "model_name": "SliderStyleModel",
      "state": {
       "description_width": ""
      }
     },
     "f921313165f64ad1af82dfd038e885a5": {
      "model_module": "@jupyter-widgets/controls",
      "model_module_version": "2.0.0",
      "model_name": "FloatSliderModel",
      "state": {
       "behavior": "drag-tap",
       "description": "skew",
       "layout": "IPY_MODEL_3f8c6c1ff3104ddca335ec6ca7bb7657",
       "max": 0.1,
       "min": 0.01,
       "step": 0.01,
       "style": "IPY_MODEL_1517b005a4ce4b989f25ce0b6fec5564",
       "value": 0.049999999999999996
      }
     },
     "fe0fe4711f66413bb744e1c39f240838": {
      "model_module": "@jupyter-widgets/controls",
      "model_module_version": "2.0.0",
      "model_name": "SliderStyleModel",
      "state": {
       "description_width": ""
      }
     },
     "fffd025b5e014a43a59724a04b0a9b29": {
      "model_module": "@jupyter-widgets/controls",
      "model_module_version": "2.0.0",
      "model_name": "IntSliderModel",
      "state": {
       "behavior": "drag-tap",
       "layout": "IPY_MODEL_f4cfed34dbf24dfe9f7f0540ac349793",
       "max": 120,
       "min": 60,
       "style": "IPY_MODEL_2e33526663544693846aa115aabbcea8",
       "value": 60
      }
     }
    },
    "version_major": 2,
    "version_minor": 0
   }
  }
 },
 "nbformat": 4,
 "nbformat_minor": 5
}
