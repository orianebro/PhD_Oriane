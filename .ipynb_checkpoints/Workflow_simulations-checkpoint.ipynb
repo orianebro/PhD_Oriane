{
 "cells": [
  {
   "cell_type": "markdown",
   "id": "ec06a039-afd0-4e46-a486-5580f25476aa",
   "metadata": {},
   "source": [
    "# Workflow for simulations of an architectured crop"
   ]
  },
  {
   "cell_type": "raw",
   "id": "d4b521b4-7bf8-456c-aa7b-d2e20a2cbd14",
   "metadata": {},
   "source": [
    "---\n",
    "title: \"Workflow for simulations of an architectured crop\"\n",
    "author: \"Oriane Braud\"\n",
    "toc: true\n",
    "number-sections: true\n",
    "highlight-style: pygments\n",
    "format:\n",
    "  html: \n",
    "    code-fold: true\n",
    "    geometry: \n",
    "      - top=30mm\n",
    "      - left=30mm\n",
    "jupyter: python3\n",
    "---"
   ]
  },
  {
   "cell_type": "code",
   "execution_count": 1,
   "id": "3f4bcc2c-311a-4b8d-9e53-ce684e22a1ad",
   "metadata": {},
   "outputs": [],
   "source": [
    "#| echo: false\n",
    "\n",
    "# Ignore warning about depreciated modules\n",
    "import warnings\n",
    "warnings.filterwarnings('ignore', category=DeprecationWarning)"
   ]
  },
  {
   "cell_type": "code",
   "execution_count": 2,
   "id": "ca956c2b-9dae-49db-9c27-5c3a2ec4a055",
   "metadata": {},
   "outputs": [],
   "source": [
    "## Imports\n",
    "\n",
    "# from installed packages\n",
    "import numpy as np\n",
    "import matplotlib.pyplot as plt\n",
    "from random import *\n",
    "from openalea.plantgl.all import Vector3\n",
    "from oawidgets.plantgl import *\n",
    "\n",
    "# from archicrop\n",
    "from openalea.archicrop.cereals_leaf import parametric_leaf\n",
    "from openalea.archicrop.plant_shape import geometric_dist, bell_shaped_dist, compute_leaf_area\n",
    "from openalea.archicrop.plant_design import leaf_azimuth\n",
    "from openalea.archicrop.cereals import build_shoot\n",
    "from openalea.archicrop.display import display_mtg, build_scene, display_scene\n",
    "from openalea.archicrop.stand import agronomic_plot\n",
    "\n",
    "# Enable plotting with PlantGL\n",
    "%gui qt\n",
    "\n",
    "# Fix a seed\n",
    "seed(100)\n",
    "\n",
    "# Set nice color for plants\n",
    "nice_green=Color3((50,100,0))"
   ]
  },
  {
   "cell_type": "markdown",
   "id": "d40f80a2-3b08-4873-8e73-d99b08215f77",
   "metadata": {},
   "source": [
    "## 1. Parametrized architectural model"
   ]
  },
  {
   "cell_type": "markdown",
   "id": "7597054a-c6c1-4e1c-af38-639c4db34a75",
   "metadata": {},
   "source": [
    "ArchiCrop is a Structural Plant Parametric Model (SPPM) which represents the 3D visible architecture of a plant shoot (only gramineae for the moment) dynamically. \n",
    "\n",
    "An SPPM is a 3D architectural plant model that can be described at different scales : plant, axis, phytomer, organ. \n",
    "\n",
    "A plant is a set of axes. An axis is a finite sequence of phytomers. A phytomer $i$ is formed by a pair of an internode $I_i$ and its corresponding leaf $F_i$.\n",
    "$$ \\text{Phytomer}_i = I_i \\cup F_i $$\n",
    "Internodes and leaves are vegetative organs, as opposed to reproductive organs (e.g. panicles, spikes, pods, etc.).\n",
    "\n",
    "\n",
    "A Multiscale Tree Graph (MTG, Pradal and Godin, 2020) is used to represent the architecture of a plant at different scales, i.e. a plant, an axis, a phytomer and an organ can be considered as vertices given the scale considered. In parallel, edges connect axes, phytomers and organs in tree structures at different scales.\n",
    "\n",
    "$$ \\text{Plant} = \\text{MTG}(\\text{sub-organs} \\subset \\text{organs} \\subset \\text{phytomers} \\subset \\text{axes}) $$\n",
    "\n",
    "The tree structure is organized such that internodes of a given axis are linked to one another, such that the top of internode $I_{i-1}$ corresponds to the bottom of internode $I_i$. Each leaf $F_i$ is attached to the top of the internode $I_i$ of the same rank $i$, forming together the phytomer of rank $i$. \n"
   ]
  },
  {
   "cell_type": "markdown",
   "id": "f58c4043-48f5-4803-9678-32841427934d",
   "metadata": {},
   "source": [
    "The architecture of a plant, i.e. its topology, geometry and development, can be defined by parameters at plant scale (cf Table 1)."
   ]
  },
  {
   "cell_type": "markdown",
   "id": "4ac5542c-6fd8-4c74-94a5-ccb31a841aae",
   "metadata": {},
   "source": [
    "### Global allometric laws describing organ geometry  "
   ]
  },
  {
   "cell_type": "markdown",
   "id": "02f4e479-b38e-4e14-9aef-1554bad5aa8d",
   "metadata": {},
   "source": [
    "Global allometric laws describe organ geometry at plant or axis scale, and enable to :\n",
    "- generate more realistic plants corresponding to given species;\n",
    "- reduce the number of degrees of freedom in the parametric model.\n",
    "\n",
    "They are global constraints that are well conserved within a species (cf literature)."
   ]
  },
  {
   "cell_type": "markdown",
   "id": "3fae2092-1403-4811-b1c1-2a24b7fd8305",
   "metadata": {},
   "source": [
    "| Function                          | Description                                                      | Parameters | Unit | Sorghum | Reference |\n",
    "|-----------------------------------|--------------------------------------------------------------------------------|------------|:----:|---------|---|\n",
    "| $H(rank) = h_0 \\times stem\\_q^{rank}$      | Ligule heights along the axis (geometric distribution)                       | $h_0$   | $\\text{cm}$ |  | |\n",
    "|                                            |                                                                     | $stem\\_q$ | - |  | |\n",
    "| or $H(rank) = rank \\times \\frac{H}{N_{axis}^{max}}$ | Ligule heights along the axis (uniform distribution)       | $H$ | $\\text{cm}$ | input | |\n",
    "| | | $N_{axis}^{max}$        | $\\text{\\# phytomers}$                     | $18-42$ | Lafarge and Tardieu, 2002; Clerget et al., 2008; Ndiaye et al., 2021 |\n",
    "| $D(rank) = d_0 + (N_{axis}-rank) \\times d_{incr}$   | Internode diameters along the axis                         | $d_0$ | $\\text{cm}$ | $1.0$ |  |\n",
    "|                                                     |                                                            | $d_{incr}$ | $\\text{cm/sheath}$ |$0.1$ | |\n",
    "| $L(rank) = L_{longest} e^{\\left(log(skew) \\times [2 (rank - rmax)^2 + (rank - rmax)^3]\\right)}$  | Mature leaf lengths along an axis (Weibull distribution)       | $rmax$ | - | $0.67$ | Lafarge and Tardieu, 2002 |\n",
    "|                                                |                                                                     | $skew$ | - | $1e-5$ | Lafarge and Tardieu, 2002 |\n",
    "|                                                |                                                                     | $L_{longest}$ | $\\text{cm}$ | $80-100$ | Lafarge et al., 2002a,b; Lafarge and Tardieu, 2002 |\n",
    "| $w(l) = wl \\times L \\times \\left( \\alpha (\\frac{l}{L}) ^2 -2 (\\alpha + \\sqrt{-\\alpha}) \\frac{l}{L} + 2 \\sqrt{-\\alpha} + \\alpha \\right)$     | Leaf width along midrib (polynomial)  | $\\alpha$ | - | $-2.3$ |  |\n",
    "|                    |                 | $wl$                 | $\\text{cm/cm}$      |   |   |\n",
    "| $dx_{\\text{leaf segment}}, dy_{\\text{leaf segment}} = f(scurv, l) \\times sin, cos \\left( k(l) \\times curvature + insertion\\_angle \\right)$    | Leaf curvature     | $insertion\\_angle$ | $^{\\circ}$    |   |\n",
    "|                                           | | $curvature$                  | -      |   |   |\n",
    "|                                           | | $scurv$                  | -      |   |   |\n",
    "| $phyllotactic\\_angle$ | Phyllotactic angle of leaves               | | $^{\\circ}$         | $180$  |   |\n",
    "\n",
    "*Table: Allometric laws describing organ geometry in ArchiCrop.*"
   ]
  },
  {
   "cell_type": "code",
   "execution_count": 3,
   "id": "7bd36906-6d40-4432-ae9f-36d578b9ba20",
   "metadata": {},
   "outputs": [],
   "source": [
    "# Parameters of allometric laws describing organ geometry in ArchiCrop\n",
    "height=240   # H from crop model\n",
    "stem_q=1 \n",
    "nb_phy=22\n",
    "\n",
    "diam_base=2.5\n",
    "diam_top=0.5\n",
    "\n",
    "rmax=0.67\n",
    "skew=0.05 # 0.0005\n",
    "max_leaf_length=100\n",
    "\n",
    "alpha=-2.3\n",
    "wl=0.12 \n",
    "\n",
    "insertion_angle=30\n",
    "scurv=0.4\n",
    "curvature=150\n",
    "\n",
    "phyllotactic_angle=180\n",
    "phyllotactic_deviation=0"
   ]
  },
  {
   "cell_type": "markdown",
   "id": "dad0a23b-a88f-4d78-ae3e-657f5b07818b",
   "metadata": {},
   "source": [
    "### Dynamic inputs  "
   ]
  },
  {
   "cell_type": "markdown",
   "id": "3033e7fe-52aa-4fc4-87ff-b14b33770fb6",
   "metadata": {},
   "source": [
    "| Symbol                 | Description                                                                 | Unit                |\n",
    "|------------------------|-----------------------------------------------------------------------------|:-------------------:|\n",
    "| $t \\in [0, T_{veg}]$   | Thermal time series to the end of the vegetative phase $T_{veg}$ (might be corrected with stresses) | $^{\\circ}\\text{C.day}$ |\n",
    "| $H(t)$                 | Plant height dynamics                                                       | $\\text{cm}$                  |\n",
    "| $S(t)$                 | Plant leaf area dynamics                                                     | $\\text{cm}^2$                  |\n",
    "\n",
    "*Table: Time series as inputs for ArchiCrop.*"
   ]
  },
  {
   "cell_type": "code",
   "execution_count": 4,
   "id": "b9212859-9c2f-47a9-9408-f6b51ccdb49b",
   "metadata": {},
   "outputs": [],
   "source": [
    "def read_columns_from_file(filename, separator=';'):\n",
    "    with open(filename, 'r') as file:\n",
    "        columns = []\n",
    "        for line in file:\n",
    "            values = line.strip().split(separator) # Strip any extra whitespace and split the line by the separator\n",
    "            if not columns:\n",
    "                columns = [[] for _ in values]\n",
    "            while len(columns) < len(values):\n",
    "                columns.append([])\n",
    "            for i, value in enumerate(values):\n",
    "                columns[i].append(value)\n",
    "            # Handle lines with fewer values than columns\n",
    "            for i in range(len(values), len(columns)):\n",
    "                columns[i].append('')\n",
    "    return columns\n",
    "\n",
    "## From a STICS simulation for sorghum\n",
    "filename = 'mod_ssorghum.sti'\n",
    "columns = read_columns_from_file(filename)\n",
    "columns = columns[5:]\n",
    "\n",
    "start = 23\n",
    "end = 94\n",
    "density = 0.002 # density = 20 plants/m2 = 0.002 plants/cm2\n",
    "cm_la = [float(i)/density for i in columns[1][start:end]] \n",
    "cm_height = [float(i) for i in columns[3][start:end]]\n",
    "cm_tt = np.cumsum([float(i) for i in columns[0][start:end]])"
   ]
  },
  {
   "cell_type": "markdown",
   "id": "ae541e7f-8ef4-4642-8b59-1814cffd0efb",
   "metadata": {},
   "source": [
    "### Output geometrical variables for appeared phytomers"
   ]
  },
  {
   "cell_type": "markdown",
   "id": "e7e21fcf-fff7-40c6-982b-96ed42b6cac2",
   "metadata": {},
   "source": [
    "For every thermal time $t \\in [0, T_{veg}]$, for each appeared organ of rank $i \\in N_{axis}(t)$, their geometrical descriptive variables are computed from the constraints (cf Table ?). The input times series provide the growth of the variables, and the allometric laws provide the boundaries of possible organ growth.\n",
    "\n",
    "| Symbol                 | Description                              | Unit              |\n",
    "|------------------------|------------------------------------------|:-----------------:|\n",
    "| $N_{axis}(t)$              | Number of appeared phytomers per axis| -                 |\n",
    "| $h_i(t)$                   | Length of an internode $I_i$         | $\\text{cm}$       | \n",
    "| $d_i(t)$                   | Diameter of an internode $I_i$       | $\\text{cm}$       |\n",
    "| $l_i(t)$                   | Length of a leaf $L_i$               | $\\text{cm}$       |\n",
    "| $s_i(t)$                   | Surface of a leaf $L_i$              | $\\text{cm}^2$     |\n",
    "\n",
    "*Table: Variables to compute in ArchiCrop.*"
   ]
  },
  {
   "cell_type": "markdown",
   "id": "697abc21-c09c-4977-bf1b-2dfddca75a5e",
   "metadata": {},
   "source": [
    "### 1.1. Organs"
   ]
  },
  {
   "cell_type": "markdown",
   "id": "b3de9c88-b255-4c5e-8529-4df22302beec",
   "metadata": {},
   "source": [
    "#### 1.1.1. Internode"
   ]
  },
  {
   "cell_type": "markdown",
   "id": "5ba6bfe0-ffd5-45d8-ad69-0c9e4a740c7e",
   "metadata": {},
   "source": [
    "Each internode $I_i(t)$ has 2 internal state variables : height and radius (in cm), and is defined in a local frame. \n",
    "\n",
    "First, we assume that the geometry of an internode is represented by a Cylinder. \n",
    "We assume a constant radius and its height $h_i$, in $cm$, evolves with $t$ up to a mature height $H_i$, as described : \n",
    "\n",
    "$$[t_i^{start},t_i^{end}] \\xrightarrow{~~\\chi_i~~} [0,H_i] \\cup [0,D_i] $$\n",
    "$$~~~~~~t~~~~~~~~~~ \\xrightarrow{~~~~~~~} I_i(\\chi_i(t))$$\n",
    "\n",
    "\n",
    "$$I_i(h_i, d_i) = Cylinder(h_i, d_i)$$\n",
    "\n"
   ]
  },
  {
   "cell_type": "markdown",
   "id": "a8c1590e-164f-4f41-a42c-3697c0f1f2d5",
   "metadata": {},
   "source": [
    "#### 1.1.2. Leaf"
   ]
  },
  {
   "cell_type": "markdown",
   "id": "c2560ed3-63eb-4f15-ab76-067d1ee366fe",
   "metadata": {},
   "source": [
    "Each leaf $L_i(t)$ is represented as a curved surface, with an area $s_i$, in $cm^2$, such that its growth up to a mature surface $s_i^{max}$ can be expressed as follows : \n",
    "\n",
    "$$[t_i^{start},t_i^{end}] \\xrightarrow{~~\\psi_i~~} [0,s_i^{max}]$$ + other parameters\n",
    "$$~~~~~~t~~~~~~~~~~~ \\xrightarrow{~~~~~~~} L_i(\\psi_i(t))$$\n",
    "\n",
    "Let's consider leaf surface as a function of leaf length $l$, such that $s = f(l)$. \n",
    "\n",
    "- case 1 : Leaves have an homomorphic growth (e.g. for dicots). \n",
    "\n",
    "Parameters : width-to-length ratio $r = \\frac{w}{l}$, form factor $f$ (Agapie and Sala, 2023) \n",
    "    $$s(l_i) = frl_i^2$$\n",
    "    $$S = frl_{i, max}^2$$\n",
    " \n",
    "- case 2 : Leaves grow along the midrib (e.g. for monocots). \n",
    "\n",
    "Parameters : curve of the evolution of width along midrib \n",
    "    $$s(l_i) = 2 \\times \\int\\limits_0^{l_i} C(u) du$$\n",
    "    $$S = 2 \\times \\int\\limits_0^{l_{i, max}} C(u) du$$\n",
    "\n"
   ]
  },
  {
   "cell_type": "markdown",
   "id": "d04687f7-d2bd-4025-8c19-57ac29fbd271",
   "metadata": {},
   "source": [
    "### 1.2. Branching"
   ]
  },
  {
   "cell_type": "markdown",
   "id": "40926ba8-59fb-4a72-94fa-304ee4ff1a57",
   "metadata": {},
   "source": [
    "| Symbol | Description | Unit | Architecture | Sorghum | Reference |\n",
    "|----------------------------|----------------|-----------------|-----------|-----------|-----------|\n",
    "| $B$                        | Maximum number of branches in the plant  | - | Topology  | $0-6$ | Lafarge et al., 2002; Hammer et al., 2023 |\n",
    "| $order_{axis}$             | Order of ramification            | - | Topology  |\n",
    "| $tiller\\_onset_{axis}$      | Tillering onset              | $^{\\circ}\\text{C.day.leaf}^{-1}$     | Development  |\n",
    "| $insertion\\_angle_{axis}$  | Insertion angle of an branched axis to its bearing axis  | $^{\\circ}$   | Geometry     |\n",
    "| $curvature_{axis}$         | Axis curvature                   | - | Geometry  | \n",
    "\n",
    "\n",
    "*Table: Additional parameters for a ramified plant.*\n",
    "\n",
    "\n",
    "| Symbol | Description | Unit | Architecture |\n",
    "|----------------------------|----------------|-----------------|-----------|\n",
    "| $B(t)$                     | Number of branches in the plant  | - | Topology  |\n",
    "| $B_{axis}(t, order_{axis})$| Number of branches per axis      | - | Topology  |\n",
    "\n",
    "*Table: Additional variables for a ramified plant.*\n",
    "\n",
    "\n",
    "| Function                          | Description                                                                    | Parameters |\n",
    "|-----------------------------------|--------------------------------------------------------------------------------|------------|\n",
    "| $B_{axis}(order_{axis})$   | Number of branches per axis      | - |\n",
    "| $reduc\\_ramif(order_{axis})$      | Reduction factor for ramified axes (from tiller 5 for sorghum)               | - | \n",
    "*Table: Allometric laws concerning ramification.*"
   ]
  },
  {
   "cell_type": "markdown",
   "id": "5c67d0cc-bc4d-4e2d-8bda-460706f5d772",
   "metadata": {},
   "source": [
    "### 1.3. Senescence"
   ]
  },
  {
   "cell_type": "markdown",
   "id": "bd351279-4669-4e17-a6b2-3b55d3143d7d",
   "metadata": {},
   "source": [
    "| Symbol | Description | Unit | Architecture |\n",
    "|-----------|--------------------------|---------------------------|--------------------------|\n",
    "| $senescence$ | Leaf lifespan before senescence | $^{\\circ}\\text{C.day.leaf}^{-1}$ | Development |\n",
    "\n",
    "*Table: Additional parameters for senescence.*"
   ]
  },
  {
   "cell_type": "markdown",
   "id": "b4e864b5-0315-400f-91a4-eeb09520c75e",
   "metadata": {},
   "source": [
    "## 3. Plant and organ growth"
   ]
  },
  {
   "cell_type": "markdown",
   "id": "adf4a645-c934-4294-b080-c40ade0c1bc9",
   "metadata": {},
   "source": [
    "We assume that it is possible to constrain the growth of a plant generated with ArchiCrop with time series. These time series can be either measurements or the outputs of a crop model simulation. \n",
    "\n",
    "The growth of architectured plant organs does not follow explicit ecophysiological laws, and is not directly conditioned by environmental resources. Indeed it is calculated using an integro-differential approach.\n",
    "\n",
    "As plant architecture is explicitly represented in ArchiCrop, the constraint can be distributed over the different elements of the architecture in different ways. \n",
    "\n",
    "Architectural parameters constitute degrees of freedom, not considered at the scale of the crop model. For a simulation with a crop model, it is therefore possible to obtain a large number of simulations on a finer scale, by varying these degrees of freedom within a given range of values for a given species. In other words, we can explore the architectural variability of a species by generating a set of morphotypes."
   ]
  },
  {
   "cell_type": "markdown",
   "id": "8a12a9ac-a7d7-47dd-8b37-82c6647277b1",
   "metadata": {},
   "source": [
    "\n",
    "$$\\frac{dPlant(t)}{dt} = ArchiCrop(\\frac{dLAI}{dt}, \\frac{dHeight}{dt})$$\n"
   ]
  },
  {
   "cell_type": "markdown",
   "id": "276a09b9-39f5-4c6d-a48a-8082be05fcb4",
   "metadata": {},
   "source": [
    "\n",
    "#### 3.3.1. Distribute growth among plants\n"
   ]
  },
  {
   "attachments": {},
   "cell_type": "markdown",
   "id": "ca03981e-1071-4a69-bdb6-0e73f0dbfc58",
   "metadata": {},
   "source": [
    "Intraspecific heterogeneity, Individual variability\n",
    "\n",
    "Height of canopy :\n",
    "- H0: same height gain for all plants\n",
    "- H1: or more stochastic\n",
    "\n",
    "LAI of canopy:\n",
    "- H0: LA gain distributed equally among all plants\n",
    "- H1: random distribution among plants\n",
    "- H2: proportional to light intercepted at t-1\n"
   ]
  },
  {
   "cell_type": "markdown",
   "id": "570843af-db01-42fb-8ce3-8904fe1a263b",
   "metadata": {},
   "source": [
    "#### 3.3.2. Distribute growth among organs "
   ]
  },
  {
   "cell_type": "markdown",
   "id": "a87f04d5-d6d5-46ee-a6f0-fd1830ec779e",
   "metadata": {},
   "source": [
    "- case 1 : All phytomers grow sequentially, i.e. one after the other.\n",
    "    For all $i$ in $[0, N]$ :\n",
    "    $$t^{start}_i = i \\times \\varphi = t^{start}_{i-1, '<'} + \\varphi$$\n",
    "    $$t^{end}_i = t^{start}_{i} + ligul = i \\times \\varphi + ligul $$\n",
    "\n",
    "    where $\\varphi$ = phyllochron = constant, \n",
    "    and $ligul$ = ligulochron = $\\alpha \\varphi$.\n",
    "\n",
    "    For ramifications, which can develop with a delay, i.e. if edge(parent(i),i) = '+' :\n",
    "    $$t^{start}_i = t^{start}_{i-1, '+'} + \\varphi + delay$$\n",
    "\n",
    "    where $delay = \\beta \\varphi$.\n",
    "\n",
    "--> don't fix end ? yes we do !! strong constraint, well conserved ; weaker constraint is maximum length"
   ]
  },
  {
   "cell_type": "markdown",
   "id": "08385b73-a7ea-4271-a636-08698837f81a",
   "metadata": {},
   "source": [
    "In ADEL : \"Phytomer initiation was found to be a linear function of thermal time for all axes, and parameterised with one parameter, its rate ( plastochron). Collar emergence was also found to be a linear function of thermal time for all axes, thus defining a second parameter (phyllochron).\" (Fournier et al., 2003)"
   ]
  },
  {
   "cell_type": "markdown",
   "id": "d6fcbfee-758f-4465-a0ad-4cc43c2aa9b3",
   "metadata": {},
   "source": [
    "| Symbol   | Description  | Unit    | Architecture     | Sorghum | Reference |\n",
    "|----------|--------------|:-------:|------------------|---------|-----------|\n",
    "| $\\varphi$               | Phyllochron                          | $^{\\circ}\\text{C.day.leaf}^{-1}$  | Development   | $40-65$ | Clerget et al., 2008 |\n",
    "| $plastochron$           | Plastochron                          | $^{\\circ}\\text{C.day.leaf}^{-1}$  | Development   | $34-46$ | Ravi Kumar et al., 2009 |\n",
    "\n",
    "\n",
    "\n",
    "*Table: Parameters of ArchiCrop for a given plant.*\n"
   ]
  },
  {
   "cell_type": "code",
   "execution_count": 5,
   "id": "22b9cd66-96ea-4a43-8f8d-59d6ce2d8726",
   "metadata": {},
   "outputs": [],
   "source": [
    "# Average parameters of ArchiCrop for sorghum\n",
    "phyllochron=50\n",
    "plastochron=38"
   ]
  },
  {
   "cell_type": "markdown",
   "id": "4d503274-34b0-45be-9797-fc36f56cd5d0",
   "metadata": {},
   "source": [
    "A growing plant is composed of mature phytomers and growing phytomers, such that, for all $t$ in $[0,T_{veg}]$ : \n",
    "$$Plant(t) = (\\cup phytomers_{mature} (t \\geq t^{end})) \\cup (\\cup phytomers_{growing} (t^{start} < t < t^{end}))$$\n",
    "such that : \n",
    "$$phytomers(t) \\subset phytomers$$\n",
    "\n",
    "We are given at each time step $t$ a value for the plant height, $H(t)$, which corresponds to the sum of the length of the internodes, mature and developing, of the main axis at time $t$, such that :\n",
    "\n",
    "$$\n",
    "    H(t) = \\sum_{i_{\\text{main axis}}} h_i(t)\n",
    "$$\n",
    "\n",
    "Starting from a C1 curve of plant height dynamics, $H = f(t)$, it is possible to derive a height increment $dH(t)$ for all $dt$. How to distribute this increment among $n$ growing internodes ? Each internode $I_i$ has a height $h_i(t)$ for a given thermal time $t$. \n",
    "\n",
    "We are given at each time step $t$ a value for the leaf area of a plant, $S(t)$, which corresponds to the sum of the surfaces of all the leaves, mature and developing, of the plant at time $t$, such that :\n",
    "\n",
    "$$\n",
    "    S(t) = \\sum_i s_i(t) + \\text{sum of the area of the lateral faces of the internodes}\n",
    "$$\n",
    "\n",
    "Starting from a C1 curve of plant leaf area dynamics, $S = f(t)$, it is possible to derive a surface increment $dS(t)$ for all $dt$. How to distribute this increment among $n$ growing leaves ? Each leaf $L_i$ has a height $s_i(t)$ for a given thermal time $t$. \n"
   ]
  },
  {
   "cell_type": "markdown",
   "id": "790644d8-0948-4ed6-977a-e0720e4da5c8",
   "metadata": {},
   "source": [
    "H0: All growing vegetative organs of a given type grow at the same speed on a given time slot, i.e. equal distribution of the gain among all growing vegetative organs. \n",
    "\n",
    "For a growing vegetative organ $i$ over $n$ growing vegetative organs in a plant, given a constraint $dc(t)$ for the plant a time $t$ : \n",
    "$$dc_{i}(t) = \\frac{dc(t)}{n}$$\n",
    "\n",
    "H1: Growing vegetative organs receive a gain proportional to their sink strength related to their age until end of growth. \n",
    "\n",
    "For a growing vegetative organ $i$ over $n$ growing vegetative organs in a plant (set $G^n$), of ages $a_i$, sink strength beta function $\\beta (a_i)$ and relative sink strength $p_i(a_i)$, given a constraint $dc(t)$ for the plant a time $t$ : \n",
    "$$p_i(a_i) = \\frac{\\beta (a_i)}{\\sum_{j \\in G^n} \\beta (a_j)}$$\n",
    "$$dc_i(t) = p_i(a_i) dc(t)$$"
   ]
  },
  {
   "cell_type": "markdown",
   "id": "03b8f8fa-ae47-4564-86c3-82dde85d3cde",
   "metadata": {},
   "source": [
    "#### 3.3.3. Constrain internode growth\n",
    "\n",
    "\n"
   ]
  },
  {
   "cell_type": "markdown",
   "id": "0153deb4-8b8a-4c8b-9f65-0d33ce33d156",
   "metadata": {},
   "source": [
    "#### 3.3.4. Constrain leaf growth\n",
    "\n",
    "    \n",
    "- case 1 : Leaves have an homomorphic growth (e.g. for dicots). \n",
    "        $$\\frac{l_i(t)}{dt} = \\sqrt{\\frac{1}{r} \\frac{ds_i(l_i(t))}{dt}}$$\n",
    "    \n",
    "- case 2 : Leaves grow along the midrib (e.g. for monocots). \n",
    "\n",
    "Analytic resolution if the function $f$ of the curve $C$ is known and is $C^1$ on $[0,l_{max}]$ : \n",
    "        $$F(l_i(t)) = \\frac{1}{2} \\frac{ds_i(l_i(t))}{dt} - F(l_{i-1}(t))$$\n",
    "where $F$ is the antiderivative of $f$.\n",
    " "
   ]
  },
  {
   "cell_type": "markdown",
   "id": "8c69154e-e168-428c-b7a1-88ec55304960",
   "metadata": {},
   "source": [
    "### 3.1. Retrieve growth increments for given thermal time steps"
   ]
  },
  {
   "cell_type": "markdown",
   "id": "090fe10c-f569-41d8-aafe-300fa3d371eb",
   "metadata": {},
   "source": [
    "The growth of the vegetative part of a plant can be considered as the dynamics of its height $H(t)$ and leaf area $S(t)$ over thermal time $t$. From known dynamics at the scale of the plant, we assume that we can constrain the growth of each internode $I_i$ and leaf $L_i$, by distributing individually the gain of, respectively, height $dh$ and leaf area $dS$ at each time step $dt$."
   ]
  },
  {
   "cell_type": "markdown",
   "id": "92c02fcf-93b7-4e2c-88ce-c59068252ac3",
   "metadata": {},
   "source": [
    "Given a simulation with a crop model (or any source of constraint at the crop scale) :"
   ]
  },
  {
   "cell_type": "code",
   "execution_count": 6,
   "id": "c4e4d0e7-1ce9-4f87-82bd-4ac36177da99",
   "metadata": {},
   "outputs": [],
   "source": [
    "# Generate a 3D cereal shoot from descritive parameters\n",
    "shoot, g = build_shoot(nb_phy,\n",
    "                        height,\n",
    "                        max_leaf_length,\n",
    "                        wl, diam_base, diam_top, \n",
    "                        insertion_angle, scurv, curvature, \n",
    "                        alpha, stem_q, rmax, skew, # 0.0005\n",
    "                        phyllotactic_angle,\n",
    "                        phyllotactic_deviation)\n",
    "\n",
    "# Build and display scene\n",
    "scene, nump = build_scene(g, \n",
    "                          leaf_material=Material(nice_green), \n",
    "                          stem_material=Material(nice_green))"
   ]
  },
  {
   "cell_type": "markdown",
   "id": "2a32251b-a6ac-48ed-a9b8-966f86782960",
   "metadata": {},
   "source": [
    "## 4. Plants as parts of a crop "
   ]
  },
  {
   "cell_type": "markdown",
   "id": "6bf6f1cf-71b1-4fd0-a42f-8524a7d1c921",
   "metadata": {},
   "source": [
    "Sowing pattern\n",
    "\n",
    "Rows, patches, etc."
   ]
  },
  {
   "cell_type": "code",
   "execution_count": 7,
   "id": "93857782-b420-4bfc-b875-75df7e2883d2",
   "metadata": {},
   "outputs": [],
   "source": [
    "# Sowing parameters\n",
    "length_plot=5\n",
    "width_plot=5\n",
    "sowing_density=2\n",
    "plant_density=2\n",
    "inter_row=0.5"
   ]
  },
  {
   "cell_type": "code",
   "execution_count": 8,
   "id": "f9331eac-cb61-47b4-9c0d-96d3738de394",
   "metadata": {},
   "outputs": [
    {
     "ename": "TypeError",
     "evalue": "agronomic_plot() got multiple values for argument 'noise'",
     "output_type": "error",
     "traceback": [
      "\u001b[1;31m---------------------------------------------------------------------------\u001b[0m",
      "\u001b[1;31mTypeError\u001b[0m                                 Traceback (most recent call last)",
      "Cell \u001b[1;32mIn[8], line 1\u001b[0m\n\u001b[1;32m----> 1\u001b[0m nplants, positions, domain, domain_area, unit \u001b[38;5;241m=\u001b[39m \u001b[43magronomic_plot\u001b[49m\u001b[43m(\u001b[49m\u001b[43mlength_plot\u001b[49m\u001b[43m,\u001b[49m\u001b[43m \u001b[49m\n\u001b[0;32m      2\u001b[0m \u001b[43m                                                               \u001b[49m\u001b[43mwidth_plot\u001b[49m\u001b[43m,\u001b[49m\u001b[43m \u001b[49m\n\u001b[0;32m      3\u001b[0m \u001b[43m                                                               \u001b[49m\u001b[43msowing_density\u001b[49m\u001b[43m,\u001b[49m\u001b[43m \u001b[49m\n\u001b[0;32m      4\u001b[0m \u001b[43m                                                               \u001b[49m\u001b[43mplant_density\u001b[49m\u001b[43m,\u001b[49m\u001b[43m \u001b[49m\n\u001b[0;32m      5\u001b[0m \u001b[43m                                                               \u001b[49m\u001b[43minter_row\u001b[49m\u001b[43m,\u001b[49m\u001b[43m \u001b[49m\n\u001b[0;32m      6\u001b[0m \u001b[43m                                                               \u001b[49m\u001b[43mnoise\u001b[49m\u001b[38;5;241;43m=\u001b[39;49m\u001b[38;5;241;43m0.1\u001b[39;49m\u001b[43m)\u001b[49m\n",
      "\u001b[1;31mTypeError\u001b[0m: agronomic_plot() got multiple values for argument 'noise'"
     ]
    }
   ],
   "source": [
    "nplants, positions, domain, domain_area, unit = agronomic_plot(length_plot, \n",
    "                                                               width_plot, \n",
    "                                                               sowing_density, \n",
    "                                                               inter_row, \n",
    "                                                               noise=0.1)"
   ]
  },
  {
   "cell_type": "code",
   "execution_count": null,
   "id": "ea1ae95f-1c34-4f5d-882a-60b564cd33a2",
   "metadata": {},
   "outputs": [],
   "source": [
    "# Initialize the list of plants\n",
    "plants_in_crop=[]\n",
    "\n",
    "# For loop over all the plants in the crop\n",
    "for n in range(nplants):\n",
    "    \n",
    "    shoot, g = build_shoot(nb_phy=nb_phy,\n",
    "                            height=height,\n",
    "                            max_leaf_length=max_leaf_length,\n",
    "                            wl=0.12, diam_base=2.5, diam_top=0.5, \n",
    "                            insertion_angle=30, scurv=0.4, curvature=150, \n",
    "                            alpha=-2.3, stem_q=1, rmax=0.67, skew=0.05, # 0.0005\n",
    "                            phyllotactic_angle=180,\n",
    "                            phyllotactic_deviation=0)\n",
    "    \n",
    "    # Fill the list of plants\n",
    "    plants_in_crop.append(g) # put all plants in the same mtg to be able to visualize the dynamic growth easily\n"
   ]
  },
  {
   "cell_type": "code",
   "execution_count": null,
   "id": "a29eb25b-cc25-4b5b-be8f-8336af4daa1c",
   "metadata": {},
   "outputs": [],
   "source": [
    "# Build and display scene\n",
    "scene_var, nump = build_scene(plants_in_crop, positions, leaf_material=Material(nice_green), stem_material=Material(nice_green))\n",
    "PlantGL(scene_var)\n",
    "# interact(grow_plant_and_display_in_NB, g=fixed(plants_in_crop), time=IntSlider(min=20, max=2000, step=20, value=1000))"
   ]
  },
  {
   "cell_type": "markdown",
   "id": "8471af04-3b1a-43d0-ba34-c83bd788d1e9",
   "metadata": {},
   "source": [
    "## 5. Compare processes of models at different scales"
   ]
  },
  {
   "cell_type": "markdown",
   "id": "a88e042c-7f94-4939-b29f-b549114e8fa6",
   "metadata": {},
   "source": [
    "### 5.1. Compute process a finer scale for various parameters"
   ]
  },
  {
   "cell_type": "markdown",
   "id": "8060a505-7b88-4e66-9f3c-5636dc585cb1",
   "metadata": {},
   "source": [
    "Light interception computed on architectured crop "
   ]
  },
  {
   "cell_type": "markdown",
   "id": "3dc90f02-2477-44cb-8d89-01d83e1d146b",
   "metadata": {},
   "source": [
    "Varying parameters\n",
    "\n",
    "at all thermal time $t$\n",
    "\n",
    "We obtain a distribution of points at all thermal time "
   ]
  },
  {
   "cell_type": "markdown",
   "id": "38a6ebd6-3efd-4da7-8e5c-cab740b6400e",
   "metadata": {},
   "source": [
    "### 5.2. Compare with process computed at larger scale"
   ]
  },
  {
   "cell_type": "markdown",
   "id": "e3724760-6107-43e1-8b98-01cee8812aed",
   "metadata": {},
   "source": [
    "In crop model\n",
    "\n",
    "Light interception computed with Beer-Lambert law \n",
    "\n",
    "Retrieve values comparable with  at all thermal time $t$\n",
    "\n",
    "Compute distance with mean curve obtained previously at all thermal time \n",
    "\n",
    "Perform an uncertainty analysis"
   ]
  },
  {
   "cell_type": "markdown",
   "id": "713fdfbf-818d-471b-8415-76e1015f6bd8",
   "metadata": {},
   "source": [
    "## Implementation\n",
    "\n",
    "ArchiCrop is inspired by ADEL (Fournier et al., 2003). It inherits from its modules managing the generation of plant architecture (topology, geometry, development) for given parameters. \n",
    "The difference of ArchiCrop mainly lies in the rules for plant growth and the computation of organ features (e.g. internode length, leaf length, etc.).\n",
    "Growth (and later senescence) of a plant is constrained from temporal series (height(t), leaf area(t), etc) obtained from simulation or measure.\n",
    "\n",
    "The crop model on which we test the method is STICS-IC. \n",
    "\n",
    "The light interception model at organs scale that we use is Caribu."
   ]
  },
  {
   "cell_type": "code",
   "execution_count": null,
   "id": "731de5b2-bdbd-43c8-b5d9-9faf3b6c21b4",
   "metadata": {},
   "outputs": [],
   "source": []
  },
  {
   "attachments": {},
   "cell_type": "markdown",
   "id": "a3fcbaf3-d627-4d0e-852c-355cffbba167",
   "metadata": {},
   "source": [
    "Algo:\n",
    "\n",
    "•\tGet growth dynamics of height(t) and LAI(t) for vegetative phase of a crop \n",
    "•\tSet sowing patterns for a crop (see if constraints, e.g. on density) \n",
    "•\tFor each sowing pattern:\n",
    "•\tFor each species: \n",
    "•\tFor each plant: \n",
    "•\tSet parameters for potential mature plants of the crop (according to constraints, e.g. with plant leaf area >= LAI/plant), from given range \n",
    "•\tFor dt in [0,Tveg]: \n",
    "•\tFor each species: \n",
    "•\tDistribute growth increments (dheight/dt and dLAI/dt) among plants \n",
    "•\tFor each plant: \n",
    "•\tDistribute growth increments among organs \n",
    "•\tReturn 3D scenes of crops through time \n"
   ]
  }
 ],
 "metadata": {
  "kernelspec": {
   "display_name": "oa3",
   "language": "python",
   "name": "oa3"
  },
  "language_info": {
   "codemirror_mode": {
    "name": "ipython",
    "version": 3
   },
   "file_extension": ".py",
   "mimetype": "text/x-python",
   "name": "python",
   "nbconvert_exporter": "python",
   "pygments_lexer": "ipython3",
   "version": "3.12.2"
  },
  "widgets": {
   "application/vnd.jupyter.widget-state+json": {
    "state": {},
    "version_major": 2,
    "version_minor": 0
   }
  }
 },
 "nbformat": 4,
 "nbformat_minor": 5
}
